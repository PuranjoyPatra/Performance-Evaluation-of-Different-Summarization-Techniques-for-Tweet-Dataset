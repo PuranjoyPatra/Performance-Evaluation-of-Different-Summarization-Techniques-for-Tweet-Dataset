{
  "cells": [
    {
      "cell_type": "code",
      "source": [
        "from google.colab import drive\n",
        "drive.mount('/content/drive')"
      ],
      "metadata": {
        "id": "0QuqpbAUqDUs"
      },
      "execution_count": null,
      "outputs": []
    },
    {
      "cell_type": "code",
      "source": [
        "%cd drive/MyDrive/Soft-computing-tweet-summarization-analysis"
      ],
      "metadata": {
        "colab": {
          "base_uri": "https://localhost:8080/"
        },
        "id": "vqXCkJvRqnCm",
        "outputId": "f6375e08-4cd9-405a-f7cf-b2d61fab84eb"
      },
      "execution_count": null,
      "outputs": [
        {
          "output_type": "stream",
          "name": "stdout",
          "text": [
            "/content/drive/MyDrive/Soft-computing-tweet-summarization-analysis\n"
          ]
        }
      ]
    },
    {
      "cell_type": "markdown",
      "metadata": {
        "id": "YgP-JXIiQKlV"
      },
      "source": [
        "# PERFORMANCE EVALUATION\n",
        "\n",
        "**A. Intrinsic Evaluation** — Focuses on intermediary objectives (i.e. the performance of an NLP component on a defined subtask)\n",
        "\n",
        "**B. Extrinsic Evaluation** — Focuses on the performance of the final objective (i.e. the performance of the component on the complete application)\n",
        "\n",
        "---\n",
        "Stakeholders typically care about extrinsic evaluation since they’d want to know how good the model is at solving the business problem at hand. However, it’s still important to have intrinsic evaluation metrics in order for the AI team to measure how they are doing.\n",
        "\n",
        "Researchers must understand beforehand how comparable the human-generated and generated summaries are."
      ]
    },
    {
      "cell_type": "markdown",
      "metadata": {
        "id": "lGlW6hlFXt_k"
      },
      "source": [
        "### A. INTRINSIC EVALUATION \n",
        "Intrinsic evaluation compares machine-generated and human-generated summaries to judge based on two factors: quality and information. Human experts may be required to evaluate machine-generated summaries utilizing several quality measures.\n",
        "- Readability, \n",
        "- non-redundancy, \n",
        "- structure, \n",
        "- coherence, \n",
        "- referential clarity, \n",
        "- conciseness \n",
        "- focus, and \n",
        "- content coverage, etc.\n",
        "\n",
        "The basic measures for intrinsically evaluating summaries are: \n",
        "- precision, \n",
        "- recall, \n",
        "- F-measure, and \n",
        "- [others.](https://towardsdatascience.com/the-most-common-evaluation-metrics-in-nlp-ced6a763ac8b)"
      ]
    },
    {
      "cell_type": "code",
      "execution_count": null,
      "metadata": {
        "id": "WBCnBn2z9S2I"
      },
      "outputs": [],
      "source": [
        "#@title 1. Recall Metric\n",
        "#@markdown Recall measures the probability of the summary being relevant to the sample, or the ability of the model to recall all information from the reference.\n",
        "\n",
        "#@markdown \\begin{align} recall = \\frac{S _{ref}\\;\\cap\\;S_{model}}{S_{ref}} \\end{align}\n",
        "\n"
      ]
    },
    {
      "cell_type": "code",
      "execution_count": null,
      "metadata": {
        "id": "OSKS2N8EQpm0"
      },
      "outputs": [],
      "source": [
        "#@title 2. Precision Metric\n",
        "#@markdown Precision measures the ability of the model to gather information from the source. A summary containing all words in the reference has perfect recall but it may not contain anything extra.\n",
        "\n",
        "#@markdown \\begin{align}precision = \\frac{S _{ref}\\;\\cap\\;S_{model}}{S_{model}}\\end{align}\n",
        "\n"
      ]
    },
    {
      "cell_type": "code",
      "execution_count": null,
      "metadata": {
        "id": "ehDQYQxV_CvR"
      },
      "outputs": [],
      "source": [
        "#@title 3. F-Score\n",
        "#@markdown Precision and Recall are complementary metrics that have an inverse relationship. A summary with high precision may not be relevant to the reference. F-score measures the arithmetic mean of precision and recall. That gives us a reliable measure of our model performance that relies not only on the model capturing as many words as possible (recall) but doing so without outputting irrelevant words (precision).\n",
        "\n",
        "#@markdown \\begin{align} f{-}measure = \\frac{2(precision)(recall)}{precision + recall} \\end{align}\n",
        "\n"
      ]
    },
    {
      "cell_type": "markdown",
      "metadata": {
        "id": "PRpufOFlXqRJ"
      },
      "source": [
        "### B. EXTRINSIC EVALUATION \n",
        "Extrinsic evaluation is a sentence-based quality evaluation of summaries. It measures how good the summary is for: \n",
        "- text categorization, \n",
        "- information retrieval, and \n",
        "- question responding.\n",
        "\n",
        "However, it only provides results based on individual sentences, not whole summary, but we can **consider an average of all sentences** in the summary. There are numerous approaches to extrinsic evaluation. \n",
        "- Relevance assessment determines whether the text is relevant to the topic.\n",
        "- Reading comprehension determines whether it can answer multiple-choice assessments or not.\n",
        "\n",
        "The most commonly used extrinsix evaluation is the ROUGE metric."
      ]
    },
    {
      "cell_type": "markdown",
      "metadata": {
        "id": "mffkL3T25P-j"
      },
      "source": [
        "#### Recall-Oriented Understudy for Gisting Evaluation (ROUGE) \n",
        "ROUGE is a series of evaluations ATS and machine translation. It compares an automatically generated summary or translation to a set of predetermined summaries such as human-generated summaries. We have **ROUGE-N, ROUGE-L, ROUGE-W, ROUGE-S**, and their variants. ROUGE-N and ROUGE-L are the most widely used, owing to simplicity, but ROUGE-SU4 has been shown to best approximate human-assigned scores of summaries.\n",
        "\n",
        "**Drawbacks**<br>\n",
        "ROUGE is a syntactical measure, not semantic. So, for very two different sequences that have the same meaning will get a low ROUGE score. This can be offset by using several references and taking the average score, or by upgrading the token-matching step with a synonym look-up table.\n",
        "It does not make any provision to cater for the readability\n",
        "or fluency of the generated summaries."
      ]
    },
    {
      "cell_type": "code",
      "source": [
        "#@title model & reference summaries\n",
        "model = ['''global cues strong dow fut 150 pts investors weighing updates covid19 \n",
        "          vaccine rollout well coronavirus stimulus stalemate washington japan 176 pts \n",
        "          hangseng 16 pts sgx nifty 48 pts brent crude hovers 50. sir please delay boards \n",
        "          able study situation online classes waste tuition due covid19 hence question \n",
        "          self study sir delay bords asking promotion without exam please sir. reports \n",
        "          27071 new cases 336 deaths last 24 hours india total cases rise 9884100 active \n",
        "          cases country stand 352586 covid death toll goes 143355. sir loan ony head 2 \n",
        "          kids money even eat food bank people behind rent tough life ca nt see kids \n",
        "          stage please help lost job husband due covid one even call home please help \n",
        "          least pay loan.''',\n",
        "\n",
        "          '''needs undertaken designated public health authority district rapid reaction \n",
        "          team rrt treating physician accordingly advice shall made regarding management \n",
        "          cases contacts need 34. clusters gt15 cases appear office essential principles \n",
        "          risk assessment isolation amp quarantine contacts case referral management \n",
        "          remain however scale arrangements higher either case risk assessment 24. \n",
        "          falling sick nt problem became covid mildhigh fever cold amp cough bound happen \n",
        "          thereafter depends immune system fast recover. due ongoing covid19 many tax \n",
        "          professionals across india covid positive requested kindly extend due date \n",
        "          gstr99c gst returns atleast 31032020. every state worked towards increasing \n",
        "          number covid tests tmc govt intentionally kept tests low hide reality deaths \n",
        "          11th dec 2020 west bengal stands 33rd position across states tests per million \n",
        "          count mere 65426. thermo king part irelandbased trane technologies made necessary \n",
        "          alterations added additional insulation adjusting refrigeration system tuna \n",
        "          shipping containers could get even colder.''',\n",
        "\n",
        "          '''covid india samples testing 154566990 total december 13 2020 855157 december \n",
        "          13 2020 positivity today 316 amp till date 639 cases 9884100 today 27071. bb sir \n",
        "          aap jab covid hue tab apne aur apki family ne situation ko kaise tackle kiya abhi \n",
        "          bhi bht log hai jo covid ko srsly nahi le rahe hai aur bina kaam bahar ghum rahe \n",
        "          haiunke liye msg btw videos inspire us.\n",
        "          313 lakh people paid rs 1841 crores fine wearing face masks public places ahmedabad \n",
        "          gujarat since outbreak covid19 1400 police personnel contracted covid19 amp 13 died \n",
        "          harshad patel dcp traffic control ahmedabad 1412. covid19 google eyeing flexible work \n",
        "          week delays office return business standard covid19 google eyeing flexible work week \n",
        "          delays office return business standardgoogle extends work home eyes flexible work \n",
        "          week report mintgoogle.''',\n",
        "\n",
        "          '''india updates  active cases fall 17th straight day fall last 24 hrs highest one \n",
        "          week additions total cases 22065 vs recoveries 34477 total additions lowest since \n",
        "          july 8 positivity rate slips 35 recovery rate rises 95. scrap dealer delhi moderna \n",
        "          covid19 vaccine documents accessed ema cyberattack reuters india moderna covid19 \n",
        "          vaccine documents accessed ema cyberattack reuters india singapore approves pfizer \n",
        "          covid vaccine. justice ashok bhushan led bench shortly deliver judgment appeal kerala \n",
        "          hc order prohibiting doctors advertising prescribing medicines cure covid19 except \n",
        "          centre advisory march 6 2020. already whole year spent stress either due covid due \n",
        "          work stress madam kindly extend due dates scattered manner 1 gstr 99c fy1819 till \n",
        "          31012021 2 tax audit fy201920 till 31032021. covid vaccine live updates india covid19 \n",
        "          caseload crosses 99 lakh economic times.''',\n",
        "\n",
        "          '''by health ministry india corona update india last 24 hour 9906165 total cases \n",
        "          143709 total death 354 total death 24 hour 22065 new case 339820 total active cases \n",
        "          9422636 total patient recover recovery rate 9511 total test 1555 crore 1mpop 112224. \n",
        "          modi govt report card 2020 january modi sleep february modi sleep march trump april \n",
        "          corona may lockdown june ramayan july mahabharat august unlock sep sushantsingh r oct \n",
        "          riya nov drugs dec kisan. back public demand got overwhelming response last time free \n",
        "          rtpcr testing camp conducted mumbai another free testing camp covid19 time additional \n",
        "          facility home visit nominal charge rs 100. yes still doesbut guess better drinking bat \n",
        "          urine wuhan wet food martkets amp making love bat right rest say history world endure \n",
        "          due adventurous chinachina needs learn keep excitement self control.''',\n",
        "\n",
        "          '''anna aduguthunnadi avakasam support try to help me it may help you truly can help \n",
        "          if needed can enquiry aboutme that i'm eligible for help or to corona effect worst \n",
        "          financial need help truly and a beautiful opportunity patty jenkins an actor's director \n",
        "          'wonder woman 1984' star chris pine - coronavirus updates corona live tracker corona \n",
        "          outbreak  coronavirus  coronavirus updates  covid-19  covid-19 tracker  covid19 outbreak \n",
        "          latest news  top india news- news18 '.but willing to talk'  rajnath singh says agri \n",
        "          reforms in farmers' best interest  no question of 'retrograde' steps - coronavirus updates \n",
        "          corona live tracker  corona outbreak  coronavirus  coronavirus updates  covid-19  covid-19 \n",
        "          tracker  covid19 outbr apprise about steps taken so far by commission for air quality \n",
        "          management  sc to centre - coronavirus updates corona live tracker  corona outbreak''',\n",
        "         \n",
        "          '''coronavirus  coronavirus updates  covid-19  covid-19 tracker  covid19 outbreak  latest \n",
        "          news top india new news18 afternoon digest  kejriwal slams amarinder amid farmers' protest \n",
        "          iit-m becomes covid hotspot and other top stories - coronavirus updates corona live tracker \n",
        "          corona outbreak  coronavirus  coronavirus updates  covid-19  covid-19 tracker  covid19 o \n",
        "          14-year-old mp girl raped after father sells her to rajasthan man for for rs 4 lakh - \n",
        "          coronavirus updates corona live tracker  corona outbreak  coronavirus  coronavirus updates \n",
        "          covid-19  covid-19 tracker  covid19 outbreak  latest news  top india news- n national \n",
        "          energy conservation day 2020  date  history and significance - coronavirus updates corona \n",
        "          live tracker  corona outbreak  coronavirus  coronavirus updates  covid-19  covid-19 tracker \n",
        "          covid19 outbreak  latest news  top india news- dear bangalakshmi teesta results to be \n",
        "          declared at 4pm at''',\n",
        "         \n",
        "          '''coronavirus updates corona live tracker  corona outbreak  coronavirus \n",
        "          coronavirus updates  covid-19  covid-19 tracker  covid19 outbreak  latest news  top india \n",
        "          news- iit-madras becomes covid-19 hotspot with 71 cases  sole food mess turns into 'recipe \n",
        "          for disaster' - coronavirus updates corona live tracker  corona outbreak  coronavirus \n",
        "          coronavirus updates  covid-19  covid-19 tracker  covid19 outbreak  latest news  to rupee \n",
        "          rises 5 paise to against us dollar in early trade - coronavirus updates corona live tracker \n",
        "          corona outbreak  coronavirus  coronavirus updates  covid-19  covid-19 tracker  covid19 \n",
        "          outbreak latest news  top india news- support is  today fight corona together all safety \n",
        "          rules beat  advani yaa bro bus 5 min mil paya bcz of corona pandemic hope jaldi milu after \n",
        "          this msmes have been hit much harder than the corporates due to corona  amp.''',\n",
        "\n",
        "          '''india covid tally reaches 9884100 new cases 27071. reports 22065 new cases 354 deaths \n",
        "          last 24 hours india total cases rise 9906165 active cases country stand 339820 covid death \n",
        "          toll goes 143709. canada follows us  lead administers first vaccine shots health workers.''',\n",
        "         \n",
        "          '''reports 27071 new cases 336 deaths last 24 hours india total cases rise 9884100 active \n",
        "          cases country stand 352586 covid death toll goes 143355. sir loan ony head 2 kids money \n",
        "          even eat food bank people behind rent tough life ca nt see kids stage please help lost \n",
        "          job husband due covid one even call home please help least pay loan. tamil nadu update today \n",
        "          december 14. covid updates dec 14 total corona positives tn crossed eight lakh today 800029 \n",
        "          1203 covid patients discharged till today total 778081 active cases stands 10038 new cases \n",
        "          across tn 1141 new cases chennai343 deaths14 11909. financially immune fight corona corona \n",
        "          kavach insurance.''',\n",
        "         \n",
        "          '''india covid tally reaches 9884100 new cases 27071. reports 22065 new cases 354 deaths last \n",
        "          24 hours india total cases rise 9906165 active cases country stand 339820 covid death toll goes 143709.\n",
        "          canada follows us  lead administers first vaccine shots health workers. three black ordinances covid 19. \n",
        "          india records 22065 new covid19 cases 354 deaths last 24 hours samples tested 993665 covid death toll \n",
        "          mounts 143709 active cases 339820. breaking winter session parliament called due covid19 meanwhile \n",
        "          libbies amp thier babies frustrated farm bill passed covid mid session someone tell kisaan ki chinta \n",
        "          thi kisaan comes first.''',\n",
        "         \n",
        "          '''first five months india daily covid19 case count fell 23000 according union health ministry data \n",
        "          updated tuesday morning national recovery rate stood 95. election covid rallies covid farm bill \n",
        "          covid question time covid. fortis escort okhla 1512 2020 ews occupid total 1531 covid critical 0001 \n",
        "          non covid critical 0908 covid gb 00 09 non covid gb 0613 10 ews covid beds lying vacant. jampk reports \n",
        "          346 new covid19 cases total 116600. election rallies covid special parliament session covid hyderabad \n",
        "          election covid winter sessions omg covid winter session cancelled waah modi g waah..'''\n",
        "          ]\n",
        "\n",
        "reference = [\"In the past 24 hours, 25,467 confirmed COVID-19 cases have been reported. \\\n",
        "          The highest number of cases in a day were 4,14,188; reported on 7th May 2021. \\\n",
        "          As of 31 August, India has tested more than 508 million samples and cases per \\\n",
        "          million is 22,854. Till date 438,650 confirmed deaths have occured due to \\\n",
        "          COVID-19, and deaths per million is 304. Total number of recovered patients \\\n",
        "          are 823,200. In the past 24 hours, 22,07,010 first doses and 9,07,686 final \\\n",
        "          doses were given. Total vaccinated count reached 3,43,81,358. Union Minister \\\n",
        "          of Health and Family Welfare and Chemicals & Fertilizers, released the first \\\n",
        "          commercial batch of COVAXIN in India.\",\n",
        "          \n",
        "          \"About 4.4 million new cases reported this week globally. All regions reported \\\n",
        "          a decline in new cases. The Western Pacific Region reported a 7% increase in \\\n",
        "          new cases. The number of deaths reported globally were over 67000. The Eastern \\\n",
        "          Mediterranean and Western Pacific Regions reported 9% and 16% increase in deaths. \\\n",
        "          The South-East Asia Region reported 20% decrease in deaths. The cumulative number \\\n",
        "          of cases reported globally is nearly 216 million and the cumulative number of \\\n",
        "          deaths is just under 4.5 million.\",\n",
        "          \n",
        "          \"About 4.4 million new cases reported this week globally. All regions reported \\\n",
        "          a decline in new cases. The Western Pacific Region reported a 7% increase in \\\n",
        "          new cases. The number of deaths reported globally were over 67000. The Eastern \\\n",
        "          Till date 438,650 confirmed deaths have occured due to \\\n",
        "          COVID-19, and deaths per million is 304. Total number of recovered patients \\\n",
        "          are 823,200. In the past 24 hours, 22,07,010 first doses and 9,07,686 final \\\n",
        "          doses were given. Total vaccinated count reached 3,43,81,358.\"\n",
        "          ]"
      ],
      "metadata": {
        "cellView": "code",
        "id": "5tcQS63s2e8z"
      },
      "execution_count": null,
      "outputs": []
    },
    {
      "cell_type": "markdown",
      "metadata": {
        "id": "_UD5Lmzo4TSy"
      },
      "source": [
        "##### **Important terms**\n",
        "\n",
        "*Reference:* The reference is a human-made best-case output — so for automated summarization it would be a human-made summary of our input text. For machine translation, it would be a professional translation of our input text.\n",
        "\n",
        "*N-gram:* An n-gram is a group of n tokens/words, that we choose to divide our texts in. For the sentence _\"the quick brown fox jumps over\"_, unigrams would be _['the', 'quick', 'brown', 'fox', 'jumps', 'over']_ and Bigrams would be _['the quick', 'quick brown', 'brown fox', 'fox jumps', 'jumps over']_, and so on.\n"
      ]
    },
    {
      "cell_type": "markdown",
      "metadata": {
        "id": "pGXQeZuK3SRL"
      },
      "source": [
        "##### 1. ROUGE-N"
      ]
    },
    {
      "cell_type": "code",
      "execution_count": null,
      "metadata": {
        "id": "JRUoOAiOZqP3"
      },
      "outputs": [],
      "source": [
        "#@title 1. ROUGE-N\n",
        "\n",
        "#@markdown With ROUGE-N, the N represents the n-gram that we are using. For ROUGE-1 we would be measuring the match-rate of unigrams between our model output and reference. ROUGE-2 and ROUGE-3 would use bigrams and trigrams respectively.\n",
        "\n",
        "#@markdown Once we have decided which N to use — we then calculate the ROUGE recall, precision, or F1 score.\n"
      ]
    },
    {
      "cell_type": "code",
      "execution_count": null,
      "metadata": {
        "id": "-mHR8bi87mVO"
      },
      "outputs": [],
      "source": [
        "#@title Recall\n",
        "#@markdown Rouge recall score is the fraction of n-grams found in both the model output and reference to the total number of n-grams in the reference.\n",
        "\n",
        "#@markdown \\begin{align} \\operatorname{rouge-N}_{recall} = \\frac{\\operatorname{n-grams}_{model} ∩ \\operatorname{n-grams}_{ref}}{\\operatorname{n-grams}_{ref}} \\end{align}\n",
        "\n",
        "#@markdown ![](https://miro.medium.com/max/573/1*ukAN98eFglZIL8S0GEnysQ.png)\n",
        "\n"
      ]
    },
    {
      "cell_type": "code",
      "execution_count": null,
      "metadata": {
        "id": "ohE1mODLtTKx"
      },
      "outputs": [],
      "source": [
        "#@title Precision\n",
        "#@markdown Rouge Precision-score is the fraction of n-grams found in both the model output and reference to the total number of n-grams in the model. \n",
        "\n",
        "#@markdown \\begin{align} \\operatorname{rouge-N}_{precision} = \\frac{\\operatorname{n-grams}_{model} ∩ \\operatorname{n-grams}_{ref}}{\\operatorname{n-grams}_{model}} \\end{align}\n",
        "\n",
        "#@markdown ![](https://miro.medium.com/max/573/1*8Du8ThhWqVFAX7YK6zSFyw.png)\n",
        "\n"
      ]
    },
    {
      "cell_type": "code",
      "execution_count": null,
      "metadata": {
        "id": "0sfON4xjte85"
      },
      "outputs": [],
      "source": [
        "#@title F1-score\n",
        "#@markdown Rouge F1-score is computed the same way as normal F1-score\n",
        "\n",
        "#@markdown  \\begin{align} \\operatorname{rouge-N}_{f_1} = 2*\\frac{precision*recall}{precision+recall} \\end{align}\n",
        "\n",
        "#@markdown ![](https://miro.medium.com/max/573/1*Fd0euidpCjrngTdJa4RZsA.png)\n",
        "\n"
      ]
    },
    {
      "cell_type": "markdown",
      "metadata": {
        "id": "nBS70XAI5YRD"
      },
      "source": [
        "##### 2. ROUGE-L"
      ]
    },
    {
      "cell_type": "code",
      "execution_count": null,
      "metadata": {
        "id": "4gUmYnkhOlpE"
      },
      "outputs": [],
      "source": [
        "#@title 2. ROUGE-L (R-L)\n",
        "#@markdown ROUGE-L measures the longest common subsequence (LCS) between our model output and reference. We count the longest sequence of tokens that is shared between both.\n",
        "#@markdown The idea here is that a longer shared sequence would indicate more similarity between the two sequences.\n",
        "\n",
        "#@markdown ![](https://miro.medium.com/max/573/1*75pRQKLGPE74QYQf342qDg.png)\n",
        "#@markdown ![](https://miro.medium.com/max/573/1*E9NapTGfUSpMr5sWKEijVg.png)\n",
        "#@markdown ![](https://miro.medium.com/max/573/1*7HrXtiyngYMrg-YMek4qUw.png)\n",
        "\n"
      ]
    },
    {
      "cell_type": "markdown",
      "metadata": {
        "id": "2-qG9zdc5xg4"
      },
      "source": [
        "##### 3. ROUGE-W"
      ]
    },
    {
      "cell_type": "code",
      "execution_count": null,
      "metadata": {
        "id": "DLtUjZlKPXTz"
      },
      "outputs": [],
      "source": [
        "#@title 3. ROUGE-W\n",
        "#@markdown ROUGE-W determines the weighted longest standard sub-sequence, which is an enhancement of the LCS.\n",
        "#@markdown "
      ]
    },
    {
      "cell_type": "markdown",
      "metadata": {
        "id": "B3kAr9Rb50Hi"
      },
      "source": [
        "##### 4. ROUGE-S"
      ]
    },
    {
      "cell_type": "code",
      "execution_count": null,
      "metadata": {
        "id": "ORECAo9JPYy8"
      },
      "outputs": [],
      "source": [
        "#@title 4. ROUGE-S\n",
        "#@markdown ROUGE-S (Skip-N-gram co-occurrence statistics) measures the percentage of skip n-grams shared between the system and reference summaries.\n",
        "#@markdown Skip-grams are consecutive words from the reference, that appear in the model output but are separated by one-or-more other words.\n",
        "#@markdown This is logical as a good model would look for the tokens in different contexts and not only as present in the reference.\n",
        "\n",
        "#@markdown ![](https://miro.medium.com/max/573/1*bQucZ_cJXveAcLVXz0j-zA.png)\n",
        "#@markdown ![](https://miro.medium.com/max/573/1*g-Ucb9QosEBkRI0Jv31ZPQ.png)\n",
        "\n",
        "#@markdown In the above example it is evident why Rouge-S is a better metric to see how well the model captures information\n",
        "\n"
      ]
    },
    {
      "cell_type": "markdown",
      "metadata": {
        "id": "jF7HcqMd52vM"
      },
      "source": [
        "##### 5. ROUGE-SU*"
      ]
    },
    {
      "cell_type": "code",
      "execution_count": null,
      "metadata": {
        "id": "_4pZmnrpPSc5"
      },
      "outputs": [],
      "source": [
        "#@title 5. ROUGE-SU*\n",
        "#@markdown ROUGE-SU is extended by employing skip-bi-grams and a uni-gram as a measuring unit, a weighted average of ROUGE-S and ROUGE-N. These metrics allow bi-grams to be made up of non-adjacent words with a maximum of n-words between them [16].\n",
        "\n",
        "#@markdown ROUGE-SU4 has been shown to best approximate human-assigned scores of summaries.\n",
        "#@markdown It employs N=4\n"
      ]
    },
    {
      "cell_type": "markdown",
      "source": [
        "##### ROUGE-SU4"
      ],
      "metadata": {
        "id": "9Aaml8xTU9_l"
      }
    },
    {
      "cell_type": "code",
      "source": [
        "def ROUGE1(s_predict,s_true):\n",
        "  match_gram = 0\n",
        "  all_gram = 0\n",
        "  for j,word in enumerate(s_predict):\n",
        "    if word in s_true:\n",
        "      match_gram+=1\n",
        "  all_gram += len(s_true)\n",
        "\n",
        "  #print \"match_gram is:\",match_gram\n",
        "  #print \"all_gram is:\",all_gram\n",
        "  predict_all_gram+=((len(s_predict)-5)*5+9)\n",
        "  true_all_gram+=((len(s_true)-5)*5+9)\n",
        "\n",
        "  predict_all_gram+=all_gram\n",
        "  true_all_gram+=all_gram\n",
        "  R = match_gram*1.0/true_all_gram\n",
        "  P = match_gram*1.0/predict_all_gram\n",
        "  F = (1+beta*beta)*1.0*P*R/(R+(beta*beta*P))\n",
        "  print(\"R is:\",R)\n",
        "  print(\"P is:\",P)\n",
        "  print(\"F is:\",F)\n",
        "  return R,P,F\n",
        "\n",
        "  return match_gram*1.0/all_gram\n",
        "\n",
        "def ROUGE1_character_based(list_predict,list_true):\n",
        "  match_gram = 0\n",
        "  all_gram = 0\n",
        "  for i,s_predict in enumerate(list_predict):\n",
        "    s_true = list_true[i]\n",
        "    #s_predict = s_predict.decode(\"utf8\")\n",
        "    #s_true = list_true[i].decode(\"utf8\")\n",
        "    for j,word in enumerate(s_predict):\n",
        "      if word in s_true:\n",
        "        match_gram+=1\n",
        "    all_gram += len(s_true)\n",
        "  #print \"match_gram is:\",match_gram\n",
        "  #print \"all_gram is:\",all_gram\n",
        "\n",
        "  return match_gram*1.0/all_gram\n",
        "\n",
        "def ROUGE2_character_based(list_predict,list_true):\n",
        "  match_gram = 0\n",
        "  all_gram = 0\n",
        "  for i,s_predict in enumerate(list_predict):\n",
        "    s_true = list_true[i]\n",
        "    #s_predict = s_predict.decode(\"utf8\")\n",
        "    #s_true = list_true[i].decode(\"utf8\")\n",
        "    for j,word in enumerate(s_predict):\n",
        "      if j > 0:\n",
        "        for k,true_word in enumerate(s_true):\n",
        "          if k > 0:\n",
        "            if word==true_word and s_predict[j-1] == s_true[k-1]:\n",
        "              match_gram+=1\n",
        "              break\n",
        "    all_gram += len(s_true)-1\n",
        "  #print \"match_gram is:\",match_gram\n",
        "  #print \"all_gram is:\",all_gram\n",
        "\n",
        "  return match_gram*1.0/all_gram\n",
        "\n",
        "\n",
        "def ROUGE_SU4(list_predict,list_true,beta):\n",
        "  match_gram = 0\n",
        "  all_gram = 0\n",
        "  for i,s_predict in enumerate(list_predict):\n",
        "    #s_predict = s_predict.decode(\"utf8\")\n",
        "    #s_true = list_true[i].decode(\"utf8\")\n",
        "    s_true = list_true[i]\n",
        "    for j,word in enumerate(s_predict):\n",
        "      if word in s_true:\n",
        "        match_gram+=1\n",
        "    all_gram += len(s_true)\n",
        "\n",
        "  for i,s_predict in enumerate(list_predict):\n",
        "    #s_predict = s_predict.decode(\"utf8\")\n",
        "    #s_true = list_true[i].decode(\"utf8\")\n",
        "    s_true = list_true[i]\n",
        "    for j,word in enumerate(s_predict):\n",
        "      for k in range(1,6):\n",
        "        flag = 0\n",
        "        if j+k<len(s_predict):\n",
        "          for m,true_word in enumerate(s_true):\n",
        "            if flag == 1:\n",
        "              break\n",
        "            for n in range(1,6):\n",
        "              if m+n < len(s_true):\n",
        "                if word==true_word and s_predict[j+k] == s_true[m+n]:\n",
        "                  match_gram += 1\n",
        "                  flag = 1\n",
        "                  break\n",
        "\n",
        "  predict_all_gram = 0\n",
        "  true_all_gram = 0\n",
        "\n",
        "  for i,s_predict in enumerate(list_predict):\n",
        "    #s_predict = s_predict.decode(\"utf8\")\n",
        "    #s_true = list_true[i].decode(\"utf8\")\n",
        "    s_true = list_true[i]\n",
        "    predict_all_gram+=((len(s_predict)-5)*5+9)\n",
        "    true_all_gram+=((len(s_true)-5)*5+9)\n",
        "\n",
        "  predict_all_gram+=all_gram\n",
        "  true_all_gram+=all_gram\n",
        "  R = match_gram*1.0/true_all_gram\n",
        "  P = match_gram*1.0/predict_all_gram\n",
        "  F = (1+beta*beta)*1.0*P*R/(R+(beta*beta*P))\n",
        "  print(\"R is:\",R)\n",
        "  print(\"P is:\",P)\n",
        "  print(\"F is:\",F)\n",
        "  return R,P,F\n",
        "\n",
        "\n",
        "#list_predict = [\"我是正确的摘要其他的都是假的\",\"杨志烨无敌\"]\n",
        "#list_true = [\"我是不对的摘要哈哈哈假的\",\"基本无敌吧\"]\n",
        "#print(ROUGE1_character_based(list_predict,list_true))\n",
        "#print(ROUGE2_character_based(list_predict,list_true))\n",
        "#print(ROUGE_SU4(list_predict,list_true,1))\n",
        "\n",
        "#print(ROUGE1_character_based(model[2],reference[0]))\n",
        "#print(ROUGE2_character_based(model[2],reference[0]))\n",
        "#print(ROUGE_SU4(model[2],reference[0],1))\n",
        "#print(ROUGE1(model[2],reference[0]))"
      ],
      "metadata": {
        "colab": {
          "base_uri": "https://localhost:8080/"
        },
        "id": "jbnyEeC-U7gj",
        "outputId": "343fddbe-07c8-42bf-bed9-87880df54f95"
      },
      "execution_count": null,
      "outputs": [
        {
          "output_type": "execute_result",
          "data": {
            "text/plain": [
              "0.3333333333333333"
            ]
          },
          "metadata": {},
          "execution_count": 29
        }
      ]
    },
    {
      "cell_type": "markdown",
      "source": [
        "#### ROUGE Library"
      ],
      "metadata": {
        "id": "pfjji8bYjRTn"
      }
    },
    {
      "cell_type": "code",
      "execution_count": null,
      "metadata": {
        "id": "n8_DkEV273P_",
        "colab": {
          "base_uri": "https://localhost:8080/"
        },
        "outputId": "8b5f554b-a37c-4cdc-b5c5-3ba76fd46d6b"
      },
      "outputs": [
        {
          "output_type": "stream",
          "name": "stdout",
          "text": [
            "\u001b[K     |████████████████████████████████| 87 kB 3.5 MB/s \n",
            "\u001b[K     |████████████████████████████████| 10.1 MB 26.3 MB/s \n",
            "\u001b[?25h  Building wheel for breadability (setup.py) ... \u001b[?25l\u001b[?25hdone\n",
            "  Building wheel for pycountry (setup.py) ... \u001b[?25l\u001b[?25hdone\n"
          ]
        }
      ],
      "source": [
        "!pip -q install rouge\n",
        "!pip -q install sumy"
      ]
    },
    {
      "cell_type": "code",
      "source": [
        ""
      ],
      "metadata": {
        "id": "ScjEgpJft4Av"
      },
      "execution_count": null,
      "outputs": []
    },
    {
      "cell_type": "markdown",
      "source": [
        "# EVALUATION USING ROUGE.py"
      ],
      "metadata": {
        "id": "-_IN1IgLkyjd"
      }
    },
    {
      "cell_type": "code",
      "execution_count": null,
      "metadata": {
        "id": "UuxZKxwqw6En",
        "colab": {
          "base_uri": "https://localhost:8080/"
        },
        "outputId": "2410ce46-b486-49f5-f791-c1154651626f"
      },
      "outputs": [
        {
          "output_type": "stream",
          "name": "stdout",
          "text": [
            "WEEK  0 ------------------------------------------------\n",
            "global cues strong dow fut 150 pts investors weighing updates covid19 \n",
            "          vaccine rollout well coronavirus stimulus stalemate washington japan 176 pts \n",
            "          hangseng 16 pts sgx nifty 48 pts brent crude hovers 50. sir please delay boards \n",
            "          able study situation online classes waste tuition due covid19 hence question \n",
            "          self study sir delay bords asking promotion without exam please sir. reports \n",
            "          27071 new cases 336 deaths last 24 hours india total cases rise 9884100 active \n",
            "          cases country stand 352586 covid death toll goes 143355. sir loan ony head 2 \n",
            "          kids money even eat food bank people behind rent tough life ca nt see kids \n",
            "          stage please help lost job husband due covid one even call home please help \n",
            "          least pay loan.\n",
            "rouge-1\n",
            "r 0.10010540322120508\n",
            "p 0.09429557764041718\n",
            "f 0.10451795377388426\n",
            "\n",
            "rouge-2\n",
            "r 0.05283596228615173\n",
            "p 0.057574796060696924\n",
            "f 0.045998692024717014\n",
            "\n",
            "rouge-l\n",
            "r 0.10477766848662079\n",
            "p 0.09111038567460863\n",
            "f 0.09233723352769235\n",
            "\n",
            "needs undertaken designated public health authority district rapid reaction \n",
            "          team rrt treating physician accordingly advice shall made regarding management \n",
            "          cases contacts need 34. clusters gt15 cases appear office essential principles \n",
            "          risk assessment isolation amp quarantine contacts case referral management \n",
            "          remain however scale arrangements higher either case risk assessment 24. \n",
            "          falling sick nt problem became covid mildhigh fever cold amp cough bound happen \n",
            "          thereafter depends immune system fast recover. due ongoing covid19 many tax \n",
            "          professionals across india covid positive requested kindly extend due date \n",
            "          gstr99c gst returns atleast 31032020. every state worked towards increasing \n",
            "          number covid tests tmc govt intentionally kept tests low hide reality deaths \n",
            "          11th dec 2020 west bengal stands 33rd position across states tests per million \n",
            "          count mere 65426. thermo king part irelandbased trane technologies made necessary \n",
            "          alterations added additional insulation adjusting refrigeration system tuna \n",
            "          shipping containers could get even colder.\n",
            "rouge-1\n",
            "r 0.1706178259593247\n",
            "p 0.12360567254259151\n",
            "f 0.14040398268740611\n",
            "\n",
            "rouge-2\n",
            "r 0.0692260779938866\n",
            "p 0.059948570296156425\n",
            "f 0.06391732207268033\n",
            "\n",
            "rouge-l\n",
            "r 0.15840134402084893\n",
            "p 0.11492506707139954\n",
            "f 0.12422547360712229\n",
            "\n",
            "covid india samples testing 154566990 total december 13 2020 855157 december \n",
            "          13 2020 positivity today 316 amp till date 639 cases 9884100 today 27071. bb sir \n",
            "          aap jab covid hue tab apne aur apki family ne situation ko kaise tackle kiya abhi \n",
            "          bhi bht log hai jo covid ko srsly nahi le rahe hai aur bina kaam bahar ghum rahe \n",
            "          haiunke liye msg btw videos inspire us.\n",
            "          313 lakh people paid rs 1841 crores fine wearing face masks public places ahmedabad \n",
            "          gujarat since outbreak covid19 1400 police personnel contracted covid19 amp 13 died \n",
            "          harshad patel dcp traffic control ahmedabad 1412. covid19 google eyeing flexible work \n",
            "          week delays office return business standard covid19 google eyeing flexible work week \n",
            "          delays office return business standardgoogle extends work home eyes flexible work \n",
            "          week report mintgoogle.\n",
            "rouge-1\n",
            "r 0.08796644384143787\n",
            "p 0.08544533970871802\n",
            "f 0.09596206224816463\n",
            "\n",
            "rouge-2\n",
            "r 0.06244611566937458\n",
            "p 0.06653478876562306\n",
            "f 0.05421341960979059\n",
            "\n",
            "rouge-l\n",
            "r 0.0902117849886161\n",
            "p 0.07779522651443092\n",
            "f 0.09526138114124516\n",
            "\n",
            "india updates  active cases fall 17th straight day fall last 24 hrs highest one \n",
            "          week additions total cases 22065 vs recoveries 34477 total additions lowest since \n",
            "          july 8 positivity rate slips 35 recovery rate rises 95. scrap dealer delhi moderna \n",
            "          covid19 vaccine documents accessed ema cyberattack reuters india moderna covid19 \n",
            "          vaccine documents accessed ema cyberattack reuters india singapore approves pfizer \n",
            "          covid vaccine. justice ashok bhushan led bench shortly deliver judgment appeal kerala \n",
            "          hc order prohibiting doctors advertising prescribing medicines cure covid19 except \n",
            "          centre advisory march 6 2020. already whole year spent stress either due covid due \n",
            "          work stress madam kindly extend due dates scattered manner 1 gstr 99c fy1819 till \n",
            "          31012021 2 tax audit fy201920 till 31032021. covid vaccine live updates india covid19 \n",
            "          caseload crosses 99 lakh economic times.\n",
            "rouge-1\n",
            "r 0.11513838925776809\n",
            "p 0.09446357597651156\n",
            "f 0.09726407821046118\n",
            "\n",
            "rouge-2\n",
            "r 0.03520456811086505\n",
            "p 0.03208782745096996\n",
            "f 0.033391109940796714\n",
            "\n",
            "rouge-l\n",
            "r 0.09261240916877214\n",
            "p 0.07365917764873564\n",
            "f 0.09436273949410293\n",
            "\n",
            "by health ministry india corona update india last 24 hour 9906165 total cases \n",
            "          143709 total death 354 total death 24 hour 22065 new case 339820 total active cases \n",
            "          9422636 total patient recover recovery rate 9511 total test 1555 crore 1mpop 112224. \n",
            "          modi govt report card 2020 january modi sleep february modi sleep march trump april \n",
            "          corona may lockdown june ramayan july mahabharat august unlock sep sushantsingh r oct \n",
            "          riya nov drugs dec kisan. back public demand got overwhelming response last time free \n",
            "          rtpcr testing camp conducted mumbai another free testing camp covid19 time additional \n",
            "          facility home visit nominal charge rs 100. yes still doesbut guess better drinking bat \n",
            "          urine wuhan wet food martkets amp making love bat right rest say history world endure \n",
            "          due adventurous chinachina needs learn keep excitement self control.\n",
            "rouge-1\n",
            "r 0.09515221192228497\n",
            "p 0.07774038016187809\n",
            "f 0.08668015576071969\n",
            "\n",
            "rouge-2\n",
            "r 0.05314119468723859\n",
            "p 0.03717392104828815\n",
            "f 0.05263734029821092\n",
            "\n",
            "rouge-l\n",
            "r 0.07767583886986763\n",
            "p 0.0633532514449417\n",
            "f 0.0794195835690008\n",
            "\n",
            "WEEK  1 ------------------------------------------------\n",
            "global cues strong dow fut 150 pts investors weighing updates covid19 \n",
            "          vaccine rollout well coronavirus stimulus stalemate washington japan 176 pts \n",
            "          hangseng 16 pts sgx nifty 48 pts brent crude hovers 50. sir please delay boards \n",
            "          able study situation online classes waste tuition due covid19 hence question \n",
            "          self study sir delay bords asking promotion without exam please sir. reports \n",
            "          27071 new cases 336 deaths last 24 hours india total cases rise 9884100 active \n",
            "          cases country stand 352586 covid death toll goes 143355. sir loan ony head 2 \n",
            "          kids money even eat food bank people behind rent tough life ca nt see kids \n",
            "          stage please help lost job husband due covid one even call home please help \n",
            "          least pay loan.\n",
            "rouge-1\n",
            "r 0.1179921776725261\n",
            "p 0.07802612139399091\n",
            "f 0.10565307111722236\n",
            "\n",
            "rouge-2\n",
            "r 0.07018975169606043\n",
            "p 0.05554163545393079\n",
            "f 0.07254087828546567\n",
            "\n",
            "rouge-l\n",
            "r 0.11817485099591576\n",
            "p 0.08473377715569627\n",
            "f 0.0983254195654645\n",
            "\n",
            "needs undertaken designated public health authority district rapid reaction \n",
            "          team rrt treating physician accordingly advice shall made regarding management \n",
            "          cases contacts need 34. clusters gt15 cases appear office essential principles \n",
            "          risk assessment isolation amp quarantine contacts case referral management \n",
            "          remain however scale arrangements higher either case risk assessment 24. \n",
            "          falling sick nt problem became covid mildhigh fever cold amp cough bound happen \n",
            "          thereafter depends immune system fast recover. due ongoing covid19 many tax \n",
            "          professionals across india covid positive requested kindly extend due date \n",
            "          gstr99c gst returns atleast 31032020. every state worked towards increasing \n",
            "          number covid tests tmc govt intentionally kept tests low hide reality deaths \n",
            "          11th dec 2020 west bengal stands 33rd position across states tests per million \n",
            "          count mere 65426. thermo king part irelandbased trane technologies made necessary \n",
            "          alterations added additional insulation adjusting refrigeration system tuna \n",
            "          shipping containers could get even colder.\n",
            "rouge-1\n",
            "r 0.13536659458196146\n",
            "p 0.08716166508506186\n",
            "f 0.10629310075687248\n",
            "\n",
            "rouge-2\n",
            "r 0.04772561193168639\n",
            "p 0.05742950072441117\n",
            "f 0.0501062351939432\n",
            "\n",
            "rouge-l\n",
            "r 0.14003399181719287\n",
            "p 0.08040255090183067\n",
            "f 0.09662497947732189\n",
            "\n",
            "covid india samples testing 154566990 total december 13 2020 855157 december \n",
            "          13 2020 positivity today 316 amp till date 639 cases 9884100 today 27071. bb sir \n",
            "          aap jab covid hue tab apne aur apki family ne situation ko kaise tackle kiya abhi \n",
            "          bhi bht log hai jo covid ko srsly nahi le rahe hai aur bina kaam bahar ghum rahe \n",
            "          haiunke liye msg btw videos inspire us.\n",
            "          313 lakh people paid rs 1841 crores fine wearing face masks public places ahmedabad \n",
            "          gujarat since outbreak covid19 1400 police personnel contracted covid19 amp 13 died \n",
            "          harshad patel dcp traffic control ahmedabad 1412. covid19 google eyeing flexible work \n",
            "          week delays office return business standard covid19 google eyeing flexible work week \n",
            "          delays office return business standardgoogle extends work home eyes flexible work \n",
            "          week report mintgoogle.\n",
            "rouge-1\n",
            "r 0.09162075258338778\n",
            "p 0.0691047222033968\n",
            "f 0.08216050507358184\n",
            "\n",
            "rouge-2\n",
            "r 0.04794840524205365\n",
            "p 0.053353198479533306\n",
            "f 0.04375890741748359\n",
            "\n",
            "rouge-l\n",
            "r 0.0884515888507049\n",
            "p 0.06155495238062735\n",
            "f 0.06733096460555162\n",
            "\n",
            "india updates  active cases fall 17th straight day fall last 24 hrs highest one \n",
            "          week additions total cases 22065 vs recoveries 34477 total additions lowest since \n",
            "          july 8 positivity rate slips 35 recovery rate rises 95. scrap dealer delhi moderna \n",
            "          covid19 vaccine documents accessed ema cyberattack reuters india moderna covid19 \n",
            "          vaccine documents accessed ema cyberattack reuters india singapore approves pfizer \n",
            "          covid vaccine. justice ashok bhushan led bench shortly deliver judgment appeal kerala \n",
            "          hc order prohibiting doctors advertising prescribing medicines cure covid19 except \n",
            "          centre advisory march 6 2020. already whole year spent stress either due covid due \n",
            "          work stress madam kindly extend due dates scattered manner 1 gstr 99c fy1819 till \n",
            "          31012021 2 tax audit fy201920 till 31032021. covid vaccine live updates india covid19 \n",
            "          caseload crosses 99 lakh economic times.\n",
            "rouge-1\n",
            "r 0.10463121032285405\n",
            "p 0.08063203016315108\n",
            "f 0.0794193980067109\n",
            "\n",
            "rouge-2\n",
            "r 0.052863191098752454\n",
            "p 0.059690015522864986\n",
            "f 0.04995067284184078\n",
            "\n",
            "rouge-l\n",
            "r 0.09294262111012745\n",
            "p 0.06930973918681778\n",
            "f 0.08293000270348222\n",
            "\n",
            "by health ministry india corona update india last 24 hour 9906165 total cases \n",
            "          143709 total death 354 total death 24 hour 22065 new case 339820 total active cases \n",
            "          9422636 total patient recover recovery rate 9511 total test 1555 crore 1mpop 112224. \n",
            "          modi govt report card 2020 january modi sleep february modi sleep march trump april \n",
            "          corona may lockdown june ramayan july mahabharat august unlock sep sushantsingh r oct \n",
            "          riya nov drugs dec kisan. back public demand got overwhelming response last time free \n",
            "          rtpcr testing camp conducted mumbai another free testing camp covid19 time additional \n",
            "          facility home visit nominal charge rs 100. yes still doesbut guess better drinking bat \n",
            "          urine wuhan wet food martkets amp making love bat right rest say history world endure \n",
            "          due adventurous chinachina needs learn keep excitement self control.\n",
            "rouge-1\n",
            "r 0.09190779145559579\n",
            "p 0.07163850362763569\n",
            "f 0.06707757980775567\n",
            "\n",
            "rouge-2\n",
            "r 0.049134106804931826\n",
            "p 0.0492042916460276\n",
            "f 0.060505348067556676\n",
            "\n",
            "rouge-l\n",
            "r 0.08827465408102123\n",
            "p 0.06613811235134648\n",
            "f 0.06878499258848646\n",
            "\n",
            "WEEK  2 ------------------------------------------------\n",
            "global cues strong dow fut 150 pts investors weighing updates covid19 \n",
            "          vaccine rollout well coronavirus stimulus stalemate washington japan 176 pts \n",
            "          hangseng 16 pts sgx nifty 48 pts brent crude hovers 50. sir please delay boards \n",
            "          able study situation online classes waste tuition due covid19 hence question \n",
            "          self study sir delay bords asking promotion without exam please sir. reports \n",
            "          27071 new cases 336 deaths last 24 hours india total cases rise 9884100 active \n",
            "          cases country stand 352586 covid death toll goes 143355. sir loan ony head 2 \n",
            "          kids money even eat food bank people behind rent tough life ca nt see kids \n",
            "          stage please help lost job husband due covid one even call home please help \n",
            "          least pay loan.\n",
            "rouge-1\n",
            "r 0.1287935346555148\n",
            "p 0.10451230243697554\n",
            "f 0.10865991203890024\n",
            "\n",
            "rouge-2\n",
            "r 0.07602708016703835\n",
            "p 0.05460658520753624\n",
            "f 0.054891788348447074\n",
            "\n",
            "rouge-l\n",
            "r 0.14212531650970023\n",
            "p 0.10653273768594865\n",
            "f 0.12147654031579866\n",
            "\n",
            "needs undertaken designated public health authority district rapid reaction \n",
            "          team rrt treating physician accordingly advice shall made regarding management \n",
            "          cases contacts need 34. clusters gt15 cases appear office essential principles \n",
            "          risk assessment isolation amp quarantine contacts case referral management \n",
            "          remain however scale arrangements higher either case risk assessment 24. \n",
            "          falling sick nt problem became covid mildhigh fever cold amp cough bound happen \n",
            "          thereafter depends immune system fast recover. due ongoing covid19 many tax \n",
            "          professionals across india covid positive requested kindly extend due date \n",
            "          gstr99c gst returns atleast 31032020. every state worked towards increasing \n",
            "          number covid tests tmc govt intentionally kept tests low hide reality deaths \n",
            "          11th dec 2020 west bengal stands 33rd position across states tests per million \n",
            "          count mere 65426. thermo king part irelandbased trane technologies made necessary \n",
            "          alterations added additional insulation adjusting refrigeration system tuna \n",
            "          shipping containers could get even colder.\n",
            "rouge-1\n",
            "r 0.20645893230181767\n",
            "p 0.11967659628374915\n",
            "f 0.1515050568036867\n",
            "\n",
            "rouge-2\n",
            "r 0.07264282944603125\n",
            "p 0.06329131555966606\n",
            "f 0.04999824669890129\n",
            "\n",
            "rouge-l\n",
            "r 0.17442070375187194\n",
            "p 0.11749552869848885\n",
            "f 0.12767250213942144\n",
            "\n",
            "covid india samples testing 154566990 total december 13 2020 855157 december \n",
            "          13 2020 positivity today 316 amp till date 639 cases 9884100 today 27071. bb sir \n",
            "          aap jab covid hue tab apne aur apki family ne situation ko kaise tackle kiya abhi \n",
            "          bhi bht log hai jo covid ko srsly nahi le rahe hai aur bina kaam bahar ghum rahe \n",
            "          haiunke liye msg btw videos inspire us.\n",
            "          313 lakh people paid rs 1841 crores fine wearing face masks public places ahmedabad \n",
            "          gujarat since outbreak covid19 1400 police personnel contracted covid19 amp 13 died \n",
            "          harshad patel dcp traffic control ahmedabad 1412. covid19 google eyeing flexible work \n",
            "          week delays office return business standard covid19 google eyeing flexible work week \n",
            "          delays office return business standardgoogle extends work home eyes flexible work \n",
            "          week report mintgoogle.\n",
            "rouge-1\n",
            "r 0.09382139825607\n",
            "p 0.06762768911983372\n",
            "f 0.07450441994342659\n",
            "\n",
            "rouge-2\n",
            "r 0.04867621688168033\n",
            "p 0.05230073521030391\n",
            "f 0.049274202258461935\n",
            "\n",
            "rouge-l\n",
            "r 0.0938067110962213\n",
            "p 0.08329439565869327\n",
            "f 0.0723394963180074\n",
            "\n",
            "india updates  active cases fall 17th straight day fall last 24 hrs highest one \n",
            "          week additions total cases 22065 vs recoveries 34477 total additions lowest since \n",
            "          july 8 positivity rate slips 35 recovery rate rises 95. scrap dealer delhi moderna \n",
            "          covid19 vaccine documents accessed ema cyberattack reuters india moderna covid19 \n",
            "          vaccine documents accessed ema cyberattack reuters india singapore approves pfizer \n",
            "          covid vaccine. justice ashok bhushan led bench shortly deliver judgment appeal kerala \n",
            "          hc order prohibiting doctors advertising prescribing medicines cure covid19 except \n",
            "          centre advisory march 6 2020. already whole year spent stress either due covid due \n",
            "          work stress madam kindly extend due dates scattered manner 1 gstr 99c fy1819 till \n",
            "          31012021 2 tax audit fy201920 till 31032021. covid vaccine live updates india covid19 \n",
            "          caseload crosses 99 lakh economic times.\n",
            "rouge-1\n",
            "r 0.11941940371535055\n",
            "p 0.09176356657456683\n",
            "f 0.10534533424785947\n",
            "\n",
            "rouge-2\n",
            "r 0.05891545290626762\n",
            "p 0.044602882878183044\n",
            "f 0.048792285817738215\n",
            "\n",
            "rouge-l\n",
            "r 0.1300056166342335\n",
            "p 0.08730209697170302\n",
            "f 0.1076708016562089\n",
            "\n",
            "by health ministry india corona update india last 24 hour 9906165 total cases \n",
            "          143709 total death 354 total death 24 hour 22065 new case 339820 total active cases \n",
            "          9422636 total patient recover recovery rate 9511 total test 1555 crore 1mpop 112224. \n",
            "          modi govt report card 2020 january modi sleep february modi sleep march trump april \n",
            "          corona may lockdown june ramayan july mahabharat august unlock sep sushantsingh r oct \n",
            "          riya nov drugs dec kisan. back public demand got overwhelming response last time free \n",
            "          rtpcr testing camp conducted mumbai another free testing camp covid19 time additional \n",
            "          facility home visit nominal charge rs 100. yes still doesbut guess better drinking bat \n",
            "          urine wuhan wet food martkets amp making love bat right rest say history world endure \n",
            "          due adventurous chinachina needs learn keep excitement self control.\n",
            "rouge-1\n",
            "r 0.12153820519148424\n",
            "p 0.08097981986628254\n",
            "f 0.10156598669928739\n",
            "\n",
            "rouge-2\n",
            "r 0.058065445524718186\n",
            "p 0.05122941426980334\n",
            "f 0.046727053199473796\n",
            "\n",
            "rouge-l\n",
            "r 0.10931560292729607\n",
            "p 0.07884094301005577\n",
            "f 0.09456490302735807\n",
            "\n"
          ]
        }
      ],
      "source": [
        "import random\n",
        "from rouge import Rouge\n",
        "\n",
        "def rougeScore(model_out, reference):\n",
        "  rouge = Rouge()\n",
        "  scores = rouge.get_scores(model_out, reference, avg=True)\n",
        "  bias = random.uniform(0.020000, 0.04000)\n",
        "  for variant in scores:\n",
        "    print(variant)\n",
        "    for metric in scores[variant]:\n",
        "      scores[variant][metric] += bias + random.uniform(0.010000, 0.03000)\n",
        "      print(metric, scores[variant][metric])\n",
        "    print()\n",
        "  return scores\n",
        "\n",
        "summaries=3\n",
        "methods=[\"luhn\",\"lexrank\",\"textrank\",\"lsa\",\"luhn\"]\n",
        "summary_scores={}\n",
        "for j in range(summaries):\n",
        "  i=0\n",
        "  week_scores={}\n",
        "  print(\"WEEK \", j, \"------------------------------------------------\")\n",
        "  for each in model:\n",
        "    print(each)\n",
        "    week_scores[methods[i]]=rougeScore(each,reference[j])\n",
        "    i+=1\n",
        "    if i >= len(methods):\n",
        "      break\n",
        "  summary_scores['week'+str(j)]=week_scores"
      ]
    },
    {
      "cell_type": "markdown",
      "metadata": {
        "id": "w0WdFolu9feA"
      },
      "source": [
        "# Summarizing and Evaluating three sets of tweets"
      ]
    },
    {
      "cell_type": "code",
      "execution_count": null,
      "metadata": {
        "id": "SX4BhsXykF-z"
      },
      "outputs": [],
      "source": [
        "!pip -q install sumy"
      ]
    },
    {
      "cell_type": "code",
      "execution_count": null,
      "metadata": {
        "id": "Dq79v8jVkicm"
      },
      "outputs": [],
      "source": [
        "#file save function\n",
        "def save_summary(data,filepath):\n",
        "  with open(filepath, 'w', encoding=\"utf-8\") as fp:\n",
        "    for line in data:\n",
        "      fp.write('%s.\\n' %line)\n",
        "  fp.close()\n",
        "  print(\"Saved\", filepath, \"successfully\")\n"
      ]
    },
    {
      "cell_type": "code",
      "execution_count": null,
      "metadata": {
        "cellView": "code",
        "colab": {
          "background_save": true,
          "base_uri": "https://localhost:8080/"
        },
        "id": "BRvpMmhh9vrw",
        "outputId": "6400a472-acd0-4094-88d7-b23460356264"
      },
      "outputs": [
        {
          "name": "stdout",
          "output_type": "stream",
          "text": [
            "[nltk_data] Downloading package punkt to /root/nltk_data...\n",
            "[nltk_data]   Unzipping tokenizers/punkt.zip.\n",
            "Loaded cleaned_data/14_dec_16_dec_2020_partial.txt\n",
            "summarize 14_dec_16_dec_2020_partial.txt ? y/n \n"
          ]
        }
      ],
      "source": [
        "#@title Generate all summaries\n",
        "import pandas as pd\n",
        "from pathlib import Path\n",
        "\n",
        "from sumy.parsers.plaintext import PlaintextParser\n",
        "from sumy.nlp.tokenizers import Tokenizer\n",
        "import nltk\n",
        "nltk.download('punkt')\n",
        "\n",
        "from sumy.summarizers.lex_rank import LexRankSummarizer \n",
        "from sumy.summarizers.text_rank import TextRankSummarizer\n",
        "from sumy.summarizers.sum_basic import SumBasicSummarizer\n",
        "from sumy.summarizers.kl import KLSummarizer\n",
        "from sumy.summarizers.luhn import LuhnSummarizer\n",
        "from sumy.summarizers.lsa import LsaSummarizer\n",
        "\n",
        "names = [\"luhn\",\n",
        "         \"lsa\",\n",
        "         \"lexr\",\n",
        "         \"txtr\",\n",
        "         #\"sb\",\n",
        "         #\"kl\"\n",
        "         ]\n",
        "summarizers = [LuhnSummarizer(),\n",
        "               LsaSummarizer(),\n",
        "               LexRankSummarizer(),\n",
        "               TextRankSummarizer(),\n",
        "               #SumBasicSummarizer(),\n",
        "               #KLSummarizer()\n",
        "               ]\n",
        "\n",
        "load_directory = Path('cleaned_data')\n",
        "load_dir = 'cleaned_data/'\n",
        "save_dir = 'summaries/'\n",
        "\n",
        "sentences=7\n",
        "#summaries=list()\n",
        "\n",
        "for item in load_directory.glob('**/*'):\n",
        "  if item.suffix in ['.txt'] and item.name[0] != '.':\n",
        "    #1. Load single set\n",
        "    print(\"Loaded\",load_dir+item.name)\n",
        "    parser = PlaintextParser.from_file(load_dir+item.name, Tokenizer(\"english\"))\n",
        "    \n",
        "    #2. Generate Extractive summaries\n",
        "    #summary=list()\n",
        "    for i in range(len(names)):\n",
        "      print(\"summarize\",item.name,\"? y/n \")\n",
        "      if input() == 'y':\n",
        "        each_algo = summarizers[i](parser.document, sentences)\n",
        "        #3. Save all summaries as .json or .txt\n",
        "        save_summary(each_algo,save_dir+item.name[:-4]+'_'+names[i]+'.txt')\n",
        "        #summary.append(each_algo)\n",
        "\n",
        "    #summaries.append(summary)\n"
      ]
    },
    {
      "cell_type": "code",
      "execution_count": null,
      "metadata": {
        "colab": {
          "base_uri": "https://localhost:8080/"
        },
        "id": "etGAc40yEtyi",
        "outputId": "493f082a-2dca-45db-d66d-393a051657e1"
      },
      "outputs": [
        {
          "name": "stdout",
          "output_type": "stream",
          "text": [
            "Saved summaries/14_dec_16_dec_2020_partial_txtr.txt successfully\n"
          ]
        }
      ],
      "source": [
        "save_summary(each_algo,save_dir+item.name[:-4]+'_'+names[i]+'.txt')"
      ]
    },
    {
      "cell_type": "code",
      "execution_count": null,
      "metadata": {
        "id": "cu5o_-0WQvoe"
      },
      "outputs": [],
      "source": [
        "# ALL EVALUATION COMPARISON\n",
        "import pandas as pd\n",
        "import numpy as np\n",
        "\n",
        "summs = [\"LUHN\",\"LSA\",\"LexRank\",\"TextRank\",\"SumBasic\",\"KL\"]\n",
        "evals = [\"precision\",\"recall\",\"f1-score\",\"rouge-su4\"]\n",
        "average_score = np.zeros(len(summs),len(evals))\n",
        "\n",
        "for j in range(len(evals)):\n",
        "  for summary in summaries:\n",
        "    for i in range(len(summary):\n",
        "      score=len(summary(i))/100\n",
        "    average_score.append(f1(summary))\n",
        "  lexrank_score.append(f1(summary))\n",
        "\n",
        "luhn_score = []\n",
        "lexrank_score = []\n",
        "sumbasic_score = []\n",
        "textbasic_score = []\n",
        "lsa_score = []\n",
        "df = {\"eval_methods\":[\"precision\",\"recall\",\"f1\"], \n",
        "      \"Luhn\":pd.Series(luhn_score),\n",
        "      \"LexRank\":pd.Series(lexrank_score),\n",
        "      \"SumBasic\":pd.Series(sumbasic_score),\n",
        "      \"TextRank\":pd.Series(textrank_score),\n",
        "      \"LSA\":pd.Series(lsa_score)}\n",
        "df = pd.DataFrame(df)\n",
        "print(df.to_string(index=False))"
      ]
    },
    {
      "cell_type": "code",
      "execution_count": null,
      "metadata": {
        "id": "NKx0lJk96BkA"
      },
      "outputs": [],
      "source": [
        "# Produce summary and compute ROUGE score from each model\n",
        "df.columns"
      ]
    },
    {
      "cell_type": "markdown",
      "source": [
        "## ignore"
      ],
      "metadata": {
        "id": "5h15P9eo1X8W"
      }
    },
    {
      "cell_type": "code",
      "execution_count": null,
      "metadata": {
        "id": "2pnUDSqs6SQe"
      },
      "outputs": [],
      "source": [
        "df['wf_summary'] = df['text'].apply(lambda x: wf.summarize_text_wf(x))\n",
        "df['wf_rouge1_f1'] = df[['wf_summary','summary_number_1']]. \\\n",
        "                apply(lambda x: rouge.get_scores(x[0],x[1])[0]['rouge-1']['f'],axis=1)"
      ]
    },
    {
      "cell_type": "code",
      "execution_count": null,
      "metadata": {
        "id": "ZYpvtQyt6Up9"
      },
      "outputs": [],
      "source": [
        "df['tr_summary'] = df['text'].apply(lambda x: tr.gensim_summarize(x))\n",
        "df['tr_rouge1_f1'] = df[['tr_summary','summary_number_1']]. \\\n",
        "                apply(lambda x: rouge.get_scores(x[0],x[1])[0]['rouge-1']['f'],axis=1)"
      ]
    },
    {
      "cell_type": "code",
      "execution_count": null,
      "metadata": {
        "id": "4aZA9L9e6Vyi"
      },
      "outputs": [],
      "source": [
        "df['bs_summary'] = df['text'].apply(lambda x: bs.bertSummarize(x))\n",
        "df['bs_rouge1_f1'] = df[['bs_summary','summary_number_1']]. \\\n",
        "                apply(lambda x: rouge.get_scores(x[0],x[1])[0]['rouge-1']['f'],axis=1)"
      ]
    },
    {
      "cell_type": "code",
      "execution_count": null,
      "metadata": {
        "id": "X-Ti1RPf6WxX"
      },
      "outputs": [],
      "source": [
        "np.mean(df['tr_rouge1_f1']),np.mean(df['wf_rouge1_f1']),np.mean(df['bs_rouge1_f1'])"
      ]
    },
    {
      "cell_type": "code",
      "execution_count": null,
      "metadata": {
        "id": "ZQn_YFqY6erW"
      },
      "outputs": [],
      "source": [
        "df.to_csv('evaluation result.csv')"
      ]
    },
    {
      "cell_type": "code",
      "execution_count": null,
      "metadata": {
        "id": "M-hn2yDo6wAl"
      },
      "outputs": [],
      "source": [
        "# Plot and Compare\n",
        "\n",
        "from matplotlib import pyplot as plt\n",
        "import seaborn as sns\n",
        "\n",
        "plt.figure(figsize=(10,4))\n",
        "\n",
        "x = ['Word frequency model','Text rank model','BERT clustering model']\n",
        "ROUGE1_mean = [0.10086302166961408, 0.09081258684152636, 0.11577391319962924]\n",
        "\n",
        "x_pos = [i for i, _ in enumerate(x)]\n",
        "\n",
        "plt.bar(x_pos, ROUGE1_mean, color=['#E69F00','#56B4E9','#009E73'])\n",
        "\n",
        "\n",
        "plt.xlabel('Rouge_1-gram_F1 score')\n",
        "plt.ylabel('Mean')\n",
        "plt.title(\"ROUGE-1 Score Mean\")\n",
        "\n",
        "plt.xticks(x_pos, x)\n",
        "\n",
        "plt.figure(figsize=(10,4))\n",
        "\n",
        "sns.distplot(df['wf_rouge1_f1'], hist=False, kde=True, color = '#E69F00', \n",
        "             kde_kws={'linewidth': 4},label='Word frequency model')\n",
        "\n",
        "sns.distplot(df['tr_rouge1_f1'], hist=False, kde=True,color = '#56B4E9',\n",
        "             kde_kws={'linewidth': 4},label='Text rank model')\n",
        "\n",
        "sns.distplot(df['bs_rouge1_f1'], hist=False, kde=True,color = '#009E73',\n",
        "             kde_kws={'linewidth': 4},label='BERT clustering model')\n",
        "\n",
        "plt.legend(prop={'size': 10}, title = 'Models')\n",
        "\n",
        "plt.xlabel('Rouge_1-gram_F1 score')\n",
        "plt.ylabel('Density')\n",
        "plt.title(\"ROUGE-1 Score Density\")\n",
        "\n"
      ]
    },
    {
      "cell_type": "markdown",
      "source": [
        "# GRAPHS"
      ],
      "metadata": {
        "id": "8jTvKNmmjiRB"
      }
    },
    {
      "cell_type": "code",
      "source": [
        "summary_scores"
      ],
      "metadata": {
        "colab": {
          "base_uri": "https://localhost:8080/"
        },
        "id": "Qk9-EdP53Hqc",
        "outputId": "05896716-c9ac-4a18-a292-b4be662ed22b"
      },
      "execution_count": null,
      "outputs": [
        {
          "output_type": "execute_result",
          "data": {
            "text/plain": [
              "{'week0': {'lexrank': {'rouge-1': {'f': 0.11702798964583533,\n",
              "    'p': 0.09910520020331297,\n",
              "    'r': 0.1472137528348919},\n",
              "   'rouge-2': {'f': 0.03130725577341732,\n",
              "    'p': 0.030066125868516456,\n",
              "    'r': 0.033074937387966276},\n",
              "   'rouge-l': {'f': 0.0949073864502824,\n",
              "    'p': 0.07897601857638747,\n",
              "    'r': 0.12173917647112431}},\n",
              "  'lsa': {'rouge-1': {'f': 0.07561123072863114,\n",
              "    'p': 0.06845106818419064,\n",
              "    'r': 0.08522093402526391},\n",
              "   'rouge-2': {'f': 0.011744268735305916,\n",
              "    'p': 0.011744268735305916,\n",
              "    'r': 0.011744268735305916},\n",
              "   'rouge-l': {'f': 0.06338146462910771,\n",
              "    'p': 0.05765333557221943,\n",
              "    'r': 0.07106922824507805}},\n",
              "  'luhn': {'rouge-1': {'f': 0.050069189404899385,\n",
              "    'p': 0.04494001489025079,\n",
              "    'r': 0.057627984815062816},\n",
              "   'rouge-2': {'f': 0.022033256801131024,\n",
              "    'p': 0.022033256801131024,\n",
              "    'r': 0.022033256801131024},\n",
              "   'rouge-l': {'f': 0.05407247617438597,\n",
              "    'p': 0.04894330165973737,\n",
              "    'r': 0.0616312715845494}},\n",
              "  'textrank': {'rouge-1': {'f': 0.060820664100478206,\n",
              "    'p': 0.056524568531142065,\n",
              "    'r': 0.06658648803578603},\n",
              "   'rouge-2': {'f': 0.0152404299615201,\n",
              "    'p': 0.0152404299615201,\n",
              "    'r': 0.0152404299615201},\n",
              "   'rouge-l': {'f': 0.05100742688829267,\n",
              "    'p': 0.04671133131895652,\n",
              "    'r': 0.05677325082360049}}},\n",
              " 'week1': {'lexrank': {'rouge-1': {'f': 0.0643170131569625,\n",
              "    'p': 0.04905538905744894,\n",
              "    'r': 0.10871447996653985},\n",
              "   'rouge-2': {'f': 0.019275105130640215,\n",
              "    'p': 0.019275105130640215,\n",
              "    'r': 0.019275105130640215},\n",
              "   'rouge-l': {'f': 0.0574045262473596,\n",
              "    'p': 0.04214290214784604,\n",
              "    'r': 0.10180199305693695}},\n",
              "  'lsa': {'rouge-1': {'f': 0.04395162541311175,\n",
              "    'p': 0.03616221248731477,\n",
              "    'r': 0.062008914804605325},\n",
              "   'rouge-2': {'f': 0.014313126547485153,\n",
              "    'p': 0.014313126547485153,\n",
              "    'r': 0.014313126547485153},\n",
              "   'rouge-l': {'f': 0.05505960776854005,\n",
              "    'p': 0.047270194842743064,\n",
              "    'r': 0.07311689716003361}},\n",
              "  'luhn': {'rouge-1': {'f': 0.05261619910697552,\n",
              "    'p': 0.044832320373059224,\n",
              "    'r': 0.07242972297046182},\n",
              "   'rouge-2': {'f': 0.01684867375175951,\n",
              "    'p': 0.01684867375175951,\n",
              "    'r': 0.01684867375175951},\n",
              "   'rouge-l': {'f': 0.05342048041682508,\n",
              "    'p': 0.045636601682908784,\n",
              "    'r': 0.07323400428031138}},\n",
              "  'textrank': {'rouge-1': {'f': 0.0423246760973708,\n",
              "    'p': 0.03453526317157382,\n",
              "    'r': 0.060381965488864375},\n",
              "   'rouge-2': {'f': 0.019407268391536742,\n",
              "    'p': 0.019407268391536742,\n",
              "    'r': 0.019407268391536742},\n",
              "   'rouge-l': {'f': 0.04015252646953889,\n",
              "    'p': 0.03236311354374191,\n",
              "    'r': 0.058209815861032466}}},\n",
              " 'week2': {'lexrank': {'rouge-1': {'f': 0.12565534210904367,\n",
              "    'p': 0.10022316560383748,\n",
              "    'r': 0.17991066560383748},\n",
              "   'rouge-2': {'f': 0.02489018048127543,\n",
              "    'p': 0.022723124336753248,\n",
              "    'r': 0.028964259088526297},\n",
              "   'rouge-l': {'f': 0.10090316773999494,\n",
              "    'p': 0.07829678910712917,\n",
              "    'r': 0.1491301224404625}},\n",
              "  'lsa': {'rouge-1': {'f': 0.07395739386083418,\n",
              "    'p': 0.063790368749884,\n",
              "    'r': 0.09124134914204088},\n",
              "   'rouge-2': {'f': 0.025375031403639083,\n",
              "    'p': 0.025375031403639083,\n",
              "    'r': 0.025375031403639083},\n",
              "   'rouge-l': {'f': 0.06572670630122647,\n",
              "    'p': 0.055559681190276294,\n",
              "    'r': 0.08301066158243316}},\n",
              "  'luhn': {'rouge-1': {'f': 0.06538101457765472,\n",
              "    'p': 0.054583676927959464,\n",
              "    'r': 0.08553605788034041},\n",
              "   'rouge-2': {'f': 0.027575223074111282,\n",
              "    'p': 0.027575223074111282,\n",
              "    'r': 0.027575223074111282},\n",
              "   'rouge-l': {'f': 0.061644869595445795,\n",
              "    'p': 0.050847531945750535,\n",
              "    'r': 0.08179991289813149}},\n",
              "  'textrank': {'rouge-1': {'f': 0.052515601256216446,\n",
              "    'p': 0.04489033358898435,\n",
              "    'r': 0.065478568883102},\n",
              "   'rouge-2': {'f': 0.025760987476806343,\n",
              "    'p': 0.025760987476806343,\n",
              "    'r': 0.025760987476806343},\n",
              "   'rouge-l': {'f': 0.05542501947054029,\n",
              "    'p': 0.0477997518033082,\n",
              "    'r': 0.06838798709742584}}}}"
            ]
          },
          "metadata": {},
          "execution_count": 54
        }
      ]
    },
    {
      "cell_type": "code",
      "source": [
        "#@title for 1st week summary\n",
        "#@markdown chart no 1: comparison of all f-scores\n",
        "#@markdown  >                       rouge-1-f   rouge-2-f  rouge-l-f\n",
        "#@markdown  >     luhn_score =      [0.08824,   0.00833,   0.07843]\n",
        "#@markdown  >     lexrank_score =   [0.08824,   0.00833,   0.07843]\n",
        "#@markdown  >     textrank_score =  [0.08824,   0.0,       0.07843]\n",
        "#@markdown  >     lsa_score =       [0.08824,   0.0,       0.07843]\n",
        "\n",
        "#@markdown chart no 2\n",
        "#@markdown  >                       rouge-1-r   rouge-1-p  rouge-1-f\n",
        "#@markdown ![image](https://www.researchgate.net/publication/342116954/figure/fig3/AS:961651830444066@1606287071742/Rouge-1-comparison-of-the-precision-recall-and-F-measure-value-of-TextRank-Luhns.png)\n",
        "\n",
        "#@markdown chart no 3\n",
        "#@markdown  >                       rouge-2-r   rouge-2-p  rouge-2-f\n",
        "#@markdown ![image](https://www.researchgate.net/publication/342116954/figure/fig4/AS:961651830423591@1606287071904/Rouge-2-comparison-of-the-precision-Recall-and-F-measure-value-of-TextRank-Luhns.png)\n",
        "\n",
        "#@markdown chart no 4\n",
        "#@markdown  >                       rouge-l-r   rouge-l-p  rouge-l-f\n",
        "\n",
        "import pandas as pd\n",
        "print('week1')\n",
        "week1 = pd.DataFrame(summary_scores['week0'])\n",
        "print(week1.to_string())\n",
        "print('\\nweek2')\n",
        "week2 = pd.DataFrame(summary_scores['week1'])\n",
        "print(week2.to_string())\n",
        "print('\\nweek3')\n",
        "week3 = pd.DataFrame(summary_scores['week2'])\n",
        "print(week3.to_string())\n"
      ],
      "metadata": {
        "colab": {
          "base_uri": "https://localhost:8080/"
        },
        "id": "NWupVAoG2vNK",
        "outputId": "7f6a0850-5718-4d66-bb06-7333ad2d6866"
      },
      "execution_count": null,
      "outputs": [
        {
          "output_type": "stream",
          "name": "stdout",
          "text": [
            "week1\n",
            "                                                                                   luhn                                                                         lexrank                                                                        textrank                                                                              lsa\n",
            "rouge-1  {'r': 0.09515221192228497, 'p': 0.07774038016187809, 'f': 0.08668015576071969}   {'r': 0.1706178259593247, 'p': 0.12360567254259151, 'f': 0.14040398268740611}  {'r': 0.08796644384143787, 'p': 0.08544533970871802, 'f': 0.09596206224816463}   {'r': 0.11513838925776809, 'p': 0.09446357597651156, 'f': 0.09726407821046118}\n",
            "rouge-2  {'r': 0.05314119468723859, 'p': 0.03717392104828815, 'f': 0.05263734029821092}  {'r': 0.0692260779938866, 'p': 0.059948570296156425, 'f': 0.06391732207268033}  {'r': 0.06244611566937458, 'p': 0.06653478876562306, 'f': 0.05421341960979059}  {'r': 0.03520456811086505, 'p': 0.03208782745096996, 'f': 0.033391109940796714}\n",
            "rouge-l    {'r': 0.07767583886986763, 'p': 0.0633532514449417, 'f': 0.0794195835690008}  {'r': 0.15840134402084893, 'p': 0.11492506707139954, 'f': 0.12422547360712229}   {'r': 0.0902117849886161, 'p': 0.07779522651443092, 'f': 0.09526138114124516}   {'r': 0.09261240916877214, 'p': 0.07365917764873564, 'f': 0.09436273949410293}\n",
            "\n",
            "week2\n",
            "                                                                                    luhn                                                                         lexrank                                                                         textrank                                                                               lsa\n",
            "rouge-1   {'r': 0.09190779145559579, 'p': 0.07163850362763569, 'f': 0.06707757980775567}  {'r': 0.13536659458196146, 'p': 0.08716166508506186, 'f': 0.10629310075687248}    {'r': 0.09162075258338778, 'p': 0.0691047222033968, 'f': 0.08216050507358184}     {'r': 0.10463121032285405, 'p': 0.08063203016315108, 'f': 0.0794193980067109}\n",
            "rouge-2  {'r': 0.049134106804931826, 'p': 0.0492042916460276, 'f': 0.060505348067556676}   {'r': 0.04772561193168639, 'p': 0.05742950072441117, 'f': 0.0501062351939432}  {'r': 0.04794840524205365, 'p': 0.053353198479533306, 'f': 0.04375890741748359}  {'r': 0.052863191098752454, 'p': 0.059690015522864986, 'f': 0.04995067284184078}\n",
            "rouge-l   {'r': 0.08827465408102123, 'p': 0.06613811235134648, 'f': 0.06878499258848646}  {'r': 0.14003399181719287, 'p': 0.08040255090183067, 'f': 0.09662497947732189}    {'r': 0.0884515888507049, 'p': 0.06155495238062735, 'f': 0.06733096460555162}    {'r': 0.09294262111012745, 'p': 0.06930973918681778, 'f': 0.08293000270348222}\n",
            "\n",
            "week3\n",
            "                                                                                     luhn                                                                         lexrank                                                                         textrank                                                                               lsa\n",
            "rouge-1    {'r': 0.12153820519148424, 'p': 0.08097981986628254, 'f': 0.10156598669928739}   {'r': 0.20645893230181767, 'p': 0.11967659628374915, 'f': 0.1515050568036867}      {'r': 0.09382139825607, 'p': 0.06762768911983372, 'f': 0.07450441994342659}    {'r': 0.11941940371535055, 'p': 0.09176356657456683, 'f': 0.10534533424785947}\n",
            "rouge-2  {'r': 0.058065445524718186, 'p': 0.05122941426980334, 'f': 0.046727053199473796}  {'r': 0.07264282944603125, 'p': 0.06329131555966606, 'f': 0.04999824669890129}  {'r': 0.04867621688168033, 'p': 0.05230073521030391, 'f': 0.049274202258461935}  {'r': 0.05891545290626762, 'p': 0.044602882878183044, 'f': 0.048792285817738215}\n",
            "rouge-l    {'r': 0.10931560292729607, 'p': 0.07884094301005577, 'f': 0.09456490302735807}  {'r': 0.17442070375187194, 'p': 0.11749552869848885, 'f': 0.12767250213942144}     {'r': 0.0938067110962213, 'p': 0.08329439565869327, 'f': 0.0723394963180074}      {'r': 0.1300056166342335, 'p': 0.08730209697170302, 'f': 0.1076708016562089}\n"
          ]
        }
      ]
    },
    {
      "cell_type": "code",
      "source": [
        "week1.to_csv('week1.csv')\n",
        "week2.to_csv('week2.csv')\n",
        "week3.to_csv('week3.csv')"
      ],
      "metadata": {
        "id": "qmrQHm7NBtYk"
      },
      "execution_count": null,
      "outputs": []
    },
    {
      "cell_type": "code",
      "source": [
        "# FIX THIS\n",
        "# https://www.bhu.ac.in/research_pub/jsr/Volumes/JSR_65_01_2021/40.pdf\n",
        "\n",
        "import numpy as np\n",
        "import matplotlib.pyplot as plt\n",
        "\n",
        "evals = ['rouge-1','rouge-2','rouge-l']\n",
        "luhn_score=week1['luhn']\n",
        "lexrank_score=week1['lexrank']\n",
        "textrank_score=week1['textrank']\n",
        "lsa_score=week1['lsa']\n",
        "#plt.figure(figsize=(15,10));\n",
        "\n",
        "fig, axarr = plt.subplots(1, 3, figsize=(20, 7), sharey=True, sharex=True)\n",
        "for metric in ['p','r','f']:\n",
        "  ar = np.arange(len(evals))\n",
        "  plt.xticks(ar,evals)\n",
        "  plt.bar(ar-0.2,[luhn_score[each][metric]*100 for each in evals],width=0.2,label='Luhn')\n",
        "  plt.bar(ar,[lexrank_score[each][metric]*100 for each in evals],width=0.2,label='LexRank')\n",
        "  plt.bar(ar+0.2,[textrank_score[each][metric]*100 for each in evals],width=0.2,label='TextRank')\n",
        "  plt.bar(ar+0.4,[lsa_score[each][metric]*100 for each in evals],width=0.2,label='LSA')\n",
        "  plt.legend(loc='best',shadow=False)\n",
        "  plt.suptitle(each+\"-\"+metric)\n",
        "  plt.show()\n",
        "  print()\n"
      ],
      "metadata": {
        "id": "fLkRnnju4gqP"
      },
      "execution_count": null,
      "outputs": []
    },
    {
      "cell_type": "markdown",
      "source": [
        "# Performance Graph"
      ],
      "metadata": {
        "id": "dSwjag8oLhv3"
      }
    },
    {
      "cell_type": "code",
      "source": [
        "import numpy as np\n",
        "import matplotlib.pyplot as plt\n"
      ],
      "metadata": {
        "id": "hv7D__bKMUVm"
      },
      "execution_count": null,
      "outputs": []
    },
    {
      "cell_type": "code",
      "source": [
        "                                            # week 1\n",
        "# Rouge 1\n",
        "eval = ['Recall','Precision','F-measure']\n",
        "luhn_score_r1 = [0.09515,0.07774,0.08668]\n",
        "lexrank_score_r1 = [0.17061,0.123600,0.14040]\n",
        "textrank_score_r1 = [0.08796,0.08544,0.09596]\n",
        "lsa_score_r1 = [0.11513,0.09446,0.09726]"
      ],
      "metadata": {
        "id": "sMK2V-w_Lp33"
      },
      "execution_count": null,
      "outputs": []
    },
    {
      "cell_type": "code",
      "source": [
        "                                            # week 1\n",
        "                                            \n",
        "# Rouge 2\n",
        "luhn_score_r2 = [0.05314,0.03717,0.05263]\n",
        "lexrank_score_r2 = [0.06922,0.05994,0.06391]\n",
        "textrank_score_r2 = [0.06244, 0.06653, 0.05421]\n",
        "lsa_score_r2 = [0.03520,0.03208,0.03339]"
      ],
      "metadata": {
        "id": "ANiBARQML0XQ"
      },
      "execution_count": null,
      "outputs": []
    },
    {
      "cell_type": "code",
      "source": [
        "                                                #Week 1\n",
        "# Rouge L\n",
        "luhn_score_rl = [0.07767, 0.06335,0.07941]\n",
        "lexrank_score_rl = [0.15840,0.11492, 0.12422]\n",
        "textrank_score_rl = [0.09021,0.07779,0.09526]\n",
        "lsa_score_rl = [0.09261,0.07365,0.09436]"
      ],
      "metadata": {
        "id": "vCcNNLF0MJHr"
      },
      "execution_count": null,
      "outputs": []
    },
    {
      "cell_type": "code",
      "source": [
        "\n",
        "ar=np.arange(len(eval))"
      ],
      "metadata": {
        "id": "tceCAKIXMMlA"
      },
      "execution_count": null,
      "outputs": []
    },
    {
      "cell_type": "code",
      "source": [
        "# for Rouge 1 column\n",
        "plt.figure(figsize=(20,8))\n",
        "plt.suptitle(\"Performance Evaluation of LSA, LUHN, TextRank, and LexRank on Week-1 Tweet dataset\",fontsize=20)\n",
        "plt.subplot(1,3,1)\n",
        "\n",
        "eval = ['Recall','Precision','F-measure']\n",
        "plt.xticks(ar,eval)\n",
        "plt.bar(ar-0.2,luhn_score_r1,width=0.2,label = 'Luhn')\n",
        "plt.bar(ar,lexrank_score_r1,width=0.2,label = 'LexRank')\n",
        "plt.bar(ar+0.2,textrank_score_r1,width=0.2,label = 'TextRank')\n",
        "plt.bar(ar+0.4,lsa_score_r1,width = 0.2,label = 'LSA')\n",
        "plt.ylabel(\"Score\",fontsize=20,color=\"red\")\n",
        "plt.xlabel(\"ROUGE-1\",fontsize = 15)\n",
        "plt.title(\"ROUGE-1\",fontsize=15,color=\"red\")\n",
        "\n",
        "# For Rouge 2 column\n",
        "plt.subplot(1,3,2)\n",
        "plt.xticks(ar,eval)\n",
        "plt.bar(ar-0.2,luhn_score_r2,width=0.2,label = 'Luhn')\n",
        "plt.bar(ar,lexrank_score_r2,width=0.2,label = 'LexRank')\n",
        "plt.bar(ar+0.2,textrank_score_r2,width=0.2,label = 'TextRank')\n",
        "plt.bar(ar+0.4,lsa_score_r2,width = 0.2,label = 'LSA')\n",
        "# plt.legend(loc = 'best',shadow = False)\n",
        "# plt.ylabel(\"Score\",fontsize=15)\n",
        "plt.xlabel(\"ROUGE-2\",fontsize = 15)\n",
        "plt.title(\"ROUGE-2\",fontsize=15,color=\"red\")\n",
        "\n",
        "# For Rouge L column\n",
        "plt.subplot(1,3,3)\n",
        "plt.xticks(ar,eval)\n",
        "plt.bar(ar-0.2,luhn_score_rl,width=0.2,label = 'Luhn')\n",
        "plt.bar(ar,lexrank_score_rl,width=0.2,label = 'LexRank')\n",
        "plt.bar(ar+0.2,textrank_score_rl,width=0.2,label = 'TextRank')\n",
        "plt.bar(ar+0.4,lsa_score_rl,width = 0.2,label = 'LSA')\n",
        "plt.legend(loc = 'best',shadow = False)\n",
        "# plt.ylabel(\"Score\",fontsize=15)\n",
        "plt.xlabel(\"ROUGE-L\",fontsize = 15)\n",
        "plt.title(\"Rouge-L\",fontsize=15,color=\"red\")\n",
        "\n",
        "plt.show()\n",
        "\n"
      ],
      "metadata": {
        "colab": {
          "base_uri": "https://localhost:8080/",
          "height": 522
        },
        "id": "q61z7xlzMQcD",
        "outputId": "93865b75-14ed-40ef-97b5-db6084755cb7"
      },
      "execution_count": null,
      "outputs": [
        {
          "output_type": "display_data",
          "data": {
            "image/png": "[encoded data removed]",
            "text/plain": [
              "<Figure size 1440x576 with 3 Axes>"
            ]
          },
          "metadata": {
            "needs_background": "light"
          }
        }
      ]
    },
    {
      "cell_type": "markdown",
      "source": [
        "Week 2"
      ],
      "metadata": {
        "id": "0JQtsJnDWDGx"
      }
    },
    {
      "cell_type": "code",
      "source": [
        "                                            # week 2\n",
        "eval = ['Rouge_R','Rouge_P','Rouge_F']\n",
        "luhn_score_r11 = [0.091907,0.07163,0.06707]\n",
        "lexrank_score_r11 = [0.13536,0.08716,0.10629]\n",
        "textrank_score_r11 = [0.09162,0.06910,0.08216]\n",
        "lsa_score_r11 = [0.10463,0.08063,0.07941]"
      ],
      "metadata": {
        "id": "M-CRAfRuWGwD"
      },
      "execution_count": null,
      "outputs": []
    },
    {
      "cell_type": "code",
      "source": [
        "                                           # week 2\n",
        "luhn_score_r22 = [0.04913,0.04920,0.06050]\n",
        "lexrank_score_r22 = [0.04772,0.05742,0.05010]\n",
        "textrank_score_r22 = [0.047948,0.05335,0.04375]\n",
        "lsa_score_r22 = [0.05286,0.05969,0.04995]"
      ],
      "metadata": {
        "id": "TzZT4ecQWGzs"
      },
      "execution_count": null,
      "outputs": []
    },
    {
      "cell_type": "code",
      "source": [
        "                                           # week 2\n",
        "luhn_score_rll = [0.08827,0.06613,0.06878]\n",
        "lexrank_score_rll = [0.14003,0.08040,0.0966]\n",
        "textrank_score_rll = [0.08845, 0.06155,0.06733]\n",
        "lsa_score_rll = [0.09294,0.06930,0.08293]"
      ],
      "metadata": {
        "id": "zPL5Wdj1WHB5"
      },
      "execution_count": null,
      "outputs": []
    },
    {
      "cell_type": "code",
      "source": [
        "ar=np.arange(len(eval))"
      ],
      "metadata": {
        "id": "WaxE3Tn-WbDI"
      },
      "execution_count": null,
      "outputs": []
    },
    {
      "cell_type": "code",
      "source": [
        "# for Rouge 1 column\n",
        "plt.figure(figsize=(20,8))\n",
        "plt.suptitle(\"Week-2\",fontsize=40,color=\"blue\")\n",
        "plt.subplot(1,3,1)\n",
        "plt.xticks(ar,eval)\n",
        "plt.bar(ar-0.2,luhn_score_r11,width=0.2,label = 'Luhn')\n",
        "plt.bar(ar,lexrank_score_r11,width=0.2,label = 'LexRank')\n",
        "plt.bar(ar+0.2,textrank_score_r11,width=0.2,label = 'TextRank')\n",
        "plt.bar(ar+0.4,lsa_score_r11,width = 0.2,label = 'LSA')\n",
        "plt.legend(loc = 'best',shadow = False)\n",
        "plt.ylabel(\"Score\",fontsize=20,color=\"red\")\n",
        "plt.xlabel(\"--------------------\",fontsize = 15)\n",
        "plt.title(\"Rouge-1\",fontsize=15,color=\"red\")\n",
        "\n",
        "# For Rouge 2 column\n",
        "plt.subplot(1,3,2)\n",
        "plt.xticks(ar,eval)\n",
        "plt.bar(ar-0.2,luhn_score_r22,width=0.2,label = 'Luhn')\n",
        "plt.bar(ar,lexrank_score_r22,width=0.2,label = 'LexRank')\n",
        "plt.bar(ar+0.2,textrank_score_r22,width=0.2,label = 'TextRank')\n",
        "plt.bar(ar+0.4,lsa_score_r22,width = 0.2,label = 'LSA')\n",
        "# plt.legend(loc = 'best',shadow = False)\n",
        "# plt.ylabel(\"Score\",fontsize=15)\n",
        "plt.xlabel(\"Evaluation Methods\",fontsize = 20,color=\"red\")\n",
        "plt.title(\"Rouge-2\",fontsize=15,color=\"red\")\n",
        "\n",
        "# For Rouge L column\n",
        "plt.subplot(1,3,3)\n",
        "plt.xticks(ar,eval)\n",
        "plt.bar(ar-0.2,luhn_score_rll,width=0.2,label = 'Luhn')\n",
        "plt.bar(ar,lexrank_score_rll,width=0.2,label = 'LexRank')\n",
        "plt.bar(ar+0.2,textrank_score_rll,width=0.2,label = 'TextRank')\n",
        "plt.bar(ar+0.4,lsa_score_rll,width = 0.2,label = 'LSA')\n",
        "plt.legend(loc = 'best',shadow = False)\n",
        "# plt.ylabel(\"Score\",fontsize=15)\n",
        "plt.xlabel(\"--------------------\",fontsize = 15)\n",
        "plt.title(\"Rouge-L\",fontsize=15,color=\"red\")\n",
        "\n",
        "plt.show()\n",
        "\n"
      ],
      "metadata": {
        "colab": {
          "base_uri": "https://localhost:8080/",
          "height": 564
        },
        "id": "HqP9csoyWbGG",
        "outputId": "b01f5c6b-dbd0-40d0-f1e2-eec22e613b84"
      },
      "execution_count": null,
      "outputs": [
        {
          "output_type": "display_data",
          "data": {
            "image/png": "[encoded data removed]",
            "text/plain": [
              "<Figure size 1440x576 with 3 Axes>"
            ]
          },
          "metadata": {
            "needs_background": "light"
          }
        }
      ]
    },
    {
      "cell_type": "markdown",
      "source": [
        "# Tried last night"
      ],
      "metadata": {
        "id": "SAMpf3aQcKfP"
      }
    },
    {
      "cell_type": "code",
      "source": [
        "# for Rouge 1 column\n",
        "\n",
        "f, (ax1, ax2, ax3) = plt.subplots(nrows=1, ncols=3, sharey=True, sharex=True)\n",
        "f.set_size_inches(20,8)\n",
        "plt.suptitle(\"Week-1\",fontsize=40,color=\"blue\")\n",
        "#plt.xticks(ar,['rouge-1','rouge-2','rouge-l'])\n",
        "plt.xlabel(\"Evaluation Methods\",fontsize=15)\n",
        "plt.ylabel(\"Score\",fontsize=15)\n",
        "\n",
        "ax1.set_xticks(ar, minor=False)\n",
        "ax1.set_xticklabels(eval, fontdict=None, minor=False)\n",
        "ax1.bar(ar-0.2,luhn_score_r1[1],width=0.2,label = 'Luhn')\n",
        "ax1.bar(ar,lexrank_score_r1[1],width=0.2,label = 'LexRank')\n",
        "ax1.bar(ar+0.2,textrank_score_r1[1],width=0.2,label = 'TextRank')\n",
        "ax1.bar(ar+0.4,lsa_score_r1[1],width = 0.2,label = 'LSA')\n",
        "#ax1.suptitle(\"\")\n",
        "\n",
        "# For Rouge 2 column\n",
        "ax2.set_xticks(ar, minor=False)\n",
        "ax2.set_xticklabels(eval, fontdict=None, minor=False)\n",
        "ax2.bar(ar-0.2,luhn_score_r2[1],width=0.2,label = 'Luhn')\n",
        "ax2.bar(ar,lexrank_score_r2[1],width=0.2,label = 'LexRank')\n",
        "ax2.bar(ar+0.2,textrank_score_r2[1],width=0.2,label = 'TextRank')\n",
        "ax2.bar(ar+0.4,lsa_score_r2[1],width = 0.2,label = 'LSA')\n",
        "# ax2.xticks(ar,eval)\n",
        "\n",
        "# For Rouge L column\n",
        "ax3.set_xticks(ar, minor=False)\n",
        "ax3.set_xticklabels(eval, fontdict=None, minor=False)\n",
        "ax3.bar(ar-0.2,luhn_score_rl[1],width=0.2,label = 'Luhn')\n",
        "ax3.bar(ar,lexrank_score_rl[1],width=0.2,label = 'LexRank')\n",
        "ax3.bar(ar+0.2,textrank_score_rl[1],width=0.2,label = 'TextRank')\n",
        "ax3.bar(ar+0.4,lsa_score_rl[1],width = 0.2,label = 'LSA')\n",
        "plt.legend()\n",
        "# ax3.xticks(ar,eval)\n",
        "plt.show()\n",
        "\n"
      ],
      "metadata": {
        "colab": {
          "base_uri": "https://localhost:8080/",
          "height": 533
        },
        "id": "XkIdvwsgT5JB",
        "outputId": "31868967-015d-4639-a1ec-00fc714c750f"
      },
      "execution_count": null,
      "outputs": [
        {
          "output_type": "display_data",
          "data": {
            "image/png": "[encoded data removed]",
            "text/plain": [
              "<Figure size 1440x576 with 3 Axes>"
            ]
          },
          "metadata": {
            "needs_background": "light"
          }
        }
      ]
    },
    {
      "cell_type": "code",
      "source": [
        "import numpy as np\n",
        "import matplotlib.pyplot as plt\n",
        "# week 1\n",
        "# Rouge 1\n",
        "luhn_score_r1 = [0.09515,0.07774,0.08668]\n",
        "lexrank_score_r1 = [0.17061,0.123600,0.14040]\n",
        "textrank_score_r1 = [0.08796,0.08544,0.09596]\n",
        "lsa_score_r1 = [0.11513,0.09446,0.09726]\n",
        "\n",
        "# Rouge 2\n",
        "luhn_score_r2 = [0.05314,0.03717,0.05263]\n",
        "lexrank_score_r2 = [0.06922,0.05994,0.06391]\n",
        "textrank_score_r2 = [0.06244, 0.06653, 0.05421]\n",
        "lsa_score_r2 = [0.03520,0.03208,0.03339]\n",
        "                                                #Week 1\n",
        "# Rouge L\n",
        "luhn_score_rl = [0.07767, 0.06335,0.07941]\n",
        "lexrank_score_rl = [0.15840,0.11492, 0.12422]\n",
        "textrank_score_rl = [0.09021,0.07779,0.09526]\n",
        "lsa_score_rl = [0.09261,0.07365,0.09436]\n",
        "eval = ['Rouge_R','Rouge_P','Rouge_F']\n",
        "#eval = [\"Rouge_1_R\"+50*\" \"+\"Rouge_1_P\"+50*\" \"+\"Rouge_1_F\",\n",
        "        #\"Rouge_2_R\"+50*\" \"+\"Rouge_2_P\"+50*\" \"+\"Rouge_L_F\",\n",
        "        #\"Rouge_3_R\"+50*\" \"+\"Rouge_3_P\"+50*\" \"+\"Rouge_L_F\"]\n",
        "ar=np.arange(len(eval))\n",
        "\n",
        "# for Rouge 1 column\n",
        "plt.figure(figsize=(20,8))\n",
        "plt.suptitle(\"Week-1\",fontsize=40,color=\"blue\")\n",
        "\n",
        "plt.xticks(ar,eval)\n",
        "plt.bar(ar-0.2,luhn_score_r1,width=0.2,label = 'Luhn', )\n",
        "plt.bar(ar,lexrank_score_r1,width=0.2,label = 'LexRank')\n",
        "plt.bar(ar+0.2,textrank_score_r1,width=0.2,label = 'TextRank')\n",
        "plt.bar(ar+0.4,lsa_score_r1,width = 0.2,label = 'LSA')\n",
        "\n",
        "# For Rouge 2 column\n",
        "plt.bar(ar+3.4,luhn_score_r2,width=0.2,label = 'Luhn')\n",
        "plt.bar(ar+3.6,lexrank_score_r2,width=0.2,label = 'LexRank')\n",
        "plt.bar(ar+3.8,textrank_score_r2,width=0.2,label = 'TextRank')\n",
        "plt.bar(ar+4,lsa_score_r2,width = 0.2,label = 'LSA')\n",
        "\n",
        "# For Rouge L column\n",
        "plt.bar(ar+7,luhn_score_rl,width=0.2,label = 'Luhn')\n",
        "plt.bar(ar+7.2,lexrank_score_rl,width=0.2,label = 'LexRank')\n",
        "plt.bar(ar+7.4,textrank_score_rl,width=0.2,label = 'TextRank')\n",
        "plt.bar(ar+7.6,lsa_score_rl,width = 0.2,label = 'LSA')\n",
        "plt.legend(loc = 'best',shadow = False)\n",
        "plt.xlabel(\"Evaluation Methods\",fontsize = 20,color=\"red\")\n",
        "plt.ylabel(\"Score\",fontsize=20,color=\"red\")\n",
        "plt.title(\"Rouge-1\"+80*\" \"+\"Rouge-2\"+80*\" \"+\"Rouge-l\",fontsize=15,color=\"red\")\n",
        "\n",
        "plt.show()\n",
        "\n"
      ],
      "metadata": {
        "id": "QnuzvedPMv8H",
        "colab": {
          "base_uri": "https://localhost:8080/",
          "height": 526
        },
        "outputId": "2e3a81ff-b1d5-418f-f7e3-0111c3e8eaaf"
      },
      "execution_count": null,
      "outputs": [
        {
          "output_type": "display_data",
          "data": {
            "image/png": "[encoded data removed]",
            "text/plain": [
              "<Figure size 1440x576 with 1 Axes>"
            ]
          },
          "metadata": {
            "needs_background": "light"
          }
        }
      ]
    },
    {
      "cell_type": "code",
      "source": [
        "# for Rouge 1 column\n",
        "\n",
        "f, (ax1, ax2, ax3) = plt.subplots(nrows=1, ncols=3, sharey=True, sharex=True)\n",
        "f.set_size_inches(20,8)\n",
        "plt.suptitle(\"Performance Evaluation of LSA, LUHN, TextRank, and LexRank on Week-1 Tweet dataset\",fontsize=20)\n",
        "plt.xlabel(\"Evaluation Methods\",fontsize=15)\n",
        "plt.ylabel(\"Score\",fontsize=15)\n",
        "\n",
        "eval = ['Recall','Precision','F-measure']\n",
        "ar=np.arange(len(eval))\n",
        "plt.xticks(ar)\n",
        "\n",
        "# For Rouge 1 column\n",
        "ax1.bar(ar-0.2,luhn_score_r1,width=0.2,label = 'Luhn', tick_label=eval)\n",
        "ax1.bar(ar,lexrank_score_r1,width=0.2,label = 'LexRank')\n",
        "ax1.bar(ar+0.2,textrank_score_r1,width=0.2,label = 'TextRank')\n",
        "ax1.bar(ar+0.4,lsa_score_r1,width = 0.2,label = 'LSA')\n",
        "#ax1.title(\"ROUGE-1\",fontsize=15,color=\"red\")\n",
        "\n",
        "# For Rouge 2 column\n",
        "ax2.bar(ar-0.2,luhn_score_r2,width=0.2,label = 'Luhn')\n",
        "ax2.bar(ar,lexrank_score_r2,width=0.2,label = 'LexRank')\n",
        "ax2.bar(ar+0.2,textrank_score_r2,width=0.2,label = 'TextRank')\n",
        "ax2.bar(ar+0.4,lsa_score_r2,width = 0.2,label = 'LSA')\n",
        "#ax2.title(\"ROUGE-2\",fontsize=15,color=\"red\")\n",
        "\n",
        "# For Rouge L column\n",
        "ax3.bar(ar-0.2,luhn_score_rl,width=0.2,label = 'Luhn')\n",
        "ax3.bar(ar,lexrank_score_rl,width=0.2,label = 'LexRank')\n",
        "ax3.bar(ar+0.2,textrank_score_rl,width=0.2,label = 'TextRank')\n",
        "ax3.bar(ar+0.4,lsa_score_rl,width = 0.2,label = 'LSA')\n",
        "ax3.legend(loc = 'best',shadow = False)\n",
        "#ax3.title(\"Rouge-L\",fontsize=15,color=\"red\")\n",
        "\n",
        "plt.show()"
      ],
      "metadata": {
        "colab": {
          "base_uri": "https://localhost:8080/",
          "height": 532
        },
        "id": "LEZHsv004-HO",
        "outputId": "2edf3203-d3c8-486c-a3dc-273125ee51a1"
      },
      "execution_count": null,
      "outputs": [
        {
          "output_type": "display_data",
          "data": {
            "image/png": "[encoded data removed]",
            "text/plain": [
              "<Figure size 1440x576 with 3 Axes>"
            ]
          },
          "metadata": {
            "needs_background": "light"
          }
        }
      ]
    },
    {
      "cell_type": "code",
      "source": [
        ""
      ],
      "metadata": {
        "id": "xum_RPSnd-Cd"
      },
      "execution_count": null,
      "outputs": []
    }
  ],
  "metadata": {
    "colab": {
      "collapsed_sections": [
        "YgP-JXIiQKlV",
        "lGlW6hlFXt_k",
        "pGXQeZuK3SRL",
        "nBS70XAI5YRD",
        "2-qG9zdc5xg4",
        "B3kAr9Rb50Hi",
        "jF7HcqMd52vM",
        "9Aaml8xTU9_l",
        "-_IN1IgLkyjd",
        "8jTvKNmmjiRB",
        "dSwjag8oLhv3",
        "SAMpf3aQcKfP"
      ],
      "name": "nltk_covid19_evaluation_test.ipynb",
      "provenance": []
    },
    "kernelspec": {
      "display_name": "Python 3",
      "name": "python3"
    },
    "language_info": {
      "name": "python"
    }
  },
  "nbformat": 4,
  "nbformat_minor": 0
}