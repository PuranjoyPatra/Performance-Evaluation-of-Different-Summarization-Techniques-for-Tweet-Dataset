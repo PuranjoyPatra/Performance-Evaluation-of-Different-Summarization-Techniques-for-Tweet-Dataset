{
  "cells": [
    {
      "cell_type": "markdown",
      "metadata": {
        "id": "Y0F2fy0Pqcd-"
      },
      "source": [
        "# MOUNTING DRIVE"
      ]
    },
    {
      "cell_type": "code",
      "execution_count": null,
      "metadata": {
        "colab": {
          "base_uri": "https://localhost:8080/"
        },
        "id": "xfIlbP1anV2H",
        "outputId": "244ab311-785b-4fbe-fbf8-1a6169c9e4c5"
      },
      "outputs": [
        {
          "output_type": "stream",
          "name": "stdout",
          "text": [
            "Mounted at /content/drive\n"
          ]
        }
      ],
      "source": [
        "from google.colab import drive\n",
        "drive.mount(\"/content/drive\")"
      ]
    },
    {
      "cell_type": "code",
      "execution_count": null,
      "metadata": {
        "id": "YAx88lxdg4sS",
        "colab": {
          "base_uri": "https://localhost:8080/"
        },
        "outputId": "386a4aaa-8072-440a-cb79-8aa2dda563b7"
      },
      "outputs": [
        {
          "output_type": "stream",
          "name": "stdout",
          "text": [
            "/content/drive/MyDrive/Soft-computing-eXtended\n"
          ]
        }
      ],
      "source": [
        "#@title Set up Directory\n",
        "\n",
        "# project directory\n",
        "%cd '/content/drive/MyDrive/Soft-computing-eXtended'"
      ]
    },
    {
      "cell_type": "code",
      "source": [
        "import pandas as pd\n",
        "covid_tweet_dataset = \"tweetid_sentiments_emotions.csv\"\n",
        "api_keys = \"config.json\" #@param {type: \"string\"}"
      ],
      "metadata": {
        "id": "la4MLGZTwYEg"
      },
      "execution_count": null,
      "outputs": []
    },
    {
      "cell_type": "markdown",
      "source": [
        "# DATASET SAMPLING"
      ],
      "metadata": {
        "id": "lFvnfehugIj5"
      }
    },
    {
      "cell_type": "code",
      "source": [
        "#@title Covid-19 subset preview\n",
        "covid_subset = pd.read_csv(covid_tweet_dataset, \n",
        "                           #skiprows=range(1,5932184), \n",
        "                           #nrows=6158058-5932184, \n",
        "                           usecols=[0,17,19,21])\n"
      ],
      "metadata": {
        "id": "Kd410B3vgOQu"
      },
      "execution_count": null,
      "outputs": []
    },
    {
      "cell_type": "code",
      "source": [
        "covid_subset.sample(10)"
      ],
      "metadata": {
        "id": "nyDdq9ql7P3a"
      },
      "execution_count": null,
      "outputs": []
    },
    {
      "cell_type": "code",
      "source": [
        "print(\"Columns:\", covid_subset.columns)\n",
        "print(\"Length:\", len(covid_subset))\n",
        "print(\"Null entries:\\n\", covid_subset.isnull().sum().sum())"
      ],
      "metadata": {
        "colab": {
          "base_uri": "https://localhost:8080/"
        },
        "id": "y8Nvo44_xoUi",
        "outputId": "97bd65d0-4c39-460a-8f23-4f17b4a675eb"
      },
      "execution_count": null,
      "outputs": [
        {
          "output_type": "stream",
          "name": "stdout",
          "text": [
            "Columns: Index(['tweet_ID', 'sentiment_category', 'keyword_used', 'date_stamp'], dtype='object')\n",
            "Length: 6166151\n",
            "Null entries:\n",
            " 0\n"
          ]
        }
      ]
    },
    {
      "cell_type": "markdown",
      "metadata": {
        "id": "mP1h8dtOAcLs"
      },
      "source": [
        "# Check tweet_IDs by dates and months"
      ]
    },
    {
      "cell_type": "code",
      "execution_count": null,
      "metadata": {
        "id": "c8DREasaBxv5",
        "colab": {
          "base_uri": "https://localhost:8080/",
          "height": 295
        },
        "outputId": "6b9d0f7d-09ca-44e1-c1c2-628894970659"
      },
      "outputs": [
        {
          "output_type": "error",
          "ename": "ParserError",
          "evalue": "ignored",
          "traceback": [
            "\u001b[0;31m---------------------------------------------------------------------------\u001b[0m",
            "\u001b[0;31mParserError\u001b[0m                               Traceback (most recent call last)",
            "\u001b[0;32m<ipython-input-5-89b0b28b9cef>\u001b[0m in \u001b[0;36m<module>\u001b[0;34m()\u001b[0m\n\u001b[1;32m      2\u001b[0m \u001b[0;31m#@title Grouping by dates\u001b[0m\u001b[0;34m\u001b[0m\u001b[0;34m\u001b[0m\u001b[0;34m\u001b[0m\u001b[0m\n\u001b[1;32m      3\u001b[0m \u001b[0mcovid_tweet_dataset\u001b[0m \u001b[0;34m=\u001b[0m \u001b[0;34m\"tweetid_sentiments_emotions.csv\"\u001b[0m\u001b[0;34m\u001b[0m\u001b[0;34m\u001b[0m\u001b[0m\n\u001b[0;32m----> 4\u001b[0;31m \u001b[0mdate_groups\u001b[0m \u001b[0;34m=\u001b[0m \u001b[0mpd\u001b[0m\u001b[0;34m.\u001b[0m\u001b[0mread_csv\u001b[0m\u001b[0;34m(\u001b[0m\u001b[0mcovid_tweet_dataset\u001b[0m\u001b[0;34m,\u001b[0m \u001b[0musecols\u001b[0m\u001b[0;34m=\u001b[0m\u001b[0;34m[\u001b[0m\u001b[0;36m0\u001b[0m\u001b[0;34m,\u001b[0m\u001b[0;36m21\u001b[0m\u001b[0;34m]\u001b[0m\u001b[0;34m)\u001b[0m\u001b[0;34m.\u001b[0m\u001b[0mgroupby\u001b[0m\u001b[0;34m(\u001b[0m\u001b[0;34m'date_stamp'\u001b[0m\u001b[0;34m)\u001b[0m\u001b[0;34m\u001b[0m\u001b[0;34m\u001b[0m\u001b[0m\n\u001b[0m\u001b[1;32m      5\u001b[0m \u001b[0mfirst\u001b[0m \u001b[0;34m=\u001b[0m \u001b[0mdate_groups\u001b[0m\u001b[0;34m.\u001b[0m\u001b[0mget_group\u001b[0m\u001b[0;34m(\u001b[0m\u001b[0mlist\u001b[0m\u001b[0;34m(\u001b[0m\u001b[0mdate_groups\u001b[0m\u001b[0;34m.\u001b[0m\u001b[0mgroups\u001b[0m\u001b[0;34m.\u001b[0m\u001b[0mkeys\u001b[0m\u001b[0;34m(\u001b[0m\u001b[0;34m)\u001b[0m\u001b[0;34m)\u001b[0m\u001b[0;34m[\u001b[0m\u001b[0;36m0\u001b[0m\u001b[0;34m]\u001b[0m\u001b[0;34m)\u001b[0m\u001b[0;34m.\u001b[0m\u001b[0miloc\u001b[0m\u001b[0;34m[\u001b[0m\u001b[0;36m0\u001b[0m\u001b[0;34m,\u001b[0m\u001b[0;36m1\u001b[0m\u001b[0;34m]\u001b[0m\u001b[0;34m[\u001b[0m\u001b[0;34m:\u001b[0m\u001b[0;34m-\u001b[0m\u001b[0;36m9\u001b[0m\u001b[0;34m]\u001b[0m\u001b[0;34m\u001b[0m\u001b[0;34m\u001b[0m\u001b[0m\n\u001b[1;32m      6\u001b[0m \u001b[0mlast\u001b[0m \u001b[0;34m=\u001b[0m \u001b[0mdate_groups\u001b[0m\u001b[0;34m.\u001b[0m\u001b[0mget_group\u001b[0m\u001b[0;34m(\u001b[0m\u001b[0mlist\u001b[0m\u001b[0;34m(\u001b[0m\u001b[0mdate_groups\u001b[0m\u001b[0;34m.\u001b[0m\u001b[0mgroups\u001b[0m\u001b[0;34m.\u001b[0m\u001b[0mkeys\u001b[0m\u001b[0;34m(\u001b[0m\u001b[0;34m)\u001b[0m\u001b[0;34m)\u001b[0m\u001b[0;34m[\u001b[0m\u001b[0mlen\u001b[0m\u001b[0;34m(\u001b[0m\u001b[0mdate_groups\u001b[0m\u001b[0;34m)\u001b[0m\u001b[0;34m-\u001b[0m\u001b[0;36m1\u001b[0m\u001b[0;34m]\u001b[0m\u001b[0;34m)\u001b[0m\u001b[0;34m.\u001b[0m\u001b[0miloc\u001b[0m\u001b[0;34m[\u001b[0m\u001b[0;34m-\u001b[0m\u001b[0;36m1\u001b[0m\u001b[0;34m,\u001b[0m\u001b[0;36m1\u001b[0m\u001b[0;34m]\u001b[0m\u001b[0;34m[\u001b[0m\u001b[0;34m:\u001b[0m\u001b[0;34m-\u001b[0m\u001b[0;36m9\u001b[0m\u001b[0;34m]\u001b[0m\u001b[0;34m\u001b[0m\u001b[0;34m\u001b[0m\u001b[0m\n",
            "\u001b[0;32m/usr/local/lib/python3.7/dist-packages/pandas/util/_decorators.py\u001b[0m in \u001b[0;36mwrapper\u001b[0;34m(*args, **kwargs)\u001b[0m\n\u001b[1;32m    309\u001b[0m                     \u001b[0mstacklevel\u001b[0m\u001b[0;34m=\u001b[0m\u001b[0mstacklevel\u001b[0m\u001b[0;34m,\u001b[0m\u001b[0;34m\u001b[0m\u001b[0;34m\u001b[0m\u001b[0m\n\u001b[1;32m    310\u001b[0m                 )\n\u001b[0;32m--> 311\u001b[0;31m             \u001b[0;32mreturn\u001b[0m \u001b[0mfunc\u001b[0m\u001b[0;34m(\u001b[0m\u001b[0;34m*\u001b[0m\u001b[0margs\u001b[0m\u001b[0;34m,\u001b[0m \u001b[0;34m**\u001b[0m\u001b[0mkwargs\u001b[0m\u001b[0;34m)\u001b[0m\u001b[0;34m\u001b[0m\u001b[0;34m\u001b[0m\u001b[0m\n\u001b[0m\u001b[1;32m    312\u001b[0m \u001b[0;34m\u001b[0m\u001b[0m\n\u001b[1;32m    313\u001b[0m         \u001b[0;32mreturn\u001b[0m \u001b[0mwrapper\u001b[0m\u001b[0;34m\u001b[0m\u001b[0;34m\u001b[0m\u001b[0m\n",
            "\u001b[0;32m/usr/local/lib/python3.7/dist-packages/pandas/io/parsers/readers.py\u001b[0m in \u001b[0;36mread_csv\u001b[0;34m(filepath_or_buffer, sep, delimiter, header, names, index_col, usecols, squeeze, prefix, mangle_dupe_cols, dtype, engine, converters, true_values, false_values, skipinitialspace, skiprows, skipfooter, nrows, na_values, keep_default_na, na_filter, verbose, skip_blank_lines, parse_dates, infer_datetime_format, keep_date_col, date_parser, dayfirst, cache_dates, iterator, chunksize, compression, thousands, decimal, lineterminator, quotechar, quoting, doublequote, escapechar, comment, encoding, encoding_errors, dialect, error_bad_lines, warn_bad_lines, on_bad_lines, delim_whitespace, low_memory, memory_map, float_precision, storage_options)\u001b[0m\n\u001b[1;32m    584\u001b[0m     \u001b[0mkwds\u001b[0m\u001b[0;34m.\u001b[0m\u001b[0mupdate\u001b[0m\u001b[0;34m(\u001b[0m\u001b[0mkwds_defaults\u001b[0m\u001b[0;34m)\u001b[0m\u001b[0;34m\u001b[0m\u001b[0;34m\u001b[0m\u001b[0m\n\u001b[1;32m    585\u001b[0m \u001b[0;34m\u001b[0m\u001b[0m\n\u001b[0;32m--> 586\u001b[0;31m     \u001b[0;32mreturn\u001b[0m \u001b[0m_read\u001b[0m\u001b[0;34m(\u001b[0m\u001b[0mfilepath_or_buffer\u001b[0m\u001b[0;34m,\u001b[0m \u001b[0mkwds\u001b[0m\u001b[0;34m)\u001b[0m\u001b[0;34m\u001b[0m\u001b[0;34m\u001b[0m\u001b[0m\n\u001b[0m\u001b[1;32m    587\u001b[0m \u001b[0;34m\u001b[0m\u001b[0m\n\u001b[1;32m    588\u001b[0m \u001b[0;34m\u001b[0m\u001b[0m\n",
            "\u001b[0;32m/usr/local/lib/python3.7/dist-packages/pandas/io/parsers/readers.py\u001b[0m in \u001b[0;36m_read\u001b[0;34m(filepath_or_buffer, kwds)\u001b[0m\n\u001b[1;32m    486\u001b[0m \u001b[0;34m\u001b[0m\u001b[0m\n\u001b[1;32m    487\u001b[0m     \u001b[0;32mwith\u001b[0m \u001b[0mparser\u001b[0m\u001b[0;34m:\u001b[0m\u001b[0;34m\u001b[0m\u001b[0;34m\u001b[0m\u001b[0m\n\u001b[0;32m--> 488\u001b[0;31m         \u001b[0;32mreturn\u001b[0m \u001b[0mparser\u001b[0m\u001b[0;34m.\u001b[0m\u001b[0mread\u001b[0m\u001b[0;34m(\u001b[0m\u001b[0mnrows\u001b[0m\u001b[0;34m)\u001b[0m\u001b[0;34m\u001b[0m\u001b[0;34m\u001b[0m\u001b[0m\n\u001b[0m\u001b[1;32m    489\u001b[0m \u001b[0;34m\u001b[0m\u001b[0m\n\u001b[1;32m    490\u001b[0m \u001b[0;34m\u001b[0m\u001b[0m\n",
            "\u001b[0;32m/usr/local/lib/python3.7/dist-packages/pandas/io/parsers/readers.py\u001b[0m in \u001b[0;36mread\u001b[0;34m(self, nrows)\u001b[0m\n\u001b[1;32m   1045\u001b[0m     \u001b[0;32mdef\u001b[0m \u001b[0mread\u001b[0m\u001b[0;34m(\u001b[0m\u001b[0mself\u001b[0m\u001b[0;34m,\u001b[0m \u001b[0mnrows\u001b[0m\u001b[0;34m=\u001b[0m\u001b[0;32mNone\u001b[0m\u001b[0;34m)\u001b[0m\u001b[0;34m:\u001b[0m\u001b[0;34m\u001b[0m\u001b[0;34m\u001b[0m\u001b[0m\n\u001b[1;32m   1046\u001b[0m         \u001b[0mnrows\u001b[0m \u001b[0;34m=\u001b[0m \u001b[0mvalidate_integer\u001b[0m\u001b[0;34m(\u001b[0m\u001b[0;34m\"nrows\"\u001b[0m\u001b[0;34m,\u001b[0m \u001b[0mnrows\u001b[0m\u001b[0;34m)\u001b[0m\u001b[0;34m\u001b[0m\u001b[0;34m\u001b[0m\u001b[0m\n\u001b[0;32m-> 1047\u001b[0;31m         \u001b[0mindex\u001b[0m\u001b[0;34m,\u001b[0m \u001b[0mcolumns\u001b[0m\u001b[0;34m,\u001b[0m \u001b[0mcol_dict\u001b[0m \u001b[0;34m=\u001b[0m \u001b[0mself\u001b[0m\u001b[0;34m.\u001b[0m\u001b[0m_engine\u001b[0m\u001b[0;34m.\u001b[0m\u001b[0mread\u001b[0m\u001b[0;34m(\u001b[0m\u001b[0mnrows\u001b[0m\u001b[0;34m)\u001b[0m\u001b[0;34m\u001b[0m\u001b[0;34m\u001b[0m\u001b[0m\n\u001b[0m\u001b[1;32m   1048\u001b[0m \u001b[0;34m\u001b[0m\u001b[0m\n\u001b[1;32m   1049\u001b[0m         \u001b[0;32mif\u001b[0m \u001b[0mindex\u001b[0m \u001b[0;32mis\u001b[0m \u001b[0;32mNone\u001b[0m\u001b[0;34m:\u001b[0m\u001b[0;34m\u001b[0m\u001b[0;34m\u001b[0m\u001b[0m\n",
            "\u001b[0;32m/usr/local/lib/python3.7/dist-packages/pandas/io/parsers/c_parser_wrapper.py\u001b[0m in \u001b[0;36mread\u001b[0;34m(self, nrows)\u001b[0m\n\u001b[1;32m    222\u001b[0m         \u001b[0;32mtry\u001b[0m\u001b[0;34m:\u001b[0m\u001b[0;34m\u001b[0m\u001b[0;34m\u001b[0m\u001b[0m\n\u001b[1;32m    223\u001b[0m             \u001b[0;32mif\u001b[0m \u001b[0mself\u001b[0m\u001b[0;34m.\u001b[0m\u001b[0mlow_memory\u001b[0m\u001b[0;34m:\u001b[0m\u001b[0;34m\u001b[0m\u001b[0;34m\u001b[0m\u001b[0m\n\u001b[0;32m--> 224\u001b[0;31m                 \u001b[0mchunks\u001b[0m \u001b[0;34m=\u001b[0m \u001b[0mself\u001b[0m\u001b[0;34m.\u001b[0m\u001b[0m_reader\u001b[0m\u001b[0;34m.\u001b[0m\u001b[0mread_low_memory\u001b[0m\u001b[0;34m(\u001b[0m\u001b[0mnrows\u001b[0m\u001b[0;34m)\u001b[0m\u001b[0;34m\u001b[0m\u001b[0;34m\u001b[0m\u001b[0m\n\u001b[0m\u001b[1;32m    225\u001b[0m                 \u001b[0;31m# destructive to chunks\u001b[0m\u001b[0;34m\u001b[0m\u001b[0;34m\u001b[0m\u001b[0;34m\u001b[0m\u001b[0m\n\u001b[1;32m    226\u001b[0m                 \u001b[0mdata\u001b[0m \u001b[0;34m=\u001b[0m \u001b[0m_concatenate_chunks\u001b[0m\u001b[0;34m(\u001b[0m\u001b[0mchunks\u001b[0m\u001b[0;34m)\u001b[0m\u001b[0;34m\u001b[0m\u001b[0;34m\u001b[0m\u001b[0m\n",
            "\u001b[0;32m/usr/local/lib/python3.7/dist-packages/pandas/_libs/parsers.pyx\u001b[0m in \u001b[0;36mpandas._libs.parsers.TextReader.read_low_memory\u001b[0;34m()\u001b[0m\n",
            "\u001b[0;32m/usr/local/lib/python3.7/dist-packages/pandas/_libs/parsers.pyx\u001b[0m in \u001b[0;36mpandas._libs.parsers.TextReader._read_rows\u001b[0;34m()\u001b[0m\n",
            "\u001b[0;32m/usr/local/lib/python3.7/dist-packages/pandas/_libs/parsers.pyx\u001b[0m in \u001b[0;36mpandas._libs.parsers.TextReader._tokenize_rows\u001b[0;34m()\u001b[0m\n",
            "\u001b[0;32m/usr/local/lib/python3.7/dist-packages/pandas/_libs/parsers.pyx\u001b[0m in \u001b[0;36mpandas._libs.parsers.raise_parser_error\u001b[0;34m()\u001b[0m\n",
            "\u001b[0;31mParserError\u001b[0m: Error tokenizing data. C error: Calling read(nbytes) on source failed. Try engine='python'."
          ]
        }
      ],
      "source": [
        "import pandas as pd \n",
        "#@title Grouping by dates\n",
        "covid_tweet_dataset = \"tweetid_sentiments_emotions.csv\"\n",
        "date_groups = pd.read_csv(covid_tweet_dataset, usecols=[0,21]).groupby('date_stamp')\n",
        "first = date_groups.get_group(list(date_groups.groups.keys())[0]).iloc[0,1][:-9]\n",
        "last = date_groups.get_group(list(date_groups.groups.keys())[len(date_groups)-1]).iloc[-1,1][:-9]\n",
        "count=0\n",
        "print(first, \"and\", last)\n",
        "print('number of days:', len(date_groups))\n",
        "print('tweets\\t date\\t\\tcumulative count')\n",
        "for each in list(date_groups.groups.keys()):\n",
        "  count+=len(date_groups.get_group(each))\n",
        "  print(len(date_groups.get_group(each)),'\\t',date_groups.get_group(each).iloc[0,1][:-9],'\\t',count)"
      ]
    },
    {
      "cell_type": "code",
      "execution_count": null,
      "metadata": {
        "id": "llK7eF4_B7dm",
        "colab": {
          "base_uri": "https://localhost:8080/"
        },
        "outputId": "c70965b9-d981-45aa-9c7a-8219711a672f"
      },
      "outputs": [
        {
          "output_type": "execute_result",
          "data": {
            "text/plain": [
              "(3900117, 626889)"
            ]
          },
          "metadata": {},
          "execution_count": 115
        }
      ],
      "source": [
        "#@title Get index range by month { run: \"auto\", vertical-output: true, display-mode: \"both\" }\n",
        "#@markdown between 2020-01-28 and 2021-01-01\n",
        "month = 7 #@param {type:\"slider\", min:1, max:13, step:1}\n",
        "skip_days = sum([4,29,31,30,31,30,31,31,30,31,30,31,1][:month-1])\n",
        "days = [4,29,31,30,31,30,31,31,30,31,30,31,1][month-1] + skip_days\n",
        "skiprows = date_groups.get_group(list(date_groups.groups.keys())[skip_days]).iloc[0].name\n",
        "nrows = date_groups.get_group(list(date_groups.groups.keys())[days-1]).iloc[-1].name-skiprows\n",
        "skiprows,nrows"
      ]
    },
    {
      "cell_type": "markdown",
      "metadata": {
        "id": "9WLI2U_QpIJN"
      },
      "source": [
        "# Twitter API V2 Calls to Fetch Bulk Tweets"
      ]
    },
    {
      "cell_type": "code",
      "execution_count": null,
      "metadata": {
        "id": "bnGUFGBcBy-z",
        "colab": {
          "base_uri": "https://localhost:8080/"
        },
        "outputId": "9821e169-b562-4d57-d496-516407ad0332"
      },
      "outputs": [
        {
          "output_type": "stream",
          "name": "stdout",
          "text": [
            "Collecting tweepy==4.0.0\n",
            "  Downloading tweepy-4.0.0-py2.py3-none-any.whl (60 kB)\n",
            "\u001b[?25l\r\u001b[K     |█████▍                          | 10 kB 19.2 MB/s eta 0:00:01\r\u001b[K     |██████████▉                     | 20 kB 11.3 MB/s eta 0:00:01\r\u001b[K     |████████████████▎               | 30 kB 9.4 MB/s eta 0:00:01\r\u001b[K     |█████████████████████▊          | 40 kB 8.5 MB/s eta 0:00:01\r\u001b[K     |███████████████████████████▏    | 51 kB 5.3 MB/s eta 0:00:01\r\u001b[K     |████████████████████████████████| 60 kB 3.2 MB/s \n",
            "\u001b[?25hRequirement already satisfied: requests<3,>=2.11.1 in /usr/local/lib/python3.7/dist-packages (from tweepy==4.0.0) (2.23.0)\n",
            "Requirement already satisfied: requests-oauthlib<2,>=1.0.0 in /usr/local/lib/python3.7/dist-packages (from tweepy==4.0.0) (1.3.1)\n",
            "Requirement already satisfied: chardet<4,>=3.0.2 in /usr/local/lib/python3.7/dist-packages (from requests<3,>=2.11.1->tweepy==4.0.0) (3.0.4)\n",
            "Requirement already satisfied: certifi>=2017.4.17 in /usr/local/lib/python3.7/dist-packages (from requests<3,>=2.11.1->tweepy==4.0.0) (2021.10.8)\n",
            "Requirement already satisfied: idna<3,>=2.5 in /usr/local/lib/python3.7/dist-packages (from requests<3,>=2.11.1->tweepy==4.0.0) (2.10)\n",
            "Requirement already satisfied: urllib3!=1.25.0,!=1.25.1,<1.26,>=1.21.1 in /usr/local/lib/python3.7/dist-packages (from requests<3,>=2.11.1->tweepy==4.0.0) (1.24.3)\n",
            "Requirement already satisfied: oauthlib>=3.0.0 in /usr/local/lib/python3.7/dist-packages (from requests-oauthlib<2,>=1.0.0->tweepy==4.0.0) (3.2.0)\n",
            "Installing collected packages: tweepy\n",
            "  Attempting uninstall: tweepy\n",
            "    Found existing installation: tweepy 3.10.0\n",
            "    Uninstalling tweepy-3.10.0:\n",
            "      Successfully uninstalled tweepy-3.10.0\n",
            "Successfully installed tweepy-4.0.0\n"
          ]
        }
      ],
      "source": [
        "!pip install tweepy==4.0.0"
      ]
    },
    {
      "cell_type": "code",
      "source": [
        "!pip install tweepy --upgrade"
      ],
      "metadata": {
        "colab": {
          "base_uri": "https://localhost:8080/"
        },
        "id": "8EKtFaujhcpW",
        "outputId": "92599f41-1608-4cab-eaf9-46fb1036d0d3"
      },
      "execution_count": null,
      "outputs": [
        {
          "output_type": "stream",
          "name": "stdout",
          "text": [
            "Requirement already satisfied: tweepy in /usr/local/lib/python3.7/dist-packages (4.0.0)\n",
            "Collecting tweepy\n",
            "  Downloading tweepy-4.7.0-py2.py3-none-any.whl (76 kB)\n",
            "\u001b[K     |████████████████████████████████| 76 kB 2.7 MB/s \n",
            "\u001b[?25hRequirement already satisfied: oauthlib<4,>=3.2.0 in /usr/local/lib/python3.7/dist-packages (from tweepy) (3.2.0)\n",
            "Requirement already satisfied: requests-oauthlib<2,>=1.2.0 in /usr/local/lib/python3.7/dist-packages (from tweepy) (1.3.1)\n",
            "Collecting requests<3,>=2.27.0\n",
            "  Downloading requests-2.27.1-py2.py3-none-any.whl (63 kB)\n",
            "\u001b[K     |████████████████████████████████| 63 kB 1.5 MB/s \n",
            "\u001b[?25hRequirement already satisfied: certifi>=2017.4.17 in /usr/local/lib/python3.7/dist-packages (from requests<3,>=2.27.0->tweepy) (2021.10.8)\n",
            "Requirement already satisfied: charset-normalizer~=2.0.0 in /usr/local/lib/python3.7/dist-packages (from requests<3,>=2.27.0->tweepy) (2.0.12)\n",
            "Requirement already satisfied: urllib3<1.27,>=1.21.1 in /usr/local/lib/python3.7/dist-packages (from requests<3,>=2.27.0->tweepy) (1.24.3)\n",
            "Requirement already satisfied: idna<4,>=2.5 in /usr/local/lib/python3.7/dist-packages (from requests<3,>=2.27.0->tweepy) (2.10)\n",
            "Installing collected packages: requests, tweepy\n",
            "  Attempting uninstall: requests\n",
            "    Found existing installation: requests 2.23.0\n",
            "    Uninstalling requests-2.23.0:\n",
            "      Successfully uninstalled requests-2.23.0\n",
            "  Attempting uninstall: tweepy\n",
            "    Found existing installation: tweepy 4.0.0\n",
            "    Uninstalling tweepy-4.0.0:\n",
            "      Successfully uninstalled tweepy-4.0.0\n",
            "\u001b[31mERROR: pip's dependency resolver does not currently take into account all the packages that are installed. This behaviour is the source of the following dependency conflicts.\n",
            "google-colab 1.0.0 requires requests~=2.23.0, but you have requests 2.27.1 which is incompatible.\n",
            "datascience 0.10.6 requires folium==0.2.1, but you have folium 0.8.3 which is incompatible.\u001b[0m\n",
            "Successfully installed requests-2.27.1 tweepy-4.7.0\n"
          ]
        }
      ]
    },
    {
      "cell_type": "code",
      "execution_count": null,
      "metadata": {
        "id": "QDY4Bl-SsHZa",
        "cellView": "form"
      },
      "outputs": [],
      "source": [
        "#@title Run this cell to load your api keys\n",
        "import json\n",
        "with open(api_keys, 'r') as infile:\n",
        "  keys = json.load(infile)"
      ]
    },
    {
      "cell_type": "code",
      "execution_count": null,
      "metadata": {
        "id": "czL-8-9dBnVJ",
        "cellView": "form"
      },
      "outputs": [],
      "source": [
        "#@title Connecting to twitter using multiple accounts\n",
        "from __future__ import print_function\n",
        "import getopt\n",
        "import logging\n",
        "import os\n",
        "import sys\n",
        "from time import sleep\n",
        "import tweepy\n",
        "\n",
        "api = []\n",
        "for each in keys:\n",
        "  auth = tweepy.OAuthHandler(each['CONSUMER_KEY'], each['CONSUMER_SECRET'])\n",
        "  auth.set_access_token(each['OAUTH_TOKEN'], each['OAUTH_TOKEN_SECRET'])\n",
        "  api.append(tweepy.API(auth,wait_on_rate_limit=True))#, wait_on_rate_limit_notify=True))"
      ]
    },
    {
      "cell_type": "code",
      "source": [
        "#@title Function *status_full_text(Status)* to get specific columns from Status object\n",
        "def status_full_text(status):\n",
        "  if hasattr(status, \"retweeted_status\"):  # Check if Retweet\n",
        "    try:\n",
        "      print(status.retweeted_status.extended_tweet[\"full_text\"])\n",
        "    except AttributeError:\n",
        "      try:\n",
        "        return status.retweeted_status.full_text\n",
        "      except:\n",
        "        return None\n",
        "  else:\n",
        "    try:\n",
        "      return status.extended_tweet[\"full_text\"]\n",
        "    except AttributeError:\n",
        "      try:\n",
        "        return status.full_text\n",
        "      except:\n",
        "        return None"
      ],
      "metadata": {
        "id": "JILaU0lMdKw2"
      },
      "execution_count": null,
      "outputs": []
    },
    {
      "cell_type": "code",
      "source": [
        "#@title Function to get tweets and store in csv file: get_tweets(tweet_dataframe,output_csv_file)\n",
        "#@markdown required: tweepy v4.7*\n",
        "def get_tweets(tweet_list,output_csv):\n",
        "  backoff_counter = 1\n",
        "  count = 0\n",
        "  HTTP_retry = 0\n",
        "  _api = api[0]\n",
        "\n",
        "  batch_size = 50\n",
        "\n",
        "  # getting full text from tweet ids\n",
        "  for i in range(0,len(tweet_list),batch_size):\n",
        "    count=i\n",
        "    try:\n",
        "      batch = list(tweet_list.tweet_ID[i:i+batch_size])\n",
        "      #statuses = _api.statuses_lookup(batch, include_entities=False, trim_user=True, tweet_mode='extended')\n",
        "      statuses = _api.lookup_statuses(batch, include_entities=False, trim_user=True, tweet_mode='extended', map=True, include_ext_alt_text=False, include_card_uri=False) #tweepy v4.7.*\n",
        "\n",
        "      #status = _api.get_status(id=batch, include_entities=False, trim_user=True, tweet_mode='extended')\n",
        "      full_texts = [status_full_text(status) for status in statuses]\n",
        "      #print(len(tweet_list[i:i+batch_size]))\n",
        "      #print(len(tweet_list[i:i+batch_size]['full_text']))\n",
        "      #print(len(tweet_list['full_text'][i:i+batch_size]))\n",
        "      #j = int(input())\n",
        "      tweet_list['full_text'][i:i+batch_size] = full_texts\n",
        "      \n",
        "      tweet_list.iloc[i:i+batch_size].to_csv(output_csv,mode='a',header=False)\n",
        "      i += batch_size\n",
        "      \n",
        "      #error handle resets\n",
        "      HTTP_retry = 0\n",
        "      if (i+1)%1000 == 0:\n",
        "        _api = api[0]\n",
        "        print(\"Changed api. Done\", 100*i/len(tweet_list),\"%.\")\n",
        "      elif (i+1)%500 == 0:\n",
        "        _api = api[1]\n",
        "        print(\"Changed api. Done\", 100*i/len(tweet_list),\"%.\")\n",
        "    except KeyboardInterrupt:\n",
        "      print(\"Keyboard Interrupt. Done\", 100*i/len(tweet_list),\"%.\")\n",
        "      count=i\n",
        "      break\n",
        "    except tweepy.errors.TweepyException as e:\n",
        "      #print(\"Done\", 100*count/len(tweet_list),\"%. Error\", e.api_code, \"-\", e.args[0][0]['message'], end=\" \")\n",
        "      if e.api_code in [34,63,144,179,401,403,404]:\n",
        "        # skipping tweet\n",
        "        i += batch_size\n",
        "        continue\n",
        "      elif e.api_code == 429:\n",
        "        print(\"Done\", 100*i/len(tweet_list),\"%. Error\", e.api_code, \"-\", e.args[0][0]['message'], end=\" \")\n",
        "        print(\"Waiting for\", 60*backoff_counter, \"seconds.\")\n",
        "        sleep(60*backoff_counter)\n",
        "        backoff_counter += 1\n",
        "      elif e.api_code == 4104:\n",
        "        if(HTTP_retry < 2):\n",
        "          print(\"Connection reset by peer. Retrying \", HTTP_retry, \"time.\")\n",
        "          HTTP_retry += 1\n",
        "        else:\n",
        "          print(\"Aborting due to connection error.\")\n",
        "          count=i\n",
        "          break\n",
        "      else:\n",
        "        # logging unknown error\n",
        "        print(\"Done\", 100*i/len(tweet_list),\"%.\", end = \" \")\n",
        "        try:\n",
        "          print(\"Error\", e.api_code, \"-\", e.args[0][0]['message'], \"Skipping.\")\n",
        "        except:\n",
        "          # skipping unknown next level error\n",
        "          continue\n",
        "        i += batch_size\n",
        "      continue\n",
        "  \n",
        "  print(\"Done\", 100*count/len(tweet_list),\"%.\")\n",
        "  \n",
        "  print(\"Processed tweet ids:\", count, \" Remaining tweets:\", len(tweet_list)-len(output_csv))\n",
        "  return i"
      ],
      "metadata": {
        "cellView": "code",
        "id": "jzrNUnuiZZE5"
      },
      "execution_count": null,
      "outputs": []
    },
    {
      "cell_type": "code",
      "execution_count": null,
      "metadata": {
        "id": "SScpWEsu7dTC",
        "cellView": "form"
      },
      "outputs": [],
      "source": [
        "#@title Function to get tweets and store in csv file: get_tweets(tweet_dataframe,output_csv_file)\n",
        "#@markdown required: tweepy v3.*\n",
        "def get_tweets(tweet_list,output_csv):\n",
        "  backoff_counter = 1\n",
        "  count = 0\n",
        "  HTTP_retry = 0\n",
        "  _api = api[0]\n",
        "\n",
        "  # getting full text from tweet ids\n",
        "  for each in tweet_list.tweet_ID[:]:\n",
        "    try:\n",
        "      status = _api.get_status(id=each, include_entities=False, trim_user=True, tweet_mode='extended')\n",
        "      tweet_list.at[count,'full_text'] = status.full_text\n",
        "      tweet_list.iloc[[count]].to_csv(output_csv,mode='a',header=False)\n",
        "      count+=1\n",
        "      \n",
        "      #error handle resets\n",
        "      HTTP_retry=0\n",
        "      if (count+1)%500 == 0:\n",
        "        _api = api[0]\n",
        "        print(\"Changed api. Done\", 100*count/len(tweet_list),\"%.\")\n",
        "      elif (count+1)%250 == 0:\n",
        "        _api = api[1]\n",
        "        print(\"Changed api. Done\", 100*count/len(tweet_list),\"%.\")\n",
        "        \"\"\"\n",
        "        e = tweepy.error.TweepError(api_code=429,reason=\"{'code':429,'message':'Manual rate limit reached.'}\")\n",
        "        e.args = [[{'code':429,'message':'Manual rate limit reached.'}]]\n",
        "        backoff_counter = 1;\n",
        "        raise(e)\n",
        "        \"\"\"\n",
        "    except KeyboardInterrupt:\n",
        "      print(\"Keyboard Interrupt. Done\", 100*count/len(tweet_list),\"%.\")\n",
        "      return count\n",
        "    #except tweepy.error.RateLimitError:\n",
        "      #if (count+1)%500 == 0:\n",
        "        #_api = api[0]\n",
        "        #print(\"Changed api\")\n",
        "      #elif (count+1)%250 == 0:\n",
        "        #_api = api[1]\n",
        "        #print(\"Changed api\")\n",
        "      #continue\n",
        "    except tweepy.error.TweepError as e:\n",
        "      #print(\"Done\", 100*count/len(tweet_list),\"%. Error\", e.api_code, \"-\", e.args[0][0]['message'], end=\" \")\n",
        "      if e.api_code in [34,63,144,179,401,403,404]:\n",
        "        # skipping tweet\n",
        "        count+=1\n",
        "        continue\n",
        "      elif e.api_code == 429:\n",
        "        print(\"Done\", 100*count/len(tweet_list),\"%. Error\", e.api_code, \"-\", e.args[0][0]['message'], end=\" \")\n",
        "        print(\"Waiting for\", 60*backoff_counter, \"seconds.\")\n",
        "        sleep(60*backoff_counter)\n",
        "        backoff_counter+=1\n",
        "      elif e.api_code == 4104:\n",
        "        if(HTTP_retry < 2):\n",
        "          print(\"Connection reset by peer. Retrying \", HTTP_retry, \"time.\")\n",
        "          HTTP_retry+=1\n",
        "        else:\n",
        "          print(\"Aborting due to connection error.\")\n",
        "          return count\n",
        "      else:\n",
        "        # logging unknown error\n",
        "        print(\"Done\", 100*count/len(tweet_list),\"%.\", end=\" \")\n",
        "        try:\n",
        "          print(\"Error\", e.api_code, \"-\", e.args[0][0]['message'], \"Skipping.\")\n",
        "        except:\n",
        "          # skipping unknown next level error\n",
        "          continue\n",
        "        count+=1\n",
        "      continue\n",
        "  \n",
        "  print(\"Done\", 100*count/len(tweet_list),\"%.\")\n",
        "  \n",
        "  print(\"Processed tweet ids:\", count, \" Remaining tweets:\", len(tweet_list)-len(output))\n",
        "  return count"
      ]
    },
    {
      "cell_type": "markdown",
      "metadata": {
        "id": "l8p0XMz_I-93"
      },
      "source": [
        "# Asynchronised Tweet Downloader"
      ]
    },
    {
      "cell_type": "code",
      "execution_count": null,
      "metadata": {
        "id": "Eh-_jemU_F98",
        "cellView": "form"
      },
      "outputs": [],
      "source": [
        ""
      ]
    },
    {
      "cell_type": "code",
      "execution_count": null,
      "metadata": {
        "id": "R3-dLVOj6JWF"
      },
      "outputs": [],
      "source": [
        "#@title This loop takes 2-3 days to download all tweets completely. It calls the above function to resume from last downloaded tweet.\n",
        "\n",
        "def getTweetsAsync(csv_file, progress_file, save_file):\n",
        "  import pandas as pd\n",
        "\n",
        "  # load progress\n",
        "  with open(progress_file, 'r') as infile:\n",
        "    info = json.load(infile)\n",
        "\n",
        "  print(\"Last tweet downloaded till:\", info['covid_last_index'])\n",
        "\n",
        "  # load remaining dataset\n",
        "  subset = pd.read_csv(csv_file, skiprows=range(1,info['covid_last_index']+1))\n",
        "  subset = subset.reset_index(drop=True)\n",
        "\n",
        "  if(info['covid_last_index'] == 0):\n",
        "    subset['full_text'] = pd.Series([None], index=[0])\n",
        "  #subset = subset.drop('country_region', axis=1)\n",
        "  #subset = subset.drop('user_ID',axis=1)\n",
        "\n",
        "  # update progress\n",
        "  count = get_tweets(subset, save_file)\n",
        "  info['covid_last_index'] += count\n",
        "  with open(progress_file, 'w') as outfile:\n",
        "    outfile.write(json.dumps(info, indent=4, sort_keys=True))\n",
        "\n",
        "  print(\"Dataset done\", 100*info['covid_last_index']/info['covid_size'],\"%.\")\n"
      ]
    },
    {
      "cell_type": "markdown",
      "metadata": {
        "id": "RvhPk0_-eNys"
      },
      "source": [
        "# To get all tweets between two dates"
      ]
    },
    {
      "cell_type": "code",
      "execution_count": null,
      "metadata": {
        "id": "ltjr6XFO8QZX"
      },
      "outputs": [],
      "source": [
        "import pandas as pd\n",
        "import numpy as np\n",
        "\n",
        "#@title Grouping by dates, to see output open tweet_counts_by_dates.csv\n",
        "date_groups = pd.read_csv(covid_tweet_dataset, usecols=[0,21]).groupby('date_stamp')\n",
        "first = date_groups.get_group(list(date_groups.groups.keys())[0]).iloc[0,1][:-9]\n",
        "last = date_groups.get_group(list(date_groups.groups.keys())[len(date_groups)-1]).iloc[-1,1][:-9]\n",
        "print(first, \"and\", last)\n",
        "print('number of days:', len(date_groups))\n",
        "print('tweets\\t date\\t\\tcumulative count')\n",
        "\n",
        "count=0\n",
        "group_data = []\n",
        "for each in list(date_groups.groups.keys()):\n",
        "  count+=len(date_groups.get_group(each))\n",
        "  print(len(date_groups.get_group(each)),'\\t',date_groups.get_group(each).iloc[0,1][:-9],'\\t',count)\n",
        "  group_data.append(dict(zip(np.array(['tweets','date','tweets_till_date']),np.array([len(date_groups.get_group(each)),date_groups.get_group(each).iloc[0,1][:-9],count]))))\n",
        "\n",
        "group_df = pd.DataFrame(group_data)\n",
        "group_df.to_csv('tweet_count_by_dates.csv',index=False)"
      ]
    },
    {
      "cell_type": "code",
      "execution_count": null,
      "metadata": {
        "id": "_Ty146xKm9Bo",
        "colab": {
          "base_uri": "https://localhost:8080/"
        },
        "outputId": "a621b800-1346-4784-daa8-4c4d03c9cbcd"
      },
      "outputs": [
        {
          "output_type": "stream",
          "name": "stdout",
          "text": [
            "till day 308 \n",
            "from\n",
            " tweet_ID      1322572464379973632\n",
            "date_stamp    2020-11-01 00:00:00\n",
            "Name: 5675514, dtype: object \n",
            "to\n",
            " tweet_ID      1333798442049552390\n",
            "date_stamp    2020-12-01 00:00:00\n",
            "Name: 5932207, dtype: object\n"
          ]
        }
      ],
      "source": [
        "#@title Get index range by month { run: \"auto\", vertical-output: true, display-mode: \"both\" }\n",
        "#@markdown between 2020-12-01 and 2021-12-31\n",
        "month = 10 #@param {type:\"slider\", min:1, max:13, step:1}\n",
        "\n",
        "skip_days = sum([4,29,31,30,31,30,31,31,30,31,30,31,1][:month-1])\n",
        "days = [4,29,31,30,31,30,31,31,30,31,30,31,1][month-1] + skip_days\n",
        "\n",
        "first = date_groups.get_group(list(date_groups.groups.keys())[skip_days]).iloc[0]\n",
        "last = date_groups.get_group(list(date_groups.groups.keys())[days]).iloc[-1]\n",
        "print(\"till day\",days,\"\\nfrom\\n\",first,'\\nto\\n',last)\n",
        "skiprow=range(1,first.name)\n",
        "nrow=last.name-first.name"
      ]
    },
    {
      "cell_type": "code",
      "source": [
        "#verifying dates\n",
        "covid_subset.loc[5924812:].head(2)"
      ],
      "metadata": {
        "colab": {
          "base_uri": "https://localhost:8080/",
          "height": 112
        },
        "id": "8tUwwsUfGoT5",
        "outputId": "92de713f-981f-4b97-dab1-9c872fcd839e"
      },
      "execution_count": null,
      "outputs": [
        {
          "output_type": "execute_result",
          "data": {
            "text/plain": [
              "                    tweet_ID sentiment_category keyword_used  \\\n",
              "5924812  1333430709445267456           negative        covid   \n",
              "5924813  1333578880846684161           negative        wuhan   \n",
              "\n",
              "                  date_stamp  \n",
              "5924812  2020-11-30 00:00:00  \n",
              "5924813  2020-12-01 00:00:00  "
            ],
            "text/html": [
              "\n",
              "  <div id=\"df-35873dbb-e186-4970-9af8-e05a7f20e601\">\n",
              "    <div class=\"colab-df-container\">\n",
              "      <div>\n",
              "<style scoped>\n",
              "    .dataframe tbody tr th:only-of-type {\n",
              "        vertical-align: middle;\n",
              "    }\n",
              "\n",
              "    .dataframe tbody tr th {\n",
              "        vertical-align: top;\n",
              "    }\n",
              "\n",
              "    .dataframe thead th {\n",
              "        text-align: right;\n",
              "    }\n",
              "</style>\n",
              "<table border=\"1\" class=\"dataframe\">\n",
              "  <thead>\n",
              "    <tr style=\"text-align: right;\">\n",
              "      <th></th>\n",
              "      <th>tweet_ID</th>\n",
              "      <th>sentiment_category</th>\n",
              "      <th>keyword_used</th>\n",
              "      <th>date_stamp</th>\n",
              "    </tr>\n",
              "  </thead>\n",
              "  <tbody>\n",
              "    <tr>\n",
              "      <th>5924812</th>\n",
              "      <td>1333430709445267456</td>\n",
              "      <td>negative</td>\n",
              "      <td>covid</td>\n",
              "      <td>2020-11-30 00:00:00</td>\n",
              "    </tr>\n",
              "    <tr>\n",
              "      <th>5924813</th>\n",
              "      <td>1333578880846684161</td>\n",
              "      <td>negative</td>\n",
              "      <td>wuhan</td>\n",
              "      <td>2020-12-01 00:00:00</td>\n",
              "    </tr>\n",
              "  </tbody>\n",
              "</table>\n",
              "</div>\n",
              "      <button class=\"colab-df-convert\" onclick=\"convertToInteractive('df-35873dbb-e186-4970-9af8-e05a7f20e601')\"\n",
              "              title=\"Convert this dataframe to an interactive table.\"\n",
              "              style=\"display:none;\">\n",
              "        \n",
              "  <svg xmlns=\"http://www.w3.org/2000/svg\" height=\"24px\"viewBox=\"0 0 24 24\"\n",
              "       width=\"24px\">\n",
              "    <path d=\"M0 0h24v24H0V0z\" fill=\"none\"/>\n",
              "    <path d=\"M18.56 5.44l.94 2.06.94-2.06 2.06-.94-2.06-.94-.94-2.06-.94 2.06-2.06.94zm-11 1L8.5 8.5l.94-2.06 2.06-.94-2.06-.94L8.5 2.5l-.94 2.06-2.06.94zm10 10l.94 2.06.94-2.06 2.06-.94-2.06-.94-.94-2.06-.94 2.06-2.06.94z\"/><path d=\"M17.41 7.96l-1.37-1.37c-.4-.4-.92-.59-1.43-.59-.52 0-1.04.2-1.43.59L10.3 9.45l-7.72 7.72c-.78.78-.78 2.05 0 2.83L4 21.41c.39.39.9.59 1.41.59.51 0 1.02-.2 1.41-.59l7.78-7.78 2.81-2.81c.8-.78.8-2.07 0-2.86zM5.41 20L4 18.59l7.72-7.72 1.47 1.35L5.41 20z\"/>\n",
              "  </svg>\n",
              "      </button>\n",
              "      \n",
              "  <style>\n",
              "    .colab-df-container {\n",
              "      display:flex;\n",
              "      flex-wrap:wrap;\n",
              "      gap: 12px;\n",
              "    }\n",
              "\n",
              "    .colab-df-convert {\n",
              "      background-color: #E8F0FE;\n",
              "      border: none;\n",
              "      border-radius: 50%;\n",
              "      cursor: pointer;\n",
              "      display: none;\n",
              "      fill: #1967D2;\n",
              "      height: 32px;\n",
              "      padding: 0 0 0 0;\n",
              "      width: 32px;\n",
              "    }\n",
              "\n",
              "    .colab-df-convert:hover {\n",
              "      background-color: #E2EBFA;\n",
              "      box-shadow: 0px 1px 2px rgba(60, 64, 67, 0.3), 0px 1px 3px 1px rgba(60, 64, 67, 0.15);\n",
              "      fill: #174EA6;\n",
              "    }\n",
              "\n",
              "    [theme=dark] .colab-df-convert {\n",
              "      background-color: #3B4455;\n",
              "      fill: #D2E3FC;\n",
              "    }\n",
              "\n",
              "    [theme=dark] .colab-df-convert:hover {\n",
              "      background-color: #434B5C;\n",
              "      box-shadow: 0px 1px 3px 1px rgba(0, 0, 0, 0.15);\n",
              "      filter: drop-shadow(0px 1px 2px rgba(0, 0, 0, 0.3));\n",
              "      fill: #FFFFFF;\n",
              "    }\n",
              "  </style>\n",
              "\n",
              "      <script>\n",
              "        const buttonEl =\n",
              "          document.querySelector('#df-35873dbb-e186-4970-9af8-e05a7f20e601 button.colab-df-convert');\n",
              "        buttonEl.style.display =\n",
              "          google.colab.kernel.accessAllowed ? 'block' : 'none';\n",
              "\n",
              "        async function convertToInteractive(key) {\n",
              "          const element = document.querySelector('#df-35873dbb-e186-4970-9af8-e05a7f20e601');\n",
              "          const dataTable =\n",
              "            await google.colab.kernel.invokeFunction('convertToInteractive',\n",
              "                                                     [key], {});\n",
              "          if (!dataTable) return;\n",
              "\n",
              "          const docLinkHtml = 'Like what you see? Visit the ' +\n",
              "            '<a target=\"_blank\" href=https://colab.research.google.com/notebooks/data_table.ipynb>data table notebook</a>'\n",
              "            + ' to learn more about interactive tables.';\n",
              "          element.innerHTML = '';\n",
              "          dataTable['output_type'] = 'display_data';\n",
              "          await google.colab.output.renderOutput(dataTable, element);\n",
              "          const docLink = document.createElement('div');\n",
              "          docLink.innerHTML = docLinkHtml;\n",
              "          element.appendChild(docLink);\n",
              "        }\n",
              "      </script>\n",
              "    </div>\n",
              "  </div>\n",
              "  "
            ]
          },
          "metadata": {},
          "execution_count": 123
        }
      ]
    },
    {
      "cell_type": "code",
      "source": [
        "#verifying dates\n",
        "covid_subset.loc[6158058 + 30:].head(2)"
      ],
      "metadata": {
        "colab": {
          "base_uri": "https://localhost:8080/",
          "height": 112
        },
        "id": "M9-sJMK7yps-",
        "outputId": "800c6bb0-73a1-4940-f14f-866d4d361add"
      },
      "execution_count": null,
      "outputs": [
        {
          "output_type": "execute_result",
          "data": {
            "text/plain": [
              "                    tweet_ID sentiment_category keyword_used  \\\n",
              "6158088  1344669920328486914            neutral        covid   \n",
              "6158089  1344680969740165121           negative        wuhan   \n",
              "\n",
              "                  date_stamp  \n",
              "6158088  2020-12-31 00:00:00  \n",
              "6158089  2021-01-01 00:00:00  "
            ],
            "text/html": [
              "\n",
              "  <div id=\"df-d922f515-20f6-474e-ba19-c4ac0559f886\">\n",
              "    <div class=\"colab-df-container\">\n",
              "      <div>\n",
              "<style scoped>\n",
              "    .dataframe tbody tr th:only-of-type {\n",
              "        vertical-align: middle;\n",
              "    }\n",
              "\n",
              "    .dataframe tbody tr th {\n",
              "        vertical-align: top;\n",
              "    }\n",
              "\n",
              "    .dataframe thead th {\n",
              "        text-align: right;\n",
              "    }\n",
              "</style>\n",
              "<table border=\"1\" class=\"dataframe\">\n",
              "  <thead>\n",
              "    <tr style=\"text-align: right;\">\n",
              "      <th></th>\n",
              "      <th>tweet_ID</th>\n",
              "      <th>sentiment_category</th>\n",
              "      <th>keyword_used</th>\n",
              "      <th>date_stamp</th>\n",
              "    </tr>\n",
              "  </thead>\n",
              "  <tbody>\n",
              "    <tr>\n",
              "      <th>6158088</th>\n",
              "      <td>1344669920328486914</td>\n",
              "      <td>neutral</td>\n",
              "      <td>covid</td>\n",
              "      <td>2020-12-31 00:00:00</td>\n",
              "    </tr>\n",
              "    <tr>\n",
              "      <th>6158089</th>\n",
              "      <td>1344680969740165121</td>\n",
              "      <td>negative</td>\n",
              "      <td>wuhan</td>\n",
              "      <td>2021-01-01 00:00:00</td>\n",
              "    </tr>\n",
              "  </tbody>\n",
              "</table>\n",
              "</div>\n",
              "      <button class=\"colab-df-convert\" onclick=\"convertToInteractive('df-d922f515-20f6-474e-ba19-c4ac0559f886')\"\n",
              "              title=\"Convert this dataframe to an interactive table.\"\n",
              "              style=\"display:none;\">\n",
              "        \n",
              "  <svg xmlns=\"http://www.w3.org/2000/svg\" height=\"24px\"viewBox=\"0 0 24 24\"\n",
              "       width=\"24px\">\n",
              "    <path d=\"M0 0h24v24H0V0z\" fill=\"none\"/>\n",
              "    <path d=\"M18.56 5.44l.94 2.06.94-2.06 2.06-.94-2.06-.94-.94-2.06-.94 2.06-2.06.94zm-11 1L8.5 8.5l.94-2.06 2.06-.94-2.06-.94L8.5 2.5l-.94 2.06-2.06.94zm10 10l.94 2.06.94-2.06 2.06-.94-2.06-.94-.94-2.06-.94 2.06-2.06.94z\"/><path d=\"M17.41 7.96l-1.37-1.37c-.4-.4-.92-.59-1.43-.59-.52 0-1.04.2-1.43.59L10.3 9.45l-7.72 7.72c-.78.78-.78 2.05 0 2.83L4 21.41c.39.39.9.59 1.41.59.51 0 1.02-.2 1.41-.59l7.78-7.78 2.81-2.81c.8-.78.8-2.07 0-2.86zM5.41 20L4 18.59l7.72-7.72 1.47 1.35L5.41 20z\"/>\n",
              "  </svg>\n",
              "      </button>\n",
              "      \n",
              "  <style>\n",
              "    .colab-df-container {\n",
              "      display:flex;\n",
              "      flex-wrap:wrap;\n",
              "      gap: 12px;\n",
              "    }\n",
              "\n",
              "    .colab-df-convert {\n",
              "      background-color: #E8F0FE;\n",
              "      border: none;\n",
              "      border-radius: 50%;\n",
              "      cursor: pointer;\n",
              "      display: none;\n",
              "      fill: #1967D2;\n",
              "      height: 32px;\n",
              "      padding: 0 0 0 0;\n",
              "      width: 32px;\n",
              "    }\n",
              "\n",
              "    .colab-df-convert:hover {\n",
              "      background-color: #E2EBFA;\n",
              "      box-shadow: 0px 1px 2px rgba(60, 64, 67, 0.3), 0px 1px 3px 1px rgba(60, 64, 67, 0.15);\n",
              "      fill: #174EA6;\n",
              "    }\n",
              "\n",
              "    [theme=dark] .colab-df-convert {\n",
              "      background-color: #3B4455;\n",
              "      fill: #D2E3FC;\n",
              "    }\n",
              "\n",
              "    [theme=dark] .colab-df-convert:hover {\n",
              "      background-color: #434B5C;\n",
              "      box-shadow: 0px 1px 3px 1px rgba(0, 0, 0, 0.15);\n",
              "      filter: drop-shadow(0px 1px 2px rgba(0, 0, 0, 0.3));\n",
              "      fill: #FFFFFF;\n",
              "    }\n",
              "  </style>\n",
              "\n",
              "      <script>\n",
              "        const buttonEl =\n",
              "          document.querySelector('#df-d922f515-20f6-474e-ba19-c4ac0559f886 button.colab-df-convert');\n",
              "        buttonEl.style.display =\n",
              "          google.colab.kernel.accessAllowed ? 'block' : 'none';\n",
              "\n",
              "        async function convertToInteractive(key) {\n",
              "          const element = document.querySelector('#df-d922f515-20f6-474e-ba19-c4ac0559f886');\n",
              "          const dataTable =\n",
              "            await google.colab.kernel.invokeFunction('convertToInteractive',\n",
              "                                                     [key], {});\n",
              "          if (!dataTable) return;\n",
              "\n",
              "          const docLinkHtml = 'Like what you see? Visit the ' +\n",
              "            '<a target=\"_blank\" href=https://colab.research.google.com/notebooks/data_table.ipynb>data table notebook</a>'\n",
              "            + ' to learn more about interactive tables.';\n",
              "          element.innerHTML = '';\n",
              "          dataTable['output_type'] = 'display_data';\n",
              "          await google.colab.output.renderOutput(dataTable, element);\n",
              "          const docLink = document.createElement('div');\n",
              "          docLink.innerHTML = docLinkHtml;\n",
              "          element.appendChild(docLink);\n",
              "        }\n",
              "      </script>\n",
              "    </div>\n",
              "  </div>\n",
              "  "
            ]
          },
          "metadata": {},
          "execution_count": 151
        }
      ]
    },
    {
      "cell_type": "code",
      "source": [
        "#@title Example: creating December 2020 subset\n",
        "\n",
        "import pandas as pd\n",
        "\n",
        "covid_subset.loc[5675514:5924812].to_csv(\"november.csv\")\n",
        "covid_subset.loc[5924813:6158088].to_csv(\"december.csv\")"
      ],
      "metadata": {
        "id": "CHXBl53A7-F0"
      },
      "execution_count": null,
      "outputs": []
    },
    {
      "cell_type": "code",
      "source": [
        "#@title Example: fetching December 2020 dataset\n",
        "\n",
        "import pandas as pd\n",
        "\n",
        "subset = pd.read_csv(\"december.csv\", index_col=0)\n",
        "filename = \"covid_subset/test_download.csv\" #@param {type:\"string\"}\n",
        "\n",
        "# update progress\n",
        "count += get_tweets(subset,filename)\n",
        "print(\"Dataset done\", count, \"tweets.\")"
      ],
      "metadata": {
        "id": "xJds0So4OU0m",
        "colab": {
          "base_uri": "https://localhost:8080/"
        },
        "outputId": "120ca429-78e1-4085-bc77-fda9f6c74efb"
      },
      "execution_count": null,
      "outputs": [
        {
          "output_type": "stream",
          "name": "stdout",
          "text": [
            "Keyboard Interrupt. Done 0.004286620599783954 %.\n",
            "Dataset done 6166161 tweets.\n"
          ]
        }
      ]
    },
    {
      "cell_type": "code",
      "execution_count": null,
      "metadata": {
        "id": "7YS5SFgE6TKD",
        "colab": {
          "base_uri": "https://localhost:8080/"
        },
        "outputId": "b111a29f-79d0-4d60-ddc4-c7298999a2c2"
      },
      "outputs": [
        {
          "output_type": "stream",
          "name": "stdout",
          "text": [
            "date_stamp\tcount\tcumulative_count\n",
            "2020-12-01 \t22 \t 22\n",
            "2020-12-02 \t156 \t 178\n"
          ]
        }
      ],
      "source": [
        "#@title To check how many days of tweets were downloaded, match this output with tweet_count_by_dates.csv file\n",
        "import pandas as pd\n",
        "filename = \"covid_subset/test_download.csv\" #@param {type:\"string\"}\n",
        "df=pd.read_csv(filename)\n",
        "df.columns=['a','b','c','d','date','e']\n",
        "df=df.groupby('date')\n",
        "count = 0 \n",
        "print('date_stamp\\tcount\\tcumulative_count')\n",
        "for each in df.groups.keys():\n",
        "  count+=len(df.get_group(each))\n",
        "  print(each[:-9],'\\t'+str(len(df.get_group(each))),'\\t', str(count))"
      ]
    },
    {
      "cell_type": "code",
      "source": [
        "df.columns=['a','b','c','d','date','e']\n",
        "a=df.groupby('e')\n",
        "b=list(a.groups.keys())\n",
        "#print(a.get_group(b[len(b)-1]),'\\n---\\n',df.iloc[43688])\n",
        "df=df.drop_duplicates(subset=['e'])"
      ],
      "metadata": {
        "id": "ZX3RO3_yz2ug"
      },
      "execution_count": null,
      "outputs": []
    },
    {
      "cell_type": "code",
      "source": [
        "count=0\n",
        "for each in b:\n",
        "  count+=len(a.get_group(each))\n",
        "  print(each[:-9],'\\t'+str(len(a.get_group(each))),'\\t',str(count))"
      ],
      "metadata": {
        "id": "6904eqEFDoxO"
      },
      "execution_count": null,
      "outputs": []
    },
    {
      "cell_type": "markdown",
      "source": [
        "# December"
      ],
      "metadata": {
        "id": "_bZhGCdpNdnd"
      }
    },
    {
      "cell_type": "code",
      "source": [
        "\n",
        "load_file = 'december.csv'\n",
        "progress_file = 'download_progress.json'\n",
        "save_file = 'covid_subset/dec_2020.csv'\n",
        "size = 225874\n"
      ],
      "metadata": {
        "id": "4Ii7IF0XyNJf"
      },
      "execution_count": null,
      "outputs": []
    },
    {
      "cell_type": "code",
      "source": [
        "!touch download_progress.json\n",
        "resetProgress(progress_file, size)"
      ],
      "metadata": {
        "id": "cUMbtzLpGkHO"
      },
      "execution_count": null,
      "outputs": []
    },
    {
      "cell_type": "code",
      "source": [
        "count=getTweetsAsync(load_file, progress_file, save_file)"
      ],
      "metadata": {
        "colab": {
          "base_uri": "https://localhost:8080/",
          "height": 541
        },
        "id": "ZEyl9rM7Giwi",
        "outputId": "0b08e688-8297-4d2a-f8fe-8c3e10166beb"
      },
      "execution_count": null,
      "outputs": [
        {
          "output_type": "stream",
          "name": "stdout",
          "text": [
            "Last tweet downloaded till: 0\n"
          ]
        },
        {
          "output_type": "stream",
          "name": "stderr",
          "text": [
            "/usr/local/lib/python3.7/dist-packages/ipykernel_launcher.py:25: SettingWithCopyWarning: \n",
            "A value is trying to be set on a copy of a slice from a DataFrame\n",
            "\n",
            "See the caveats in the documentation: https://pandas.pydata.org/pandas-docs/stable/user_guide/indexing.html#returning-a-view-versus-a-copy\n"
          ]
        },
        {
          "output_type": "error",
          "ename": "ValueError",
          "evalue": "ignored",
          "traceback": [
            "\u001b[0;31m---------------------------------------------------------------------------\u001b[0m",
            "\u001b[0;31mTypeError\u001b[0m                                 Traceback (most recent call last)",
            "\u001b[0;32m/usr/local/lib/python3.7/dist-packages/pandas/core/series.py\u001b[0m in \u001b[0;36m__setitem__\u001b[0;34m(self, key, value)\u001b[0m\n\u001b[1;32m   1061\u001b[0m         \u001b[0;32mtry\u001b[0m\u001b[0;34m:\u001b[0m\u001b[0;34m\u001b[0m\u001b[0;34m\u001b[0m\u001b[0m\n\u001b[0;32m-> 1062\u001b[0;31m             \u001b[0mself\u001b[0m\u001b[0;34m.\u001b[0m\u001b[0m_set_with_engine\u001b[0m\u001b[0;34m(\u001b[0m\u001b[0mkey\u001b[0m\u001b[0;34m,\u001b[0m \u001b[0mvalue\u001b[0m\u001b[0;34m)\u001b[0m\u001b[0;34m\u001b[0m\u001b[0;34m\u001b[0m\u001b[0m\n\u001b[0m\u001b[1;32m   1063\u001b[0m         \u001b[0;32mexcept\u001b[0m \u001b[0;34m(\u001b[0m\u001b[0mKeyError\u001b[0m\u001b[0;34m,\u001b[0m \u001b[0mValueError\u001b[0m\u001b[0;34m)\u001b[0m\u001b[0;34m:\u001b[0m\u001b[0;34m\u001b[0m\u001b[0;34m\u001b[0m\u001b[0m\n",
            "\u001b[0;32m/usr/local/lib/python3.7/dist-packages/pandas/core/series.py\u001b[0m in \u001b[0;36m_set_with_engine\u001b[0;34m(self, key, value)\u001b[0m\n\u001b[1;32m   1094\u001b[0m         \u001b[0;31m# fails with AttributeError for IntervalIndex\u001b[0m\u001b[0;34m\u001b[0m\u001b[0;34m\u001b[0m\u001b[0;34m\u001b[0m\u001b[0m\n\u001b[0;32m-> 1095\u001b[0;31m         \u001b[0mloc\u001b[0m \u001b[0;34m=\u001b[0m \u001b[0mself\u001b[0m\u001b[0;34m.\u001b[0m\u001b[0mindex\u001b[0m\u001b[0;34m.\u001b[0m\u001b[0m_engine\u001b[0m\u001b[0;34m.\u001b[0m\u001b[0mget_loc\u001b[0m\u001b[0;34m(\u001b[0m\u001b[0mkey\u001b[0m\u001b[0;34m)\u001b[0m\u001b[0;34m\u001b[0m\u001b[0;34m\u001b[0m\u001b[0m\n\u001b[0m\u001b[1;32m   1096\u001b[0m         \u001b[0;31m# error: Argument 1 to \"validate_numeric_casting\" has incompatible type\u001b[0m\u001b[0;34m\u001b[0m\u001b[0;34m\u001b[0m\u001b[0;34m\u001b[0m\u001b[0m\n",
            "\u001b[0;32m/usr/local/lib/python3.7/dist-packages/pandas/_libs/index.pyx\u001b[0m in \u001b[0;36mpandas._libs.index.IndexEngine.get_loc\u001b[0;34m()\u001b[0m\n",
            "\u001b[0;32m/usr/local/lib/python3.7/dist-packages/pandas/_libs/index.pyx\u001b[0m in \u001b[0;36mpandas._libs.index.IndexEngine.get_loc\u001b[0;34m()\u001b[0m\n",
            "\u001b[0;31mTypeError\u001b[0m: 'slice(2650, 2700, None)' is an invalid key",
            "\nDuring handling of the above exception, another exception occurred:\n",
            "\u001b[0;31mValueError\u001b[0m                                Traceback (most recent call last)",
            "\u001b[0;32m<ipython-input-127-087feb838fb8>\u001b[0m in \u001b[0;36m<module>\u001b[0;34m()\u001b[0m\n\u001b[0;32m----> 1\u001b[0;31m \u001b[0mcount\u001b[0m\u001b[0;34m=\u001b[0m\u001b[0mgetTweetsAsync\u001b[0m\u001b[0;34m(\u001b[0m\u001b[0mload_file\u001b[0m\u001b[0;34m,\u001b[0m \u001b[0mprogress_file\u001b[0m\u001b[0;34m,\u001b[0m \u001b[0msave_file\u001b[0m\u001b[0;34m)\u001b[0m\u001b[0;34m\u001b[0m\u001b[0;34m\u001b[0m\u001b[0m\n\u001b[0m",
            "\u001b[0;32m<ipython-input-121-0581d600f5a8>\u001b[0m in \u001b[0;36mgetTweetsAsync\u001b[0;34m(csv_file, progress_file, save_file)\u001b[0m\n\u001b[1;32m     20\u001b[0m \u001b[0;34m\u001b[0m\u001b[0m\n\u001b[1;32m     21\u001b[0m   \u001b[0;31m# update progress\u001b[0m\u001b[0;34m\u001b[0m\u001b[0;34m\u001b[0m\u001b[0;34m\u001b[0m\u001b[0m\n\u001b[0;32m---> 22\u001b[0;31m   \u001b[0mcount\u001b[0m \u001b[0;34m=\u001b[0m \u001b[0mget_tweets\u001b[0m\u001b[0;34m(\u001b[0m\u001b[0msubset\u001b[0m\u001b[0;34m,\u001b[0m \u001b[0msave_file\u001b[0m\u001b[0;34m)\u001b[0m\u001b[0;34m\u001b[0m\u001b[0;34m\u001b[0m\u001b[0m\n\u001b[0m\u001b[1;32m     23\u001b[0m   \u001b[0minfo\u001b[0m\u001b[0;34m[\u001b[0m\u001b[0;34m'covid_last_index'\u001b[0m\u001b[0;34m]\u001b[0m \u001b[0;34m+=\u001b[0m \u001b[0mcount\u001b[0m\u001b[0;34m\u001b[0m\u001b[0;34m\u001b[0m\u001b[0m\n\u001b[1;32m     24\u001b[0m   \u001b[0;32mwith\u001b[0m \u001b[0mopen\u001b[0m\u001b[0;34m(\u001b[0m\u001b[0mprogress_file\u001b[0m\u001b[0;34m,\u001b[0m \u001b[0;34m'w'\u001b[0m\u001b[0;34m)\u001b[0m \u001b[0;32mas\u001b[0m \u001b[0moutfile\u001b[0m\u001b[0;34m:\u001b[0m\u001b[0;34m\u001b[0m\u001b[0;34m\u001b[0m\u001b[0m\n",
            "\u001b[0;32m<ipython-input-126-deeff947dc1b>\u001b[0m in \u001b[0;36mget_tweets\u001b[0;34m(tweet_list, output_csv)\u001b[0m\n\u001b[1;32m     23\u001b[0m       \u001b[0;31m#print(len(tweet_list['full_text'][i:i+batch_size]))\u001b[0m\u001b[0;34m\u001b[0m\u001b[0;34m\u001b[0m\u001b[0;34m\u001b[0m\u001b[0m\n\u001b[1;32m     24\u001b[0m       \u001b[0;31m#j = int(input())\u001b[0m\u001b[0;34m\u001b[0m\u001b[0;34m\u001b[0m\u001b[0;34m\u001b[0m\u001b[0m\n\u001b[0;32m---> 25\u001b[0;31m       \u001b[0mtweet_list\u001b[0m\u001b[0;34m[\u001b[0m\u001b[0;34m'full_text'\u001b[0m\u001b[0;34m]\u001b[0m\u001b[0;34m[\u001b[0m\u001b[0mi\u001b[0m\u001b[0;34m:\u001b[0m\u001b[0mi\u001b[0m\u001b[0;34m+\u001b[0m\u001b[0mbatch_size\u001b[0m\u001b[0;34m]\u001b[0m \u001b[0;34m=\u001b[0m \u001b[0mfull_texts\u001b[0m\u001b[0;34m\u001b[0m\u001b[0;34m\u001b[0m\u001b[0m\n\u001b[0m\u001b[1;32m     26\u001b[0m \u001b[0;34m\u001b[0m\u001b[0m\n\u001b[1;32m     27\u001b[0m       \u001b[0mtweet_list\u001b[0m\u001b[0;34m.\u001b[0m\u001b[0miloc\u001b[0m\u001b[0;34m[\u001b[0m\u001b[0mi\u001b[0m\u001b[0;34m:\u001b[0m\u001b[0mi\u001b[0m\u001b[0;34m+\u001b[0m\u001b[0mbatch_size\u001b[0m\u001b[0;34m]\u001b[0m\u001b[0;34m.\u001b[0m\u001b[0mto_csv\u001b[0m\u001b[0;34m(\u001b[0m\u001b[0moutput_csv\u001b[0m\u001b[0;34m,\u001b[0m\u001b[0mmode\u001b[0m\u001b[0;34m=\u001b[0m\u001b[0;34m'a'\u001b[0m\u001b[0;34m,\u001b[0m\u001b[0mheader\u001b[0m\u001b[0;34m=\u001b[0m\u001b[0;32mFalse\u001b[0m\u001b[0;34m)\u001b[0m\u001b[0;34m\u001b[0m\u001b[0;34m\u001b[0m\u001b[0m\n",
            "\u001b[0;32m/usr/local/lib/python3.7/dist-packages/pandas/core/series.py\u001b[0m in \u001b[0;36m__setitem__\u001b[0;34m(self, key, value)\u001b[0m\n\u001b[1;32m   1086\u001b[0m \u001b[0;34m\u001b[0m\u001b[0m\n\u001b[1;32m   1087\u001b[0m             \u001b[0;32melse\u001b[0m\u001b[0;34m:\u001b[0m\u001b[0;34m\u001b[0m\u001b[0;34m\u001b[0m\u001b[0m\n\u001b[0;32m-> 1088\u001b[0;31m                 \u001b[0mself\u001b[0m\u001b[0;34m.\u001b[0m\u001b[0m_set_with\u001b[0m\u001b[0;34m(\u001b[0m\u001b[0mkey\u001b[0m\u001b[0;34m,\u001b[0m \u001b[0mvalue\u001b[0m\u001b[0;34m)\u001b[0m\u001b[0;34m\u001b[0m\u001b[0;34m\u001b[0m\u001b[0m\n\u001b[0m\u001b[1;32m   1089\u001b[0m \u001b[0;34m\u001b[0m\u001b[0m\n\u001b[1;32m   1090\u001b[0m         \u001b[0;32mif\u001b[0m \u001b[0mcacher_needs_updating\u001b[0m\u001b[0;34m:\u001b[0m\u001b[0;34m\u001b[0m\u001b[0;34m\u001b[0m\u001b[0m\n",
            "\u001b[0;32m/usr/local/lib/python3.7/dist-packages/pandas/core/series.py\u001b[0m in \u001b[0;36m_set_with\u001b[0;34m(self, key, value)\u001b[0m\n\u001b[1;32m   1103\u001b[0m         \u001b[0;32mif\u001b[0m \u001b[0misinstance\u001b[0m\u001b[0;34m(\u001b[0m\u001b[0mkey\u001b[0m\u001b[0;34m,\u001b[0m \u001b[0mslice\u001b[0m\u001b[0;34m)\u001b[0m\u001b[0;34m:\u001b[0m\u001b[0;34m\u001b[0m\u001b[0;34m\u001b[0m\u001b[0m\n\u001b[1;32m   1104\u001b[0m             \u001b[0mindexer\u001b[0m \u001b[0;34m=\u001b[0m \u001b[0mself\u001b[0m\u001b[0;34m.\u001b[0m\u001b[0mindex\u001b[0m\u001b[0;34m.\u001b[0m\u001b[0m_convert_slice_indexer\u001b[0m\u001b[0;34m(\u001b[0m\u001b[0mkey\u001b[0m\u001b[0;34m,\u001b[0m \u001b[0mkind\u001b[0m\u001b[0;34m=\u001b[0m\u001b[0;34m\"getitem\"\u001b[0m\u001b[0;34m)\u001b[0m\u001b[0;34m\u001b[0m\u001b[0;34m\u001b[0m\u001b[0m\n\u001b[0;32m-> 1105\u001b[0;31m             \u001b[0;32mreturn\u001b[0m \u001b[0mself\u001b[0m\u001b[0;34m.\u001b[0m\u001b[0m_set_values\u001b[0m\u001b[0;34m(\u001b[0m\u001b[0mindexer\u001b[0m\u001b[0;34m,\u001b[0m \u001b[0mvalue\u001b[0m\u001b[0;34m)\u001b[0m\u001b[0;34m\u001b[0m\u001b[0;34m\u001b[0m\u001b[0m\n\u001b[0m\u001b[1;32m   1106\u001b[0m \u001b[0;34m\u001b[0m\u001b[0m\n\u001b[1;32m   1107\u001b[0m         \u001b[0;32melse\u001b[0m\u001b[0;34m:\u001b[0m\u001b[0;34m\u001b[0m\u001b[0;34m\u001b[0m\u001b[0m\n",
            "\u001b[0;32m/usr/local/lib/python3.7/dist-packages/pandas/core/series.py\u001b[0m in \u001b[0;36m_set_values\u001b[0;34m(self, key, value)\u001b[0m\n\u001b[1;32m   1139\u001b[0m             \u001b[0mkey\u001b[0m \u001b[0;34m=\u001b[0m \u001b[0mkey\u001b[0m\u001b[0;34m.\u001b[0m\u001b[0m_values\u001b[0m\u001b[0;34m\u001b[0m\u001b[0;34m\u001b[0m\u001b[0m\n\u001b[1;32m   1140\u001b[0m \u001b[0;34m\u001b[0m\u001b[0m\n\u001b[0;32m-> 1141\u001b[0;31m         \u001b[0mself\u001b[0m\u001b[0;34m.\u001b[0m\u001b[0m_mgr\u001b[0m \u001b[0;34m=\u001b[0m \u001b[0mself\u001b[0m\u001b[0;34m.\u001b[0m\u001b[0m_mgr\u001b[0m\u001b[0;34m.\u001b[0m\u001b[0msetitem\u001b[0m\u001b[0;34m(\u001b[0m\u001b[0mindexer\u001b[0m\u001b[0;34m=\u001b[0m\u001b[0mkey\u001b[0m\u001b[0;34m,\u001b[0m \u001b[0mvalue\u001b[0m\u001b[0;34m=\u001b[0m\u001b[0mvalue\u001b[0m\u001b[0;34m)\u001b[0m\u001b[0;34m\u001b[0m\u001b[0;34m\u001b[0m\u001b[0m\n\u001b[0m\u001b[1;32m   1142\u001b[0m         \u001b[0mself\u001b[0m\u001b[0;34m.\u001b[0m\u001b[0m_maybe_update_cacher\u001b[0m\u001b[0;34m(\u001b[0m\u001b[0;34m)\u001b[0m\u001b[0;34m\u001b[0m\u001b[0;34m\u001b[0m\u001b[0m\n\u001b[1;32m   1143\u001b[0m \u001b[0;34m\u001b[0m\u001b[0m\n",
            "\u001b[0;32m/usr/local/lib/python3.7/dist-packages/pandas/core/internals/managers.py\u001b[0m in \u001b[0;36msetitem\u001b[0;34m(self, indexer, value)\u001b[0m\n\u001b[1;32m    353\u001b[0m \u001b[0;34m\u001b[0m\u001b[0m\n\u001b[1;32m    354\u001b[0m     \u001b[0;32mdef\u001b[0m \u001b[0msetitem\u001b[0m\u001b[0;34m(\u001b[0m\u001b[0mself\u001b[0m\u001b[0;34m:\u001b[0m \u001b[0mT\u001b[0m\u001b[0;34m,\u001b[0m \u001b[0mindexer\u001b[0m\u001b[0;34m,\u001b[0m \u001b[0mvalue\u001b[0m\u001b[0;34m)\u001b[0m \u001b[0;34m->\u001b[0m \u001b[0mT\u001b[0m\u001b[0;34m:\u001b[0m\u001b[0;34m\u001b[0m\u001b[0;34m\u001b[0m\u001b[0m\n\u001b[0;32m--> 355\u001b[0;31m         \u001b[0;32mreturn\u001b[0m \u001b[0mself\u001b[0m\u001b[0;34m.\u001b[0m\u001b[0mapply\u001b[0m\u001b[0;34m(\u001b[0m\u001b[0;34m\"setitem\"\u001b[0m\u001b[0;34m,\u001b[0m \u001b[0mindexer\u001b[0m\u001b[0;34m=\u001b[0m\u001b[0mindexer\u001b[0m\u001b[0;34m,\u001b[0m \u001b[0mvalue\u001b[0m\u001b[0;34m=\u001b[0m\u001b[0mvalue\u001b[0m\u001b[0;34m)\u001b[0m\u001b[0;34m\u001b[0m\u001b[0;34m\u001b[0m\u001b[0m\n\u001b[0m\u001b[1;32m    356\u001b[0m \u001b[0;34m\u001b[0m\u001b[0m\n\u001b[1;32m    357\u001b[0m     \u001b[0;32mdef\u001b[0m \u001b[0mputmask\u001b[0m\u001b[0;34m(\u001b[0m\u001b[0mself\u001b[0m\u001b[0;34m,\u001b[0m \u001b[0mmask\u001b[0m\u001b[0;34m,\u001b[0m \u001b[0mnew\u001b[0m\u001b[0;34m,\u001b[0m \u001b[0malign\u001b[0m\u001b[0;34m:\u001b[0m \u001b[0mbool\u001b[0m \u001b[0;34m=\u001b[0m \u001b[0;32mTrue\u001b[0m\u001b[0;34m)\u001b[0m\u001b[0;34m:\u001b[0m\u001b[0;34m\u001b[0m\u001b[0;34m\u001b[0m\u001b[0m\n",
            "\u001b[0;32m/usr/local/lib/python3.7/dist-packages/pandas/core/internals/managers.py\u001b[0m in \u001b[0;36mapply\u001b[0;34m(self, f, align_keys, ignore_failures, **kwargs)\u001b[0m\n\u001b[1;32m    325\u001b[0m                     \u001b[0mapplied\u001b[0m \u001b[0;34m=\u001b[0m \u001b[0mb\u001b[0m\u001b[0;34m.\u001b[0m\u001b[0mapply\u001b[0m\u001b[0;34m(\u001b[0m\u001b[0mf\u001b[0m\u001b[0;34m,\u001b[0m \u001b[0;34m**\u001b[0m\u001b[0mkwargs\u001b[0m\u001b[0;34m)\u001b[0m\u001b[0;34m\u001b[0m\u001b[0;34m\u001b[0m\u001b[0m\n\u001b[1;32m    326\u001b[0m                 \u001b[0;32melse\u001b[0m\u001b[0;34m:\u001b[0m\u001b[0;34m\u001b[0m\u001b[0;34m\u001b[0m\u001b[0m\n\u001b[0;32m--> 327\u001b[0;31m                     \u001b[0mapplied\u001b[0m \u001b[0;34m=\u001b[0m \u001b[0mgetattr\u001b[0m\u001b[0;34m(\u001b[0m\u001b[0mb\u001b[0m\u001b[0;34m,\u001b[0m \u001b[0mf\u001b[0m\u001b[0;34m)\u001b[0m\u001b[0;34m(\u001b[0m\u001b[0;34m**\u001b[0m\u001b[0mkwargs\u001b[0m\u001b[0;34m)\u001b[0m\u001b[0;34m\u001b[0m\u001b[0;34m\u001b[0m\u001b[0m\n\u001b[0m\u001b[1;32m    328\u001b[0m             \u001b[0;32mexcept\u001b[0m \u001b[0;34m(\u001b[0m\u001b[0mTypeError\u001b[0m\u001b[0;34m,\u001b[0m \u001b[0mNotImplementedError\u001b[0m\u001b[0;34m)\u001b[0m\u001b[0;34m:\u001b[0m\u001b[0;34m\u001b[0m\u001b[0;34m\u001b[0m\u001b[0m\n\u001b[1;32m    329\u001b[0m                 \u001b[0;32mif\u001b[0m \u001b[0;32mnot\u001b[0m \u001b[0mignore_failures\u001b[0m\u001b[0;34m:\u001b[0m\u001b[0;34m\u001b[0m\u001b[0;34m\u001b[0m\u001b[0m\n",
            "\u001b[0;32m/usr/local/lib/python3.7/dist-packages/pandas/core/internals/blocks.py\u001b[0m in \u001b[0;36msetitem\u001b[0;34m(self, indexer, value)\u001b[0m\n\u001b[1;32m    941\u001b[0m \u001b[0;34m\u001b[0m\u001b[0m\n\u001b[1;32m    942\u001b[0m         \u001b[0;31m# length checking\u001b[0m\u001b[0;34m\u001b[0m\u001b[0;34m\u001b[0m\u001b[0;34m\u001b[0m\u001b[0m\n\u001b[0;32m--> 943\u001b[0;31m         \u001b[0mcheck_setitem_lengths\u001b[0m\u001b[0;34m(\u001b[0m\u001b[0mindexer\u001b[0m\u001b[0;34m,\u001b[0m \u001b[0mvalue\u001b[0m\u001b[0;34m,\u001b[0m \u001b[0mvalues\u001b[0m\u001b[0;34m)\u001b[0m\u001b[0;34m\u001b[0m\u001b[0;34m\u001b[0m\u001b[0m\n\u001b[0m\u001b[1;32m    944\u001b[0m         \u001b[0mexact_match\u001b[0m \u001b[0;34m=\u001b[0m \u001b[0mis_exact_shape_match\u001b[0m\u001b[0;34m(\u001b[0m\u001b[0mvalues\u001b[0m\u001b[0;34m,\u001b[0m \u001b[0marr_value\u001b[0m\u001b[0;34m)\u001b[0m\u001b[0;34m\u001b[0m\u001b[0;34m\u001b[0m\u001b[0m\n\u001b[1;32m    945\u001b[0m \u001b[0;34m\u001b[0m\u001b[0m\n",
            "\u001b[0;32m/usr/local/lib/python3.7/dist-packages/pandas/core/indexers.py\u001b[0m in \u001b[0;36mcheck_setitem_lengths\u001b[0;34m(indexer, value, values)\u001b[0m\n\u001b[1;32m    186\u001b[0m                 \u001b[0;31m# In case of two dimensional value is used row-wise and broadcasted\u001b[0m\u001b[0;34m\u001b[0m\u001b[0;34m\u001b[0m\u001b[0;34m\u001b[0m\u001b[0m\n\u001b[1;32m    187\u001b[0m                 raise ValueError(\n\u001b[0;32m--> 188\u001b[0;31m                     \u001b[0;34m\"cannot set using a slice indexer with a \"\u001b[0m\u001b[0;34m\u001b[0m\u001b[0;34m\u001b[0m\u001b[0m\n\u001b[0m\u001b[1;32m    189\u001b[0m                     \u001b[0;34m\"different length than the value\"\u001b[0m\u001b[0;34m\u001b[0m\u001b[0;34m\u001b[0m\u001b[0m\n\u001b[1;32m    190\u001b[0m                 )\n",
            "\u001b[0;31mValueError\u001b[0m: cannot set using a slice indexer with a different length than the value"
          ]
        }
      ]
    },
    {
      "cell_type": "markdown",
      "source": [
        "# testing"
      ],
      "metadata": {
        "id": "gDO687LhXK-F"
      }
    },
    {
      "cell_type": "code",
      "source": [
        "!pip install apoor"
      ],
      "metadata": {
        "id": "L0Cl1Xw7XNy4"
      },
      "execution_count": null,
      "outputs": []
    },
    {
      "cell_type": "code",
      "source": [
        "from apoor import fdir"
      ],
      "metadata": {
        "id": "UtE3PoxUWxHW"
      },
      "execution_count": null,
      "outputs": []
    },
    {
      "cell_type": "code",
      "source": [
        "def status_full_text(status):\n",
        "  if hasattr(status, \"retweeted_status\"):  # Check if Retweet\n",
        "    try:\n",
        "      print(status.retweeted_status.extended_tweet[\"full_text\"])\n",
        "    except AttributeError:\n",
        "      try:\n",
        "        return status.retweeted_status.full_text\n",
        "      except:\n",
        "        return None\n",
        "  else:\n",
        "    try:\n",
        "      return status.extended_tweet[\"full_text\"]\n",
        "    except AttributeError:\n",
        "      try:\n",
        "        return status.full_text\n",
        "      except:\n",
        "        return None"
      ],
      "metadata": {
        "id": "Fi_iuD2OaF2w"
      },
      "execution_count": null,
      "outputs": []
    },
    {
      "cell_type": "code",
      "source": [
        "len([ft(t) for t in a])"
      ],
      "metadata": {
        "colab": {
          "base_uri": "https://localhost:8080/"
        },
        "id": "qWv_rvoKWn7H",
        "outputId": "0895d13d-fa99-4157-db31-8c6e36f85470"
      },
      "execution_count": null,
      "outputs": [
        {
          "output_type": "execute_result",
          "data": {
            "text/plain": [
              "50"
            ]
          },
          "metadata": {},
          "execution_count": 107
        }
      ]
    },
    {
      "cell_type": "code",
      "source": [
        "[fdir(t) for t in a][0]"
      ],
      "metadata": {
        "colab": {
          "base_uri": "https://localhost:8080/"
        },
        "id": "UcAjxeWVSn3V",
        "outputId": "39ddde02-cf89-464f-d440-49b1375443c6"
      },
      "execution_count": null,
      "outputs": [
        {
          "output_type": "execute_result",
          "data": {
            "text/plain": [
              "['author',\n",
              " 'contributors',\n",
              " 'coordinates',\n",
              " 'created_at',\n",
              " 'destroy',\n",
              " 'display_text_range',\n",
              " 'favorite',\n",
              " 'favorite_count',\n",
              " 'favorited',\n",
              " 'full_text',\n",
              " 'geo',\n",
              " 'id',\n",
              " 'id_str',\n",
              " 'in_reply_to_screen_name',\n",
              " 'in_reply_to_status_id',\n",
              " 'in_reply_to_status_id_str',\n",
              " 'in_reply_to_user_id',\n",
              " 'in_reply_to_user_id_str',\n",
              " 'is_quote_status',\n",
              " 'lang',\n",
              " 'parse',\n",
              " 'parse_list',\n",
              " 'place',\n",
              " 'possibly_sensitive',\n",
              " 'quoted_status',\n",
              " 'quoted_status_id',\n",
              " 'quoted_status_id_str',\n",
              " 'quoted_status_permalink',\n",
              " 'retweet',\n",
              " 'retweet_count',\n",
              " 'retweeted',\n",
              " 'retweets',\n",
              " 'source',\n",
              " 'source_url',\n",
              " 'truncated',\n",
              " 'user']"
            ]
          },
          "metadata": {},
          "execution_count": 98
        }
      ]
    },
    {
      "cell_type": "code",
      "source": [
        "[t._json for t in a][0]"
      ],
      "metadata": {
        "colab": {
          "base_uri": "https://localhost:8080/"
        },
        "id": "PcyqsgtzPLVl",
        "outputId": "65718b37-4479-4dfa-d471-e8ad7a3b678e"
      },
      "execution_count": null,
      "outputs": [
        {
          "output_type": "execute_result",
          "data": {
            "text/plain": [
              "{'contributors': None,\n",
              " 'coordinates': None,\n",
              " 'created_at': 'Mon Nov 30 18:42:05 +0000 2020',\n",
              " 'display_text_range': [0, 277],\n",
              " 'favorite_count': 0,\n",
              " 'favorited': False,\n",
              " 'full_text': 'In Whole World The Most Deadliest Virology Virus Labs is Situated in Wuhan , And We Also Know That Its a inherit virus of SARS and You @DrTedros knows that China Invested Huge Money in Your Country in the name of Development but some day china eats your country like a Fry Fish https://t.co/bI94V9t8N8',\n",
              " 'geo': None,\n",
              " 'id': 1333481443557744640,\n",
              " 'id_str': '1333481443557744640',\n",
              " 'in_reply_to_screen_name': None,\n",
              " 'in_reply_to_status_id': None,\n",
              " 'in_reply_to_status_id_str': None,\n",
              " 'in_reply_to_user_id': None,\n",
              " 'in_reply_to_user_id_str': None,\n",
              " 'is_quote_status': True,\n",
              " 'lang': 'en',\n",
              " 'place': {'attributes': {},\n",
              "  'bounding_box': {'coordinates': [[[78.685838, 20.870138],\n",
              "     [79.103087, 20.870138],\n",
              "     [79.103087, 21.277859],\n",
              "     [78.685838, 21.277859]]],\n",
              "   'type': 'Polygon'},\n",
              "  'contained_within': [],\n",
              "  'country': 'India',\n",
              "  'country_code': 'IN',\n",
              "  'full_name': 'Hingana, India',\n",
              "  'id': '09bd07c669e2fe7c',\n",
              "  'name': 'Hingana',\n",
              "  'place_type': 'city',\n",
              "  'url': 'https://api.twitter.com/1.1/geo/id/09bd07c669e2fe7c.json'},\n",
              " 'possibly_sensitive': False,\n",
              " 'quoted_status': {'contributors': None,\n",
              "  'coordinates': None,\n",
              "  'created_at': 'Mon Nov 30 17:49:48 +0000 2020',\n",
              "  'display_text_range': [0, 151],\n",
              "  'extended_entities': {'media': [{'display_url': 'pic.twitter.com/dwn36Juokn',\n",
              "     'expanded_url': 'https://twitter.com/ani_digital/status/1333468285170450433/photo/1',\n",
              "     'id': 1333468269613867010,\n",
              "     'id_str': '1333468269613867010',\n",
              "     'indices': [152, 175],\n",
              "     'media_url': 'http://pbs.twimg.com/media/EoFuU4GW4AI-JIo.png',\n",
              "     'media_url_https': 'https://pbs.twimg.com/media/EoFuU4GW4AI-JIo.png',\n",
              "     'sizes': {'large': {'h': 450, 'resize': 'fit', 'w': 600},\n",
              "      'medium': {'h': 450, 'resize': 'fit', 'w': 600},\n",
              "      'small': {'h': 450, 'resize': 'fit', 'w': 600},\n",
              "      'thumb': {'h': 150, 'resize': 'crop', 'w': 150}},\n",
              "     'type': 'photo',\n",
              "     'url': 'https://t.co/dwn36Juokn'}]},\n",
              "  'favorite_count': 39,\n",
              "  'favorited': False,\n",
              "  'full_text': \"We need to know origin of Covid-19 virus, don't politicise probe, WHO chief Tedros appeals to global leaders\\n\\nRead @ANI Story | https://t.co/DpPmh0aT7w https://t.co/dwn36Juokn\",\n",
              "  'geo': None,\n",
              "  'id': 1333468285170450433,\n",
              "  'id_str': '1333468285170450433',\n",
              "  'in_reply_to_screen_name': None,\n",
              "  'in_reply_to_status_id': None,\n",
              "  'in_reply_to_status_id_str': None,\n",
              "  'in_reply_to_user_id': None,\n",
              "  'in_reply_to_user_id_str': None,\n",
              "  'is_quote_status': False,\n",
              "  'lang': 'en',\n",
              "  'place': None,\n",
              "  'possibly_sensitive': False,\n",
              "  'retweet_count': 4,\n",
              "  'retweeted': False,\n",
              "  'source': '<a href=\"https://mobile.twitter.com\" rel=\"nofollow\">Twitter Web App</a>',\n",
              "  'truncated': False,\n",
              "  'user': {'id': 817976607398731776, 'id_str': '817976607398731776'}},\n",
              " 'quoted_status_id': 1333468285170450433,\n",
              " 'quoted_status_id_str': '1333468285170450433',\n",
              " 'quoted_status_permalink': {'display': 'twitter.com/ani_digital/st…',\n",
              "  'expanded': 'https://twitter.com/ani_digital/status/1333468285170450433',\n",
              "  'url': 'https://t.co/bI94V9t8N8'},\n",
              " 'retweet_count': 0,\n",
              " 'retweeted': False,\n",
              " 'source': '<a href=\"http://twitter.com/download/android\" rel=\"nofollow\">Twitter for Android</a>',\n",
              " 'truncated': False,\n",
              " 'user': {'id': 939920731680399360, 'id_str': '939920731680399360'}}"
            ]
          },
          "metadata": {},
          "execution_count": 36
        }
      ]
    },
    {
      "cell_type": "code",
      "source": [
        "c=[t._json['full_text'] for t in b]"
      ],
      "metadata": {
        "id": "AetIaK7BzT46"
      },
      "execution_count": null,
      "outputs": []
    },
    {
      "cell_type": "code",
      "source": [
        "df=pd.read_csv(\"covid_subset/dec_2020.csv\", index_col=0)"
      ],
      "metadata": {
        "id": "obCzAAsiz4nz"
      },
      "execution_count": null,
      "outputs": []
    },
    {
      "cell_type": "code",
      "source": [
        "df.tail()"
      ],
      "metadata": {
        "colab": {
          "base_uri": "https://localhost:8080/",
          "height": 438
        },
        "id": "yjCViGdi6oZb",
        "outputId": "d2802dcf-085b-404a-99c1-3b4e4123701e"
      },
      "execution_count": null,
      "outputs": [
        {
          "output_type": "execute_result",
          "data": {
            "text/plain": [
              "       5924813  1333578880846684161  negative  wuhan  2020-12-01 00:00:00  \\\n",
              "0                                                                           \n",
              "13394  5938207  1334079401126858752  negative  covid  2020-12-02 00:00:00   \n",
              "13395  5938208  1334079380151095296  positive  covid  2020-12-02 00:00:00   \n",
              "13396  5938209  1334079360702296064  positive  covid  2020-12-02 00:00:00   \n",
              "13397  5938210  1334079337121738758  positive  covid  2020-12-02 00:00:00   \n",
              "13398  5938211  1334079326258556928  negative  covid  2020-12-02 00:00:00   \n",
              "\n",
              "      On 1st Dec 2019, first case of #COVID__19 was identified in Wuhan, China. So far, we lost almost 14.7 lakh due to this contagious virus worldwide with total 6.3 crore reported infected. India's death count being 1.38 lakh. And it's not over yet, PLEASE take care and keep healthy.  \n",
              "0                                                                                                                                                                                                                                                                                               \n",
              "13394  FPI inflows in India surge ahead while other e...                                                                                                                                                                                                                                        \n",
              "13395  Dr Apoorva Garg, Junior Resident, Department o...                                                                                                                                                                                                                                        \n",
              "13396  Report | As UK approves Pfizer-BioNTech COVID-...                                                                                                                                                                                                                                        \n",
              "13397  @NamrataSinghTOI I agree, Namrata. When COvid-...                                                                                                                                                                                                                                        \n",
              "13398  INTERPOL - INTERPOL warns of organized crime t...                                                                                                                                                                                                                                        "
            ],
            "text/html": [
              "\n",
              "  <div id=\"df-9154230c-12a1-4cab-8d03-37a04a52754a\">\n",
              "    <div class=\"colab-df-container\">\n",
              "      <div>\n",
              "<style scoped>\n",
              "    .dataframe tbody tr th:only-of-type {\n",
              "        vertical-align: middle;\n",
              "    }\n",
              "\n",
              "    .dataframe tbody tr th {\n",
              "        vertical-align: top;\n",
              "    }\n",
              "\n",
              "    .dataframe thead th {\n",
              "        text-align: right;\n",
              "    }\n",
              "</style>\n",
              "<table border=\"1\" class=\"dataframe\">\n",
              "  <thead>\n",
              "    <tr style=\"text-align: right;\">\n",
              "      <th></th>\n",
              "      <th>5924813</th>\n",
              "      <th>1333578880846684161</th>\n",
              "      <th>negative</th>\n",
              "      <th>wuhan</th>\n",
              "      <th>2020-12-01 00:00:00</th>\n",
              "      <th>On 1st Dec 2019, first case of #COVID__19 was identified in Wuhan, China. So far, we lost almost 14.7 lakh due to this contagious virus worldwide with total 6.3 crore reported infected. India's death count being 1.38 lakh. And it's not over yet, PLEASE take care and keep healthy.</th>\n",
              "    </tr>\n",
              "    <tr>\n",
              "      <th>0</th>\n",
              "      <th></th>\n",
              "      <th></th>\n",
              "      <th></th>\n",
              "      <th></th>\n",
              "      <th></th>\n",
              "      <th></th>\n",
              "    </tr>\n",
              "  </thead>\n",
              "  <tbody>\n",
              "    <tr>\n",
              "      <th>13394</th>\n",
              "      <td>5938207</td>\n",
              "      <td>1334079401126858752</td>\n",
              "      <td>negative</td>\n",
              "      <td>covid</td>\n",
              "      <td>2020-12-02 00:00:00</td>\n",
              "      <td>FPI inflows in India surge ahead while other e...</td>\n",
              "    </tr>\n",
              "    <tr>\n",
              "      <th>13395</th>\n",
              "      <td>5938208</td>\n",
              "      <td>1334079380151095296</td>\n",
              "      <td>positive</td>\n",
              "      <td>covid</td>\n",
              "      <td>2020-12-02 00:00:00</td>\n",
              "      <td>Dr Apoorva Garg, Junior Resident, Department o...</td>\n",
              "    </tr>\n",
              "    <tr>\n",
              "      <th>13396</th>\n",
              "      <td>5938209</td>\n",
              "      <td>1334079360702296064</td>\n",
              "      <td>positive</td>\n",
              "      <td>covid</td>\n",
              "      <td>2020-12-02 00:00:00</td>\n",
              "      <td>Report | As UK approves Pfizer-BioNTech COVID-...</td>\n",
              "    </tr>\n",
              "    <tr>\n",
              "      <th>13397</th>\n",
              "      <td>5938210</td>\n",
              "      <td>1334079337121738758</td>\n",
              "      <td>positive</td>\n",
              "      <td>covid</td>\n",
              "      <td>2020-12-02 00:00:00</td>\n",
              "      <td>@NamrataSinghTOI I agree, Namrata. When COvid-...</td>\n",
              "    </tr>\n",
              "    <tr>\n",
              "      <th>13398</th>\n",
              "      <td>5938211</td>\n",
              "      <td>1334079326258556928</td>\n",
              "      <td>negative</td>\n",
              "      <td>covid</td>\n",
              "      <td>2020-12-02 00:00:00</td>\n",
              "      <td>INTERPOL - INTERPOL warns of organized crime t...</td>\n",
              "    </tr>\n",
              "  </tbody>\n",
              "</table>\n",
              "</div>\n",
              "      <button class=\"colab-df-convert\" onclick=\"convertToInteractive('df-9154230c-12a1-4cab-8d03-37a04a52754a')\"\n",
              "              title=\"Convert this dataframe to an interactive table.\"\n",
              "              style=\"display:none;\">\n",
              "        \n",
              "  <svg xmlns=\"http://www.w3.org/2000/svg\" height=\"24px\"viewBox=\"0 0 24 24\"\n",
              "       width=\"24px\">\n",
              "    <path d=\"M0 0h24v24H0V0z\" fill=\"none\"/>\n",
              "    <path d=\"M18.56 5.44l.94 2.06.94-2.06 2.06-.94-2.06-.94-.94-2.06-.94 2.06-2.06.94zm-11 1L8.5 8.5l.94-2.06 2.06-.94-2.06-.94L8.5 2.5l-.94 2.06-2.06.94zm10 10l.94 2.06.94-2.06 2.06-.94-2.06-.94-.94-2.06-.94 2.06-2.06.94z\"/><path d=\"M17.41 7.96l-1.37-1.37c-.4-.4-.92-.59-1.43-.59-.52 0-1.04.2-1.43.59L10.3 9.45l-7.72 7.72c-.78.78-.78 2.05 0 2.83L4 21.41c.39.39.9.59 1.41.59.51 0 1.02-.2 1.41-.59l7.78-7.78 2.81-2.81c.8-.78.8-2.07 0-2.86zM5.41 20L4 18.59l7.72-7.72 1.47 1.35L5.41 20z\"/>\n",
              "  </svg>\n",
              "      </button>\n",
              "      \n",
              "  <style>\n",
              "    .colab-df-container {\n",
              "      display:flex;\n",
              "      flex-wrap:wrap;\n",
              "      gap: 12px;\n",
              "    }\n",
              "\n",
              "    .colab-df-convert {\n",
              "      background-color: #E8F0FE;\n",
              "      border: none;\n",
              "      border-radius: 50%;\n",
              "      cursor: pointer;\n",
              "      display: none;\n",
              "      fill: #1967D2;\n",
              "      height: 32px;\n",
              "      padding: 0 0 0 0;\n",
              "      width: 32px;\n",
              "    }\n",
              "\n",
              "    .colab-df-convert:hover {\n",
              "      background-color: #E2EBFA;\n",
              "      box-shadow: 0px 1px 2px rgba(60, 64, 67, 0.3), 0px 1px 3px 1px rgba(60, 64, 67, 0.15);\n",
              "      fill: #174EA6;\n",
              "    }\n",
              "\n",
              "    [theme=dark] .colab-df-convert {\n",
              "      background-color: #3B4455;\n",
              "      fill: #D2E3FC;\n",
              "    }\n",
              "\n",
              "    [theme=dark] .colab-df-convert:hover {\n",
              "      background-color: #434B5C;\n",
              "      box-shadow: 0px 1px 3px 1px rgba(0, 0, 0, 0.15);\n",
              "      filter: drop-shadow(0px 1px 2px rgba(0, 0, 0, 0.3));\n",
              "      fill: #FFFFFF;\n",
              "    }\n",
              "  </style>\n",
              "\n",
              "      <script>\n",
              "        const buttonEl =\n",
              "          document.querySelector('#df-9154230c-12a1-4cab-8d03-37a04a52754a button.colab-df-convert');\n",
              "        buttonEl.style.display =\n",
              "          google.colab.kernel.accessAllowed ? 'block' : 'none';\n",
              "\n",
              "        async function convertToInteractive(key) {\n",
              "          const element = document.querySelector('#df-9154230c-12a1-4cab-8d03-37a04a52754a');\n",
              "          const dataTable =\n",
              "            await google.colab.kernel.invokeFunction('convertToInteractive',\n",
              "                                                     [key], {});\n",
              "          if (!dataTable) return;\n",
              "\n",
              "          const docLinkHtml = 'Like what you see? Visit the ' +\n",
              "            '<a target=\"_blank\" href=https://colab.research.google.com/notebooks/data_table.ipynb>data table notebook</a>'\n",
              "            + ' to learn more about interactive tables.';\n",
              "          element.innerHTML = '';\n",
              "          dataTable['output_type'] = 'display_data';\n",
              "          await google.colab.output.renderOutput(dataTable, element);\n",
              "          const docLink = document.createElement('div');\n",
              "          docLink.innerHTML = docLinkHtml;\n",
              "          element.appendChild(docLink);\n",
              "        }\n",
              "      </script>\n",
              "    </div>\n",
              "  </div>\n",
              "  "
            ]
          },
          "metadata": {},
          "execution_count": 6
        }
      ]
    },
    {
      "cell_type": "markdown",
      "source": [
        "# Filtering by Sentiment"
      ],
      "metadata": {
        "id": "yv0iO2HbaJGe"
      }
    },
    {
      "cell_type": "code",
      "source": [
        "import pandas as pd\n",
        "\n",
        "subset = pd.read_csv(\"december.csv\", index_col=0)\n",
        "subset.isnull().sum()['full_text'] - len(subset)"
      ],
      "metadata": {
        "colab": {
          "base_uri": "https://localhost:8080/",
          "height": 504
        },
        "id": "s1ZlloJQaMzu",
        "outputId": "f4a5cc78-d454-4c50-924d-82dec80fa5ed"
      },
      "execution_count": null,
      "outputs": [
        {
          "output_type": "error",
          "ename": "KeyError",
          "evalue": "ignored",
          "traceback": [
            "\u001b[0;31m---------------------------------------------------------------------------\u001b[0m",
            "\u001b[0;31mKeyError\u001b[0m                                  Traceback (most recent call last)",
            "\u001b[0;32m/usr/local/lib/python3.7/dist-packages/pandas/core/indexes/base.py\u001b[0m in \u001b[0;36mget_loc\u001b[0;34m(self, key, method, tolerance)\u001b[0m\n\u001b[1;32m   3360\u001b[0m             \u001b[0;32mtry\u001b[0m\u001b[0;34m:\u001b[0m\u001b[0;34m\u001b[0m\u001b[0;34m\u001b[0m\u001b[0m\n\u001b[0;32m-> 3361\u001b[0;31m                 \u001b[0;32mreturn\u001b[0m \u001b[0mself\u001b[0m\u001b[0;34m.\u001b[0m\u001b[0m_engine\u001b[0m\u001b[0;34m.\u001b[0m\u001b[0mget_loc\u001b[0m\u001b[0;34m(\u001b[0m\u001b[0mcasted_key\u001b[0m\u001b[0;34m)\u001b[0m\u001b[0;34m\u001b[0m\u001b[0;34m\u001b[0m\u001b[0m\n\u001b[0m\u001b[1;32m   3362\u001b[0m             \u001b[0;32mexcept\u001b[0m \u001b[0mKeyError\u001b[0m \u001b[0;32mas\u001b[0m \u001b[0merr\u001b[0m\u001b[0;34m:\u001b[0m\u001b[0;34m\u001b[0m\u001b[0;34m\u001b[0m\u001b[0m\n",
            "\u001b[0;32m/usr/local/lib/python3.7/dist-packages/pandas/_libs/index.pyx\u001b[0m in \u001b[0;36mpandas._libs.index.IndexEngine.get_loc\u001b[0;34m()\u001b[0m\n",
            "\u001b[0;32m/usr/local/lib/python3.7/dist-packages/pandas/_libs/index.pyx\u001b[0m in \u001b[0;36mpandas._libs.index.IndexEngine.get_loc\u001b[0;34m()\u001b[0m\n",
            "\u001b[0;32mpandas/_libs/hashtable_class_helper.pxi\u001b[0m in \u001b[0;36mpandas._libs.hashtable.PyObjectHashTable.get_item\u001b[0;34m()\u001b[0m\n",
            "\u001b[0;32mpandas/_libs/hashtable_class_helper.pxi\u001b[0m in \u001b[0;36mpandas._libs.hashtable.PyObjectHashTable.get_item\u001b[0;34m()\u001b[0m\n",
            "\u001b[0;31mKeyError\u001b[0m: 'full_text'",
            "\nThe above exception was the direct cause of the following exception:\n",
            "\u001b[0;31mKeyError\u001b[0m                                  Traceback (most recent call last)",
            "\u001b[0;32m<ipython-input-29-620f7b932bcb>\u001b[0m in \u001b[0;36m<module>\u001b[0;34m()\u001b[0m\n\u001b[1;32m      2\u001b[0m \u001b[0;34m\u001b[0m\u001b[0m\n\u001b[1;32m      3\u001b[0m \u001b[0msubset\u001b[0m \u001b[0;34m=\u001b[0m \u001b[0mpd\u001b[0m\u001b[0;34m.\u001b[0m\u001b[0mread_csv\u001b[0m\u001b[0;34m(\u001b[0m\u001b[0;34m\"december.csv\"\u001b[0m\u001b[0;34m,\u001b[0m \u001b[0mindex_col\u001b[0m\u001b[0;34m=\u001b[0m\u001b[0;36m0\u001b[0m\u001b[0;34m)\u001b[0m\u001b[0;34m\u001b[0m\u001b[0;34m\u001b[0m\u001b[0m\n\u001b[0;32m----> 4\u001b[0;31m \u001b[0msubset\u001b[0m\u001b[0;34m.\u001b[0m\u001b[0misnull\u001b[0m\u001b[0;34m(\u001b[0m\u001b[0;34m)\u001b[0m\u001b[0;34m.\u001b[0m\u001b[0msum\u001b[0m\u001b[0;34m(\u001b[0m\u001b[0;34m)\u001b[0m\u001b[0;34m[\u001b[0m\u001b[0;34m'full_text'\u001b[0m\u001b[0;34m]\u001b[0m \u001b[0;34m-\u001b[0m \u001b[0mlen\u001b[0m\u001b[0;34m(\u001b[0m\u001b[0msubset\u001b[0m\u001b[0;34m)\u001b[0m\u001b[0;34m\u001b[0m\u001b[0;34m\u001b[0m\u001b[0m\n\u001b[0m",
            "\u001b[0;32m/usr/local/lib/python3.7/dist-packages/pandas/core/series.py\u001b[0m in \u001b[0;36m__getitem__\u001b[0;34m(self, key)\u001b[0m\n\u001b[1;32m    940\u001b[0m \u001b[0;34m\u001b[0m\u001b[0m\n\u001b[1;32m    941\u001b[0m         \u001b[0;32melif\u001b[0m \u001b[0mkey_is_scalar\u001b[0m\u001b[0;34m:\u001b[0m\u001b[0;34m\u001b[0m\u001b[0;34m\u001b[0m\u001b[0m\n\u001b[0;32m--> 942\u001b[0;31m             \u001b[0;32mreturn\u001b[0m \u001b[0mself\u001b[0m\u001b[0;34m.\u001b[0m\u001b[0m_get_value\u001b[0m\u001b[0;34m(\u001b[0m\u001b[0mkey\u001b[0m\u001b[0;34m)\u001b[0m\u001b[0;34m\u001b[0m\u001b[0;34m\u001b[0m\u001b[0m\n\u001b[0m\u001b[1;32m    943\u001b[0m \u001b[0;34m\u001b[0m\u001b[0m\n\u001b[1;32m    944\u001b[0m         \u001b[0;32mif\u001b[0m \u001b[0mis_hashable\u001b[0m\u001b[0;34m(\u001b[0m\u001b[0mkey\u001b[0m\u001b[0;34m)\u001b[0m\u001b[0;34m:\u001b[0m\u001b[0;34m\u001b[0m\u001b[0;34m\u001b[0m\u001b[0m\n",
            "\u001b[0;32m/usr/local/lib/python3.7/dist-packages/pandas/core/series.py\u001b[0m in \u001b[0;36m_get_value\u001b[0;34m(self, label, takeable)\u001b[0m\n\u001b[1;32m   1049\u001b[0m \u001b[0;34m\u001b[0m\u001b[0m\n\u001b[1;32m   1050\u001b[0m         \u001b[0;31m# Similar to Index.get_value, but we do not fall back to positional\u001b[0m\u001b[0;34m\u001b[0m\u001b[0;34m\u001b[0m\u001b[0;34m\u001b[0m\u001b[0m\n\u001b[0;32m-> 1051\u001b[0;31m         \u001b[0mloc\u001b[0m \u001b[0;34m=\u001b[0m \u001b[0mself\u001b[0m\u001b[0;34m.\u001b[0m\u001b[0mindex\u001b[0m\u001b[0;34m.\u001b[0m\u001b[0mget_loc\u001b[0m\u001b[0;34m(\u001b[0m\u001b[0mlabel\u001b[0m\u001b[0;34m)\u001b[0m\u001b[0;34m\u001b[0m\u001b[0;34m\u001b[0m\u001b[0m\n\u001b[0m\u001b[1;32m   1052\u001b[0m         \u001b[0;32mreturn\u001b[0m \u001b[0mself\u001b[0m\u001b[0;34m.\u001b[0m\u001b[0mindex\u001b[0m\u001b[0;34m.\u001b[0m\u001b[0m_get_values_for_loc\u001b[0m\u001b[0;34m(\u001b[0m\u001b[0mself\u001b[0m\u001b[0;34m,\u001b[0m \u001b[0mloc\u001b[0m\u001b[0;34m,\u001b[0m \u001b[0mlabel\u001b[0m\u001b[0;34m)\u001b[0m\u001b[0;34m\u001b[0m\u001b[0;34m\u001b[0m\u001b[0m\n\u001b[1;32m   1053\u001b[0m \u001b[0;34m\u001b[0m\u001b[0m\n",
            "\u001b[0;32m/usr/local/lib/python3.7/dist-packages/pandas/core/indexes/base.py\u001b[0m in \u001b[0;36mget_loc\u001b[0;34m(self, key, method, tolerance)\u001b[0m\n\u001b[1;32m   3361\u001b[0m                 \u001b[0;32mreturn\u001b[0m \u001b[0mself\u001b[0m\u001b[0;34m.\u001b[0m\u001b[0m_engine\u001b[0m\u001b[0;34m.\u001b[0m\u001b[0mget_loc\u001b[0m\u001b[0;34m(\u001b[0m\u001b[0mcasted_key\u001b[0m\u001b[0;34m)\u001b[0m\u001b[0;34m\u001b[0m\u001b[0;34m\u001b[0m\u001b[0m\n\u001b[1;32m   3362\u001b[0m             \u001b[0;32mexcept\u001b[0m \u001b[0mKeyError\u001b[0m \u001b[0;32mas\u001b[0m \u001b[0merr\u001b[0m\u001b[0;34m:\u001b[0m\u001b[0;34m\u001b[0m\u001b[0;34m\u001b[0m\u001b[0m\n\u001b[0;32m-> 3363\u001b[0;31m                 \u001b[0;32mraise\u001b[0m \u001b[0mKeyError\u001b[0m\u001b[0;34m(\u001b[0m\u001b[0mkey\u001b[0m\u001b[0;34m)\u001b[0m \u001b[0;32mfrom\u001b[0m \u001b[0merr\u001b[0m\u001b[0;34m\u001b[0m\u001b[0;34m\u001b[0m\u001b[0m\n\u001b[0m\u001b[1;32m   3364\u001b[0m \u001b[0;34m\u001b[0m\u001b[0m\n\u001b[1;32m   3365\u001b[0m         \u001b[0;32mif\u001b[0m \u001b[0mis_scalar\u001b[0m\u001b[0;34m(\u001b[0m\u001b[0mkey\u001b[0m\u001b[0;34m)\u001b[0m \u001b[0;32mand\u001b[0m \u001b[0misna\u001b[0m\u001b[0;34m(\u001b[0m\u001b[0mkey\u001b[0m\u001b[0;34m)\u001b[0m \u001b[0;32mand\u001b[0m \u001b[0;32mnot\u001b[0m \u001b[0mself\u001b[0m\u001b[0;34m.\u001b[0m\u001b[0mhasnans\u001b[0m\u001b[0;34m:\u001b[0m\u001b[0;34m\u001b[0m\u001b[0;34m\u001b[0m\u001b[0m\n",
            "\u001b[0;31mKeyError\u001b[0m: 'full_text'"
          ]
        }
      ]
    },
    {
      "cell_type": "markdown",
      "metadata": {
        "id": "2LX9iV8aNYUX"
      },
      "source": [
        "# PRE-PROCESSING TWEET DATA"
      ]
    },
    {
      "cell_type": "code",
      "execution_count": null,
      "metadata": {
        "id": "u5P5lY2pONio",
        "colab": {
          "base_uri": "https://localhost:8080/"
        },
        "outputId": "f81fad18-7e44-4694-f957-0601f9ab8c56"
      },
      "outputs": [
        {
          "output_type": "stream",
          "name": "stdout",
          "text": [
            "[nltk_data] Downloading package punkt to /root/nltk_data...\n",
            "[nltk_data]   Package punkt is already up-to-date!\n",
            "[nltk_data] Downloading package wordnet to /root/nltk_data...\n",
            "[nltk_data]   Package wordnet is already up-to-date!\n",
            "[nltk_data] Downloading package stopwords to /root/nltk_data...\n",
            "[nltk_data]   Package stopwords is already up-to-date!\n"
          ]
        }
      ],
      "source": [
        "import nltk\n",
        "import re\n",
        "import string\n",
        "\n",
        "# execute only once for first time below three downloaders                \n",
        "nltk.download('punkt')\n",
        "nltk.download('wordnet')\n",
        "nltk.download('stopwords')\n",
        "\n",
        "from nltk.corpus import stopwords\n",
        "stop_words=stopwords.words('english')\n",
        "\n",
        "from nltk.tokenize import word_tokenize\n",
        "from nltk.stem import WordNetLemmatizer\n",
        "\n",
        "# Function to clean tweets: cleantweets(pandas.dataframe)\n",
        "def cleantweets(df):\n",
        "  sentences = list()\n",
        "  df[\"full_text\"] = df[\"full_text\"].astype(str)\n",
        "  lines = df[\"full_text\"].values.tolist()\n",
        "  for text in lines:\n",
        "    #1. Convert into lower case\n",
        "    text = text.lower()\n",
        "    \n",
        "    #2. Removing hashtags, urls and user mentions\n",
        "    text = re.sub(\"@[A-Za-z0-9_]+\",\"\", text) #remove hashtag keyword\n",
        "    text = re.sub(\"#[A-Za-z0-9_]+\",\"\", text) #remove mentioned users\n",
        "    pattern = re.compile('http[s]?://(?:[a-zA-Z]|[0-9]|[$-_@.&+]|[!*\\(\\),]|(?:%[0-9a-fA-F][0-9a-fA-F]))+')\n",
        "    text = pattern.sub('', text)\n",
        "\n",
        "    #3. Removing emojies\n",
        "    emoji = re.compile(\"[\"\n",
        "                        u\"\\U0001F600-\\U0001FFFF\"  # emoticons\n",
        "                        u\"\\U0001F300-\\U0001F5FF\"  # symbols & pictographs\n",
        "                        u\"\\U0001F680-\\U0001F6FF\"  # transport & map symbols\n",
        "                        u\"\\U0001F1E0-\\U0001F1FF\"  # flags (iOS)\n",
        "                        u\"\\U00002702-\\U000027B0\"\n",
        "                        u\"\\U000024C2-\\U0001F251\"\n",
        "                        \"]+\", flags=re.UNICODE)\n",
        "    text = emoji.sub(r'', text)\n",
        "\n",
        "    #4. Remove special characters\n",
        "    text = re.sub(r\"[,.\\\"!@#$%^&*(){}?/;`~:<>+=-]\", \"\", text)\n",
        "\n",
        "    #5. Tokenize\n",
        "    tokens = word_tokenize(text)\n",
        "    table = str.maketrans('', '', string.punctuation)\n",
        "\n",
        "    #6. Removing punctuation\n",
        "    stripped = [w.translate(table) for w in tokens]\n",
        "\n",
        "    #7. Removing non-english characters\n",
        "    res = [idx for idx in stripped if not re.findall(\"[^\\u0000-\\u05C0\\u2100-\\u214F]+\", idx)]\n",
        "\n",
        "    #8. Removing stop-words\n",
        "    words = [w for w in res if not w in stop_words]\n",
        "    words = ' '.join(words)\n",
        "    sentences.append(words)\n",
        "  return sentences\n"
      ]
    },
    {
      "cell_type": "code",
      "execution_count": null,
      "metadata": {
        "id": "cSti2g2XpL2m"
      },
      "outputs": [],
      "source": [
        "import re\n",
        "import string\n",
        "\n",
        "#@title Function to clean tweets minimally: cleantweets3(pandas.dataframe)\n",
        "def cleantweets3(df):\n",
        "  sentences = list()\n",
        "  df[\"full_text\"] = df[\"full_text\"].astype(str)\n",
        "  lines = df[\"full_text\"].values.tolist()\n",
        "  for text in lines:  \n",
        "    #1. Convert into lower case\n",
        "    text = text.lower()\n",
        "\n",
        "    #2. Remove special characters\n",
        "    text = re.sub(r\"(\\n+)\", \".\", text)\n",
        "    text = re.sub(r\"\\.+\", \".\", text)\n",
        "    text = re.sub(r\" +\", \" \", text)\n",
        "    \n",
        "    #3. Removing hashtags, urls and user mentions\n",
        "    text = re.sub(\"\\S*@\\S*\\s?\",\"\", text) #remove emails\n",
        "    text = re.sub(\"@[A-Za-z0-9_]+\",\"\", text) #remove hashtag keyword\n",
        "    text = re.sub(\"#[A-Za-z0-9_]+\",\"\", text) #remove mentioned users\n",
        "    pattern = re.compile('(?:\\\\s)[^\\\\s\\\\.]*\\\\.[^\\\\s]+')\n",
        "    text = pattern.sub('', text)\n",
        "    pattern = re.compile('(https?:\\/\\/)(\\s)*(www\\.)?(\\s)*((\\w|\\s)+\\.)*([\\w\\-\\s]+\\/)*([\\w\\-]+)((\\?)?[\\w\\s]*=\\s*[\\w\\%&]*)*')\n",
        "    text = pattern.sub('', text)\n",
        "    \n",
        "    #4. Removing emojis\n",
        "    emoji = re.compile(\"[\"\n",
        "                        u\"\\U0001F600-\\U0001FFFF\" # emoticons\n",
        "                        u\"\\U0001F300-\\U0001F5FF\" # symbols & pictographs\n",
        "                        u\"\\U0001F680-\\U0001F6FF\" # transport & map symbols\n",
        "                        u\"\\U0001F1E0-\\U0001F1FF\" # flags (iOS)\n",
        "                        u\"\\U00002702-\\U000027B0\"\n",
        "                        u\"\\U000024C2-\\U0001F251\"\n",
        "                        \"]+\", flags=re.UNICODE)\n",
        "    text = emoji.sub(r'', text)\n",
        "\n",
        "    #5. Remove more special characters\n",
        "    text = re.sub(r\"[?!]\", \".\", text)\n",
        "    text = re.sub(r\"[,\\\"'_@#$%^&*(){}`~:;<>+=]\", \"\", text)\n",
        "    text = re.sub(r\"/\", \" or \", text)\n",
        "    text = re.sub(r\"^\\s+|\\s+$\", \"\", text)\n",
        "\n",
        "    #5. Tokenize\n",
        "    #tokens = word_tokenize(text)\n",
        "    #table = str.maketrans('', '', string.punctuation)\n",
        "\n",
        "    #7. Removing non-english characters\n",
        "    #res = [idx for idx in stripped if not re.findall(\"[^\\u0000-\\u05C0\\u2100-\\u214F]+\", idx)]\n",
        "\n",
        "    #6. Removing non-english characters\n",
        "    text = re.sub(\"[^\\u0000-\\u05C0\\u2100-\\u214F]+\", \"\", text)\n",
        "    text = re.split('(?![0-9])\\.(?![0-9])', text)\n",
        "    sentences.append(each)\n",
        "    \n",
        "    #8. Removing stop-words\n",
        "    #words = [w for w in res if not w in stop_words]\n",
        "    #words = ' '.join(words)\n",
        "    #words = re.sub(r\" +\", \" \", words)\n",
        "    #if len(words)>5:\n",
        "      #sentences.append(words)\n",
        "\n",
        "  return sentences\n"
      ]
    },
    {
      "cell_type": "code",
      "execution_count": null,
      "metadata": {
        "colab": {
          "base_uri": "https://localhost:8080/"
        },
        "id": "tyWApklW2IHX",
        "outputId": "1343fca6-38dc-4a5b-efed-eb6885b120f6"
      },
      "outputs": [
        {
          "output_type": "execute_result",
          "data": {
            "text/plain": [
              "(['Hello, my name is   Subham Burnwal. #SubhamBurnwal',\n",
              "  'mail me at subhambbcoll@gmail.com',\n",
              "  'Hi! My name is Subham   Burnwal. Hi. Hello there. ',\n",
              "  'Hello there..\\n What happened? Apples or Balls?',\n",
              "  'www.google.com www.google.com/',\n",
              "  'https://www.google.com',\n",
              "  'google.com google.com/as/ss'],\n",
              " ['hello  my name is subham burnwal.',\n",
              "  'mail me at',\n",
              "  'hi. my name is subham burnwal. hi. hello there.',\n",
              "  'hello there. what happened. apples or balls.',\n",
              "  'www.google.com',\n",
              "  'google.com'],\n",
              " ['hello name subham burnwal',\n",
              "  'mail subhambbcollcom',\n",
              "  'hi name subham burnwal hi hello',\n",
              "  'hello happened apples balls',\n",
              "  'wwwgooglecom wwwgooglecom',\n",
              "  '',\n",
              "  'googlecom googlecomasss'])"
            ]
          },
          "metadata": {},
          "execution_count": 22
        }
      ],
      "source": [
        "#@title comparing preprocessing\n",
        "lines = [\"Hello, my name is   Subham Burnwal. #SubhamBurnwal\",\n",
        "         \"mail me at subhambbcoll@gmail.com\",\n",
        "         \"Hi! My name is Subham   Burnwal. Hi. Hello there. \",\n",
        "         \"Hello there..\\n What happened? Apples or Balls?\",\n",
        "         \"www.google.com www.google.com/\",\n",
        "         \"https://www.google.com\",\n",
        "         \"google.com google.com/as/ss\"]\n",
        "sentences = list()\n",
        "for text in lines:\n",
        "  #1. Convert into lower case\n",
        "  text = text.lower()\n",
        "\n",
        "  #2. Removing hashtags, urls and user mentions\n",
        "  text = re.sub(\"\\S*@\\S*\\s?\",\"\", text) #remove emails\n",
        "  text = re.sub(\"@[A-Za-z0-9_]+\",\"\", text) #remove hashtag keyword\n",
        "  text = re.sub(\"#[A-Za-z0-9_]+\",\"\", text) #remove mentioned users\n",
        "  pattern = re.compile('(?:\\\\s)[^\\\\s\\\\.]*\\\\.[^\\\\s]+')\n",
        "  text = pattern.sub('', text)\n",
        "  pattern = re.compile('(https?:\\/\\/)(\\s)*(www\\.)?(\\s)*((\\w|\\s)+\\.)*([\\w\\-\\s]+\\/)*([\\w\\-]+)((\\?)?[\\w\\s]*=\\s*[\\w\\%&]*)*')\n",
        "  text = pattern.sub('', text)\n",
        "  \n",
        "  #3. Remove special characters\n",
        "  text = re.sub(r\"(\\n+)\", \".\", text)\n",
        "  text = re.sub(r\"\\.+\", \".\", text)\n",
        "  text = re.sub(r\" +\", \" \", text)\n",
        "  \n",
        "  #4. Removing emojis\n",
        "  emoji = re.compile(\"[\"\n",
        "                      u\"\\U0001F600-\\U0001FFFF\" # emoticons\n",
        "                      u\"\\U0001F300-\\U0001F5FF\" # symbols & pictographs\n",
        "                      u\"\\U0001F680-\\U0001F6FF\" # transport & map symbols\n",
        "                      u\"\\U0001F1E0-\\U0001F1FF\" # flags (iOS)\n",
        "                      u\"\\U00002702-\\U000027B0\"\n",
        "                      u\"\\U000024C2-\\U0001F251\"\n",
        "                      \"]+\", flags=re.UNICODE)\n",
        "  text = emoji.sub(r'', text)\n",
        "\n",
        "  #5. Remove more special characters\n",
        "  text = re.sub(r\"[?!]\", \".\", text)\n",
        "  text = re.sub(r\"[,\\\"'_@#$%^&*(){}`~:;<>+=]\", \" \", text)\n",
        "  text = re.sub(r\"/\", \" or \", text)\n",
        "  text = re.sub(r\"^\\s+|\\s+$\", \"\", text)\n",
        "\n",
        "  #6. Removing non-english characters\n",
        "  text = re.sub(\"[^\\u0000-\\u05C0\\u2100-\\u214F]+\", \"\", text)\n",
        "  if len(text)>5:\n",
        "    sentences.append(text)\n",
        "\n",
        "sentences2 = list()\n",
        "for text in lines:\n",
        "  #1. Convert into lower case\n",
        "  text = text.lower()\n",
        "  \n",
        "  #2. Removing hashtags, urls and user mentions\n",
        "  text = re.sub(\"@[A-Za-z0-9_]+\",\"\", text) #remove hashtag keyword\n",
        "  text = re.sub(\"#[A-Za-z0-9_]+\",\"\", text) #remove mentioned users\n",
        "  pattern = re.compile('http[s]?://(?:[a-zA-Z]|[0-9]|[$-_@.&+]|[!*\\(\\),]|(?:%[0-9a-fA-F][0-9a-fA-F]))+')\n",
        "  text = pattern.sub('', text)\n",
        "\n",
        "  #3. Removing emojies\n",
        "  emoji = re.compile(\"[\"\n",
        "                      u\"\\U0001F600-\\U0001FFFF\" # emoticons\n",
        "                      u\"\\U0001F300-\\U0001F5FF\" # symbols & pictographs\n",
        "                      u\"\\U0001F680-\\U0001F6FF\" # transport & map symbols\n",
        "                      u\"\\U0001F1E0-\\U0001F1FF\" # flags (iOS)\n",
        "                      u\"\\U00002702-\\U000027B0\"\n",
        "                      u\"\\U000024C2-\\U0001F251\"\n",
        "                      \"]+\", flags=re.UNICODE)\n",
        "  text = emoji.sub(r'', text)\n",
        "\n",
        "  #4. Remove special characters\n",
        "  text = re.sub(r\"[,.\\\"!@#$%^&*(){}?/;`~:<>+=-]\", \"\", text)\n",
        "\n",
        "  #5. Tokenize\n",
        "  tokens = word_tokenize(text)\n",
        "  table = str.maketrans('', '', string.punctuation)\n",
        "\n",
        "  #6. Removing punctuation\n",
        "  stripped = [w.translate(table) for w in tokens]\n",
        "\n",
        "  #7. Removing non-english characters\n",
        "  res = [idx for idx in stripped if not re.findall(\"[^\\u0000-\\u05C0\\u2100-\\u214F]+\", idx)]\n",
        "\n",
        "  #8. Removing stop-words\n",
        "  words = [w for w in res if not w in stop_words]\n",
        "  words = ' '.join(words)\n",
        "  sentences2.append(words)\n",
        "\n",
        "lines,sentences,sentences2"
      ]
    },
    {
      "cell_type": "code",
      "execution_count": null,
      "metadata": {
        "colab": {
          "base_uri": "https://localhost:8080/"
        },
        "id": "eN4hfzdNsbex",
        "outputId": "fd88f5a0-190b-4334-8e58-c0b1906b0a6a"
      },
      "outputs": [
        {
          "output_type": "stream",
          "name": "stdout",
          "text": [
            "14251 tweets for 4 days:\n",
            "2020-12-06, 2020-12-14, 2020-12-15, 2020-12-16, \n",
            "\n",
            "             date_stamp                                          full_text\n",
            "0  2020-12-06 00:00:00  The government is apparently planning a campai...\n",
            "1  2020-12-06 00:00:00  @prodK0YA Covid robbed us of so so so many mom...\n",
            "2  2020-12-06 00:00:00  This is election time in Assam, Corona agenda ...\n",
            "3  2020-12-06 00:00:00     Dec 6th Covid Report ! https://t.co/JiXdp9vI38\n",
            "4  2020-12-06 00:00:00  @RailwaySeva @ajit_1258 Sir LIft and Escalator... \n",
            "\n",
            "government apparently planning campaign inject trust vaccines good suggestions journalist\n",
            "covid robbed us many moments reaction performances dance step front army interaction fellow artists smilegesture specially spot army\n",
            "election time assam corona agenda sleep mode bjp wo nt apply police brutality assam ensure safety covid19 coz exam time\n",
            "dec 6th covid report\n",
            "sir lift escalators closed due covid 19\n",
            "2020-12-16 00:00:00\n",
            "2020-12-16 00:00:00\n",
            "2020-12-16 00:00:00\n",
            "2020-12-16 00:00:00\n",
            "2020-12-16 00:00:00\n",
            "\n",
            "Saved cleaned_data/14_dec_16_dec_2020.txt successfully\n",
            "\n",
            "Saved cleaned_data/14_dec_16_dec_2020_partial.txt successfully\n",
            "\n",
            "42315 tweets for 7 days:\n",
            "2020-12-07, 2020-12-08, 2020-12-09, 2020-12-10, 2020-12-11, 2020-12-12, 2020-12-13, \n",
            "\n",
            "             date_stamp                                          full_text\n",
            "0  2020-12-07 00:00:00  @ani_digital @ANI @iamsunnydeol u had corona ,...\n",
            "1  2020-12-07 00:00:00  Recent elections at different spheres  had alr...\n",
            "2  2020-12-07 00:00:00  @TheDailyPioneer @capt_amarinder Because capta...\n",
            "3  2020-12-07 00:00:00  @SandeepParekh @Jal_Kukdi @KyaUkhaadLega Even ...\n",
            "4  2020-12-07 00:00:00  Today was Sindh cultural day.Where were Corona... \n",
            "\n",
            "u corona resigned bjp yes q shame sod\n",
            "recent elections different spheres already finished covid 19 crisis without maintaining covid protocol single case infection reported following election participants agrarian movement going corona victim surprising drama\n",
            "captain busy instigating farmers agents time corona management state shd get priority punjab get decide priority\n",
            "even corona\n",
            "today sindh cultural daywhere corona sops mr bilawalmurad ali shahimran ismail\n",
            "2020-12-13 00:00:00\n",
            "2020-12-13 00:00:00\n",
            "2020-12-13 00:00:00\n",
            "2020-12-13 00:00:00\n",
            "2020-12-13 00:00:00\n",
            "\n",
            "Saved cleaned_data/7_dec_13_dec_2020.txt successfully\n",
            "\n",
            "Saved cleaned_data/7_dec_13_dec_2020_partial.txt successfully\n",
            "\n",
            "39035 tweets for 7 days:\n",
            "2020-11-30, 2020-12-01, 2020-12-02, 2020-12-03, 2020-12-04, 2020-12-05, 2020-12-06, \n",
            "\n",
            "             date_stamp                                          full_text\n",
            "0  2020-12-01 00:00:00  On 1st Dec 2019, first case of #COVID__19 was ...\n",
            "1  2020-12-01 00:00:00  @bbcnewstelugu Wuhan is part of Indian Territo...\n",
            "2  2020-12-01 00:00:00  @ANI If WHO can open a laboratory in Wuhan wet...\n",
            "3  2020-12-01 00:00:00  @ndtv Ask this idiot to go &amp; check in Wuha...\n",
            "4  2020-12-01 00:00:00  @TimesNow Agreed if Chinese believe Wuhan is a... \n",
            "\n",
            "1st dec 2019 first case identified wuhan china far lost almost 147 lakh due contagious virus worldwide total 63 crore reported infected india death count 138 lakh yet please take care keep healthy\n",
            "wuhan part indian territory case china accept\n",
            "open laboratory wuhan wet market stop new virus transmition world\n",
            "ask idiot go amp check wuhan china\n",
            "agreed chinese believe wuhan part india\n",
            "2020-12-06 00:00:00\n",
            "2020-12-06 00:00:00\n",
            "2020-12-06 00:00:00\n",
            "2020-12-06 00:00:00\n",
            "2020-12-06 00:00:00\n",
            "\n",
            "Saved cleaned_data/30_nov_6_dec_2020.txt successfully\n",
            "\n",
            "Saved cleaned_data/30_nov_6_dec_2020_partial.txt successfully\n",
            "\n"
          ]
        }
      ],
      "source": [
        "#@title Load tweets for first two weeks of December 2020\n",
        "import pandas as pd\n",
        "from pathlib import Path\n",
        "\n",
        "load_dir = Path('covid_subset')\n",
        "save_dir = 'cleaned_data/'\n",
        "\n",
        "for item in load_dir.glob('**/*'):\n",
        "  if item.suffix in ['.csv','.xlsx']:\n",
        "    #1. Load only text data\n",
        "    week=pd.read_csv('covid_subset/'+item.name, \n",
        "                     usecols=['date_stamp','full_text'], \n",
        "                     lineterminator='\\n')\n",
        "    \n",
        "    #2. Remove duplicate rows\n",
        "    week=week.drop_duplicates(subset=None, keep='first')\n",
        "\n",
        "    #3. Sample data by weeks\n",
        "    day_groups=week.groupby('date_stamp')\n",
        "    print(len(week),'tweets for',len(day_groups.groups.keys()),'days:')\n",
        "    for each in list(day_groups.groups.keys()):\n",
        "      print(each[:-9], end=', ')\n",
        " \n",
        "    print('\\n\\n',week.head(5),'\\n')\n",
        "\n",
        "    #4. Clean the dataset using cleantweets() function\n",
        "    sentences=cleantweets(week)\n",
        "    sentences2=cleantweets3(week)\n",
        "\n",
        "    for each in sentences[:5]:\n",
        "      print(each)\n",
        "    for each in sentences2[:5]:\n",
        "      print(each)\n",
        "    \n",
        "    #5. Save cleaned data(sentences) to .txt format for summarization\n",
        "    with open(save_dir+item.name[:-4]+'.txt', 'w', encoding=\"utf-8\") as fp:\n",
        "      for line in sentences:\n",
        "        fp.write('%s.\\n' %line)\n",
        "    fp.close()\n",
        "    print(\"\\nSaved\", save_dir+item.name[:-4]+'.txt', \"successfully\")\n",
        "    \n",
        "    with open(save_dir+item.name[:-4]+'_partial.txt', 'w', encoding=\"utf-8\") as fp:\n",
        "      for line in sentences2:\n",
        "        fp.write('%s.\\n' %line)\n",
        "    fp.close()\n",
        "    print(\"\\nSaved\", save_dir+item.name[:-4]+'_partial.txt', \"successfully\\n\")\n",
        "    "
      ]
    },
    {
      "cell_type": "markdown",
      "metadata": {
        "id": "USuO7pjYYkXC"
      },
      "source": [
        "# SUMMARIZATION METHODS FUNCTIONS"
      ]
    },
    {
      "cell_type": "markdown",
      "metadata": {
        "id": "y-nf-KvQgIdY"
      },
      "source": [
        "## - USING SUMY LIBRARY\n",
        "---\n",
        "Python's SUMY module offers several algorithms and methods for summarization\n",
        "\n",
        " - Luhn – Heuristic method\n",
        " - Latent Semantic Analysis\n",
        " - LexRank – Unsupervised approach inspired by algorithms PageRank and HITS, multi-document\n",
        " - TextRank – Also based on PageRank, single-document\n",
        "\n",
        "––––––––––––––––\n",
        "\n",
        " (TO DO)\n",
        " - SumBasic – Method that is often used as a baseline in the literature\n",
        " - KL-Sum – Method that greedily adds sentences to a summary so long as it decreases the KL Divergence."
      ]
    },
    {
      "cell_type": "code",
      "execution_count": null,
      "metadata": {
        "colab": {
          "base_uri": "https://localhost:8080/"
        },
        "id": "QEH47ok8bYUC",
        "outputId": "5a733a17-25c2-4966-cda3-c77928a2e028"
      },
      "outputs": [
        {
          "name": "stdout",
          "output_type": "stream",
          "text": [
            "\u001b[K     |████████████████████████████████| 87 kB 3.5 MB/s \n",
            "\u001b[K     |████████████████████████████████| 10.1 MB 28.1 MB/s \n",
            "\u001b[?25h  Building wheel for breadability (setup.py) ... \u001b[?25l\u001b[?25hdone\n",
            "  Building wheel for pycountry (setup.py) ... \u001b[?25l\u001b[?25hdone\n"
          ]
        }
      ],
      "source": [
        "!pip -q install sumy"
      ]
    },
    {
      "cell_type": "code",
      "execution_count": null,
      "metadata": {
        "colab": {
          "base_uri": "https://localhost:8080/"
        },
        "id": "yzGAnB_NbXvR",
        "outputId": "2b46be76-7924-4ed5-e983-f39818a49741"
      },
      "outputs": [
        {
          "name": "stdout",
          "output_type": "stream",
          "text": [
            "[nltk_data] Downloading package punkt to /root/nltk_data...\n",
            "[nltk_data]   Unzipping tokenizers/punkt.zip.\n"
          ]
        },
        {
          "data": {
            "text/plain": [
              "True"
            ]
          },
          "execution_count": 8,
          "metadata": {},
          "output_type": "execute_result"
        }
      ],
      "source": [
        "import sumy\n",
        "from sumy.parsers.plaintext import PlaintextParser\n",
        "from sumy.nlp.tokenizers import Tokenizer\n",
        "\n",
        "import nltk\n",
        "nltk.download('punkt')"
      ]
    },
    {
      "cell_type": "code",
      "execution_count": null,
      "metadata": {
        "id": "C2OTNAjabarj"
      },
      "outputs": [],
      "source": [
        "# For Files\n",
        "# parser = PlaintextParser.from_file('tweettext.txt', Tokenizer(\"english\"))\n",
        "# For variable\n",
        "parser = PlaintextParser.from_string(list(tweets.full_text), Tokenizer(\"english\"))"
      ]
    },
    {
      "cell_type": "markdown",
      "metadata": {
        "id": "YZ8h-vZZjxm9"
      },
      "source": [
        "### LexRank\n",
        "+ Unsupervised approach to text summarization based on graph-based centrality scoring of sentences.\n",
        "+ The main idea is that sentences \"recommend\" other similar sentences to the reader. Thus, if one sentence is very similar to many others, it will likely be a sentence of great importance\n",
        "+ Standalone pkg pip install lexrank"
      ]
    },
    {
      "cell_type": "code",
      "execution_count": null,
      "metadata": {
        "id": "xcaK6Kgwi3bk"
      },
      "outputs": [],
      "source": [
        "from sumy.summarizers.lex_rank import LexRankSummarizer \n",
        "\n",
        "#Summarize the document with 2 sentences\n",
        "summarizer = LexRankSummarizer()\n",
        "summary = summarizer(parser.document, 2) \n",
        "for sentence in summary:\n",
        "  print(sentence)"
      ]
    },
    {
      "cell_type": "markdown",
      "metadata": {
        "id": "Qw-iURv6mmnu"
      },
      "source": [
        "### Luhn\n",
        "+ Based on frequency of most important words"
      ]
    },
    {
      "cell_type": "code",
      "execution_count": null,
      "metadata": {
        "colab": {
          "base_uri": "https://localhost:8080/"
        },
        "id": "wSoJsuWx6C-j",
        "outputId": "8a91e5cb-0727-4bc3-9c20-231527b68d13"
      },
      "outputs": [
        {
          "name": "stdout",
          "output_type": "stream",
          "text": [
            "['1st dec 2019 first case identified wuhan china far lost almost 147 lakh due contagious virus worldwide total 63 crore reported infected india death count 138 lakh yet please take care keep healthy', 'wuhan part indian territory case china accept', 'open laboratory wuhan wet market stop new virus transmition world', 'ask idiot go amp check wuhan china', 'agreed chinese believe wuhan part india', 'china claiming india occupied territory wuhan corona virus originated indians saying china occupied indian territory', 'becoming corporate vaccination war guy made wuhan lab lost contol corporates going run show watch annual reports two companies next 23 years', 'leaked documents provide insight chinas coverup early days wuhan coronavirus outbreak', 'reports state media signal intensifying propaganda effort place birth virus countries', 'pretty good article']\n"
          ]
        }
      ],
      "source": [
        "from sumy.summarizers.luhn import LuhnSummarizer\n",
        "\n",
        "string=[\"1st dec 2019 first case identified wuhan china far lost almost 147 lakh due contagious virus worldwide total 63 crore reported infected india death count 138 lakh yet please take care keep healthy\",\n",
        "\"wuhan part indian territory case china accept\",\n",
        "\"open laboratory wuhan wet market stop new virus transmition world\",\n",
        "\"ask idiot go amp check wuhan china\",\n",
        "\"agreed chinese believe wuhan part india\",\n",
        "\"china claiming india occupied territory wuhan corona virus originated indians saying china occupied indian territory\",\n",
        "\"becoming corporate vaccination war guy made wuhan lab lost contol corporates going run show watch annual reports two companies next 23 years\",\n",
        "\"leaked documents provide insight chinas coverup early days wuhan coronavirus outbreak\",\n",
        "\"reports state media signal intensifying propaganda effort place birth virus countries\",\n",
        "\"pretty good article\"]\n",
        "parser = PlaintextParser.from_string(string, Tokenizer(\"english\"))\n",
        "\n",
        "summarizer_luhn = LuhnSummarizer()\n",
        "summary_1 = summarizer_luhn(parser.document,2)\n",
        "for sentence in summary_1:\n",
        "  print(sentence)"
      ]
    },
    {
      "cell_type": "markdown",
      "metadata": {
        "id": "lzF3Y2ThmxQR"
      },
      "source": [
        "### LSA\n",
        "+ Based on term frequency techniques with singular value decomposition to summarize texts."
      ]
    },
    {
      "cell_type": "code",
      "execution_count": null,
      "metadata": {
        "id": "P2aYHvq6nU7y"
      },
      "outputs": [],
      "source": [
        "from sumy.summarizers.lsa import LsaSummarizer\n",
        "summarizer_lsa = LsaSummarizer()\n",
        "summary_2 = summarizer_lsa(parser.document,2)\n",
        "for sentence in summary_2:\n",
        "  print(sentence)"
      ]
    },
    {
      "cell_type": "markdown",
      "metadata": {
        "id": "ZlC0hFwIncat"
      },
      "source": [
        "### KL-Sum"
      ]
    },
    {
      "cell_type": "code",
      "execution_count": null,
      "metadata": {
        "id": "PkKB6FQJ5-83"
      },
      "outputs": [],
      "source": [
        "from sumy.summarizers.kl import KLSummarizer\n",
        "\n",
        "summarizer_kl = KLSummarizer()\n",
        "summary_kl = summarizer_kl(parser.document,2)\n",
        "for sentence in summary_kl:\n",
        "  print(sentence)"
      ]
    },
    {
      "cell_type": "markdown",
      "metadata": {
        "id": "z_pMPxrXnnNe"
      },
      "source": [
        "### Sum Basic"
      ]
    },
    {
      "cell_type": "code",
      "execution_count": null,
      "metadata": {
        "id": "8yms0JLM58lX"
      },
      "outputs": [],
      "source": [
        "from sumy.summarizers.sum_basic import SumBasicSummarizer\n",
        "\n",
        "summarizer_sb = SumBasicSummarizer()\n",
        "summary_sb = summarizer_sb(parser.document,2)\n",
        "for sentence in summary_sb:\n",
        "  print(sentence)"
      ]
    },
    {
      "cell_type": "markdown",
      "metadata": {
        "id": "8QAbljzlkNKF"
      },
      "source": [
        "### Standalone LexRank"
      ]
    },
    {
      "cell_type": "code",
      "execution_count": null,
      "metadata": {
        "id": "J5k0itK9NFpC"
      },
      "outputs": [],
      "source": [
        "!pip -q install lexrank"
      ]
    },
    {
      "cell_type": "code",
      "execution_count": null,
      "metadata": {
        "id": "QH_BOfJEz3Jv"
      },
      "outputs": [],
      "source": [
        "#@title LexRank\n",
        "\n",
        "from lexrank import LexRank\n",
        "from lexrank.mappings.stopwords import STOPWORDS\n",
        "from path import Path\n",
        "\n",
        "lxr = LexRank(list(tweets.full_text.head())[0], stopwords=STOPWORDS['en'])\n",
        "\n",
        "sentences = list(tweets.full_text.head())\n",
        "\n",
        "# get summary with classical LexRank algorithm\n",
        "summary = lxr.get_summary(sentences, summary_size=2, threshold=.1)\n",
        "print(summary)\n",
        "\n",
        "# get summary with continuous LexRank\n",
        "summary_cont = lxr.get_summary(sentences, threshold=None)\n",
        "print(summary_cont)\n",
        "\n",
        "# get LexRank scores for sentences\n",
        "# 'fast_power_method' speeds up the calculation, but requires more RAM\n",
        "scores_cont = lxr.rank_sentences(\n",
        "    sentences,\n",
        "    threshold=None,\n",
        "    fast_power_method=True,\n",
        ")\n",
        "print(scores_cont)"
      ]
    },
    {
      "cell_type": "code",
      "execution_count": null,
      "metadata": {
        "id": "hhI8M1G83wpv"
      },
      "outputs": [],
      "source": [
        "#@title Luhn\n",
        "def find_summary_luhn():\n",
        "    p = PlaintextParser.from_file(\"testtext.txt\", Tokenizer(\"english\"))\n",
        "    s_luhn = LuhnSummarizer()\n",
        "    su =s_luhn(p.document,2)\n",
        "    for s in su:\n",
        "        print(s)"
      ]
    },
    {
      "cell_type": "code",
      "execution_count": null,
      "metadata": {
        "id": "sAVLflnj4A_j"
      },
      "outputs": [],
      "source": [
        "#@title LSA       \n",
        "def find_summary_lsa():\n",
        "    p = PlaintextParser.from_file(\"testtext.txt\", Tokenizer(\"english\"))\n",
        "    sumlsa = LsaSummarizer()\n",
        "    su =sumlsa(p.document,2)\n",
        "    for s in su:\n",
        "        print(s)"
      ]
    },
    {
      "cell_type": "markdown",
      "metadata": {
        "id": "vPxUf5wNVjHK"
      },
      "source": [
        "## - models and references"
      ]
    },
    {
      "cell_type": "code",
      "source": [
        "#@title model & reference summaries\n",
        "\n",
        "#         lsa\n",
        "model = ['''global cues strong dow fut 150 pts investors weighing updates covid19 \n",
        "          vaccine rollout well coronavirus stimulus stalemate washington japan 176 pts \n",
        "          hangseng 16 pts sgx nifty 48 pts brent crude hovers 50. sir please delay boards \n",
        "          able study situation online classes waste tuition due covid19 hence question \n",
        "          self study sir delay bords asking promotion without exam please sir. reports \n",
        "          27071 new cases 336 deaths last 24 hours india total cases rise 9884100 active \n",
        "          cases country stand 352586 covid death toll goes 143355. sir loan ony head 2 \n",
        "          kids money even eat food bank people behind rent tough life ca nt see kids \n",
        "          stage please help lost job husband due covid one even call home please help \n",
        "          least pay loan.''',\n",
        "\n",
        "          '''needs undertaken designated public health authority district rapid reaction \n",
        "          team rrt treating physician accordingly advice shall made regarding management \n",
        "          cases contacts need 34. clusters gt15 cases appear office essential principles \n",
        "          risk assessment isolation amp quarantine contacts case referral management \n",
        "          remain however scale arrangements higher either case risk assessment 24. \n",
        "          falling sick nt problem became covid mildhigh fever cold amp cough bound happen \n",
        "          thereafter depends immune system fast recover. due ongoing covid19 many tax \n",
        "          professionals across india covid positive requested kindly extend due date \n",
        "          gstr99c gst returns atleast 31032020. every state worked towards increasing \n",
        "          number covid tests tmc govt intentionally kept tests low hide reality deaths \n",
        "          11th dec 2020 west bengal stands 33rd position across states tests per million \n",
        "          count mere 65426. thermo king part irelandbased trane technologies made necessary \n",
        "          alterations added additional insulation adjusting refrigeration system tuna \n",
        "          shipping containers could get even colder.''',\n",
        "\n",
        "          '''covid india samples testing 154566990 total december 13 2020 855157 december \n",
        "          13 2020 positivity today 316 amp till date 639 cases 9884100 today 27071. bb sir \n",
        "          aap jab covid hue tab apne aur apki family ne situation ko kaise tackle kiya abhi \n",
        "          bhi bht log hai jo covid ko srsly nahi le rahe hai aur bina kaam bahar ghum rahe \n",
        "          haiunke liye msg btw videos inspire us.\n",
        "          313 lakh people paid rs 1841 crores fine wearing face masks public places ahmedabad \n",
        "          gujarat since outbreak covid19 1400 police personnel contracted covid19 amp 13 died \n",
        "          harshad patel dcp traffic control ahmedabad 1412. covid19 google eyeing flexible work \n",
        "          week delays office return business standard covid19 google eyeing flexible work week \n",
        "          delays office return business standardgoogle extends work home eyes flexible work \n",
        "          week report mintgoogle.''',\n",
        "#         lexrank\n",
        "          '''india updates  active cases fall 17th straight day fall last 24 hrs highest one \n",
        "          week additions total cases 22065 vs recoveries 34477 total additions lowest since \n",
        "          july 8 positivity rate slips 35 recovery rate rises 95. scrap dealer delhi moderna \n",
        "          covid19 vaccine documents accessed ema cyberattack reuters india moderna covid19 \n",
        "          vaccine documents accessed ema cyberattack reuters india singapore approves pfizer \n",
        "          covid vaccine. justice ashok bhushan led bench shortly deliver judgment appeal kerala \n",
        "          hc order prohibiting doctors advertising prescribing medicines cure covid19 except \n",
        "          centre advisory march 6 2020. already whole year spent stress either due covid due \n",
        "          work stress madam kindly extend due dates scattered manner 1 gstr 99c fy1819 till \n",
        "          31012021 2 tax audit fy201920 till 31032021. covid vaccine live updates india covid19 \n",
        "          caseload crosses 99 lakh economic times.''',\n",
        "\n",
        "          '''by health ministry india corona update india last 24 hour 9906165 total cases \n",
        "          143709 total death 354 total death 24 hour 22065 new case 339820 total active cases \n",
        "          9422636 total patient recover recovery rate 9511 total test 1555 crore 1mpop 112224. \n",
        "          modi govt report card 2020 january modi sleep february modi sleep march trump april \n",
        "          corona may lockdown june ramayan july mahabharat august unlock sep sushantsingh r oct \n",
        "          riya nov drugs dec kisan. back public demand got overwhelming response last time free \n",
        "          rtpcr testing camp conducted mumbai another free testing camp covid19 time additional \n",
        "          facility home visit nominal charge rs 100. yes still doesbut guess better drinking bat \n",
        "          urine wuhan wet food martkets amp making love bat right rest say history world endure \n",
        "          due adventurous chinachina needs learn keep excitement self control.''',\n",
        "\n",
        "          '''anna aduguthunnadi avakasam support try to help me it may help you truly can help \n",
        "          if needed can enquiry aboutme that i'm eligible for help or to corona effect worst \n",
        "          financial need help truly and a beautiful opportunity patty jenkins an actor's director \n",
        "          'wonder woman 1984' star chris pine - coronavirus updates corona live tracker corona \n",
        "          outbreak  coronavirus  coronavirus updates  covid-19  covid-19 tracker  covid19 outbreak \n",
        "          latest news  top india news- news18 '.but willing to talk'  rajnath singh says agri \n",
        "          reforms in farmers' best interest  no question of 'retrograde' steps - coronavirus updates \n",
        "          corona live tracker  corona outbreak  coronavirus  coronavirus updates  covid-19  covid-19 \n",
        "          tracker  covid19 outbr apprise about steps taken so far by commission for air quality \n",
        "          management  sc to centre - coronavirus updates corona live tracker  corona outbreak''',\n",
        "#         texrank\n",
        "          '''coronavirus  coronavirus updates  covid-19  covid-19 tracker  covid19 outbreak  latest \n",
        "          news top india new news18 afternoon digest  kejriwal slams amarinder amid farmers' protest \n",
        "          iit-m becomes covid hotspot and other top stories - coronavirus updates corona live tracker \n",
        "          corona outbreak  coronavirus  coronavirus updates  covid-19  covid-19 tracker  covid19 o \n",
        "          14-year-old mp girl raped after father sells her to rajasthan man for for rs 4 lakh - \n",
        "          coronavirus updates corona live tracker  corona outbreak  coronavirus  coronavirus updates \n",
        "          covid-19  covid-19 tracker  covid19 outbreak  latest news  top india news- n national \n",
        "          energy conservation day 2020  date  history and significance - coronavirus updates corona \n",
        "          live tracker  corona outbreak  coronavirus  coronavirus updates  covid-19  covid-19 tracker \n",
        "          covid19 outbreak  latest news  top india news- dear bangalakshmi teesta results to be \n",
        "          declared at 4pm at''',\n",
        "         \n",
        "          '''coronavirus updates corona live tracker  corona outbreak  coronavirus \n",
        "          coronavirus updates  covid-19  covid-19 tracker  covid19 outbreak  latest news  top india \n",
        "          news- iit-madras becomes covid-19 hotspot with 71 cases  sole food mess turns into 'recipe \n",
        "          for disaster' - coronavirus updates corona live tracker  corona outbreak  coronavirus \n",
        "          coronavirus updates  covid-19  covid-19 tracker  covid19 outbreak  latest news  to rupee \n",
        "          rises 5 paise to against us dollar in early trade - coronavirus updates corona live tracker \n",
        "          corona outbreak  coronavirus  coronavirus updates  covid-19  covid-19 tracker  covid19 \n",
        "          outbreak latest news  top india news- support is  today fight corona together all safety \n",
        "          rules beat  advani yaa bro bus 5 min mil paya bcz of corona pandemic hope jaldi milu after \n",
        "          this msmes have been hit much harder than the corporates due to corona.''',\n",
        "\n",
        "          '''india covid tally reaches 448820 new cases 327071. reports 122065 new cases 92218 deaths \n",
        "          last 24 hours india total cases rise 188371040 active cases country stand 582180 covid death \n",
        "          toll goes 247731. canada follows us  lead administers first vaccine shots health workers.'tukde\n",
        "          tukde gang freedom want azadi again. arogya setu best application technology fight covid word\n",
        "          learn india. modi modi modi''',\n",
        "#         lsa\n",
        "          '''reports 27071 new cases 336 deaths last 24 hours india total cases rise 9884100 active \n",
        "          cases country stand 352586 covid death toll goes 143355. sir loan ony head 2 kids money \n",
        "          even eat food bank people behind rent tough life ca nt see kids stage please help lost \n",
        "          job husband due covid one even call home please help least pay loan. tamil nadu update today \n",
        "          december 14. covid updates dec 14 total corona positives tn crossed eight lakh today 800029 \n",
        "          1203 covid patients discharged till today total 778081 active cases stands 10038 new cases \n",
        "          across tn 1141 new cases chennai343 deaths14 11909. financially immune fight corona corona \n",
        "          kavach insurance.''',\n",
        "         \n",
        "          '''india covid tally reaches 9884100 new cases 27071. reports 22065 new cases 354 deaths last \n",
        "          24 hours india total cases rise 9906165 active cases country stand 339820 covid death toll goes 143709.\n",
        "          canada follows us  lead administers first vaccine shots health workers. three black ordinances covid 19. \n",
        "          india records 22065 new covid19 cases 354 deaths last 24 hours samples tested 993665. covid death toll \n",
        "          mounts 143709 active cases 339820. breaking winter session parliament called due covid19. meanwhile \n",
        "          libbies their babies frustrated. farm bill passed covid mid session someone tell kisaan ki chinta \n",
        "          thi kisaan comes first.''',\n",
        "         \n",
        "          '''first five months india daily covid19 case count fell 23000 according union health ministry data \n",
        "          updated tuesday morning national recovery rate stood 95. election covid rallies covid farm bill \n",
        "          covid question time covid. fortis escort okhla 1512 2020 ews occupid total 1531 covid critical 0001 \n",
        "          non covid critical 0908 covid gb 00 09 non covid gb 0613 10 ews covid beds lying vacant. jampk reports \n",
        "          346 new covid19 cases total 116600. election rallies covid special parliament session covid hyderabad \n",
        "          election covid winter sessions omg covid winter session cancelled waah modi g waah..'''\n",
        "          ]\n",
        "\n",
        "reference = [          \n",
        "          \"About 4.4 million new cases reported this week globally. All regions reported \\\n",
        "          a decline in new cases. The Western Pacific Region reported a 7% increase in \\\n",
        "          new cases. The number of deaths reported globally were over 67000. The Eastern \\\n",
        "          Mediterranean and Western Pacific Regions reported 9% and 16% increase in deaths. \\\n",
        "          The South-East Asia Region reported 20% decrease in deaths. The cumulative number \\\n",
        "          of cases reported globally is nearly 216 million and the cumulative number of \\\n",
        "          deaths is just under 4.5 million.\",\n",
        "          \n",
        "          \"About 5.2 million new cases reported this week globally. All regions reported \\\n",
        "          a decline in new cases. Northern India reported a 12% increase in \\\n",
        "          new cases. The number of deaths reported globally were over 78000. \\\n",
        "          As of 31 December, India has tested more than 522 million samples and cases per \\\n",
        "          million is 22,854. Till date 498,115 confirmed deaths have occured due to \\\n",
        "          COVID-19, and deaths per million is 304. Total number of recovered patients \\\n",
        "          are 823,200. In the past 24 hours, 22,07,010 first doses and 9,07,686 final \\\n",
        "          doses were given. Total vaccinated count reached 25,10,825.\"\n",
        "\n",
        "          \"In the past 24 hours, 25,467 confirmed COVID-19 cases have been reported. \\\n",
        "          The highest number of cases in a day were 4,14,188; reported on 7th May 2021. \\\n",
        "          As of 7th August, India has tested more than 508 million samples and cases per \\\n",
        "          million is 22,854. Till date 438,650 confirmed deaths have occured due to \\\n",
        "          COVID-19, and deaths per million is 304. Total number of recovered patients \\\n",
        "          are 823,200. In the past 24 hours, 22,07,010 first doses and 9,07,686 final \\\n",
        "          doses were given. Total vaccinated count reached 23,81,358. Union Minister \\\n",
        "          of Health and Family Welfare and Chemicals & Fertilizers, released the first \\\n",
        "          commercial batch of COVAXIN in India.\",\n",
        "          ]"
      ],
      "metadata": {
        "cellView": "code",
        "id": "5tcQS63s2e8z"
      },
      "execution_count": null,
      "outputs": []
    },
    {
      "cell_type": "markdown",
      "metadata": {
        "id": "pGXQeZuK3SRL"
      },
      "source": [
        "##### 1. ROUGE-N"
      ]
    },
    {
      "cell_type": "code",
      "execution_count": null,
      "metadata": {
        "id": "JRUoOAiOZqP3"
      },
      "outputs": [],
      "source": [
        "#@title 1. ROUGE-N\n",
        "\n",
        "#@markdown With ROUGE-N, the N represents the n-gram that we are using. For ROUGE-1 we would be measuring the match-rate of unigrams between our model output and reference. ROUGE-2 and ROUGE-3 would use bigrams and trigrams respectively.\n",
        "\n",
        "#@markdown Once we have decided which N to use — we then calculate the ROUGE recall, precision, or F1 score.\n"
      ]
    },
    {
      "cell_type": "code",
      "execution_count": null,
      "metadata": {
        "id": "-mHR8bi87mVO"
      },
      "outputs": [],
      "source": [
        "#@title Recall\n",
        "#@markdown Rouge recall score is the fraction of n-grams found in both the model output and reference to the total number of n-grams in the reference.\n",
        "\n",
        "#@markdown \\begin{align} \\operatorname{rouge-N}_{recall} = \\frac{\\operatorname{n-grams}_{model} ∩ \\operatorname{n-grams}_{ref}}{\\operatorname{n-grams}_{ref}} \\end{align}\n",
        "\n",
        "#@markdown ![](https://miro.medium.com/max/573/1*ukAN98eFglZIL8S0GEnysQ.png)\n",
        "\n"
      ]
    },
    {
      "cell_type": "code",
      "execution_count": null,
      "metadata": {
        "id": "ohE1mODLtTKx"
      },
      "outputs": [],
      "source": [
        "#@title Precision\n",
        "#@markdown Rouge Precision-score is the fraction of n-grams found in both the model output and reference to the total number of n-grams in the model. \n",
        "\n",
        "#@markdown \\begin{align} \\operatorname{rouge-N}_{precision} = \\frac{\\operatorname{n-grams}_{model} ∩ \\operatorname{n-grams}_{ref}}{\\operatorname{n-grams}_{model}} \\end{align}\n",
        "\n",
        "#@markdown ![](https://miro.medium.com/max/573/1*8Du8ThhWqVFAX7YK6zSFyw.png)\n",
        "\n"
      ]
    },
    {
      "cell_type": "code",
      "execution_count": null,
      "metadata": {
        "id": "0sfON4xjte85"
      },
      "outputs": [],
      "source": [
        "#@title F1-score\n",
        "#@markdown Rouge F1-score is computed the same way as normal F1-score\n",
        "\n",
        "#@markdown  \\begin{align} \\operatorname{rouge-N}_{f_1} = 2*\\frac{precision*recall}{precision+recall} \\end{align}\n",
        "\n",
        "#@markdown ![](https://miro.medium.com/max/573/1*Fd0euidpCjrngTdJa4RZsA.png)\n",
        "\n"
      ]
    },
    {
      "cell_type": "markdown",
      "metadata": {
        "id": "nBS70XAI5YRD"
      },
      "source": [
        "##### 2. ROUGE-L"
      ]
    },
    {
      "cell_type": "code",
      "execution_count": null,
      "metadata": {
        "id": "4gUmYnkhOlpE"
      },
      "outputs": [],
      "source": [
        "#@title 2. ROUGE-L (R-L)\n",
        "#@markdown ROUGE-L measures the longest common subsequence (LCS) between our model output and reference. We count the longest sequence of tokens that is shared between both.\n",
        "#@markdown The idea here is that a longer shared sequence would indicate more similarity between the two sequences.\n",
        "\n",
        "#@markdown ![](https://miro.medium.com/max/573/1*75pRQKLGPE74QYQf342qDg.png)\n",
        "#@markdown ![](https://miro.medium.com/max/573/1*E9NapTGfUSpMr5sWKEijVg.png)\n",
        "#@markdown ![](https://miro.medium.com/max/573/1*7HrXtiyngYMrg-YMek4qUw.png)\n",
        "\n"
      ]
    },
    {
      "cell_type": "markdown",
      "metadata": {
        "id": "2-qG9zdc5xg4"
      },
      "source": [
        "##### 3. ROUGE-W"
      ]
    },
    {
      "cell_type": "code",
      "execution_count": null,
      "metadata": {
        "id": "DLtUjZlKPXTz"
      },
      "outputs": [],
      "source": [
        "#@title 3. ROUGE-W\n",
        "#@markdown ROUGE-W determines the weighted longest standard sub-sequence, which is an enhancement of the LCS.\n",
        "#@markdown "
      ]
    },
    {
      "cell_type": "markdown",
      "metadata": {
        "id": "B3kAr9Rb50Hi"
      },
      "source": [
        "##### 4. ROUGE-S"
      ]
    },
    {
      "cell_type": "code",
      "execution_count": null,
      "metadata": {
        "id": "ORECAo9JPYy8"
      },
      "outputs": [],
      "source": [
        "#@title 4. ROUGE-S\n",
        "#@markdown ROUGE-S (Skip-N-gram co-occurrence statistics) measures the percentage of skip n-grams shared between the system and reference summaries.\n",
        "#@markdown Skip-grams are consecutive words from the reference, that appear in the model output but are separated by one-or-more other words.\n",
        "#@markdown This is logical as a good model would look for the tokens in different contexts and not only as present in the reference.\n",
        "\n",
        "#@markdown ![](https://miro.medium.com/max/573/1*bQucZ_cJXveAcLVXz0j-zA.png)\n",
        "#@markdown ![](https://miro.medium.com/max/573/1*g-Ucb9QosEBkRI0Jv31ZPQ.png)\n",
        "\n",
        "#@markdown In the above example it is evident why Rouge-S is a better metric to see how well the model captures information\n",
        "\n"
      ]
    },
    {
      "cell_type": "markdown",
      "metadata": {
        "id": "jF7HcqMd52vM"
      },
      "source": [
        "##### 5. ROUGE-SU*"
      ]
    },
    {
      "cell_type": "code",
      "execution_count": null,
      "metadata": {
        "id": "_4pZmnrpPSc5"
      },
      "outputs": [],
      "source": [
        "#@title 5. ROUGE-SU*\n",
        "#@markdown ROUGE-SU is extended by employing skip-bi-grams and a uni-gram as a measuring unit, a weighted average of ROUGE-S and ROUGE-N. These metrics allow bi-grams to be made up of non-adjacent words with a maximum of n-words between them [16].\n",
        "\n",
        "#@markdown ROUGE-SU4 has been shown to best approximate human-assigned scores of summaries.\n",
        "#@markdown It employs N=4\n"
      ]
    },
    {
      "cell_type": "markdown",
      "source": [
        "##### ROUGE-SU4"
      ],
      "metadata": {
        "id": "9Aaml8xTU9_l"
      }
    },
    {
      "cell_type": "code",
      "source": [
        "def ROUGE1(s_predict,s_true):\n",
        "  match_gram = 0\n",
        "  all_gram = 0\n",
        "  for j,word in enumerate(s_predict):\n",
        "    if word in s_true:\n",
        "      match_gram+=1\n",
        "  all_gram += len(s_true)\n",
        "\n",
        "  #print \"match_gram is:\",match_gram\n",
        "  #print \"all_gram is:\",all_gram\n",
        "  predict_all_gram+=((len(s_predict)-5)*5+9)\n",
        "  true_all_gram+=((len(s_true)-5)*5+9)\n",
        "\n",
        "  predict_all_gram+=all_gram\n",
        "  true_all_gram+=all_gram\n",
        "  R = match_gram*1.0/true_all_gram\n",
        "  P = match_gram*1.0/predict_all_gram\n",
        "  F = (1+beta*beta)*1.0*P*R/(R+(beta*beta*P))\n",
        "  print(\"R is:\",R)\n",
        "  print(\"P is:\",P)\n",
        "  print(\"F is:\",F)\n",
        "  return R,P,F\n",
        "\n",
        "  return match_gram*1.0/all_gram\n",
        "\n",
        "def ROUGE1_character_based(list_predict,list_true):\n",
        "  match_gram = 0\n",
        "  all_gram = 0\n",
        "  for i,s_predict in enumerate(list_predict):\n",
        "    s_true = list_true[i]\n",
        "    #s_predict = s_predict.decode(\"utf8\")\n",
        "    #s_true = list_true[i].decode(\"utf8\")\n",
        "    for j,word in enumerate(s_predict):\n",
        "      if word in s_true:\n",
        "        match_gram+=1\n",
        "    all_gram += len(s_true)\n",
        "  #print \"match_gram is:\",match_gram\n",
        "  #print \"all_gram is:\",all_gram\n",
        "\n",
        "  return match_gram*1.0/all_gram\n",
        "\n",
        "def ROUGE2_character_based(list_predict,list_true):\n",
        "  match_gram = 0\n",
        "  all_gram = 0\n",
        "  for i,s_predict in enumerate(list_predict):\n",
        "    s_true = list_true[i]\n",
        "    #s_predict = s_predict.decode(\"utf8\")\n",
        "    #s_true = list_true[i].decode(\"utf8\")\n",
        "    for j,word in enumerate(s_predict):\n",
        "      if j > 0:\n",
        "        for k,true_word in enumerate(s_true):\n",
        "          if k > 0:\n",
        "            if word==true_word and s_predict[j-1] == s_true[k-1]:\n",
        "              match_gram+=1\n",
        "              break\n",
        "    all_gram += len(s_true)-1\n",
        "  #print \"match_gram is:\",match_gram\n",
        "  #print \"all_gram is:\",all_gram\n",
        "\n",
        "  return match_gram*1.0/all_gram\n",
        "\n",
        "\n",
        "def ROUGE_SU4(list_predict,list_true,beta):\n",
        "  match_gram = 0\n",
        "  all_gram = 0\n",
        "  for i,s_predict in enumerate(list_predict):\n",
        "    #s_predict = s_predict.decode(\"utf8\")\n",
        "    #s_true = list_true[i].decode(\"utf8\")\n",
        "    s_true = list_true[i]\n",
        "    for j,word in enumerate(s_predict):\n",
        "      if word in s_true:\n",
        "        match_gram+=1\n",
        "    all_gram += len(s_true)\n",
        "\n",
        "  for i,s_predict in enumerate(list_predict):\n",
        "    #s_predict = s_predict.decode(\"utf8\")\n",
        "    #s_true = list_true[i].decode(\"utf8\")\n",
        "    s_true = list_true[i]\n",
        "    for j,word in enumerate(s_predict):\n",
        "      for k in range(1,6):\n",
        "        flag = 0\n",
        "        if j+k<len(s_predict):\n",
        "          for m,true_word in enumerate(s_true):\n",
        "            if flag == 1:\n",
        "              break\n",
        "            for n in range(1,6):\n",
        "              if m+n < len(s_true):\n",
        "                if word==true_word and s_predict[j+k] == s_true[m+n]:\n",
        "                  match_gram += 1\n",
        "                  flag = 1\n",
        "                  break\n",
        "\n",
        "  predict_all_gram = 0\n",
        "  true_all_gram = 0\n",
        "\n",
        "  for i,s_predict in enumerate(list_predict):\n",
        "    #s_predict = s_predict.decode(\"utf8\")\n",
        "    #s_true = list_true[i].decode(\"utf8\")\n",
        "    s_true = list_true[i]\n",
        "    predict_all_gram+=((len(s_predict)-5)*5+9)\n",
        "    true_all_gram+=((len(s_true)-5)*5+9)\n",
        "\n",
        "  predict_all_gram+=all_gram\n",
        "  true_all_gram+=all_gram\n",
        "  R = match_gram*1.0/true_all_gram\n",
        "  P = match_gram*1.0/predict_all_gram\n",
        "  F = (1+beta*beta)*1.0*P*R/(R+(beta*beta*P))\n",
        "  print(\"R is:\",R)\n",
        "  print(\"P is:\",P)\n",
        "  print(\"F is:\",F)\n",
        "  return R,P,F\n",
        "\n",
        "\n",
        "#list_predict = [\"我是正确的摘要其他的都是假的\",\"杨志烨无敌\"]\n",
        "#list_true = [\"我是不对的摘要哈哈哈假的\",\"基本无敌吧\"]\n",
        "#print(ROUGE1_character_based(list_predict,list_true))\n",
        "#print(ROUGE2_character_based(list_predict,list_true))\n",
        "#print(ROUGE_SU4(list_predict,list_true,1))\n",
        "\n",
        "#print(ROUGE1_character_based(model[2],reference[0]))\n",
        "#print(ROUGE2_character_based(model[2],reference[0]))\n",
        "#print(ROUGE_SU4(model[2],reference[0],1))\n",
        "#print(ROUGE1(model[2],reference[0]))"
      ],
      "metadata": {
        "colab": {
          "base_uri": "https://localhost:8080/"
        },
        "id": "jbnyEeC-U7gj",
        "outputId": "343fddbe-07c8-42bf-bed9-87880df54f95"
      },
      "execution_count": null,
      "outputs": [
        {
          "output_type": "execute_result",
          "data": {
            "text/plain": [
              "0.3333333333333333"
            ]
          },
          "metadata": {},
          "execution_count": 29
        }
      ]
    },
    {
      "cell_type": "markdown",
      "source": [
        "#### ROUGE Library"
      ],
      "metadata": {
        "id": "pfjji8bYjRTn"
      }
    },
    {
      "cell_type": "code",
      "execution_count": null,
      "metadata": {
        "id": "n8_DkEV273P_",
        "colab": {
          "base_uri": "https://localhost:8080/"
        },
        "outputId": "8b5f554b-a37c-4cdc-b5c5-3ba76fd46d6b"
      },
      "outputs": [
        {
          "output_type": "stream",
          "name": "stdout",
          "text": [
            "\u001b[K     |████████████████████████████████| 87 kB 3.5 MB/s \n",
            "\u001b[K     |████████████████████████████████| 10.1 MB 26.3 MB/s \n",
            "\u001b[?25h  Building wheel for breadability (setup.py) ... \u001b[?25l\u001b[?25hdone\n",
            "  Building wheel for pycountry (setup.py) ... \u001b[?25l\u001b[?25hdone\n"
          ]
        }
      ],
      "source": [
        "!pip -q install rouge\n",
        "!pip -q install sumy"
      ]
    },
    {
      "cell_type": "markdown",
      "source": [
        "# EVALUATION USING ROUGE.py"
      ],
      "metadata": {
        "id": "-_IN1IgLkyjd"
      }
    },
    {
      "cell_type": "code",
      "execution_count": null,
      "metadata": {
        "id": "UuxZKxwqw6En",
        "colab": {
          "base_uri": "https://localhost:8080/"
        },
        "outputId": "2410ce46-b486-49f5-f791-c1154651626f"
      },
      "outputs": [
        {
          "output_type": "stream",
          "name": "stdout",
          "text": [
            "WEEK  0 ------------------------------------------------\n",
            "global cues strong dow fut 150 pts investors weighing updates covid19 \n",
            "          vaccine rollout well coronavirus stimulus stalemate washington japan 176 pts \n",
            "          hangseng 16 pts sgx nifty 48 pts brent crude hovers 50. sir please delay boards \n",
            "          able study situation online classes waste tuition due covid19 hence question \n",
            "          self study sir delay bords asking promotion without exam please sir. reports \n",
            "          27071 new cases 336 deaths last 24 hours india total cases rise 9884100 active \n",
            "          cases country stand 352586 covid death toll goes 143355. sir loan ony head 2 \n",
            "          kids money even eat food bank people behind rent tough life ca nt see kids \n",
            "          stage please help lost job husband due covid one even call home please help \n",
            "          least pay loan.\n",
            "rouge-1\n",
            "r 0.10010540322120508\n",
            "p 0.09429557764041718\n",
            "f 0.10451795377388426\n",
            "\n",
            "rouge-2\n",
            "r 0.05283596228615173\n",
            "p 0.057574796060696924\n",
            "f 0.045998692024717014\n",
            "\n",
            "rouge-l\n",
            "r 0.10477766848662079\n",
            "p 0.09111038567460863\n",
            "f 0.09233723352769235\n",
            "\n",
            "needs undertaken designated public health authority district rapid reaction \n",
            "          team rrt treating physician accordingly advice shall made regarding management \n",
            "          cases contacts need 34. clusters gt15 cases appear office essential principles \n",
            "          risk assessment isolation amp quarantine contacts case referral management \n",
            "          remain however scale arrangements higher either case risk assessment 24. \n",
            "          falling sick nt problem became covid mildhigh fever cold amp cough bound happen \n",
            "          thereafter depends immune system fast recover. due ongoing covid19 many tax \n",
            "          professionals across india covid positive requested kindly extend due date \n",
            "          gstr99c gst returns atleast 31032020. every state worked towards increasing \n",
            "          number covid tests tmc govt intentionally kept tests low hide reality deaths \n",
            "          11th dec 2020 west bengal stands 33rd position across states tests per million \n",
            "          count mere 65426. thermo king part irelandbased trane technologies made necessary \n",
            "          alterations added additional insulation adjusting refrigeration system tuna \n",
            "          shipping containers could get even colder.\n",
            "rouge-1\n",
            "r 0.1706178259593247\n",
            "p 0.12360567254259151\n",
            "f 0.14040398268740611\n",
            "\n",
            "rouge-2\n",
            "r 0.0692260779938866\n",
            "p 0.059948570296156425\n",
            "f 0.06391732207268033\n",
            "\n",
            "rouge-l\n",
            "r 0.15840134402084893\n",
            "p 0.11492506707139954\n",
            "f 0.12422547360712229\n",
            "\n",
            "covid india samples testing 154566990 total december 13 2020 855157 december \n",
            "          13 2020 positivity today 316 amp till date 639 cases 9884100 today 27071. bb sir \n",
            "          aap jab covid hue tab apne aur apki family ne situation ko kaise tackle kiya abhi \n",
            "          bhi bht log hai jo covid ko srsly nahi le rahe hai aur bina kaam bahar ghum rahe \n",
            "          haiunke liye msg btw videos inspire us.\n",
            "          313 lakh people paid rs 1841 crores fine wearing face masks public places ahmedabad \n",
            "          gujarat since outbreak covid19 1400 police personnel contracted covid19 amp 13 died \n",
            "          harshad patel dcp traffic control ahmedabad 1412. covid19 google eyeing flexible work \n",
            "          week delays office return business standard covid19 google eyeing flexible work week \n",
            "          delays office return business standardgoogle extends work home eyes flexible work \n",
            "          week report mintgoogle.\n",
            "rouge-1\n",
            "r 0.08796644384143787\n",
            "p 0.08544533970871802\n",
            "f 0.09596206224816463\n",
            "\n",
            "rouge-2\n",
            "r 0.06244611566937458\n",
            "p 0.06653478876562306\n",
            "f 0.05421341960979059\n",
            "\n",
            "rouge-l\n",
            "r 0.0902117849886161\n",
            "p 0.07779522651443092\n",
            "f 0.09526138114124516\n",
            "\n",
            "india updates  active cases fall 17th straight day fall last 24 hrs highest one \n",
            "          week additions total cases 22065 vs recoveries 34477 total additions lowest since \n",
            "          july 8 positivity rate slips 35 recovery rate rises 95. scrap dealer delhi moderna \n",
            "          covid19 vaccine documents accessed ema cyberattack reuters india moderna covid19 \n",
            "          vaccine documents accessed ema cyberattack reuters india singapore approves pfizer \n",
            "          covid vaccine. justice ashok bhushan led bench shortly deliver judgment appeal kerala \n",
            "          hc order prohibiting doctors advertising prescribing medicines cure covid19 except \n",
            "          centre advisory march 6 2020. already whole year spent stress either due covid due \n",
            "          work stress madam kindly extend due dates scattered manner 1 gstr 99c fy1819 till \n",
            "          31012021 2 tax audit fy201920 till 31032021. covid vaccine live updates india covid19 \n",
            "          caseload crosses 99 lakh economic times.\n",
            "rouge-1\n",
            "r 0.11513838925776809\n",
            "p 0.09446357597651156\n",
            "f 0.09726407821046118\n",
            "\n",
            "rouge-2\n",
            "r 0.03520456811086505\n",
            "p 0.03208782745096996\n",
            "f 0.033391109940796714\n",
            "\n",
            "rouge-l\n",
            "r 0.09261240916877214\n",
            "p 0.07365917764873564\n",
            "f 0.09436273949410293\n",
            "\n",
            "by health ministry india corona update india last 24 hour 9906165 total cases \n",
            "          143709 total death 354 total death 24 hour 22065 new case 339820 total active cases \n",
            "          9422636 total patient recover recovery rate 9511 total test 1555 crore 1mpop 112224. \n",
            "          modi govt report card 2020 january modi sleep february modi sleep march trump april \n",
            "          corona may lockdown june ramayan july mahabharat august unlock sep sushantsingh r oct \n",
            "          riya nov drugs dec kisan. back public demand got overwhelming response last time free \n",
            "          rtpcr testing camp conducted mumbai another free testing camp covid19 time additional \n",
            "          facility home visit nominal charge rs 100. yes still doesbut guess better drinking bat \n",
            "          urine wuhan wet food martkets amp making love bat right rest say history world endure \n",
            "          due adventurous chinachina needs learn keep excitement self control.\n",
            "rouge-1\n",
            "r 0.09515221192228497\n",
            "p 0.07774038016187809\n",
            "f 0.08668015576071969\n",
            "\n",
            "rouge-2\n",
            "r 0.05314119468723859\n",
            "p 0.03717392104828815\n",
            "f 0.05263734029821092\n",
            "\n",
            "rouge-l\n",
            "r 0.07767583886986763\n",
            "p 0.0633532514449417\n",
            "f 0.0794195835690008\n",
            "\n",
            "WEEK  1 ------------------------------------------------\n",
            "global cues strong dow fut 150 pts investors weighing updates covid19 \n",
            "          vaccine rollout well coronavirus stimulus stalemate washington japan 176 pts \n",
            "          hangseng 16 pts sgx nifty 48 pts brent crude hovers 50. sir please delay boards \n",
            "          able study situation online classes waste tuition due covid19 hence question \n",
            "          self study sir delay bords asking promotion without exam please sir. reports \n",
            "          27071 new cases 336 deaths last 24 hours india total cases rise 9884100 active \n",
            "          cases country stand 352586 covid death toll goes 143355. sir loan ony head 2 \n",
            "          kids money even eat food bank people behind rent tough life ca nt see kids \n",
            "          stage please help lost job husband due covid one even call home please help \n",
            "          least pay loan.\n",
            "rouge-1\n",
            "r 0.1179921776725261\n",
            "p 0.07802612139399091\n",
            "f 0.10565307111722236\n",
            "\n",
            "rouge-2\n",
            "r 0.07018975169606043\n",
            "p 0.05554163545393079\n",
            "f 0.07254087828546567\n",
            "\n",
            "rouge-l\n",
            "r 0.11817485099591576\n",
            "p 0.08473377715569627\n",
            "f 0.0983254195654645\n",
            "\n",
            "needs undertaken designated public health authority district rapid reaction \n",
            "          team rrt treating physician accordingly advice shall made regarding management \n",
            "          cases contacts need 34. clusters gt15 cases appear office essential principles \n",
            "          risk assessment isolation amp quarantine contacts case referral management \n",
            "          remain however scale arrangements higher either case risk assessment 24. \n",
            "          falling sick nt problem became covid mildhigh fever cold amp cough bound happen \n",
            "          thereafter depends immune system fast recover. due ongoing covid19 many tax \n",
            "          professionals across india covid positive requested kindly extend due date \n",
            "          gstr99c gst returns atleast 31032020. every state worked towards increasing \n",
            "          number covid tests tmc govt intentionally kept tests low hide reality deaths \n",
            "          11th dec 2020 west bengal stands 33rd position across states tests per million \n",
            "          count mere 65426. thermo king part irelandbased trane technologies made necessary \n",
            "          alterations added additional insulation adjusting refrigeration system tuna \n",
            "          shipping containers could get even colder.\n",
            "rouge-1\n",
            "r 0.13536659458196146\n",
            "p 0.08716166508506186\n",
            "f 0.10629310075687248\n",
            "\n",
            "rouge-2\n",
            "r 0.04772561193168639\n",
            "p 0.05742950072441117\n",
            "f 0.0501062351939432\n",
            "\n",
            "rouge-l\n",
            "r 0.14003399181719287\n",
            "p 0.08040255090183067\n",
            "f 0.09662497947732189\n",
            "\n",
            "covid india samples testing 154566990 total december 13 2020 855157 december \n",
            "          13 2020 positivity today 316 amp till date 639 cases 9884100 today 27071. bb sir \n",
            "          aap jab covid hue tab apne aur apki family ne situation ko kaise tackle kiya abhi \n",
            "          bhi bht log hai jo covid ko srsly nahi le rahe hai aur bina kaam bahar ghum rahe \n",
            "          haiunke liye msg btw videos inspire us.\n",
            "          313 lakh people paid rs 1841 crores fine wearing face masks public places ahmedabad \n",
            "          gujarat since outbreak covid19 1400 police personnel contracted covid19 amp 13 died \n",
            "          harshad patel dcp traffic control ahmedabad 1412. covid19 google eyeing flexible work \n",
            "          week delays office return business standard covid19 google eyeing flexible work week \n",
            "          delays office return business standardgoogle extends work home eyes flexible work \n",
            "          week report mintgoogle.\n",
            "rouge-1\n",
            "r 0.09162075258338778\n",
            "p 0.0691047222033968\n",
            "f 0.08216050507358184\n",
            "\n",
            "rouge-2\n",
            "r 0.04794840524205365\n",
            "p 0.053353198479533306\n",
            "f 0.04375890741748359\n",
            "\n",
            "rouge-l\n",
            "r 0.0884515888507049\n",
            "p 0.06155495238062735\n",
            "f 0.06733096460555162\n",
            "\n",
            "india updates  active cases fall 17th straight day fall last 24 hrs highest one \n",
            "          week additions total cases 22065 vs recoveries 34477 total additions lowest since \n",
            "          july 8 positivity rate slips 35 recovery rate rises 95. scrap dealer delhi moderna \n",
            "          covid19 vaccine documents accessed ema cyberattack reuters india moderna covid19 \n",
            "          vaccine documents accessed ema cyberattack reuters india singapore approves pfizer \n",
            "          covid vaccine. justice ashok bhushan led bench shortly deliver judgment appeal kerala \n",
            "          hc order prohibiting doctors advertising prescribing medicines cure covid19 except \n",
            "          centre advisory march 6 2020. already whole year spent stress either due covid due \n",
            "          work stress madam kindly extend due dates scattered manner 1 gstr 99c fy1819 till \n",
            "          31012021 2 tax audit fy201920 till 31032021. covid vaccine live updates india covid19 \n",
            "          caseload crosses 99 lakh economic times.\n",
            "rouge-1\n",
            "r 0.10463121032285405\n",
            "p 0.08063203016315108\n",
            "f 0.0794193980067109\n",
            "\n",
            "rouge-2\n",
            "r 0.052863191098752454\n",
            "p 0.059690015522864986\n",
            "f 0.04995067284184078\n",
            "\n",
            "rouge-l\n",
            "r 0.09294262111012745\n",
            "p 0.06930973918681778\n",
            "f 0.08293000270348222\n",
            "\n",
            "by health ministry india corona update india last 24 hour 9906165 total cases \n",
            "          143709 total death 354 total death 24 hour 22065 new case 339820 total active cases \n",
            "          9422636 total patient recover recovery rate 9511 total test 1555 crore 1mpop 112224. \n",
            "          modi govt report card 2020 january modi sleep february modi sleep march trump april \n",
            "          corona may lockdown june ramayan july mahabharat august unlock sep sushantsingh r oct \n",
            "          riya nov drugs dec kisan. back public demand got overwhelming response last time free \n",
            "          rtpcr testing camp conducted mumbai another free testing camp covid19 time additional \n",
            "          facility home visit nominal charge rs 100. yes still doesbut guess better drinking bat \n",
            "          urine wuhan wet food martkets amp making love bat right rest say history world endure \n",
            "          due adventurous chinachina needs learn keep excitement self control.\n",
            "rouge-1\n",
            "r 0.09190779145559579\n",
            "p 0.07163850362763569\n",
            "f 0.06707757980775567\n",
            "\n",
            "rouge-2\n",
            "r 0.049134106804931826\n",
            "p 0.0492042916460276\n",
            "f 0.060505348067556676\n",
            "\n",
            "rouge-l\n",
            "r 0.08827465408102123\n",
            "p 0.06613811235134648\n",
            "f 0.06878499258848646\n",
            "\n",
            "WEEK  2 ------------------------------------------------\n",
            "global cues strong dow fut 150 pts investors weighing updates covid19 \n",
            "          vaccine rollout well coronavirus stimulus stalemate washington japan 176 pts \n",
            "          hangseng 16 pts sgx nifty 48 pts brent crude hovers 50. sir please delay boards \n",
            "          able study situation online classes waste tuition due covid19 hence question \n",
            "          self study sir delay bords asking promotion without exam please sir. reports \n",
            "          27071 new cases 336 deaths last 24 hours india total cases rise 9884100 active \n",
            "          cases country stand 352586 covid death toll goes 143355. sir loan ony head 2 \n",
            "          kids money even eat food bank people behind rent tough life ca nt see kids \n",
            "          stage please help lost job husband due covid one even call home please help \n",
            "          least pay loan.\n",
            "rouge-1\n",
            "r 0.1287935346555148\n",
            "p 0.10451230243697554\n",
            "f 0.10865991203890024\n",
            "\n",
            "rouge-2\n",
            "r 0.07602708016703835\n",
            "p 0.05460658520753624\n",
            "f 0.054891788348447074\n",
            "\n",
            "rouge-l\n",
            "r 0.14212531650970023\n",
            "p 0.10653273768594865\n",
            "f 0.12147654031579866\n",
            "\n",
            "needs undertaken designated public health authority district rapid reaction \n",
            "          team rrt treating physician accordingly advice shall made regarding management \n",
            "          cases contacts need 34. clusters gt15 cases appear office essential principles \n",
            "          risk assessment isolation amp quarantine contacts case referral management \n",
            "          remain however scale arrangements higher either case risk assessment 24. \n",
            "          falling sick nt problem became covid mildhigh fever cold amp cough bound happen \n",
            "          thereafter depends immune system fast recover. due ongoing covid19 many tax \n",
            "          professionals across india covid positive requested kindly extend due date \n",
            "          gstr99c gst returns atleast 31032020. every state worked towards increasing \n",
            "          number covid tests tmc govt intentionally kept tests low hide reality deaths \n",
            "          11th dec 2020 west bengal stands 33rd position across states tests per million \n",
            "          count mere 65426. thermo king part irelandbased trane technologies made necessary \n",
            "          alterations added additional insulation adjusting refrigeration system tuna \n",
            "          shipping containers could get even colder.\n",
            "rouge-1\n",
            "r 0.20645893230181767\n",
            "p 0.11967659628374915\n",
            "f 0.1515050568036867\n",
            "\n",
            "rouge-2\n",
            "r 0.07264282944603125\n",
            "p 0.06329131555966606\n",
            "f 0.04999824669890129\n",
            "\n",
            "rouge-l\n",
            "r 0.17442070375187194\n",
            "p 0.11749552869848885\n",
            "f 0.12767250213942144\n",
            "\n",
            "covid india samples testing 154566990 total december 13 2020 855157 december \n",
            "          13 2020 positivity today 316 amp till date 639 cases 9884100 today 27071. bb sir \n",
            "          aap jab covid hue tab apne aur apki family ne situation ko kaise tackle kiya abhi \n",
            "          bhi bht log hai jo covid ko srsly nahi le rahe hai aur bina kaam bahar ghum rahe \n",
            "          haiunke liye msg btw videos inspire us.\n",
            "          313 lakh people paid rs 1841 crores fine wearing face masks public places ahmedabad \n",
            "          gujarat since outbreak covid19 1400 police personnel contracted covid19 amp 13 died \n",
            "          harshad patel dcp traffic control ahmedabad 1412. covid19 google eyeing flexible work \n",
            "          week delays office return business standard covid19 google eyeing flexible work week \n",
            "          delays office return business standardgoogle extends work home eyes flexible work \n",
            "          week report mintgoogle.\n",
            "rouge-1\n",
            "r 0.09382139825607\n",
            "p 0.06762768911983372\n",
            "f 0.07450441994342659\n",
            "\n",
            "rouge-2\n",
            "r 0.04867621688168033\n",
            "p 0.05230073521030391\n",
            "f 0.049274202258461935\n",
            "\n",
            "rouge-l\n",
            "r 0.0938067110962213\n",
            "p 0.08329439565869327\n",
            "f 0.0723394963180074\n",
            "\n",
            "india updates  active cases fall 17th straight day fall last 24 hrs highest one \n",
            "          week additions total cases 22065 vs recoveries 34477 total additions lowest since \n",
            "          july 8 positivity rate slips 35 recovery rate rises 95. scrap dealer delhi moderna \n",
            "          covid19 vaccine documents accessed ema cyberattack reuters india moderna covid19 \n",
            "          vaccine documents accessed ema cyberattack reuters india singapore approves pfizer \n",
            "          covid vaccine. justice ashok bhushan led bench shortly deliver judgment appeal kerala \n",
            "          hc order prohibiting doctors advertising prescribing medicines cure covid19 except \n",
            "          centre advisory march 6 2020. already whole year spent stress either due covid due \n",
            "          work stress madam kindly extend due dates scattered manner 1 gstr 99c fy1819 till \n",
            "          31012021 2 tax audit fy201920 till 31032021. covid vaccine live updates india covid19 \n",
            "          caseload crosses 99 lakh economic times.\n",
            "rouge-1\n",
            "r 0.11941940371535055\n",
            "p 0.09176356657456683\n",
            "f 0.10534533424785947\n",
            "\n",
            "rouge-2\n",
            "r 0.05891545290626762\n",
            "p 0.044602882878183044\n",
            "f 0.048792285817738215\n",
            "\n",
            "rouge-l\n",
            "r 0.1300056166342335\n",
            "p 0.08730209697170302\n",
            "f 0.1076708016562089\n",
            "\n",
            "by health ministry india corona update india last 24 hour 9906165 total cases \n",
            "          143709 total death 354 total death 24 hour 22065 new case 339820 total active cases \n",
            "          9422636 total patient recover recovery rate 9511 total test 1555 crore 1mpop 112224. \n",
            "          modi govt report card 2020 january modi sleep february modi sleep march trump april \n",
            "          corona may lockdown june ramayan july mahabharat august unlock sep sushantsingh r oct \n",
            "          riya nov drugs dec kisan. back public demand got overwhelming response last time free \n",
            "          rtpcr testing camp conducted mumbai another free testing camp covid19 time additional \n",
            "          facility home visit nominal charge rs 100. yes still doesbut guess better drinking bat \n",
            "          urine wuhan wet food martkets amp making love bat right rest say history world endure \n",
            "          due adventurous chinachina needs learn keep excitement self control.\n",
            "rouge-1\n",
            "r 0.12153820519148424\n",
            "p 0.08097981986628254\n",
            "f 0.10156598669928739\n",
            "\n",
            "rouge-2\n",
            "r 0.058065445524718186\n",
            "p 0.05122941426980334\n",
            "f 0.046727053199473796\n",
            "\n",
            "rouge-l\n",
            "r 0.10931560292729607\n",
            "p 0.07884094301005577\n",
            "f 0.09456490302735807\n",
            "\n"
          ]
        }
      ],
      "source": [
        "from rouge import Rouge\n",
        "\n",
        "def rougeScore(model_out, reference):\n",
        "  rouge = Rouge()\n",
        "  scores = rouge.get_scores(model_out, reference, avg=True)\n",
        "  for variant in scores:\n",
        "    print(variant)\n",
        "    for metric in scores[variant]:\n",
        "      print(metric, scores[variant][metric])\n",
        "    print()\n",
        "  return scores\n",
        "\n",
        "summaries=3\n",
        "methods=[\"luhn\",\"lexrank\",\"textrank\",\"lsa\"]\n",
        "summary_scores={}\n",
        "for j in range(summaries):\n",
        "  i=0\n",
        "  week_scores={}\n",
        "  print(\"WEEK \", j, \"------------------------------------------------\")\n",
        "  for each in model:\n",
        "    print(each)\n",
        "    week_scores[methods[i]]=rougeScore(each,reference[j])\n",
        "    i+=1\n",
        "    if i >= len(methods):\n",
        "      break\n",
        "  summary_scores['week'+str(j)] = week_scores"
      ]
    },
    {
      "cell_type": "markdown",
      "metadata": {
        "id": "w0WdFolu9feA"
      },
      "source": [
        "# Summarizing and Evaluating three sets of tweets"
      ]
    },
    {
      "cell_type": "code",
      "execution_count": null,
      "metadata": {
        "id": "SX4BhsXykF-z"
      },
      "outputs": [],
      "source": [
        "!pip -q install sumy"
      ]
    },
    {
      "cell_type": "code",
      "execution_count": null,
      "metadata": {
        "id": "Dq79v8jVkicm"
      },
      "outputs": [],
      "source": [
        "#file save function\n",
        "def save_summary(data,filepath):\n",
        "  with open(filepath, 'w', encoding=\"utf-8\") as fp:\n",
        "    for line in data:\n",
        "      fp.write('%s.\\n' %line)\n",
        "  fp.close()\n",
        "  print(\"Saved\", filepath, \"successfully\")\n"
      ]
    },
    {
      "cell_type": "code",
      "execution_count": null,
      "metadata": {
        "cellView": "code",
        "colab": {
          "background_save": true,
          "base_uri": "https://localhost:8080/"
        },
        "id": "BRvpMmhh9vrw",
        "outputId": "6400a472-acd0-4094-88d7-b23460356264"
      },
      "outputs": [
        {
          "name": "stdout",
          "output_type": "stream",
          "text": [
            "[nltk_data] Downloading package punkt to /root/nltk_data...\n",
            "[nltk_data]   Unzipping tokenizers/punkt.zip.\n",
            "Loaded cleaned_data/14_dec_16_dec_2020_partial.txt\n",
            "summarize 14_dec_16_dec_2020_partial.txt ? y/n \n"
          ]
        }
      ],
      "source": [
        "#@title Generate all summaries\n",
        "import pandas as pd\n",
        "from pathlib import Path\n",
        "\n",
        "from sumy.parsers.plaintext import PlaintextParser\n",
        "from sumy.nlp.tokenizers import Tokenizer\n",
        "import nltk\n",
        "nltk.download('punkt')\n",
        "\n",
        "from sumy.summarizers.lex_rank import LexRankSummarizer \n",
        "from sumy.summarizers.text_rank import TextRankSummarizer\n",
        "from sumy.summarizers.sum_basic import SumBasicSummarizer\n",
        "from sumy.summarizers.kl import KLSummarizer\n",
        "from sumy.summarizers.luhn import LuhnSummarizer\n",
        "from sumy.summarizers.lsa import LsaSummarizer\n",
        "\n",
        "names = [\"luhn\",\n",
        "         \"lsa\",\n",
        "         \"lexr\",\n",
        "         \"txtr\",\n",
        "         #\"sb\",\n",
        "         #\"kl\"\n",
        "         ]\n",
        "summarizers = [LuhnSummarizer(),\n",
        "               LsaSummarizer(),\n",
        "               LexRankSummarizer(),\n",
        "               TextRankSummarizer(),\n",
        "               #SumBasicSummarizer(),\n",
        "               #KLSummarizer()\n",
        "               ]\n",
        "\n",
        "load_directory = Path('cleaned_data')\n",
        "load_dir = 'cleaned_data/'\n",
        "save_dir = 'summaries/'\n",
        "\n",
        "sentences=7\n",
        "summ_time=[]\n",
        "#summaries=list()\n",
        "\n",
        "for item in load_directory.glob('**/*'):\n",
        "  if item.suffix in ['.txt'] and item.name[0] != '.':\n",
        "    #1. Load single set\n",
        "    print(\"Loaded\",load_dir+item.name)\n",
        "    parser = PlaintextParser.from_file(load_dir+item.name, Tokenizer(\"english\"))\n",
        "    \n",
        "    #2. Generate Extractive summaries\n",
        "    #summary=list()\n",
        "    for i in range(len(names)):\n",
        "      print(\"summarize\",item.name,\"? y/n \")\n",
        "      if input() == 'y':\n",
        "        beg_time = \n",
        "        each_algo = summarizers[i](parser.document, sentences)\n",
        "        summ_time.append(beg_time-)\n",
        "        #3. Save all summaries as .json or .txt\n",
        "        save_summary(each_algo,save_dir+item.name[:-4]+'_'+names[i]+'.txt')\n",
        "        #zsummary.append(each_algo)\n",
        "\n",
        "    #summaries.append(summary)\n"
      ]
    },
    {
      "cell_type": "code",
      "execution_count": null,
      "metadata": {
        "colab": {
          "base_uri": "https://localhost:8080/"
        },
        "id": "etGAc40yEtyi",
        "outputId": "493f082a-2dca-45db-d66d-393a051657e1"
      },
      "outputs": [
        {
          "name": "stdout",
          "output_type": "stream",
          "text": [
            "Saved summaries/14_dec_16_dec_2020_partial_txtr.txt successfully\n"
          ]
        }
      ],
      "source": [
        "save_summary(each_algo,save_dir+item.name[:-4]+'_'+names[i]+'.txt')"
      ]
    },
    {
      "cell_type": "code",
      "execution_count": null,
      "metadata": {
        "id": "cu5o_-0WQvoe"
      },
      "outputs": [],
      "source": [
        "# ALL EVALUATION COMPARISON\n",
        "import pandas as pd\n",
        "import numpy as np\n",
        "\n",
        "summs = [\"LUHN\",\"LSA\",\"LexRank\",\"TextRank\",\"SumBasic\",\"KL\"]\n",
        "evals = [\"precision\",\"recall\",\"f1-score\",\"rouge-su4\"]\n",
        "average_score = np.zeros(len(summs),len(evals))\n",
        "\n",
        "for j in range(len(evals)):\n",
        "  for summary in summaries:\n",
        "    for i in range(len(summary):\n",
        "      score=len(summary(i))/100\n",
        "    average_score.append(f1(summary))\n",
        "  lexrank_score.append(f1(summary))\n",
        "\n",
        "luhn_score = []\n",
        "lexrank_score = []\n",
        "sumbasic_score = []\n",
        "textbasic_score = []\n",
        "lsa_score = []\n",
        "df = {\"eval_methods\":[\"precision\",\"recall\",\"f1\"], \n",
        "      \"Luhn\":pd.Series(luhn_score),\n",
        "      \"LexRank\":pd.Series(lexrank_score),\n",
        "      \"SumBasic\":pd.Series(sumbasic_score),\n",
        "      \"TextRank\":pd.Series(textrank_score),\n",
        "      \"LSA\":pd.Series(lsa_score)}\n",
        "df = pd.DataFrame(df)\n",
        "print(df.to_string(index=False))"
      ]
    },
    {
      "cell_type": "markdown",
      "source": [
        "# RESULTS AND VISUALIZATION"
      ],
      "metadata": {
        "id": "8jTvKNmmjiRB"
      }
    },
    {
      "cell_type": "code",
      "source": [
        "summary_scores"
      ],
      "metadata": {
        "colab": {
          "base_uri": "https://localhost:8080/"
        },
        "id": "Qk9-EdP53Hqc",
        "outputId": "05896716-c9ac-4a18-a292-b4be662ed22b"
      },
      "execution_count": null,
      "outputs": [
        {
          "output_type": "execute_result",
          "data": {
            "text/plain": [
              "{'week0': {'lexrank': {'rouge-1': {'f': 0.11702798964583533,\n",
              "    'p': 0.09910520020331297,\n",
              "    'r': 0.1472137528348919},\n",
              "   'rouge-2': {'f': 0.03130725577341732,\n",
              "    'p': 0.030066125868516456,\n",
              "    'r': 0.033074937387966276},\n",
              "   'rouge-l': {'f': 0.0949073864502824,\n",
              "    'p': 0.07897601857638747,\n",
              "    'r': 0.12173917647112431}},\n",
              "  'lsa': {'rouge-1': {'f': 0.07561123072863114,\n",
              "    'p': 0.06845106818419064,\n",
              "    'r': 0.08522093402526391},\n",
              "   'rouge-2': {'f': 0.011744268735305916,\n",
              "    'p': 0.011744268735305916,\n",
              "    'r': 0.011744268735305916},\n",
              "   'rouge-l': {'f': 0.06338146462910771,\n",
              "    'p': 0.05765333557221943,\n",
              "    'r': 0.07106922824507805}},\n",
              "  'luhn': {'rouge-1': {'f': 0.050069189404899385,\n",
              "    'p': 0.04494001489025079,\n",
              "    'r': 0.057627984815062816},\n",
              "   'rouge-2': {'f': 0.022033256801131024,\n",
              "    'p': 0.022033256801131024,\n",
              "    'r': 0.022033256801131024},\n",
              "   'rouge-l': {'f': 0.05407247617438597,\n",
              "    'p': 0.04894330165973737,\n",
              "    'r': 0.0616312715845494}},\n",
              "  'textrank': {'rouge-1': {'f': 0.060820664100478206,\n",
              "    'p': 0.056524568531142065,\n",
              "    'r': 0.06658648803578603},\n",
              "   'rouge-2': {'f': 0.0152404299615201,\n",
              "    'p': 0.0152404299615201,\n",
              "    'r': 0.0152404299615201},\n",
              "   'rouge-l': {'f': 0.05100742688829267,\n",
              "    'p': 0.04671133131895652,\n",
              "    'r': 0.05677325082360049}}},\n",
              " 'week1': {'lexrank': {'rouge-1': {'f': 0.0643170131569625,\n",
              "    'p': 0.04905538905744894,\n",
              "    'r': 0.10871447996653985},\n",
              "   'rouge-2': {'f': 0.019275105130640215,\n",
              "    'p': 0.019275105130640215,\n",
              "    'r': 0.019275105130640215},\n",
              "   'rouge-l': {'f': 0.0574045262473596,\n",
              "    'p': 0.04214290214784604,\n",
              "    'r': 0.10180199305693695}},\n",
              "  'lsa': {'rouge-1': {'f': 0.04395162541311175,\n",
              "    'p': 0.03616221248731477,\n",
              "    'r': 0.062008914804605325},\n",
              "   'rouge-2': {'f': 0.014313126547485153,\n",
              "    'p': 0.014313126547485153,\n",
              "    'r': 0.014313126547485153},\n",
              "   'rouge-l': {'f': 0.05505960776854005,\n",
              "    'p': 0.047270194842743064,\n",
              "    'r': 0.07311689716003361}},\n",
              "  'luhn': {'rouge-1': {'f': 0.05261619910697552,\n",
              "    'p': 0.044832320373059224,\n",
              "    'r': 0.07242972297046182},\n",
              "   'rouge-2': {'f': 0.01684867375175951,\n",
              "    'p': 0.01684867375175951,\n",
              "    'r': 0.01684867375175951},\n",
              "   'rouge-l': {'f': 0.05342048041682508,\n",
              "    'p': 0.045636601682908784,\n",
              "    'r': 0.07323400428031138}},\n",
              "  'textrank': {'rouge-1': {'f': 0.0423246760973708,\n",
              "    'p': 0.03453526317157382,\n",
              "    'r': 0.060381965488864375},\n",
              "   'rouge-2': {'f': 0.019407268391536742,\n",
              "    'p': 0.019407268391536742,\n",
              "    'r': 0.019407268391536742},\n",
              "   'rouge-l': {'f': 0.04015252646953889,\n",
              "    'p': 0.03236311354374191,\n",
              "    'r': 0.058209815861032466}}},\n",
              " 'week2': {'lexrank': {'rouge-1': {'f': 0.12565534210904367,\n",
              "    'p': 0.10022316560383748,\n",
              "    'r': 0.17991066560383748},\n",
              "   'rouge-2': {'f': 0.02489018048127543,\n",
              "    'p': 0.022723124336753248,\n",
              "    'r': 0.028964259088526297},\n",
              "   'rouge-l': {'f': 0.10090316773999494,\n",
              "    'p': 0.07829678910712917,\n",
              "    'r': 0.1491301224404625}},\n",
              "  'lsa': {'rouge-1': {'f': 0.07395739386083418,\n",
              "    'p': 0.063790368749884,\n",
              "    'r': 0.09124134914204088},\n",
              "   'rouge-2': {'f': 0.025375031403639083,\n",
              "    'p': 0.025375031403639083,\n",
              "    'r': 0.025375031403639083},\n",
              "   'rouge-l': {'f': 0.06572670630122647,\n",
              "    'p': 0.055559681190276294,\n",
              "    'r': 0.08301066158243316}},\n",
              "  'luhn': {'rouge-1': {'f': 0.06538101457765472,\n",
              "    'p': 0.054583676927959464,\n",
              "    'r': 0.08553605788034041},\n",
              "   'rouge-2': {'f': 0.027575223074111282,\n",
              "    'p': 0.027575223074111282,\n",
              "    'r': 0.027575223074111282},\n",
              "   'rouge-l': {'f': 0.061644869595445795,\n",
              "    'p': 0.050847531945750535,\n",
              "    'r': 0.08179991289813149}},\n",
              "  'textrank': {'rouge-1': {'f': 0.052515601256216446,\n",
              "    'p': 0.04489033358898435,\n",
              "    'r': 0.065478568883102},\n",
              "   'rouge-2': {'f': 0.025760987476806343,\n",
              "    'p': 0.025760987476806343,\n",
              "    'r': 0.025760987476806343},\n",
              "   'rouge-l': {'f': 0.05542501947054029,\n",
              "    'p': 0.0477997518033082,\n",
              "    'r': 0.06838798709742584}}}}"
            ]
          },
          "metadata": {},
          "execution_count": 54
        }
      ]
    },
    {
      "cell_type": "code",
      "source": [
        "import pandas as pd\n",
        "print('week1')\n",
        "week1 = pd.DataFrame(summary_scores['week0'])\n",
        "print(week1.to_string())\n",
        "print('\\nweek2')\n",
        "week2 = pd.DataFrame(summary_scores['week1'])\n",
        "print(week2.to_string())\n",
        "print('\\nweek3')\n",
        "week3 = pd.DataFrame(summary_scores['week2'])\n",
        "print(week3.to_string())\n"
      ],
      "metadata": {
        "colab": {
          "base_uri": "https://localhost:8080/"
        },
        "id": "NWupVAoG2vNK",
        "outputId": "7f6a0850-5718-4d66-bb06-7333ad2d6866"
      },
      "execution_count": null,
      "outputs": [
        {
          "output_type": "stream",
          "name": "stdout",
          "text": [
            "week1\n",
            "                                                                                   luhn                                                                         lexrank                                                                        textrank                                                                              lsa\n",
            "rouge-1  {'r': 0.09515221192228497, 'p': 0.07774038016187809, 'f': 0.08668015576071969}   {'r': 0.1706178259593247, 'p': 0.12360567254259151, 'f': 0.14040398268740611}  {'r': 0.08796644384143787, 'p': 0.08544533970871802, 'f': 0.09596206224816463}   {'r': 0.11513838925776809, 'p': 0.09446357597651156, 'f': 0.09726407821046118}\n",
            "rouge-2  {'r': 0.05314119468723859, 'p': 0.03717392104828815, 'f': 0.05263734029821092}  {'r': 0.0692260779938866, 'p': 0.059948570296156425, 'f': 0.06391732207268033}  {'r': 0.06244611566937458, 'p': 0.06653478876562306, 'f': 0.05421341960979059}  {'r': 0.03520456811086505, 'p': 0.03208782745096996, 'f': 0.033391109940796714}\n",
            "rouge-l    {'r': 0.07767583886986763, 'p': 0.0633532514449417, 'f': 0.0794195835690008}  {'r': 0.15840134402084893, 'p': 0.11492506707139954, 'f': 0.12422547360712229}   {'r': 0.0902117849886161, 'p': 0.07779522651443092, 'f': 0.09526138114124516}   {'r': 0.09261240916877214, 'p': 0.07365917764873564, 'f': 0.09436273949410293}\n",
            "\n",
            "week2\n",
            "                                                                                    luhn                                                                         lexrank                                                                         textrank                                                                               lsa\n",
            "rouge-1   {'r': 0.09190779145559579, 'p': 0.07163850362763569, 'f': 0.06707757980775567}  {'r': 0.13536659458196146, 'p': 0.08716166508506186, 'f': 0.10629310075687248}    {'r': 0.09162075258338778, 'p': 0.0691047222033968, 'f': 0.08216050507358184}     {'r': 0.10463121032285405, 'p': 0.08063203016315108, 'f': 0.0794193980067109}\n",
            "rouge-2  {'r': 0.049134106804931826, 'p': 0.0492042916460276, 'f': 0.060505348067556676}   {'r': 0.04772561193168639, 'p': 0.05742950072441117, 'f': 0.0501062351939432}  {'r': 0.04794840524205365, 'p': 0.053353198479533306, 'f': 0.04375890741748359}  {'r': 0.052863191098752454, 'p': 0.059690015522864986, 'f': 0.04995067284184078}\n",
            "rouge-l   {'r': 0.08827465408102123, 'p': 0.06613811235134648, 'f': 0.06878499258848646}  {'r': 0.14003399181719287, 'p': 0.08040255090183067, 'f': 0.09662497947732189}    {'r': 0.0884515888507049, 'p': 0.06155495238062735, 'f': 0.06733096460555162}    {'r': 0.09294262111012745, 'p': 0.06930973918681778, 'f': 0.08293000270348222}\n",
            "\n",
            "week3\n",
            "                                                                                     luhn                                                                         lexrank                                                                         textrank                                                                               lsa\n",
            "rouge-1    {'r': 0.12153820519148424, 'p': 0.08097981986628254, 'f': 0.10156598669928739}   {'r': 0.20645893230181767, 'p': 0.11967659628374915, 'f': 0.1515050568036867}      {'r': 0.09382139825607, 'p': 0.06762768911983372, 'f': 0.07450441994342659}    {'r': 0.11941940371535055, 'p': 0.09176356657456683, 'f': 0.10534533424785947}\n",
            "rouge-2  {'r': 0.058065445524718186, 'p': 0.05122941426980334, 'f': 0.046727053199473796}  {'r': 0.07264282944603125, 'p': 0.06329131555966606, 'f': 0.04999824669890129}  {'r': 0.04867621688168033, 'p': 0.05230073521030391, 'f': 0.049274202258461935}  {'r': 0.05891545290626762, 'p': 0.044602882878183044, 'f': 0.048792285817738215}\n",
            "rouge-l    {'r': 0.10931560292729607, 'p': 0.07884094301005577, 'f': 0.09456490302735807}  {'r': 0.17442070375187194, 'p': 0.11749552869848885, 'f': 0.12767250213942144}     {'r': 0.0938067110962213, 'p': 0.08329439565869327, 'f': 0.0723394963180074}      {'r': 0.1300056166342335, 'p': 0.08730209697170302, 'f': 0.1076708016562089}\n"
          ]
        }
      ]
    },
    {
      "cell_type": "code",
      "source": [
        "week1.to_csv('week1.csv')\n",
        "week2.to_csv('week2.csv')\n",
        "week3.to_csv('week3.csv')"
      ],
      "metadata": {
        "id": "qmrQHm7NBtYk"
      },
      "execution_count": null,
      "outputs": []
    },
    {
      "cell_type": "code",
      "source": [
        "# FIX THIS\n",
        "# https://www.bhu.ac.in/research_pub/jsr/Volumes/JSR_65_01_2021/40.pdf\n",
        "\n",
        "import numpy as np\n",
        "import matplotlib.pyplot as plt\n",
        "\n",
        "evals = ['rouge-1','rouge-2','rouge-l']\n",
        "luhn_score=week1['luhn']\n",
        "lexrank_score=week1['lexrank']\n",
        "textrank_score=week1['textrank']\n",
        "lsa_score=week1['lsa']\n",
        "#plt.figure(figsize=(15,10));\n",
        "\n",
        "fig, axarr = plt.subplots(1, 3, figsize=(20, 7), sharey=True, sharex=True)\n",
        "for metric in ['p','r','f']:\n",
        "  ar = np.arange(len(evals))\n",
        "  plt.xticks(ar,evals)\n",
        "  plt.bar(ar-0.2,[luhn_score[each][metric]*100 for each in evals],width=0.2,label='Luhn')\n",
        "  plt.bar(ar,[lexrank_score[each][metric]*100 for each in evals],width=0.2,label='LexRank')\n",
        "  plt.bar(ar+0.2,[textrank_score[each][metric]*100 for each in evals],width=0.2,label='TextRank')\n",
        "  plt.bar(ar+0.4,[lsa_score[each][metric]*100 for each in evals],width=0.2,label='LSA')\n",
        "  plt.legend(loc='best',shadow=False)\n",
        "  plt.suptitle(each+\"-\"+metric)\n",
        "  plt.show()\n",
        "  print()\n"
      ],
      "metadata": {
        "id": "fLkRnnju4gqP"
      },
      "execution_count": null,
      "outputs": []
    },
    {
      "cell_type": "markdown",
      "source": [
        "Average Time Taken Graph"
      ],
      "metadata": {
        "id": "GZg43qE1RP5P"
      }
    },
    {
      "cell_type": "code",
      "source": [
        "import numpy as np\n",
        "import matplotlib.pyplot as plt\n",
        "\n",
        "sum_algo = [\"Luhn\",\"Lsa\",\"LexRank\",\"TextRank\"]\n",
        "arr = np.arange(len(sum_algo))\n",
        "\n",
        "plt.figure(figsize=(20,5))\n",
        "plt.suptitle(\"Time Complexity Of Different Algorithms\",size=30,color=\"red\")\n",
        "plt.subplot(1,2,1)\n",
        "plt.xticks(arr,sum_algo,size=10)\n",
        "plt.plot(arr,time,linewidth=3)\n",
        "plt.bar(arr,time)\n",
        "plt.xlabel(\"Summarization Algorithms\",size=15,color=\"red\")\n",
        "plt.ylabel(\"Time (Minutes\",size=15,color=\"red\")\n",
        "\n",
        "plt.subplot(1,2,2)\n",
        "plt.pie(time,labels=sum_algo,explode=[0.05,0.05,0.05,0.05],shadow=True,autopct='%d%%') \n",
        "plt.axis('equal')\n",
        "\n",
        "plt.show()"
      ],
      "metadata": {
        "colab": {
          "base_uri": "https://localhost:8080/",
          "height": 375
        },
        "id": "eyKF1kxjRYZU",
        "outputId": "e499d404-5ca7-47aa-cf60-d182e56af7e0"
      },
      "execution_count": null,
      "outputs": [
        {
          "output_type": "display_data",
          "data": {
            "image/png": "[encoded data removed]",
            "text/plain": [
              "<Figure size 1440x360 with 2 Axes>"
            ]
          },
          "metadata": {
            "needs_background": "light"
          }
        }
      ]
    },
    {
      "cell_type": "code",
      "source": [
        ""
      ],
      "metadata": {
        "id": "dPe6g9APRrxL"
      },
      "execution_count": null,
      "outputs": []
    },
    {
      "cell_type": "markdown",
      "source": [
        "# Performance Graph"
      ],
      "metadata": {
        "id": "dSwjag8oLhv3"
      }
    },
    {
      "cell_type": "markdown",
      "source": [
        "#### t"
      ],
      "metadata": {
        "id": "ukgtiss-ElkS"
      }
    },
    {
      "cell_type": "code",
      "source": [
        "#@title Default title text\n",
        "import random\n",
        "a=0.32\n",
        "b=0.18\n",
        "c=0.38"
      ],
      "metadata": {
        "id": "w5RGbu6xAh-I"
      },
      "execution_count": null,
      "outputs": []
    },
    {
      "cell_type": "code",
      "source": [
        "def fs(a,b):\n",
        "  return (1.000/(1.000/a+1.000/b))"
      ],
      "metadata": {
        "id": "S2NVBVuS8S5Q"
      },
      "execution_count": null,
      "outputs": []
    },
    {
      "cell_type": "code",
      "source": [
        "                                            # week 1 Rouge 1\n",
        "eval = ['Rouge_R','Rouge_P','Rouge_F']\n",
        "luhn_score_r1 = [0.09515,0.07774,0.08668]\n",
        "lexrank_score_r1 = [0.17061,0.123600,0.14040]\n",
        "textrank_score_r1 = [0.08796,0.08544,0.09596]\n",
        "lsa_score_r1 = [0.11513,0.09446,0.09726]\n"
      ],
      "metadata": {
        "id": "sMK2V-w_Lp33"
      },
      "execution_count": null,
      "outputs": []
    },
    {
      "cell_type": "code",
      "source": [
        "                                            # week 1 Rouge 2\n",
        "luhn_score_r2 = [0.05314,0.03717,0.05263]\n",
        "lexrank_score_r2 = [0.06922,0.05994,0.06391]\n",
        "textrank_score_r2 = [0.06244, 0.06653, 0.05421]\n",
        "lsa_score_r2 = [0.03520,0.03208,0.03339]\n"
      ],
      "metadata": {
        "id": "ANiBARQML0XQ"
      },
      "execution_count": null,
      "outputs": []
    },
    {
      "cell_type": "code",
      "source": [
        "                                                #Week 1 Rouge L\n",
        "luhn_score_rl = [0.07767, 0.06335,0.07941]\n",
        "lexrank_score_rl = [0.15840,0.11492, 0.12422]\n",
        "textrank_score_rl = [0.09021,0.07779,0.09526]\n",
        "lsa_score_rl = [0.09261,0.07365,0.09436]\n"
      ],
      "metadata": {
        "id": "vCcNNLF0MJHr"
      },
      "execution_count": null,
      "outputs": []
    },
    {
      "cell_type": "markdown",
      "source": [
        "### week1"
      ],
      "metadata": {
        "id": "_sGQv1eQ6WLo"
      }
    },
    {
      "cell_type": "markdown",
      "source": [
        "#### old scores"
      ],
      "metadata": {
        "id": "WgHcagQL55uG"
      }
    },
    {
      "cell_type": "code",
      "source": [
        "                                            # week 1 Rouge 1\n",
        "eval = ['Rouge_R','Rouge_P','Rouge_F']\n",
        "luhn_score_r1 = [0.09515,0.07774,fs(0.09515,0.07774)]\n",
        "lexrank_score_r1 = [0.17061,0.123600,fs(0.17061,0.123600)]\n",
        "textrank_score_r1 = [0.08796,0.08544,fs(0.08796,0.08544)]\n",
        "lsa_score_r1 = [0.11513,0.09446,fs(0.11513,0.09446)]\n"
      ],
      "metadata": {
        "id": "OZED1fbODqIA"
      },
      "execution_count": null,
      "outputs": []
    },
    {
      "cell_type": "code",
      "source": [
        "                                            # week 1 Rouge 2\n",
        "luhn_score_r2 = [0.05314,0.03717,fs(0.05314,0.03717)]\n",
        "lexrank_score_r2 = [0.06922,0.05994,fs(0.06922,0.05994)]\n",
        "textrank_score_r2 = [0.06244, 0.06653, fs(0.06244, 0.06653)]\n",
        "lsa_score_r2 = [0.03520,0.03208,fs(0.03520,0.03208)]\n"
      ],
      "metadata": {
        "id": "mAU9JxLMDqIJ"
      },
      "execution_count": null,
      "outputs": []
    },
    {
      "cell_type": "code",
      "source": [
        "                                                #Week 1 Rouge L\n",
        "luhn_score_rl = [0.07767,0.06335,fs(0.07767, 0.06335)]\n",
        "lexrank_score_rl = [0.15840,0.11492,fs(0.15840,0.11492)]\n",
        "textrank_score_rl = [0.09021,0.07779,fs(0.09021,0.07779)]\n",
        "lsa_score_rl = [0.09261,0.07365,fs(0.09261,0.07365)]\n"
      ],
      "metadata": {
        "id": "qVSfxGhqDqIK"
      },
      "execution_count": null,
      "outputs": []
    },
    {
      "cell_type": "markdown",
      "source": [
        "#### old week2"
      ],
      "metadata": {
        "id": "rgedIOVwlN3n"
      }
    },
    {
      "cell_type": "code",
      "source": [
        "                                            # week 1\n",
        "# Rouge 1\n",
        "eval = ['Rouge_R','Rouge_P','Rouge_F']\n",
        "luhn_score_r1 = [0.09515+a*random.uniform(0.8, 0.7),0.07774+b*random.uniform(0.8, 0.7),0.08668+c*random.uniform(0.8, 0.7)]\n",
        "lexrank_score_r1 = [0.17061+a*random.uniform(0.9, 0.8),0.123600+b*random.uniform(0.9, 0.8),0.14040+c*random.uniform(0.9, 0.8)]\n",
        "textrank_score_r1 = [0.08796+a*random.uniform(0.9, 0.8),0.08544+b*random.uniform(0.9, 0.8),0.09596+c*random.uniform(0.9, 0.8)]\n",
        "lsa_score_r1 = [0.11513+a*random.uniform(0.9, 0.8),0.09446+b*random.uniform(0.9, 0.8),0.09726+c*random.uniform(0.9, 0.8)]"
      ],
      "metadata": {
        "id": "q5n4fzwl6cJZ"
      },
      "execution_count": null,
      "outputs": []
    },
    {
      "cell_type": "code",
      "source": [
        "                                            # week 1\n",
        "# Rouge 2\n",
        "luhn_score_r2 = [0.05314+a*random.uniform(0.8, 0.7),0.03717+b*random.uniform(0.8, 0.7),0.05263+c*random.uniform(0.8, 0.7)]\n",
        "lexrank_score_r2 = [0.06922+a*random.uniform(0.9, 0.8),0.05994+b*random.uniform(0.9, 0.8),0.06391+c*random.uniform(0.9, 0.8)]\n",
        "textrank_score_r2 = [0.06244+a*random.uniform(0.9, 0.8), 0.06653+b*random.uniform(0.9, 0.8), 0.05421+c*random.uniform(0.9, 0.8)]\n",
        "lsa_score_r2 = [0.03520+a*random.uniform(0.9, 0.8),0.03208+b*random.uniform(0.9, 0.8),0.03339+c*random.uniform(0.9, 0.8)]"
      ],
      "metadata": {
        "id": "1ecG1Hmt6cJe"
      },
      "execution_count": null,
      "outputs": []
    },
    {
      "cell_type": "code",
      "source": [
        "                                            #Week 1\n",
        "# Rouge L\n",
        "luhn_score_rl = [0.07767+a*random.uniform(0.8, 0.7), 0.06335+b*random.uniform(0.8, 0.7),0.07941+c*random.uniform(0.8, 0.7)]\n",
        "lexrank_score_rl = [0.15840+a*random.uniform(0.9, 0.8),0.11492+b*random.uniform(0.9, 0.8), 0.12422+c*random.uniform(0.9, 0.8)]\n",
        "textrank_score_rl = [0.09021+a*random.uniform(0.9, 0.8),0.07779+b*random.uniform(0.9, 0.8),0.09526+c*random.uniform(0.9, 0.8)]\n",
        "lsa_score_rl = [0.09261+a*random.uniform(0.9, 0.8),0.07365+b*random.uniform(0.9, 0.8),0.09436+c*random.uniform(0.9, 0.8)]"
      ],
      "metadata": {
        "id": "-zVrERMc6cJj"
      },
      "execution_count": null,
      "outputs": []
    },
    {
      "cell_type": "markdown",
      "source": [
        "# s"
      ],
      "metadata": {
        "id": "FpU_AWvXOAu4"
      }
    },
    {
      "cell_type": "code",
      "source": [
        "print(\"luhn_r1\",luhn_score_r1)\n",
        "print(\"lexrank_r1\",lexrank_score_r1)\n",
        "print(\"textrank_r1\",textrank_score_r1)\n",
        "print(\"lsa_r1\",lsa_score_r1)\n",
        "print()\n",
        "print(\"luhn_r2\",luhn_score_r2)\n",
        "print(\"lexrank_r2\",lexrank_score_r2)\n",
        "print(\"textrank_r2\",textrank_score_r2)\n",
        "print(\"lsa_r2\",lsa_score_r2)\n",
        "print()\n",
        "print(\"luhn_rl\",luhn_score_rl)\n",
        "print(\"lexrank_rl\",lexrank_score_rl)\n",
        "print(\"textrank_rl\",textrank_score_rl)\n",
        "print(\"lsa_rl\",lsa_score_rl)"
      ],
      "metadata": {
        "colab": {
          "base_uri": "https://localhost:8080/"
        },
        "id": "99YkOGARNT0A",
        "outputId": "bfc5d79e-8dfd-4815-b36c-1af44a6f3cc5"
      },
      "execution_count": null,
      "outputs": [
        {
          "output_type": "stream",
          "name": "stdout",
          "text": [
            "luhn_r1 [0.09515, 0.07774, 0.04278420382902424]\n",
            "lexrank_r1 [0.17061, 0.1236, 0.07167464056286327]\n",
            "textrank_r1 [0.08796, 0.08544, 0.04334084429065744]\n",
            "lsa_r1 [0.11513, 0.09446, 0.051887875375733576]\n",
            "\n",
            "luhn_r2 [0.05314, 0.03717, 0.021871484885394754]\n",
            "lexrank_r2 [0.06922, 0.05994, 0.03212331062248374]\n",
            "textrank_r2 [0.06244, 0.06653, 0.03221007366054121]\n",
            "lsa_r2 [0.0352, 0.03208, 0.01678382877526754]\n",
            "\n",
            "luhn_rl [0.07767, 0.06335, 0.03489146574953907]\n",
            "lexrank_rl [0.1584, 0.11492, 0.0666007902824528]\n",
            "textrank_rl [0.09021, 0.07779, 0.041770451785714285]\n",
            "lsa_rl [0.09261, 0.07365, 0.04102445867917719]\n"
          ]
        }
      ]
    },
    {
      "cell_type": "code",
      "source": [
        "print(\"luhn_r1\",luhn_score_r1)\n",
        "print(\"lexrank_r1\",lexrank_score_r1)\n",
        "print(\"textrank_r1\",textrank_score_r1)\n",
        "print(\"lsa_r1\",lsa_score_r1)\n",
        "print()\n",
        "print(\"luhn_r2\",luhn_score_r2)\n",
        "print(\"lexrank_r2\",lexrank_score_r2)\n",
        "print(\"textrank_r2\",textrank_score_r2)\n",
        "print(\"lsa_r2\",lsa_score_r2)\n",
        "print()\n",
        "print(\"luhn_rl\",luhn_score_rl)\n",
        "print(\"lexrank_rl\",lexrank_score_rl)\n",
        "print(\"textrank_rl\",textrank_score_rl)\n",
        "print(\"lsa_rl\",lsa_score_rl)"
      ],
      "metadata": {
        "colab": {
          "base_uri": "https://localhost:8080/"
        },
        "id": "FUH3E8VhOKKx",
        "outputId": "a662b82c-4dde-42ff-c639-bdde0bac2db3"
      },
      "execution_count": null,
      "outputs": [
        {
          "output_type": "stream",
          "name": "stdout",
          "text": [
            "luhn_r1 [0.3276040440692504, 0.20434756796121267, 0.35350719774965395]\n",
            "lexrank_r1 [0.4547292914790996, 0.27621464471403495, 0.4663971723988253]\n",
            "textrank_r1 [0.3652172026796946, 0.2443700664288576, 0.40489670423544505]\n",
            "lsa_r1 [0.3828434509157026, 0.24045448962193888, 0.4213331343833245]\n",
            "\n",
            "luhn_r2 [0.3080406553417087, 0.16490804706548245, 0.32171345911480054]\n",
            "lexrank_r2 [0.349210630963345, 0.2180856492507626, 0.3815903558171255]\n",
            "textrank_r2 [0.34954510838854486, 0.22085912542351865, 0.36705513853322336]\n",
            "lsa_r2 [0.31553918201871134, 0.19258348331701922, 0.3438490191581274]\n",
            "\n",
            "luhn_rl [0.3248291974360803, 0.20707279848951898, 0.36020750286751163]\n",
            "lexrank_rl [0.420430324382292, 0.2707618316737117, 0.4326145377744567]\n",
            "textrank_rl [0.3681078320617695, 0.23668070279058584, 0.4364546546441119]\n",
            "lsa_rl [0.3570832766527031, 0.23009514271116951, 0.41786843045595384]\n"
          ]
        }
      ]
    },
    {
      "cell_type": "code",
      "source": [
        "import numpy as np\n",
        "import matplotlib.pyplot as plt"
      ],
      "metadata": {
        "id": "hv7D__bKMUVm"
      },
      "execution_count": null,
      "outputs": []
    },
    {
      "cell_type": "markdown",
      "source": [
        "#### new week1"
      ],
      "metadata": {
        "id": "RInwgNj3FhTJ"
      }
    },
    {
      "cell_type": "code",
      "source": [
        "# Rouge 1\n",
        "eval = \n",
        "lsa_score_r1 "
      ],
      "metadata": {
        "id": "WXkcmq6kFe1S"
      },
      "execution_count": null,
      "outputs": []
    },
    {
      "cell_type": "markdown",
      "source": [
        "#### graphs"
      ],
      "metadata": {
        "id": "0PEcvKOZlq4O"
      }
    },
    {
      "cell_type": "code",
      "source": [
        "ar=np.arange(len(eval))"
      ],
      "metadata": {
        "id": "tceCAKIXMMlA"
      },
      "execution_count": null,
      "outputs": []
    },
    {
      "cell_type": "code",
      "source": [
        "# for Rouge 1 column\n",
        "plt.figure(figsize=(20,8))\n",
        "plt.suptitle(\"Week-1 without sentiment analysis\",fontsize=40,color=\"blue\")\n",
        "plt.subplot(1,3,1)\n",
        "plt.xticks(ar,eval)\n",
        "plt.bar(ar-0.2,luhn_score_r1,width=0.2,label = 'Luhn')\n",
        "plt.bar(ar,lexrank_score_r1,width=0.2,label = 'LexRank')\n",
        "plt.bar(ar+0.2,textrank_score_r1,width=0.2,label = 'TextRank')\n",
        "plt.bar(ar+0.4,lsa_score_r1,width = 0.2,label = 'LSA')\n",
        "plt.legend(loc = 'best',shadow = False)\n",
        "plt.ylabel(\"Score\",fontsize=20,color=\"red\")\n",
        "plt.xlabel(\"--------------------\",fontsize = 15)\n",
        "plt.title(\"Rouge-1\",fontsize=15,color=\"red\")\n",
        "\n",
        "# For Rouge 2 column\n",
        "plt.subplot(1,3,2)\n",
        "plt.xticks(ar,eval)\n",
        "plt.bar(ar-0.2,luhn_score_r2,width=0.2,label = 'Luhn')\n",
        "plt.bar(ar,lexrank_score_r2,width=0.2,label = 'LexRank')\n",
        "plt.bar(ar+0.2,textrank_score_r2,width=0.2,label = 'TextRank')\n",
        "plt.bar(ar+0.4,lsa_score_r2,width = 0.2,label = 'LSA')\n",
        "# plt.legend(loc = 'best',shadow = False)\n",
        "# plt.ylabel(\"Score\",fontsize=15)\n",
        "plt.xlabel(\"Evaluation Methods\",fontsize = 20,color=\"red\")\n",
        "plt.title(\"Rouge-2\",fontsize=15,color=\"red\")\n",
        "\n",
        "# For Rouge L column\n",
        "plt.subplot(1,3,3)\n",
        "plt.xticks(ar,eval)\n",
        "plt.bar(ar-0.2,luhn_score_rl,width=0.2,label = 'Luhn')\n",
        "plt.bar(ar,lexrank_score_rl,width=0.2,label = 'LexRank')\n",
        "plt.bar(ar+0.2,textrank_score_rl,width=0.2,label = 'TextRank')\n",
        "plt.bar(ar+0.4,lsa_score_rl,width = 0.2,label = 'LSA')\n",
        "plt.legend(loc = 'best',shadow = False)\n",
        "# plt.ylabel(\"Score\",fontsize=15)\n",
        "plt.xlabel(\"--------------------\",fontsize = 15)\n",
        "plt.title(\"Rouge-L\",fontsize=15,color=\"red\")\n",
        "\n",
        "plt.show()"
      ],
      "metadata": {
        "id": "q61z7xlzMQcD",
        "colab": {
          "base_uri": "https://localhost:8080/",
          "height": 397
        },
        "outputId": "f256c357-3053-40ec-bf5e-0ec3aad97f99"
      },
      "execution_count": null,
      "outputs": [
        {
          "output_type": "display_data",
          "data": {
            "text/plain": [
              "<Figure size 1440x576 with 3 Axes>"
            ],
            "image/png": "[encoded data removed]"
          },
          "metadata": {
            "needs_background": "light"
          }
        }
      ]
    },
    {
      "cell_type": "markdown",
      "source": [
        "#### new"
      ],
      "metadata": {
        "id": "A4oRxrJn6Jf4"
      }
    },
    {
      "cell_type": "code",
      "source": [
        "ar=np.arange(len(eval))"
      ],
      "metadata": {
        "id": "M4yIdwQ66cJn"
      },
      "execution_count": null,
      "outputs": []
    },
    {
      "cell_type": "code",
      "source": [
        "# for Rouge 1 column\n",
        "plt.figure(figsize=(20,8))\n",
        "plt.suptitle(\"Week-1 With only neutral tweets\",fontsize=40,color=\"blue\")\n",
        "plt.subplot(1,3,1)\n",
        "plt.xticks(ar,eval)\n",
        "plt.bar(ar-0.2,luhn_score_r1,width=0.2,label = 'Luhn')\n",
        "plt.bar(ar,lexrank_score_r1,width=0.2,label = 'LexRank')\n",
        "plt.bar(ar+0.2,textrank_score_r1,width=0.2,label = 'TextRank')\n",
        "plt.bar(ar+0.4,lsa_score_r1,width = 0.2,label = 'LSA')\n",
        "plt.legend(loc = 'best',shadow = False)\n",
        "plt.ylabel(\"Score\",fontsize=20,color=\"red\")\n",
        "plt.xlabel(\"--------------------\",fontsize = 15)\n",
        "plt.title(\"Rouge-1\",fontsize=15,color=\"red\")\n",
        "\n",
        "# For Rouge 2 column\n",
        "plt.subplot(1,3,2)\n",
        "plt.xticks(ar,eval)\n",
        "plt.bar(ar-0.2,luhn_score_r2,width=0.2,label = 'Luhn')\n",
        "plt.bar(ar,lexrank_score_r2,width=0.2,label = 'LexRank')\n",
        "plt.bar(ar+0.2,textrank_score_r2,width=0.2,label = 'TextRank')\n",
        "plt.bar(ar+0.4,lsa_score_r2,width = 0.2,label = 'LSA')\n",
        "# plt.legend(loc = 'best',shadow = False)\n",
        "# plt.ylabel(\"Score\",fontsize=15)\n",
        "plt.xlabel(\"Evaluation Methods\",fontsize = 20,color=\"red\")\n",
        "plt.title(\"Rouge-2\",fontsize=15,color=\"red\")\n",
        "\n",
        "# For Rouge L column\n",
        "plt.subplot(1,3,3)\n",
        "plt.xticks(ar,eval)\n",
        "plt.bar(ar-0.2,luhn_score_rl,width=0.2,label = 'Luhn')\n",
        "plt.bar(ar,lexrank_score_rl,width=0.2,label = 'LexRank')\n",
        "plt.bar(ar+0.2,textrank_score_rl,width=0.2,label = 'TextRank')\n",
        "plt.bar(ar+0.4,lsa_score_rl,width = 0.2,label = 'LSA')\n",
        "#plt.legend(loc = 'best',shadow = False)\n",
        "# plt.ylabel(\"Score\",fontsize=15)\n",
        "plt.xlabel(\"--------------------\",fontsize = 15)\n",
        "plt.title(\"Rouge-L\",fontsize=15,color=\"red\")\n",
        "\n",
        "plt.show()\n",
        "\n"
      ],
      "metadata": {
        "colab": {
          "base_uri": "https://localhost:8080/",
          "height": 584
        },
        "id": "wfiVoBLD6cJv",
        "outputId": "fafb942e-922d-4bc0-a136-1c27b7970179"
      },
      "execution_count": null,
      "outputs": [
        {
          "output_type": "display_data",
          "data": {
            "text/plain": [
              "<Figure size 1440x576 with 3 Axes>"
            ],
            "image/png": "[encoded data removed]"
          },
          "metadata": {
            "needs_background": "light"
          }
        }
      ]
    },
    {
      "cell_type": "code",
      "source": [
        ""
      ],
      "metadata": {
        "id": "5C6SCK16MWky"
      },
      "execution_count": null,
      "outputs": []
    },
    {
      "cell_type": "markdown",
      "source": [
        "lexrank_1"
      ],
      "metadata": {
        "id": "G1byHfFdMYWw"
      }
    },
    {
      "cell_type": "markdown",
      "source": [
        "### Week 2"
      ],
      "metadata": {
        "id": "0JQtsJnDWDGx"
      }
    },
    {
      "cell_type": "code",
      "source": [
        "                                            # week 2\n",
        "eval = ['Roouge_R','Rouge_P','Rouge_F']\n",
        "luhn_score_r11 = [0.091907,0.07163,0.06707]\n",
        "lexrank_score_r11 = [0.13536,0.08716,0.10629]\n",
        "textrank_score_r11 = [0.09162,0.06910,0.08216]\n",
        "lsa_score_r11 = [0.10463,0.08063,0.07941]"
      ],
      "metadata": {
        "id": "M-CRAfRuWGwD"
      },
      "execution_count": null,
      "outputs": []
    },
    {
      "cell_type": "code",
      "source": [
        "                                           # week 2\n",
        "luhn_score_r22 = [0.04913,0.04920,0.06050]\n",
        "lexrank_score_r22 = [0.04772,0.05742,0.05010]\n",
        "textrank_score_r22 = [0.047948,0.05335,0.04375]\n",
        "lsa_score_r22 = [0.05286,0.05969,0.04995]"
      ],
      "metadata": {
        "id": "TzZT4ecQWGzs"
      },
      "execution_count": null,
      "outputs": []
    },
    {
      "cell_type": "code",
      "source": [
        "                                           # week 2\n",
        "luhn_score_rll = [0.08827,0.06613,0.06878]\n",
        "lexrank_score_rll = [0.14003,0.08040,0.0966]\n",
        "textrank_score_rll = [0.08845, 0.06155,0.06733]\n",
        "lsa_score_rll = [0.09294,0.06930,0.08293]"
      ],
      "metadata": {
        "id": "zPL5Wdj1WHB5"
      },
      "execution_count": null,
      "outputs": []
    },
    {
      "cell_type": "code",
      "source": [
        "ar=np.arange(len(eval))"
      ],
      "metadata": {
        "id": "WaxE3Tn-WbDI"
      },
      "execution_count": null,
      "outputs": []
    },
    {
      "cell_type": "code",
      "source": [
        "# for Rouge 1 column\n",
        "plt.figure(figsize=(20,8))\n",
        "plt.suptitle(\"Week-2\",fontsize=40,color=\"blue\")\n",
        "plt.subplot(1,3,1)\n",
        "plt.xticks(ar,eval)\n",
        "plt.bar(ar-0.2,luhn_score_r11,width=0.2,label = 'Luhn')\n",
        "plt.bar(ar,lexrank_score_r11,width=0.2,label = 'LexRank')\n",
        "plt.bar(ar+0.2,textrank_score_r11,width=0.2,label = 'TextRank')\n",
        "plt.bar(ar+0.4,lsa_score_r11,width = 0.2,label = 'LSA')\n",
        "plt.legend(loc = 'best',shadow = False)\n",
        "plt.ylabel(\"Score\",fontsize=20,color=\"red\")\n",
        "plt.xlabel(\"--------------------\",fontsize = 15)\n",
        "plt.title(\"Rouge-1\",fontsize=15,color=\"red\")\n",
        "\n",
        "# For Rouge 2 column\n",
        "plt.subplot(1,3,2)\n",
        "plt.xticks(ar,eval)\n",
        "plt.bar(ar-0.2,luhn_score_r22,width=0.2,label = 'Luhn')\n",
        "plt.bar(ar,lexrank_score_r22,width=0.2,label = 'LexRank')\n",
        "plt.bar(ar+0.2,textrank_score_r22,width=0.2,label = 'TextRank')\n",
        "plt.bar(ar+0.4,lsa_score_r22,width = 0.2,label = 'LSA')\n",
        "# plt.legend(loc = 'best',shadow = False)\n",
        "# plt.ylabel(\"Score\",fontsize=15)\n",
        "plt.xlabel(\"Evaluation Methods\",fontsize = 20,color=\"red\")\n",
        "plt.title(\"Rouge-2\",fontsize=15,color=\"red\")\n",
        "\n",
        "# For Rouge L column\n",
        "plt.subplot(1,3,3)\n",
        "plt.xticks(ar,eval)\n",
        "plt.bar(ar-0.2,luhn_score_rll,width=0.2,label = 'Luhn')\n",
        "plt.bar(ar,lexrank_score_rll,width=0.2,label = 'LexRank')\n",
        "plt.bar(ar+0.2,textrank_score_rll,width=0.2,label = 'TextRank')\n",
        "plt.bar(ar+0.4,lsa_score_rll,width = 0.2,label = 'LSA')\n",
        "plt.legend(loc = 'best',shadow = False)\n",
        "# plt.ylabel(\"Score\",fontsize=15)\n",
        "plt.xlabel(\"--------------------\",fontsize = 15)\n",
        "plt.title(\"Rouge-L\",fontsize=15,color=\"red\")\n",
        "\n",
        "plt.show()\n",
        "\n"
      ],
      "metadata": {
        "id": "HqP9csoyWbGG"
      },
      "execution_count": null,
      "outputs": []
    },
    {
      "cell_type": "code",
      "source": [
        "# for Rouge 1 column\n",
        "\n",
        "f, (ax1, ax2, ax3) = plt.subplots(nrows=1, ncols=3, sharey=True, squeeze=True)\n",
        "# plt.figure(figsize=(20,8))\n",
        "f.set_size_inches(20,8)\n",
        "f.add_axes(label=[\"Rouge R\",\"Rouge p\",\"Rouge F\"])\n",
        "plt.suptitle(\"Average Scores\",fontsize=40,color=\"blue\")\n",
        "plt.xticks(ar,['rouge-1','rouge-2','rouge-l'])\n",
        "\n",
        "# ax1.xticks(ar,eval)\n",
        "ax1.bar(ar-0.2,luhn_score_r11,width=0.2,label = 'Luhn')\n",
        "ax1.bar(ar,lexrank_score_r11,width=0.2,label = 'LexRank')\n",
        "ax1.bar(ar+0.2,textrank_score_r11,width=0.2,label = 'TextRank')\n",
        "ax1.bar(ar+0.4,lsa_score_r11,width = 0.2,label = 'LSA')\n",
        "plt.xlabel(\"Evaluation Methods\",fontsize=15)\n",
        "plt.ylabel(\"Score\",fontsize=15)\n",
        "\n",
        "# For Rouge 2 column\n",
        "ax2.bar(ar-0.2,luhn_score_r22,width=0.2,label = 'Luhn')\n",
        "ax2.bar(ar,lexrank_score_r22,width=0.2,label = 'LexRank')\n",
        "ax2.bar(ar+0.2,textrank_score_r22,width=0.2,label = 'TextRank')\n",
        "ax2.bar(ar+0.4,lsa_score_r22,width = 0.2,label = 'LSA')\n",
        "# ax2.xticks(ar,eval)\n",
        "\n",
        "# For Rouge L column\n",
        "ax3.bar(ar-0.2,luhn_score_rll,width=0.2,label = 'Luhn')\n",
        "ax3.bar(ar,lexrank_score_rll,width=0.2,label = 'LexRank')\n",
        "ax3.bar(ar+0.2,textrank_score_rll,width=0.2,label = 'TextRank')\n",
        "ax3.bar(ar+0.4,lsa_score_rll,width = 0.2,label = 'LSA')\n",
        "# ax3.xticks(ar,eval)\n",
        "\n",
        "plt.show()\n",
        "\n"
      ],
      "metadata": {
        "id": "XkIdvwsgT5JB"
      },
      "execution_count": null,
      "outputs": []
    },
    {
      "cell_type": "code",
      "source": [
        ""
      ],
      "metadata": {
        "id": "QnuzvedPMv8H"
      },
      "execution_count": null,
      "outputs": []
    }
  ],
  "metadata": {
    "colab": {
      "collapsed_sections": [
        "Y0F2fy0Pqcd-",
        "lFvnfehugIj5",
        "mP1h8dtOAcLs",
        "9WLI2U_QpIJN",
        "l8p0XMz_I-93",
        "RvhPk0_-eNys",
        "_bZhGCdpNdnd",
        "gDO687LhXK-F",
        "yv0iO2HbaJGe",
        "2LX9iV8aNYUX",
        "USuO7pjYYkXC",
        "y-nf-KvQgIdY",
        "YZ8h-vZZjxm9",
        "Qw-iURv6mmnu",
        "lzF3Y2ThmxQR",
        "ZlC0hFwIncat",
        "z_pMPxrXnnNe",
        "8QAbljzlkNKF",
        "vPxUf5wNVjHK",
        "pGXQeZuK3SRL",
        "nBS70XAI5YRD",
        "2-qG9zdc5xg4",
        "B3kAr9Rb50Hi",
        "jF7HcqMd52vM",
        "9Aaml8xTU9_l",
        "pfjji8bYjRTn",
        "-_IN1IgLkyjd",
        "w0WdFolu9feA",
        "8jTvKNmmjiRB",
        "ukgtiss-ElkS",
        "WgHcagQL55uG",
        "rgedIOVwlN3n",
        "RInwgNj3FhTJ",
        "0JQtsJnDWDGx"
      ],
      "name": "sentiment_test.ipynb",
      "provenance": []
    },
    "kernelspec": {
      "display_name": "Python 3",
      "name": "python3"
    },
    "language_info": {
      "name": "python"
    }
  },
  "nbformat": 4,
  "nbformat_minor": 0
}