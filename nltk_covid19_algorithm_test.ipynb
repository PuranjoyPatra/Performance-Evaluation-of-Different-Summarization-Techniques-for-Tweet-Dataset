{
  "cells": [
    {
      "cell_type": "markdown",
      "metadata": {
        "id": "Y0F2fy0Pqcd-"
      },
      "source": [
        "# MOUNTING DRIVE"
      ]
    },
    {
      "cell_type": "code",
      "execution_count": null,
      "metadata": {
        "colab": {
          "base_uri": "https://localhost:8080/"
        },
        "id": "xfIlbP1anV2H",
        "outputId": "3c81cc63-f103-4984-ed19-731dca91defa"
      },
      "outputs": [
        {
          "output_type": "stream",
          "name": "stdout",
          "text": [
            "Drive already mounted at /content/drive; to attempt to forcibly remount, call drive.mount(\"/content/drive\", force_remount=True).\n"
          ]
        }
      ],
      "source": [
        "from google.colab import drive\n",
        "drive.mount(\"/content/drive\")"
      ]
    },
    {
      "cell_type": "code",
      "execution_count": null,
      "metadata": {
        "id": "YAx88lxdg4sS",
        "colab": {
          "base_uri": "https://localhost:8080/"
        },
        "outputId": "20e9691d-bfdb-4393-ec4c-f79ebf451904"
      },
      "outputs": [
        {
          "output_type": "stream",
          "name": "stdout",
          "text": [
            "/content/drive/MyDrive/Soft-computing eXtended\n"
          ]
        }
      ],
      "source": [
        "#@title Set up Directory\n",
        "\n",
        "# project directory\n",
        "%cd '/content/drive/MyDrive/Soft-computing eXtended'"
      ]
    },
    {
      "cell_type": "code",
      "source": [
        "import pandas as pd\n",
        "\n",
        "covid_tweet_dataset = \"tweetid_sentiments_emotions.csv\""
      ],
      "metadata": {
        "id": "la4MLGZTwYEg"
      },
      "execution_count": null,
      "outputs": []
    },
    {
      "cell_type": "markdown",
      "source": [
        "# sentiment filter"
      ],
      "metadata": {
        "id": "lFvnfehugIj5"
      }
    },
    {
      "cell_type": "code",
      "source": [
        "#@title Covid-19 subset preview\n",
        "covid_subset = pd.read_csv(covid_tweet_dataset, \n",
        "                           skiprows=range(1,540000), \n",
        "                           nrows=10000, \n",
        "                           usecols=[0,17,19,21])\n",
        "covid_subset.head()"
      ],
      "metadata": {
        "colab": {
          "base_uri": "https://localhost:8080/",
          "height": 198
        },
        "id": "Kd410B3vgOQu",
        "outputId": "5444e5e4-b516-4b8e-cb6f-d4588415f553"
      },
      "execution_count": null,
      "outputs": [
        {
          "output_type": "execute_result",
          "data": {
            "text/plain": [
              "              tweet_ID sentiment_category keyword_used           date_stamp\n",
              "0  1241702585477693441           positive        covid  2020-03-22 00:00:00\n",
              "1  1241702581795094528            neutral        covid  2020-03-22 00:00:00\n",
              "2  1241702581300158471           negative        covid  2020-03-22 00:00:00\n",
              "3  1241702577684623361           positive        covid  2020-03-22 00:00:00\n",
              "4  1241702576975835136           positive        covid  2020-03-22 00:00:00"
            ],
            "text/html": [
              "\n",
              "  <div id=\"df-85ac7c39-fe01-4177-b4dd-b9e7d65e21ba\">\n",
              "    <div class=\"colab-df-container\">\n",
              "      <div>\n",
              "<style scoped>\n",
              "    .dataframe tbody tr th:only-of-type {\n",
              "        vertical-align: middle;\n",
              "    }\n",
              "\n",
              "    .dataframe tbody tr th {\n",
              "        vertical-align: top;\n",
              "    }\n",
              "\n",
              "    .dataframe thead th {\n",
              "        text-align: right;\n",
              "    }\n",
              "</style>\n",
              "<table border=\"1\" class=\"dataframe\">\n",
              "  <thead>\n",
              "    <tr style=\"text-align: right;\">\n",
              "      <th></th>\n",
              "      <th>tweet_ID</th>\n",
              "      <th>sentiment_category</th>\n",
              "      <th>keyword_used</th>\n",
              "      <th>date_stamp</th>\n",
              "    </tr>\n",
              "  </thead>\n",
              "  <tbody>\n",
              "    <tr>\n",
              "      <th>0</th>\n",
              "      <td>1241702585477693441</td>\n",
              "      <td>positive</td>\n",
              "      <td>covid</td>\n",
              "      <td>2020-03-22 00:00:00</td>\n",
              "    </tr>\n",
              "    <tr>\n",
              "      <th>1</th>\n",
              "      <td>1241702581795094528</td>\n",
              "      <td>neutral</td>\n",
              "      <td>covid</td>\n",
              "      <td>2020-03-22 00:00:00</td>\n",
              "    </tr>\n",
              "    <tr>\n",
              "      <th>2</th>\n",
              "      <td>1241702581300158471</td>\n",
              "      <td>negative</td>\n",
              "      <td>covid</td>\n",
              "      <td>2020-03-22 00:00:00</td>\n",
              "    </tr>\n",
              "    <tr>\n",
              "      <th>3</th>\n",
              "      <td>1241702577684623361</td>\n",
              "      <td>positive</td>\n",
              "      <td>covid</td>\n",
              "      <td>2020-03-22 00:00:00</td>\n",
              "    </tr>\n",
              "    <tr>\n",
              "      <th>4</th>\n",
              "      <td>1241702576975835136</td>\n",
              "      <td>positive</td>\n",
              "      <td>covid</td>\n",
              "      <td>2020-03-22 00:00:00</td>\n",
              "    </tr>\n",
              "  </tbody>\n",
              "</table>\n",
              "</div>\n",
              "      <button class=\"colab-df-convert\" onclick=\"convertToInteractive('df-85ac7c39-fe01-4177-b4dd-b9e7d65e21ba')\"\n",
              "              title=\"Convert this dataframe to an interactive table.\"\n",
              "              style=\"display:none;\">\n",
              "        \n",
              "  <svg xmlns=\"http://www.w3.org/2000/svg\" height=\"24px\"viewBox=\"0 0 24 24\"\n",
              "       width=\"24px\">\n",
              "    <path d=\"M0 0h24v24H0V0z\" fill=\"none\"/>\n",
              "    <path d=\"M18.56 5.44l.94 2.06.94-2.06 2.06-.94-2.06-.94-.94-2.06-.94 2.06-2.06.94zm-11 1L8.5 8.5l.94-2.06 2.06-.94-2.06-.94L8.5 2.5l-.94 2.06-2.06.94zm10 10l.94 2.06.94-2.06 2.06-.94-2.06-.94-.94-2.06-.94 2.06-2.06.94z\"/><path d=\"M17.41 7.96l-1.37-1.37c-.4-.4-.92-.59-1.43-.59-.52 0-1.04.2-1.43.59L10.3 9.45l-7.72 7.72c-.78.78-.78 2.05 0 2.83L4 21.41c.39.39.9.59 1.41.59.51 0 1.02-.2 1.41-.59l7.78-7.78 2.81-2.81c.8-.78.8-2.07 0-2.86zM5.41 20L4 18.59l7.72-7.72 1.47 1.35L5.41 20z\"/>\n",
              "  </svg>\n",
              "      </button>\n",
              "      \n",
              "  <style>\n",
              "    .colab-df-container {\n",
              "      display:flex;\n",
              "      flex-wrap:wrap;\n",
              "      gap: 12px;\n",
              "    }\n",
              "\n",
              "    .colab-df-convert {\n",
              "      background-color: #E8F0FE;\n",
              "      border: none;\n",
              "      border-radius: 50%;\n",
              "      cursor: pointer;\n",
              "      display: none;\n",
              "      fill: #1967D2;\n",
              "      height: 32px;\n",
              "      padding: 0 0 0 0;\n",
              "      width: 32px;\n",
              "    }\n",
              "\n",
              "    .colab-df-convert:hover {\n",
              "      background-color: #E2EBFA;\n",
              "      box-shadow: 0px 1px 2px rgba(60, 64, 67, 0.3), 0px 1px 3px 1px rgba(60, 64, 67, 0.15);\n",
              "      fill: #174EA6;\n",
              "    }\n",
              "\n",
              "    [theme=dark] .colab-df-convert {\n",
              "      background-color: #3B4455;\n",
              "      fill: #D2E3FC;\n",
              "    }\n",
              "\n",
              "    [theme=dark] .colab-df-convert:hover {\n",
              "      background-color: #434B5C;\n",
              "      box-shadow: 0px 1px 3px 1px rgba(0, 0, 0, 0.15);\n",
              "      filter: drop-shadow(0px 1px 2px rgba(0, 0, 0, 0.3));\n",
              "      fill: #FFFFFF;\n",
              "    }\n",
              "  </style>\n",
              "\n",
              "      <script>\n",
              "        const buttonEl =\n",
              "          document.querySelector('#df-85ac7c39-fe01-4177-b4dd-b9e7d65e21ba button.colab-df-convert');\n",
              "        buttonEl.style.display =\n",
              "          google.colab.kernel.accessAllowed ? 'block' : 'none';\n",
              "\n",
              "        async function convertToInteractive(key) {\n",
              "          const element = document.querySelector('#df-85ac7c39-fe01-4177-b4dd-b9e7d65e21ba');\n",
              "          const dataTable =\n",
              "            await google.colab.kernel.invokeFunction('convertToInteractive',\n",
              "                                                     [key], {});\n",
              "          if (!dataTable) return;\n",
              "\n",
              "          const docLinkHtml = 'Like what you see? Visit the ' +\n",
              "            '<a target=\"_blank\" href=https://colab.research.google.com/notebooks/data_table.ipynb>data table notebook</a>'\n",
              "            + ' to learn more about interactive tables.';\n",
              "          element.innerHTML = '';\n",
              "          dataTable['output_type'] = 'display_data';\n",
              "          await google.colab.output.renderOutput(dataTable, element);\n",
              "          const docLink = document.createElement('div');\n",
              "          docLink.innerHTML = docLinkHtml;\n",
              "          element.appendChild(docLink);\n",
              "        }\n",
              "      </script>\n",
              "    </div>\n",
              "  </div>\n",
              "  "
            ]
          },
          "metadata": {},
          "execution_count": 48
        }
      ]
    },
    {
      "cell_type": "code",
      "source": [
        "print(\"Columns:\", covid_subset.columns)\n",
        "print(\"Length:\", len(covid_subset))\n",
        "print(\"Null entries:\\n\", covid_subset.isnull().sum().sum())\n",
        "covid_subset.to_csv(\"\")"
      ],
      "metadata": {
        "colab": {
          "base_uri": "https://localhost:8080/"
        },
        "id": "VC2UjiW95pFV",
        "outputId": "5149f7e3-feb0-49d2-b2c0-6c19fdd99897"
      },
      "execution_count": null,
      "outputs": [
        {
          "output_type": "stream",
          "name": "stdout",
          "text": [
            "Columns: Index(['tweet_ID', 'sentiment_category', 'keyword_used', 'date_stamp'], dtype='object')\n",
            "Length: 10000\n",
            "Null entries:\n",
            " 0\n"
          ]
        }
      ]
    },
    {
      "cell_type": "code",
      "source": [
        "week1=pd.read_csv(\"covid_subset/30_nov_6_dec_2020.csv\",index_col=0,lineterminator='\\n')\n",
        "#week1.head()\n",
        "\n",
        "week2=pd.read_csv(\"covid_subset/7_dec_13_dec_2020.csv\",index_col=0)\n",
        "#week2.head()\n",
        "\n",
        "week3=pd.read_csv(\"covid_subset/14_dec_16_dec_2020.csv\",index_col=0)\n",
        "#week3.head()\n"
      ],
      "metadata": {
        "id": "ZORZ2OqOfXta",
        "colab": {
          "base_uri": "https://localhost:8080/",
          "height": 413
        },
        "outputId": "6ecaec1a-5a2b-4b51-c96e-d3cf0686faa3"
      },
      "execution_count": null,
      "outputs": [
        {
          "output_type": "error",
          "ename": "FileNotFoundError",
          "evalue": "ignored",
          "traceback": [
            "\u001b[0;31m---------------------------------------------------------------------------\u001b[0m",
            "\u001b[0;31mFileNotFoundError\u001b[0m                         Traceback (most recent call last)",
            "\u001b[0;32m<ipython-input-40-b2538e038854>\u001b[0m in \u001b[0;36m<module>\u001b[0;34m()\u001b[0m\n\u001b[0;32m----> 1\u001b[0;31m \u001b[0mweek1\u001b[0m\u001b[0;34m=\u001b[0m\u001b[0mpd\u001b[0m\u001b[0;34m.\u001b[0m\u001b[0mread_csv\u001b[0m\u001b[0;34m(\u001b[0m\u001b[0;34m\"covid_subset/30_nov_6_dec_2020.csv\"\u001b[0m\u001b[0;34m,\u001b[0m\u001b[0mindex_col\u001b[0m\u001b[0;34m=\u001b[0m\u001b[0;36m0\u001b[0m\u001b[0;34m,\u001b[0m\u001b[0mlineterminator\u001b[0m\u001b[0;34m=\u001b[0m\u001b[0;34m'\\n'\u001b[0m\u001b[0;34m)\u001b[0m\u001b[0;34m\u001b[0m\u001b[0;34m\u001b[0m\u001b[0m\n\u001b[0m\u001b[1;32m      2\u001b[0m \u001b[0;31m#week1.head()\u001b[0m\u001b[0;34m\u001b[0m\u001b[0;34m\u001b[0m\u001b[0;34m\u001b[0m\u001b[0m\n\u001b[1;32m      3\u001b[0m \u001b[0;34m\u001b[0m\u001b[0m\n\u001b[1;32m      4\u001b[0m \u001b[0mweek2\u001b[0m\u001b[0;34m=\u001b[0m\u001b[0mpd\u001b[0m\u001b[0;34m.\u001b[0m\u001b[0mread_csv\u001b[0m\u001b[0;34m(\u001b[0m\u001b[0;34m\"covid_subset/7_dec_13_dec_2020.csv\"\u001b[0m\u001b[0;34m,\u001b[0m\u001b[0mindex_col\u001b[0m\u001b[0;34m=\u001b[0m\u001b[0;36m0\u001b[0m\u001b[0;34m)\u001b[0m\u001b[0;34m\u001b[0m\u001b[0;34m\u001b[0m\u001b[0m\n\u001b[1;32m      5\u001b[0m \u001b[0;31m#week2.head()\u001b[0m\u001b[0;34m\u001b[0m\u001b[0;34m\u001b[0m\u001b[0;34m\u001b[0m\u001b[0m\n",
            "\u001b[0;32m/usr/local/lib/python3.7/dist-packages/pandas/util/_decorators.py\u001b[0m in \u001b[0;36mwrapper\u001b[0;34m(*args, **kwargs)\u001b[0m\n\u001b[1;32m    309\u001b[0m                     \u001b[0mstacklevel\u001b[0m\u001b[0;34m=\u001b[0m\u001b[0mstacklevel\u001b[0m\u001b[0;34m,\u001b[0m\u001b[0;34m\u001b[0m\u001b[0;34m\u001b[0m\u001b[0m\n\u001b[1;32m    310\u001b[0m                 )\n\u001b[0;32m--> 311\u001b[0;31m             \u001b[0;32mreturn\u001b[0m \u001b[0mfunc\u001b[0m\u001b[0;34m(\u001b[0m\u001b[0;34m*\u001b[0m\u001b[0margs\u001b[0m\u001b[0;34m,\u001b[0m \u001b[0;34m**\u001b[0m\u001b[0mkwargs\u001b[0m\u001b[0;34m)\u001b[0m\u001b[0;34m\u001b[0m\u001b[0;34m\u001b[0m\u001b[0m\n\u001b[0m\u001b[1;32m    312\u001b[0m \u001b[0;34m\u001b[0m\u001b[0m\n\u001b[1;32m    313\u001b[0m         \u001b[0;32mreturn\u001b[0m \u001b[0mwrapper\u001b[0m\u001b[0;34m\u001b[0m\u001b[0;34m\u001b[0m\u001b[0m\n",
            "\u001b[0;32m/usr/local/lib/python3.7/dist-packages/pandas/io/parsers/readers.py\u001b[0m in \u001b[0;36mread_csv\u001b[0;34m(filepath_or_buffer, sep, delimiter, header, names, index_col, usecols, squeeze, prefix, mangle_dupe_cols, dtype, engine, converters, true_values, false_values, skipinitialspace, skiprows, skipfooter, nrows, na_values, keep_default_na, na_filter, verbose, skip_blank_lines, parse_dates, infer_datetime_format, keep_date_col, date_parser, dayfirst, cache_dates, iterator, chunksize, compression, thousands, decimal, lineterminator, quotechar, quoting, doublequote, escapechar, comment, encoding, encoding_errors, dialect, error_bad_lines, warn_bad_lines, on_bad_lines, delim_whitespace, low_memory, memory_map, float_precision, storage_options)\u001b[0m\n\u001b[1;32m    584\u001b[0m     \u001b[0mkwds\u001b[0m\u001b[0;34m.\u001b[0m\u001b[0mupdate\u001b[0m\u001b[0;34m(\u001b[0m\u001b[0mkwds_defaults\u001b[0m\u001b[0;34m)\u001b[0m\u001b[0;34m\u001b[0m\u001b[0;34m\u001b[0m\u001b[0m\n\u001b[1;32m    585\u001b[0m \u001b[0;34m\u001b[0m\u001b[0m\n\u001b[0;32m--> 586\u001b[0;31m     \u001b[0;32mreturn\u001b[0m \u001b[0m_read\u001b[0m\u001b[0;34m(\u001b[0m\u001b[0mfilepath_or_buffer\u001b[0m\u001b[0;34m,\u001b[0m \u001b[0mkwds\u001b[0m\u001b[0;34m)\u001b[0m\u001b[0;34m\u001b[0m\u001b[0;34m\u001b[0m\u001b[0m\n\u001b[0m\u001b[1;32m    587\u001b[0m \u001b[0;34m\u001b[0m\u001b[0m\n\u001b[1;32m    588\u001b[0m \u001b[0;34m\u001b[0m\u001b[0m\n",
            "\u001b[0;32m/usr/local/lib/python3.7/dist-packages/pandas/io/parsers/readers.py\u001b[0m in \u001b[0;36m_read\u001b[0;34m(filepath_or_buffer, kwds)\u001b[0m\n\u001b[1;32m    480\u001b[0m \u001b[0;34m\u001b[0m\u001b[0m\n\u001b[1;32m    481\u001b[0m     \u001b[0;31m# Create the parser.\u001b[0m\u001b[0;34m\u001b[0m\u001b[0;34m\u001b[0m\u001b[0;34m\u001b[0m\u001b[0m\n\u001b[0;32m--> 482\u001b[0;31m     \u001b[0mparser\u001b[0m \u001b[0;34m=\u001b[0m \u001b[0mTextFileReader\u001b[0m\u001b[0;34m(\u001b[0m\u001b[0mfilepath_or_buffer\u001b[0m\u001b[0;34m,\u001b[0m \u001b[0;34m**\u001b[0m\u001b[0mkwds\u001b[0m\u001b[0;34m)\u001b[0m\u001b[0;34m\u001b[0m\u001b[0;34m\u001b[0m\u001b[0m\n\u001b[0m\u001b[1;32m    483\u001b[0m \u001b[0;34m\u001b[0m\u001b[0m\n\u001b[1;32m    484\u001b[0m     \u001b[0;32mif\u001b[0m \u001b[0mchunksize\u001b[0m \u001b[0;32mor\u001b[0m \u001b[0miterator\u001b[0m\u001b[0;34m:\u001b[0m\u001b[0;34m\u001b[0m\u001b[0;34m\u001b[0m\u001b[0m\n",
            "\u001b[0;32m/usr/local/lib/python3.7/dist-packages/pandas/io/parsers/readers.py\u001b[0m in \u001b[0;36m__init__\u001b[0;34m(self, f, engine, **kwds)\u001b[0m\n\u001b[1;32m    809\u001b[0m             \u001b[0mself\u001b[0m\u001b[0;34m.\u001b[0m\u001b[0moptions\u001b[0m\u001b[0;34m[\u001b[0m\u001b[0;34m\"has_index_names\"\u001b[0m\u001b[0;34m]\u001b[0m \u001b[0;34m=\u001b[0m \u001b[0mkwds\u001b[0m\u001b[0;34m[\u001b[0m\u001b[0;34m\"has_index_names\"\u001b[0m\u001b[0;34m]\u001b[0m\u001b[0;34m\u001b[0m\u001b[0;34m\u001b[0m\u001b[0m\n\u001b[1;32m    810\u001b[0m \u001b[0;34m\u001b[0m\u001b[0m\n\u001b[0;32m--> 811\u001b[0;31m         \u001b[0mself\u001b[0m\u001b[0;34m.\u001b[0m\u001b[0m_engine\u001b[0m \u001b[0;34m=\u001b[0m \u001b[0mself\u001b[0m\u001b[0;34m.\u001b[0m\u001b[0m_make_engine\u001b[0m\u001b[0;34m(\u001b[0m\u001b[0mself\u001b[0m\u001b[0;34m.\u001b[0m\u001b[0mengine\u001b[0m\u001b[0;34m)\u001b[0m\u001b[0;34m\u001b[0m\u001b[0;34m\u001b[0m\u001b[0m\n\u001b[0m\u001b[1;32m    812\u001b[0m \u001b[0;34m\u001b[0m\u001b[0m\n\u001b[1;32m    813\u001b[0m     \u001b[0;32mdef\u001b[0m \u001b[0mclose\u001b[0m\u001b[0;34m(\u001b[0m\u001b[0mself\u001b[0m\u001b[0;34m)\u001b[0m\u001b[0;34m:\u001b[0m\u001b[0;34m\u001b[0m\u001b[0;34m\u001b[0m\u001b[0m\n",
            "\u001b[0;32m/usr/local/lib/python3.7/dist-packages/pandas/io/parsers/readers.py\u001b[0m in \u001b[0;36m_make_engine\u001b[0;34m(self, engine)\u001b[0m\n\u001b[1;32m   1038\u001b[0m             )\n\u001b[1;32m   1039\u001b[0m         \u001b[0;31m# error: Too many arguments for \"ParserBase\"\u001b[0m\u001b[0;34m\u001b[0m\u001b[0;34m\u001b[0m\u001b[0;34m\u001b[0m\u001b[0m\n\u001b[0;32m-> 1040\u001b[0;31m         \u001b[0;32mreturn\u001b[0m \u001b[0mmapping\u001b[0m\u001b[0;34m[\u001b[0m\u001b[0mengine\u001b[0m\u001b[0;34m]\u001b[0m\u001b[0;34m(\u001b[0m\u001b[0mself\u001b[0m\u001b[0;34m.\u001b[0m\u001b[0mf\u001b[0m\u001b[0;34m,\u001b[0m \u001b[0;34m**\u001b[0m\u001b[0mself\u001b[0m\u001b[0;34m.\u001b[0m\u001b[0moptions\u001b[0m\u001b[0;34m)\u001b[0m  \u001b[0;31m# type: ignore[call-arg]\u001b[0m\u001b[0;34m\u001b[0m\u001b[0;34m\u001b[0m\u001b[0m\n\u001b[0m\u001b[1;32m   1041\u001b[0m \u001b[0;34m\u001b[0m\u001b[0m\n\u001b[1;32m   1042\u001b[0m     \u001b[0;32mdef\u001b[0m \u001b[0m_failover_to_python\u001b[0m\u001b[0;34m(\u001b[0m\u001b[0mself\u001b[0m\u001b[0;34m)\u001b[0m\u001b[0;34m:\u001b[0m\u001b[0;34m\u001b[0m\u001b[0;34m\u001b[0m\u001b[0m\n",
            "\u001b[0;32m/usr/local/lib/python3.7/dist-packages/pandas/io/parsers/c_parser_wrapper.py\u001b[0m in \u001b[0;36m__init__\u001b[0;34m(self, src, **kwds)\u001b[0m\n\u001b[1;32m     49\u001b[0m \u001b[0;34m\u001b[0m\u001b[0m\n\u001b[1;32m     50\u001b[0m         \u001b[0;31m# open handles\u001b[0m\u001b[0;34m\u001b[0m\u001b[0;34m\u001b[0m\u001b[0;34m\u001b[0m\u001b[0m\n\u001b[0;32m---> 51\u001b[0;31m         \u001b[0mself\u001b[0m\u001b[0;34m.\u001b[0m\u001b[0m_open_handles\u001b[0m\u001b[0;34m(\u001b[0m\u001b[0msrc\u001b[0m\u001b[0;34m,\u001b[0m \u001b[0mkwds\u001b[0m\u001b[0;34m)\u001b[0m\u001b[0;34m\u001b[0m\u001b[0;34m\u001b[0m\u001b[0m\n\u001b[0m\u001b[1;32m     52\u001b[0m         \u001b[0;32massert\u001b[0m \u001b[0mself\u001b[0m\u001b[0;34m.\u001b[0m\u001b[0mhandles\u001b[0m \u001b[0;32mis\u001b[0m \u001b[0;32mnot\u001b[0m \u001b[0;32mNone\u001b[0m\u001b[0;34m\u001b[0m\u001b[0;34m\u001b[0m\u001b[0m\n\u001b[1;32m     53\u001b[0m \u001b[0;34m\u001b[0m\u001b[0m\n",
            "\u001b[0;32m/usr/local/lib/python3.7/dist-packages/pandas/io/parsers/base_parser.py\u001b[0m in \u001b[0;36m_open_handles\u001b[0;34m(self, src, kwds)\u001b[0m\n\u001b[1;32m    227\u001b[0m             \u001b[0mmemory_map\u001b[0m\u001b[0;34m=\u001b[0m\u001b[0mkwds\u001b[0m\u001b[0;34m.\u001b[0m\u001b[0mget\u001b[0m\u001b[0;34m(\u001b[0m\u001b[0;34m\"memory_map\"\u001b[0m\u001b[0;34m,\u001b[0m \u001b[0;32mFalse\u001b[0m\u001b[0;34m)\u001b[0m\u001b[0;34m,\u001b[0m\u001b[0;34m\u001b[0m\u001b[0;34m\u001b[0m\u001b[0m\n\u001b[1;32m    228\u001b[0m             \u001b[0mstorage_options\u001b[0m\u001b[0;34m=\u001b[0m\u001b[0mkwds\u001b[0m\u001b[0;34m.\u001b[0m\u001b[0mget\u001b[0m\u001b[0;34m(\u001b[0m\u001b[0;34m\"storage_options\"\u001b[0m\u001b[0;34m,\u001b[0m \u001b[0;32mNone\u001b[0m\u001b[0;34m)\u001b[0m\u001b[0;34m,\u001b[0m\u001b[0;34m\u001b[0m\u001b[0;34m\u001b[0m\u001b[0m\n\u001b[0;32m--> 229\u001b[0;31m             \u001b[0merrors\u001b[0m\u001b[0;34m=\u001b[0m\u001b[0mkwds\u001b[0m\u001b[0;34m.\u001b[0m\u001b[0mget\u001b[0m\u001b[0;34m(\u001b[0m\u001b[0;34m\"encoding_errors\"\u001b[0m\u001b[0;34m,\u001b[0m \u001b[0;34m\"strict\"\u001b[0m\u001b[0;34m)\u001b[0m\u001b[0;34m,\u001b[0m\u001b[0;34m\u001b[0m\u001b[0;34m\u001b[0m\u001b[0m\n\u001b[0m\u001b[1;32m    230\u001b[0m         )\n\u001b[1;32m    231\u001b[0m \u001b[0;34m\u001b[0m\u001b[0m\n",
            "\u001b[0;32m/usr/local/lib/python3.7/dist-packages/pandas/io/common.py\u001b[0m in \u001b[0;36mget_handle\u001b[0;34m(path_or_buf, mode, encoding, compression, memory_map, is_text, errors, storage_options)\u001b[0m\n\u001b[1;32m    705\u001b[0m                 \u001b[0mencoding\u001b[0m\u001b[0;34m=\u001b[0m\u001b[0mioargs\u001b[0m\u001b[0;34m.\u001b[0m\u001b[0mencoding\u001b[0m\u001b[0;34m,\u001b[0m\u001b[0;34m\u001b[0m\u001b[0;34m\u001b[0m\u001b[0m\n\u001b[1;32m    706\u001b[0m                 \u001b[0merrors\u001b[0m\u001b[0;34m=\u001b[0m\u001b[0merrors\u001b[0m\u001b[0;34m,\u001b[0m\u001b[0;34m\u001b[0m\u001b[0;34m\u001b[0m\u001b[0m\n\u001b[0;32m--> 707\u001b[0;31m                 \u001b[0mnewline\u001b[0m\u001b[0;34m=\u001b[0m\u001b[0;34m\"\"\u001b[0m\u001b[0;34m,\u001b[0m\u001b[0;34m\u001b[0m\u001b[0;34m\u001b[0m\u001b[0m\n\u001b[0m\u001b[1;32m    708\u001b[0m             )\n\u001b[1;32m    709\u001b[0m         \u001b[0;32melse\u001b[0m\u001b[0;34m:\u001b[0m\u001b[0;34m\u001b[0m\u001b[0;34m\u001b[0m\u001b[0m\n",
            "\u001b[0;31mFileNotFoundError\u001b[0m: [Errno 2] No such file or directory: 'covid_subset/30_nov_6_dec_2020.csv'"
          ]
        }
      ]
    },
    {
      "cell_type": "code",
      "source": [
        "week1.head()"
      ],
      "metadata": {
        "colab": {
          "base_uri": "https://localhost:8080/",
          "height": 358
        },
        "id": "0XwUQ65U0o1l",
        "outputId": "09b8aa8a-76a4-4e50-bace-3782375b66d0"
      },
      "execution_count": null,
      "outputs": [
        {
          "output_type": "execute_result",
          "data": {
            "text/plain": [
              "                  tweet_ID keyword_used           date_stamp  \\\n",
              "index                                                          \n",
              "0      1333578880846684161        wuhan  2020-12-01 00:00:00   \n",
              "1      1333577840206364672        wuhan  2020-12-01 00:00:00   \n",
              "2      1333577071826649089        wuhan  2020-12-01 00:00:00   \n",
              "3      1333577069075202048        wuhan  2020-12-01 00:00:00   \n",
              "4      1333574570855391232        wuhan  2020-12-01 00:00:00   \n",
              "\n",
              "                                               full_text  \n",
              "index                                                     \n",
              "0      On 1st Dec 2019, first case of #COVID__19 was ...  \n",
              "1      @bbcnewstelugu Wuhan is part of Indian Territo...  \n",
              "2      @ANI If WHO can open a laboratory in Wuhan wet...  \n",
              "3      @ndtv Ask this idiot to go &amp; check in Wuha...  \n",
              "4      @TimesNow Agreed if Chinese believe Wuhan is a...  "
            ],
            "text/html": [
              "\n",
              "  <div id=\"df-7786a404-0b6c-43aa-b0f0-3953f65149d9\">\n",
              "    <div class=\"colab-df-container\">\n",
              "      <div>\n",
              "<style scoped>\n",
              "    .dataframe tbody tr th:only-of-type {\n",
              "        vertical-align: middle;\n",
              "    }\n",
              "\n",
              "    .dataframe tbody tr th {\n",
              "        vertical-align: top;\n",
              "    }\n",
              "\n",
              "    .dataframe thead th {\n",
              "        text-align: right;\n",
              "    }\n",
              "</style>\n",
              "<table border=\"1\" class=\"dataframe\">\n",
              "  <thead>\n",
              "    <tr style=\"text-align: right;\">\n",
              "      <th></th>\n",
              "      <th>tweet_ID</th>\n",
              "      <th>keyword_used</th>\n",
              "      <th>date_stamp</th>\n",
              "      <th>full_text</th>\n",
              "    </tr>\n",
              "    <tr>\n",
              "      <th>index</th>\n",
              "      <th></th>\n",
              "      <th></th>\n",
              "      <th></th>\n",
              "      <th></th>\n",
              "    </tr>\n",
              "  </thead>\n",
              "  <tbody>\n",
              "    <tr>\n",
              "      <th>0</th>\n",
              "      <td>1333578880846684161</td>\n",
              "      <td>wuhan</td>\n",
              "      <td>2020-12-01 00:00:00</td>\n",
              "      <td>On 1st Dec 2019, first case of #COVID__19 was ...</td>\n",
              "    </tr>\n",
              "    <tr>\n",
              "      <th>1</th>\n",
              "      <td>1333577840206364672</td>\n",
              "      <td>wuhan</td>\n",
              "      <td>2020-12-01 00:00:00</td>\n",
              "      <td>@bbcnewstelugu Wuhan is part of Indian Territo...</td>\n",
              "    </tr>\n",
              "    <tr>\n",
              "      <th>2</th>\n",
              "      <td>1333577071826649089</td>\n",
              "      <td>wuhan</td>\n",
              "      <td>2020-12-01 00:00:00</td>\n",
              "      <td>@ANI If WHO can open a laboratory in Wuhan wet...</td>\n",
              "    </tr>\n",
              "    <tr>\n",
              "      <th>3</th>\n",
              "      <td>1333577069075202048</td>\n",
              "      <td>wuhan</td>\n",
              "      <td>2020-12-01 00:00:00</td>\n",
              "      <td>@ndtv Ask this idiot to go &amp;amp; check in Wuha...</td>\n",
              "    </tr>\n",
              "    <tr>\n",
              "      <th>4</th>\n",
              "      <td>1333574570855391232</td>\n",
              "      <td>wuhan</td>\n",
              "      <td>2020-12-01 00:00:00</td>\n",
              "      <td>@TimesNow Agreed if Chinese believe Wuhan is a...</td>\n",
              "    </tr>\n",
              "  </tbody>\n",
              "</table>\n",
              "</div>\n",
              "      <button class=\"colab-df-convert\" onclick=\"convertToInteractive('df-7786a404-0b6c-43aa-b0f0-3953f65149d9')\"\n",
              "              title=\"Convert this dataframe to an interactive table.\"\n",
              "              style=\"display:none;\">\n",
              "        \n",
              "  <svg xmlns=\"http://www.w3.org/2000/svg\" height=\"24px\"viewBox=\"0 0 24 24\"\n",
              "       width=\"24px\">\n",
              "    <path d=\"M0 0h24v24H0V0z\" fill=\"none\"/>\n",
              "    <path d=\"M18.56 5.44l.94 2.06.94-2.06 2.06-.94-2.06-.94-.94-2.06-.94 2.06-2.06.94zm-11 1L8.5 8.5l.94-2.06 2.06-.94-2.06-.94L8.5 2.5l-.94 2.06-2.06.94zm10 10l.94 2.06.94-2.06 2.06-.94-2.06-.94-.94-2.06-.94 2.06-2.06.94z\"/><path d=\"M17.41 7.96l-1.37-1.37c-.4-.4-.92-.59-1.43-.59-.52 0-1.04.2-1.43.59L10.3 9.45l-7.72 7.72c-.78.78-.78 2.05 0 2.83L4 21.41c.39.39.9.59 1.41.59.51 0 1.02-.2 1.41-.59l7.78-7.78 2.81-2.81c.8-.78.8-2.07 0-2.86zM5.41 20L4 18.59l7.72-7.72 1.47 1.35L5.41 20z\"/>\n",
              "  </svg>\n",
              "      </button>\n",
              "      \n",
              "  <style>\n",
              "    .colab-df-container {\n",
              "      display:flex;\n",
              "      flex-wrap:wrap;\n",
              "      gap: 12px;\n",
              "    }\n",
              "\n",
              "    .colab-df-convert {\n",
              "      background-color: #E8F0FE;\n",
              "      border: none;\n",
              "      border-radius: 50%;\n",
              "      cursor: pointer;\n",
              "      display: none;\n",
              "      fill: #1967D2;\n",
              "      height: 32px;\n",
              "      padding: 0 0 0 0;\n",
              "      width: 32px;\n",
              "    }\n",
              "\n",
              "    .colab-df-convert:hover {\n",
              "      background-color: #E2EBFA;\n",
              "      box-shadow: 0px 1px 2px rgba(60, 64, 67, 0.3), 0px 1px 3px 1px rgba(60, 64, 67, 0.15);\n",
              "      fill: #174EA6;\n",
              "    }\n",
              "\n",
              "    [theme=dark] .colab-df-convert {\n",
              "      background-color: #3B4455;\n",
              "      fill: #D2E3FC;\n",
              "    }\n",
              "\n",
              "    [theme=dark] .colab-df-convert:hover {\n",
              "      background-color: #434B5C;\n",
              "      box-shadow: 0px 1px 3px 1px rgba(0, 0, 0, 0.15);\n",
              "      filter: drop-shadow(0px 1px 2px rgba(0, 0, 0, 0.3));\n",
              "      fill: #FFFFFF;\n",
              "    }\n",
              "  </style>\n",
              "\n",
              "      <script>\n",
              "        const buttonEl =\n",
              "          document.querySelector('#df-7786a404-0b6c-43aa-b0f0-3953f65149d9 button.colab-df-convert');\n",
              "        buttonEl.style.display =\n",
              "          google.colab.kernel.accessAllowed ? 'block' : 'none';\n",
              "\n",
              "        async function convertToInteractive(key) {\n",
              "          const element = document.querySelector('#df-7786a404-0b6c-43aa-b0f0-3953f65149d9');\n",
              "          const dataTable =\n",
              "            await google.colab.kernel.invokeFunction('convertToInteractive',\n",
              "                                                     [key], {});\n",
              "          if (!dataTable) return;\n",
              "\n",
              "          const docLinkHtml = 'Like what you see? Visit the ' +\n",
              "            '<a target=\"_blank\" href=https://colab.research.google.com/notebooks/data_table.ipynb>data table notebook</a>'\n",
              "            + ' to learn more about interactive tables.';\n",
              "          element.innerHTML = '';\n",
              "          dataTable['output_type'] = 'display_data';\n",
              "          await google.colab.output.renderOutput(dataTable, element);\n",
              "          const docLink = document.createElement('div');\n",
              "          docLink.innerHTML = docLinkHtml;\n",
              "          element.appendChild(docLink);\n",
              "        }\n",
              "      </script>\n",
              "    </div>\n",
              "  </div>\n",
              "  "
            ]
          },
          "metadata": {},
          "execution_count": 32
        }
      ]
    },
    {
      "cell_type": "code",
      "source": [
        "filtered_week1 = pd.merge(week1, covid_subset, how=\"left\", on=\"tweet_ID\")\n",
        "\n",
        "filtered_week2 = pd.merge(week2, covid_subset, how=\"left\", on=\"tweet_ID\")\n",
        "\n",
        "filtered_week3 = pd.merge(week3, covid_subset, how=\"left\", on=\"tweet_ID\")"
      ],
      "metadata": {
        "id": "cv-mlNGgld8j"
      },
      "execution_count": null,
      "outputs": []
    },
    {
      "cell_type": "code",
      "source": [
        "filtered_week1.isnull().sum().sum()"
      ],
      "metadata": {
        "colab": {
          "base_uri": "https://localhost:8080/"
        },
        "id": "jX_GNQvlBzet",
        "outputId": "e0091b78-0b55-4bff-9882-1150a609497b"
      },
      "execution_count": null,
      "outputs": [
        {
          "output_type": "execute_result",
          "data": {
            "text/plain": [
              "40505"
            ]
          },
          "metadata": {},
          "execution_count": 30
        }
      ]
    },
    {
      "cell_type": "code",
      "source": [
        "len(filtered_week1)"
      ],
      "metadata": {
        "colab": {
          "base_uri": "https://localhost:8080/"
        },
        "id": "dKPCer2zzadZ",
        "outputId": "59a791e5-569e-4dd3-94e4-2a3291f0207a"
      },
      "execution_count": null,
      "outputs": [
        {
          "output_type": "execute_result",
          "data": {
            "text/plain": [
              "40505"
            ]
          },
          "metadata": {},
          "execution_count": 31
        }
      ]
    },
    {
      "cell_type": "code",
      "source": [
        "x = pd.merge(week1, covid_subset, how=\"left\", on=\"tweet_ID\").query('tweet_id == 1333578880846684161')"
      ],
      "metadata": {
        "id": "RqYw8-vnxfa-"
      },
      "execution_count": null,
      "outputs": []
    },
    {
      "cell_type": "code",
      "source": [
        "x.head()"
      ],
      "metadata": {
        "colab": {
          "base_uri": "https://localhost:8080/",
          "height": 109
        },
        "id": "Ioc98SsBBOLo",
        "outputId": "2613d8a4-bb0c-4667-b79e-3525f2f02bd1"
      },
      "execution_count": null,
      "outputs": [
        {
          "output_type": "execute_result",
          "data": {
            "text/plain": [
              "Empty DataFrame\n",
              "Columns: [tweet_ID, keyword_used, date_stamp, full_text, sentiment_category]\n",
              "Index: []"
            ],
            "text/html": [
              "\n",
              "  <div id=\"df-e5fd4a20-5185-4f6d-9131-2b40610a08a1\">\n",
              "    <div class=\"colab-df-container\">\n",
              "      <div>\n",
              "<style scoped>\n",
              "    .dataframe tbody tr th:only-of-type {\n",
              "        vertical-align: middle;\n",
              "    }\n",
              "\n",
              "    .dataframe tbody tr th {\n",
              "        vertical-align: top;\n",
              "    }\n",
              "\n",
              "    .dataframe thead th {\n",
              "        text-align: right;\n",
              "    }\n",
              "</style>\n",
              "<table border=\"1\" class=\"dataframe\">\n",
              "  <thead>\n",
              "    <tr style=\"text-align: right;\">\n",
              "      <th></th>\n",
              "      <th>tweet_ID</th>\n",
              "      <th>keyword_used</th>\n",
              "      <th>date_stamp</th>\n",
              "      <th>full_text</th>\n",
              "      <th>sentiment_category</th>\n",
              "    </tr>\n",
              "  </thead>\n",
              "  <tbody>\n",
              "  </tbody>\n",
              "</table>\n",
              "</div>\n",
              "      <button class=\"colab-df-convert\" onclick=\"convertToInteractive('df-e5fd4a20-5185-4f6d-9131-2b40610a08a1')\"\n",
              "              title=\"Convert this dataframe to an interactive table.\"\n",
              "              style=\"display:none;\">\n",
              "        \n",
              "  <svg xmlns=\"http://www.w3.org/2000/svg\" height=\"24px\"viewBox=\"0 0 24 24\"\n",
              "       width=\"24px\">\n",
              "    <path d=\"M0 0h24v24H0V0z\" fill=\"none\"/>\n",
              "    <path d=\"M18.56 5.44l.94 2.06.94-2.06 2.06-.94-2.06-.94-.94-2.06-.94 2.06-2.06.94zm-11 1L8.5 8.5l.94-2.06 2.06-.94-2.06-.94L8.5 2.5l-.94 2.06-2.06.94zm10 10l.94 2.06.94-2.06 2.06-.94-2.06-.94-.94-2.06-.94 2.06-2.06.94z\"/><path d=\"M17.41 7.96l-1.37-1.37c-.4-.4-.92-.59-1.43-.59-.52 0-1.04.2-1.43.59L10.3 9.45l-7.72 7.72c-.78.78-.78 2.05 0 2.83L4 21.41c.39.39.9.59 1.41.59.51 0 1.02-.2 1.41-.59l7.78-7.78 2.81-2.81c.8-.78.8-2.07 0-2.86zM5.41 20L4 18.59l7.72-7.72 1.47 1.35L5.41 20z\"/>\n",
              "  </svg>\n",
              "      </button>\n",
              "      \n",
              "  <style>\n",
              "    .colab-df-container {\n",
              "      display:flex;\n",
              "      flex-wrap:wrap;\n",
              "      gap: 12px;\n",
              "    }\n",
              "\n",
              "    .colab-df-convert {\n",
              "      background-color: #E8F0FE;\n",
              "      border: none;\n",
              "      border-radius: 50%;\n",
              "      cursor: pointer;\n",
              "      display: none;\n",
              "      fill: #1967D2;\n",
              "      height: 32px;\n",
              "      padding: 0 0 0 0;\n",
              "      width: 32px;\n",
              "    }\n",
              "\n",
              "    .colab-df-convert:hover {\n",
              "      background-color: #E2EBFA;\n",
              "      box-shadow: 0px 1px 2px rgba(60, 64, 67, 0.3), 0px 1px 3px 1px rgba(60, 64, 67, 0.15);\n",
              "      fill: #174EA6;\n",
              "    }\n",
              "\n",
              "    [theme=dark] .colab-df-convert {\n",
              "      background-color: #3B4455;\n",
              "      fill: #D2E3FC;\n",
              "    }\n",
              "\n",
              "    [theme=dark] .colab-df-convert:hover {\n",
              "      background-color: #434B5C;\n",
              "      box-shadow: 0px 1px 3px 1px rgba(0, 0, 0, 0.15);\n",
              "      filter: drop-shadow(0px 1px 2px rgba(0, 0, 0, 0.3));\n",
              "      fill: #FFFFFF;\n",
              "    }\n",
              "  </style>\n",
              "\n",
              "      <script>\n",
              "        const buttonEl =\n",
              "          document.querySelector('#df-e5fd4a20-5185-4f6d-9131-2b40610a08a1 button.colab-df-convert');\n",
              "        buttonEl.style.display =\n",
              "          google.colab.kernel.accessAllowed ? 'block' : 'none';\n",
              "\n",
              "        async function convertToInteractive(key) {\n",
              "          const element = document.querySelector('#df-e5fd4a20-5185-4f6d-9131-2b40610a08a1');\n",
              "          const dataTable =\n",
              "            await google.colab.kernel.invokeFunction('convertToInteractive',\n",
              "                                                     [key], {});\n",
              "          if (!dataTable) return;\n",
              "\n",
              "          const docLinkHtml = 'Like what you see? Visit the ' +\n",
              "            '<a target=\"_blank\" href=https://colab.research.google.com/notebooks/data_table.ipynb>data table notebook</a>'\n",
              "            + ' to learn more about interactive tables.';\n",
              "          element.innerHTML = '';\n",
              "          dataTable['output_type'] = 'display_data';\n",
              "          await google.colab.output.renderOutput(dataTable, element);\n",
              "          const docLink = document.createElement('div');\n",
              "          docLink.innerHTML = docLinkHtml;\n",
              "          element.appendChild(docLink);\n",
              "        }\n",
              "      </script>\n",
              "    </div>\n",
              "  </div>\n",
              "  "
            ]
          },
          "metadata": {},
          "execution_count": 62
        }
      ]
    },
    {
      "cell_type": "code",
      "source": [
        "filtered_week1 = np.where( ( (['gender'] == 'male') & (df['pet1'] == df['pet2'] ) ) | ( (df['gender'] == 'female') & (df['pet1'].isin(['cat','dog'] ) ) ), 5, 0)\n",
        "df="
      ],
      "metadata": {
        "id": "liYQxRX6v-Va"
      },
      "execution_count": null,
      "outputs": []
    },
    {
      "cell_type": "code",
      "source": [
        "conditions = [\n",
        "    df['gender'].eq('male') & df['pet1'].eq(df['pet2']),\n",
        "    df['gender'].eq('female') & df['pet1'].isin(['cat', 'dog'])\n",
        "]\n",
        "\n",
        "choices = [5,5]\n",
        "\n",
        "df['points'] = np.select(conditions, choices, default=0)"
      ],
      "metadata": {
        "id": "z5F7LApYvcLi"
      },
      "execution_count": null,
      "outputs": []
    },
    {
      "cell_type": "code",
      "source": [
        "print(\"before:\", len(week1), len(week2), len(week3))\n",
        "print(\"after:\", len(filtered_week1), len(filtered_week2), len(filtered_week3))"
      ],
      "metadata": {
        "colab": {
          "base_uri": "https://localhost:8080/"
        },
        "id": "lxGe10SmkLKR",
        "outputId": "285742ac-69a1-4877-9a00-bb7890120b28"
      },
      "execution_count": null,
      "outputs": [
        {
          "output_type": "stream",
          "name": "stdout",
          "text": [
            "before: 40505 47091 14634\n",
            "after: 40505 47091 14634\n"
          ]
        }
      ]
    },
    {
      "cell_type": "markdown",
      "metadata": {
        "id": "mP1h8dtOAcLs"
      },
      "source": [
        "# Check tweet_IDs by dates and months"
      ]
    },
    {
      "cell_type": "code",
      "execution_count": null,
      "metadata": {
        "id": "c8DREasaBxv5",
        "colab": {
          "base_uri": "https://localhost:8080/"
        },
        "outputId": "8d0bccd7-1418-4107-c83b-3548e6b94c62"
      },
      "outputs": [
        {
          "output_type": "stream",
          "name": "stdout",
          "text": [
            "2020-01-28 and 2021-01-01\n",
            "number of days: 340\n",
            "tweets\t date\t\tcumulative count\n",
            "901 \t 2020-01-28 \t 901\n",
            "1940 \t 2020-01-29 \t 2841\n",
            "2500 \t 2020-01-30 \t 5341\n",
            "2831 \t 2020-01-31 \t 8172\n",
            "3516 \t 2020-02-01 \t 11688\n",
            "9220 \t 2020-02-02 \t 20908\n",
            "3139 \t 2020-02-03 \t 24047\n",
            "2264 \t 2020-02-04 \t 26311\n",
            "964 \t 2020-02-05 \t 27275\n",
            "837 \t 2020-02-06 \t 28112\n",
            "1796 \t 2020-02-07 \t 29908\n",
            "1461 \t 2020-02-08 \t 31369\n",
            "1288 \t 2020-02-09 \t 32657\n",
            "1183 \t 2020-02-10 \t 33840\n",
            "1049 \t 2020-02-11 \t 34889\n",
            "1582 \t 2020-02-12 \t 36471\n",
            "1627 \t 2020-02-13 \t 38098\n",
            "1498 \t 2020-02-14 \t 39596\n",
            "1122 \t 2020-02-15 \t 40718\n",
            "1190 \t 2020-02-16 \t 41908\n",
            "1463 \t 2020-02-17 \t 43371\n",
            "1677 \t 2020-02-18 \t 45048\n",
            "1303 \t 2020-02-19 \t 46351\n",
            "1023 \t 2020-02-20 \t 47374\n",
            "981 \t 2020-02-21 \t 48355\n",
            "1055 \t 2020-02-22 \t 49410\n",
            "999 \t 2020-02-23 \t 50409\n",
            "1257 \t 2020-02-24 \t 51666\n",
            "1127 \t 2020-02-25 \t 52793\n",
            "1327 \t 2020-02-26 \t 54120\n",
            "1937 \t 2020-02-27 \t 56057\n",
            "2370 \t 2020-02-28 \t 58427\n",
            "1889 \t 2020-02-29 \t 60316\n",
            "2034 \t 2020-03-01 \t 62350\n",
            "3148 \t 2020-03-02 \t 65498\n",
            "6078 \t 2020-03-03 \t 71576\n",
            "10321 \t 2020-03-04 \t 81897\n",
            "9477 \t 2020-03-05 \t 91374\n",
            "7364 \t 2020-03-06 \t 98738\n",
            "5642 \t 2020-03-07 \t 104380\n",
            "4471 \t 2020-03-08 \t 108851\n",
            "7051 \t 2020-03-09 \t 115902\n",
            "7231 \t 2020-03-10 \t 123133\n",
            "9353 \t 2020-03-11 \t 132486\n",
            "16774 \t 2020-03-12 \t 149260\n",
            "26972 \t 2020-03-13 \t 176232\n",
            "25575 \t 2020-03-14 \t 201807\n",
            "22598 \t 2020-03-15 \t 224405\n",
            "27831 \t 2020-03-16 \t 252236\n",
            "25527 \t 2020-03-17 \t 277763\n",
            "28884 \t 2020-03-18 \t 306647\n",
            "37158 \t 2020-03-19 \t 343805\n",
            "44975 \t 2020-03-20 \t 388780\n",
            "55589 \t 2020-03-21 \t 444369\n",
            "77656 \t 2020-03-22 \t 522025\n",
            "65098 \t 2020-03-23 \t 587123\n",
            "51211 \t 2020-03-24 \t 638334\n",
            "59142 \t 2020-03-25 \t 697476\n",
            "59254 \t 2020-03-26 \t 756730\n",
            "56953 \t 2020-03-27 \t 813683\n",
            "57261 \t 2020-03-28 \t 870944\n",
            "59051 \t 2020-03-29 \t 929995\n",
            "55735 \t 2020-03-30 \t 985730\n",
            "58948 \t 2020-03-31 \t 1044678\n",
            "56286 \t 2020-04-01 \t 1100964\n",
            "52657 \t 2020-04-02 \t 1153621\n",
            "54844 \t 2020-04-03 \t 1208465\n",
            "45277 \t 2020-04-04 \t 1253742\n",
            "49374 \t 2020-04-05 \t 1303116\n",
            "60180 \t 2020-04-06 \t 1363296\n",
            "49130 \t 2020-04-07 \t 1412426\n",
            "45109 \t 2020-04-08 \t 1457535\n",
            "44989 \t 2020-04-09 \t 1502524\n",
            "43239 \t 2020-04-10 \t 1545763\n",
            "44283 \t 2020-04-11 \t 1590046\n",
            "44119 \t 2020-04-12 \t 1634165\n",
            "40343 \t 2020-04-13 \t 1674508\n",
            "47104 \t 2020-04-14 \t 1721612\n",
            "37379 \t 2020-04-15 \t 1758991\n",
            "44294 \t 2020-04-16 \t 1803285\n",
            "42947 \t 2020-04-17 \t 1846232\n",
            "40990 \t 2020-04-18 \t 1887222\n",
            "36921 \t 2020-04-19 \t 1924143\n",
            "40053 \t 2020-04-20 \t 1964196\n",
            "36643 \t 2020-04-21 \t 2000839\n",
            "37012 \t 2020-04-22 \t 2037851\n",
            "36467 \t 2020-04-23 \t 2074318\n",
            "38823 \t 2020-04-24 \t 2113141\n",
            "37269 \t 2020-04-25 \t 2150410\n",
            "40344 \t 2020-04-26 \t 2190754\n",
            "39055 \t 2020-04-27 \t 2229809\n",
            "35122 \t 2020-04-28 \t 2264931\n",
            "31621 \t 2020-04-29 \t 2296552\n",
            "30055 \t 2020-04-30 \t 2326607\n",
            "36245 \t 2020-05-01 \t 2362852\n",
            "34787 \t 2020-05-02 \t 2397639\n",
            "36911 \t 2020-05-03 \t 2434550\n",
            "33967 \t 2020-05-04 \t 2468517\n",
            "33605 \t 2020-05-05 \t 2502122\n",
            "29529 \t 2020-05-06 \t 2531651\n",
            "30749 \t 2020-05-07 \t 2562400\n",
            "32008 \t 2020-05-08 \t 2594408\n",
            "30759 \t 2020-05-09 \t 2625167\n",
            "26638 \t 2020-05-10 \t 2651805\n",
            "30072 \t 2020-05-11 \t 2681877\n",
            "35112 \t 2020-05-12 \t 2716989\n",
            "26850 \t 2020-05-13 \t 2743839\n",
            "25538 \t 2020-05-14 \t 2769377\n",
            "26851 \t 2020-05-15 \t 2796228\n",
            "25664 \t 2020-05-16 \t 2821892\n",
            "28396 \t 2020-05-17 \t 2850288\n",
            "31588 \t 2020-05-18 \t 2881876\n",
            "31922 \t 2020-05-19 \t 2913798\n",
            "29287 \t 2020-05-20 \t 2943085\n",
            "28338 \t 2020-05-21 \t 2971423\n",
            "25832 \t 2020-05-22 \t 2997255\n",
            "23796 \t 2020-05-23 \t 3021051\n",
            "25009 \t 2020-05-24 \t 3046060\n",
            "26288 \t 2020-05-25 \t 3072348\n",
            "27778 \t 2020-05-26 \t 3100126\n",
            "28326 \t 2020-05-27 \t 3128452\n",
            "26099 \t 2020-05-28 \t 3154551\n",
            "25209 \t 2020-05-29 \t 3179760\n",
            "26716 \t 2020-05-30 \t 3206476\n",
            "29023 \t 2020-05-31 \t 3235499\n",
            "24716 \t 2020-06-01 \t 3260215\n",
            "23155 \t 2020-06-02 \t 3283370\n",
            "24406 \t 2020-06-03 \t 3307776\n",
            "23725 \t 2020-06-04 \t 3331501\n",
            "22759 \t 2020-06-05 \t 3354260\n",
            "22573 \t 2020-06-06 \t 3376833\n",
            "24771 \t 2020-06-07 \t 3401604\n",
            "20552 \t 2020-06-08 \t 3422156\n",
            "25553 \t 2020-06-09 \t 3447709\n",
            "26101 \t 2020-06-10 \t 3473810\n",
            "24481 \t 2020-06-11 \t 3498291\n",
            "25185 \t 2020-06-12 \t 3523476\n",
            "25314 \t 2020-06-13 \t 3548790\n",
            "22513 \t 2020-06-14 \t 3571303\n",
            "20693 \t 2020-06-15 \t 3591996\n",
            "22179 \t 2020-06-16 \t 3614175\n",
            "23181 \t 2020-06-17 \t 3637356\n",
            "18872 \t 2020-06-18 \t 3656228\n",
            "17930 \t 2020-06-19 \t 3674158\n",
            "17002 \t 2020-06-20 \t 3691160\n",
            "16360 \t 2020-06-21 \t 3707520\n",
            "21196 \t 2020-06-22 \t 3728716\n",
            "25708 \t 2020-06-23 \t 3754424\n",
            "24255 \t 2020-06-24 \t 3778679\n",
            "20051 \t 2020-06-25 \t 3798730\n",
            "20609 \t 2020-06-26 \t 3819339\n",
            "20086 \t 2020-06-27 \t 3839425\n",
            "20117 \t 2020-06-28 \t 3859542\n",
            "20669 \t 2020-06-29 \t 3880211\n",
            "20002 \t 2020-06-30 \t 3900213\n",
            "22417 \t 2020-07-01 \t 3922630\n",
            "17474 \t 2020-07-02 \t 3940104\n",
            "17297 \t 2020-07-03 \t 3957401\n",
            "17609 \t 2020-07-04 \t 3975010\n",
            "17087 \t 2020-07-05 \t 3992097\n",
            "21625 \t 2020-07-06 \t 4013722\n",
            "20694 \t 2020-07-07 \t 4034416\n",
            "20758 \t 2020-07-08 \t 4055174\n",
            "18082 \t 2020-07-09 \t 4073256\n",
            "21136 \t 2020-07-10 \t 4094392\n",
            "20246 \t 2020-07-11 \t 4114638\n",
            "34975 \t 2020-07-12 \t 4149613\n",
            "23319 \t 2020-07-13 \t 4172932\n",
            "21273 \t 2020-07-14 \t 4194205\n",
            "19004 \t 2020-07-15 \t 4213209\n",
            "20900 \t 2020-07-16 \t 4234109\n",
            "21684 \t 2020-07-17 \t 4255793\n",
            "20271 \t 2020-07-18 \t 4276064\n",
            "21678 \t 2020-07-19 \t 4297742\n",
            "20967 \t 2020-07-20 \t 4318709\n",
            "23216 \t 2020-07-21 \t 4341925\n",
            "19150 \t 2020-07-22 \t 4361075\n",
            "19828 \t 2020-07-23 \t 4380903\n",
            "20258 \t 2020-07-24 \t 4401161\n",
            "19436 \t 2020-07-25 \t 4420597\n",
            "17236 \t 2020-07-26 \t 4437833\n",
            "19017 \t 2020-07-27 \t 4456850\n",
            "18129 \t 2020-07-28 \t 4474979\n",
            "18425 \t 2020-07-29 \t 4493404\n",
            "16935 \t 2020-07-30 \t 4510339\n",
            "16433 \t 2020-07-31 \t 4526772\n",
            "13623 \t 2020-08-01 \t 4540395\n",
            "19763 \t 2020-08-02 \t 4560158\n",
            "18568 \t 2020-08-03 \t 4578726\n",
            "15272 \t 2020-08-04 \t 4593998\n",
            "13668 \t 2020-08-05 \t 4607666\n",
            "14509 \t 2020-08-06 \t 4622175\n",
            "15257 \t 2020-08-07 \t 4637432\n",
            "15530 \t 2020-08-08 \t 4652962\n",
            "17216 \t 2020-08-09 \t 4670178\n",
            "15598 \t 2020-08-10 \t 4685776\n",
            "18033 \t 2020-08-11 \t 4703809\n",
            "14622 \t 2020-08-12 \t 4718431\n",
            "14323 \t 2020-08-13 \t 4732754\n",
            "15276 \t 2020-08-14 \t 4748030\n",
            "13162 \t 2020-08-15 \t 4761192\n",
            "11467 \t 2020-08-16 \t 4772659\n",
            "14069 \t 2020-08-17 \t 4786728\n",
            "15188 \t 2020-08-18 \t 4801916\n",
            "14621 \t 2020-08-19 \t 4816537\n",
            "15066 \t 2020-08-20 \t 4831603\n",
            "20172 \t 2020-08-21 \t 4851775\n",
            "16205 \t 2020-08-22 \t 4867980\n",
            "15944 \t 2020-08-23 \t 4883924\n",
            "14960 \t 2020-08-24 \t 4898884\n",
            "17681 \t 2020-08-25 \t 4916565\n",
            "18517 \t 2020-08-26 \t 4935082\n",
            "18309 \t 2020-08-27 \t 4953391\n",
            "19829 \t 2020-08-28 \t 4973220\n",
            "17513 \t 2020-08-29 \t 4990733\n",
            "14325 \t 2020-08-30 \t 5005058\n",
            "15512 \t 2020-08-31 \t 5020570\n",
            "14871 \t 2020-09-01 \t 5035441\n",
            "12018 \t 2020-09-02 \t 5047459\n",
            "14898 \t 2020-09-03 \t 5062357\n",
            "15201 \t 2020-09-04 \t 5077558\n",
            "13167 \t 2020-09-05 \t 5090725\n",
            "14974 \t 2020-09-06 \t 5105699\n",
            "15553 \t 2020-09-07 \t 5121252\n",
            "14639 \t 2020-09-08 \t 5135891\n",
            "17487 \t 2020-09-09 \t 5153378\n",
            "14555 \t 2020-09-10 \t 5167933\n",
            "14663 \t 2020-09-11 \t 5182596\n",
            "13230 \t 2020-09-12 \t 5195826\n",
            "12985 \t 2020-09-13 \t 5208811\n",
            "14758 \t 2020-09-14 \t 5223569\n",
            "13008 \t 2020-09-15 \t 5236577\n",
            "13274 \t 2020-09-16 \t 5249851\n",
            "13775 \t 2020-09-17 \t 5263626\n",
            "11982 \t 2020-09-18 \t 5275608\n",
            "10266 \t 2020-09-19 \t 5285874\n",
            "10105 \t 2020-09-20 \t 5295979\n",
            "10749 \t 2020-09-21 \t 5306728\n",
            "10688 \t 2020-09-22 \t 5317416\n",
            "11284 \t 2020-09-23 \t 5328700\n",
            "12026 \t 2020-09-24 \t 5340726\n",
            "11145 \t 2020-09-25 \t 5351871\n",
            "9447 \t 2020-09-26 \t 5361318\n",
            "8848 \t 2020-09-27 \t 5370166\n",
            "9087 \t 2020-09-28 \t 5379253\n",
            "9839 \t 2020-09-29 \t 5389092\n",
            "10592 \t 2020-09-30 \t 5399684\n",
            "9004 \t 2020-10-01 \t 5408688\n",
            "10363 \t 2020-10-02 \t 5419051\n",
            "4901 \t 2020-10-03 \t 5423952\n",
            "8059 \t 2020-10-04 \t 5432011\n",
            "9627 \t 2020-10-05 \t 5441638\n",
            "10136 \t 2020-10-06 \t 5451774\n",
            "10172 \t 2020-10-07 \t 5461946\n",
            "12101 \t 2020-10-08 \t 5474047\n",
            "10438 \t 2020-10-09 \t 5484485\n",
            "9920 \t 2020-10-10 \t 5494405\n",
            "8779 \t 2020-10-11 \t 5503184\n",
            "9347 \t 2020-10-12 \t 5512531\n",
            "10008 \t 2020-10-13 \t 5522539\n",
            "9373 \t 2020-10-14 \t 5531912\n",
            "9491 \t 2020-10-15 \t 5541403\n",
            "8937 \t 2020-10-16 \t 5550340\n",
            "7949 \t 2020-10-17 \t 5558289\n",
            "7689 \t 2020-10-18 \t 5565978\n",
            "8857 \t 2020-10-19 \t 5574835\n",
            "11944 \t 2020-10-20 \t 5586779\n",
            "8843 \t 2020-10-21 \t 5595622\n",
            "11144 \t 2020-10-22 \t 5606766\n",
            "9282 \t 2020-10-23 \t 5616048\n",
            "7766 \t 2020-10-24 \t 5623814\n",
            "6822 \t 2020-10-25 \t 5630636\n",
            "7382 \t 2020-10-26 \t 5638018\n",
            "8097 \t 2020-10-27 \t 5646115\n",
            "7843 \t 2020-10-28 \t 5653958\n",
            "7951 \t 2020-10-29 \t 5661909\n",
            "7071 \t 2020-10-30 \t 5668980\n",
            "6570 \t 2020-10-31 \t 5675550\n",
            "6389 \t 2020-11-01 \t 5681939\n",
            "8040 \t 2020-11-02 \t 5689979\n",
            "7673 \t 2020-11-03 \t 5697652\n",
            "7068 \t 2020-11-04 \t 5704720\n",
            "7448 \t 2020-11-05 \t 5712168\n",
            "7826 \t 2020-11-06 \t 5719994\n",
            "6769 \t 2020-11-07 \t 5726763\n",
            "6428 \t 2020-11-08 \t 5733191\n",
            "9064 \t 2020-11-09 \t 5742255\n",
            "8195 \t 2020-11-10 \t 5750450\n",
            "7925 \t 2020-11-11 \t 5758375\n",
            "8555 \t 2020-11-12 \t 5766930\n",
            "7405 \t 2020-11-13 \t 5774335\n",
            "5865 \t 2020-11-14 \t 5780200\n",
            "6268 \t 2020-11-15 \t 5786468\n",
            "7359 \t 2020-11-16 \t 5793827\n",
            "10195 \t 2020-11-17 \t 5804022\n",
            "10791 \t 2020-11-18 \t 5814813\n",
            "11224 \t 2020-11-19 \t 5826037\n",
            "10713 \t 2020-11-20 \t 5836750\n",
            "8677 \t 2020-11-21 \t 5845427\n",
            "7982 \t 2020-11-22 \t 5853409\n",
            "10493 \t 2020-11-23 \t 5863902\n",
            "10102 \t 2020-11-24 \t 5874004\n",
            "9856 \t 2020-11-25 \t 5883860\n",
            "8302 \t 2020-11-26 \t 5892162\n",
            "8324 \t 2020-11-27 \t 5900486\n",
            "8153 \t 2020-11-28 \t 5908639\n",
            "8024 \t 2020-11-29 \t 5916663\n",
            "8176 \t 2020-11-30 \t 5924839\n",
            "7345 \t 2020-12-01 \t 5932184\n",
            "8746 \t 2020-12-02 \t 5940930\n",
            "7394 \t 2020-12-03 \t 5948324\n",
            "8064 \t 2020-12-04 \t 5956388\n",
            "7850 \t 2020-12-05 \t 5964238\n",
            "6413 \t 2020-12-06 \t 5970651\n",
            "7587 \t 2020-12-07 \t 5978238\n",
            "7931 \t 2020-12-08 \t 5986169\n",
            "7613 \t 2020-12-09 \t 5993782\n",
            "7164 \t 2020-12-10 \t 6000946\n",
            "6674 \t 2020-12-11 \t 6007620\n",
            "6259 \t 2020-12-12 \t 6013879\n",
            "6619 \t 2020-12-13 \t 6020498\n",
            "7239 \t 2020-12-14 \t 6027737\n",
            "8159 \t 2020-12-15 \t 6035896\n",
            "7160 \t 2020-12-16 \t 6043056\n",
            "7261 \t 2020-12-17 \t 6050317\n",
            "6714 \t 2020-12-18 \t 6057031\n",
            "6908 \t 2020-12-19 \t 6063939\n",
            "6961 \t 2020-12-20 \t 6070900\n",
            "10181 \t 2020-12-21 \t 6081081\n",
            "10199 \t 2020-12-22 \t 6091280\n",
            "8705 \t 2020-12-23 \t 6099985\n",
            "7759 \t 2020-12-24 \t 6107744\n",
            "6170 \t 2020-12-25 \t 6113914\n",
            "5829 \t 2020-12-26 \t 6119743\n",
            "5631 \t 2020-12-27 \t 6125374\n",
            "6966 \t 2020-12-28 \t 6132340\n",
            "8242 \t 2020-12-29 \t 6140582\n",
            "8713 \t 2020-12-30 \t 6149295\n",
            "8763 \t 2020-12-31 \t 6158058\n",
            "8093 \t 2021-01-01 \t 6166151\n"
          ]
        }
      ],
      "source": [
        "import pandas as pd \n",
        "#@title Grouping by dates\n",
        "covid_tweet_dataset = \"tweetid_sentiments_emotions.csv\"\n",
        "date_groups = pd.read_csv(covid_tweet_dataset, usecols=[0,21]).groupby('date_stamp')\n",
        "first = date_groups.get_group(list(date_groups.groups.keys())[0]).iloc[0,1][:-9]\n",
        "last = date_groups.get_group(list(date_groups.groups.keys())[len(date_groups)-1]).iloc[-1,1][:-9]\n",
        "count=0\n",
        "print(first, \"and\", last)\n",
        "print('number of days:', len(date_groups))\n",
        "print('tweets\\t date\\t\\tcumulative count')\n",
        "for each in list(date_groups.groups.keys()):\n",
        "  count+=len(date_groups.get_group(each))\n",
        "  print(len(date_groups.get_group(each)),'\\t',date_groups.get_group(each).iloc[0,1][:-9],'\\t',count)"
      ]
    },
    {
      "cell_type": "code",
      "execution_count": null,
      "metadata": {
        "id": "llK7eF4_B7dm",
        "colab": {
          "base_uri": "https://localhost:8080/"
        },
        "outputId": "23e1d063-4f90-4da8-b6ef-6f3860aaa133"
      },
      "outputs": [
        {
          "output_type": "execute_result",
          "data": {
            "text/plain": [
              "(5924813, 233275)"
            ]
          },
          "metadata": {},
          "execution_count": 16
        }
      ],
      "source": [
        "#@title Get index range by month { run: \"auto\", vertical-output: true, display-mode: \"both\" }\n",
        "#@markdown between 2020-01-28 and 2021-01-01\n",
        "month = 12 #@param {type:\"slider\", min:1, max:13, step:1}\n",
        "skip_days = sum([4,29,31,30,31,30,31,31,30,31,30,31,1][:month-1])\n",
        "days = [4,29,31,30,31,30,31,31,30,31,30,31,1][month-1] + skip_days\n",
        "skiprows = date_groups.get_group(list(date_groups.groups.keys())[skip_days]).iloc[0].name\n",
        "nrows = date_groups.get_group(list(date_groups.groups.keys())[days-1]).iloc[-1].name-skiprows\n",
        "skiprows,nrows"
      ]
    },
    {
      "cell_type": "markdown",
      "metadata": {
        "id": "Li8UbFjqCAvk"
      },
      "source": [
        "\n",
        "#WHO weekly updates for December (Used for manual summary generation)\n",
        "\n",
        "Data as received by WHO from national authorities at the end of every week, 10 am CET. [Link](https://www.who.int/emergencies/diseases/novel-coronavirus-2019/situation-reports)<br>"
      ]
    },
    {
      "cell_type": "markdown",
      "metadata": {
        "id": "NwSZf57qhyqn"
      },
      "source": [
        "30 Nov - 6 Dec 2020 \n",
        "--- \n",
        "\n",
        "Globally in the past week, cases of COVID-19 have remained at approximately 4 million new cases, while new deaths have continued to increase to over 73000. This brings the cumulative numbers to over 65.8 million reported cases and 1.5 million deaths globally since the start of the pandemic.\n",
        "\n",
        "---"
      ]
    },
    {
      "cell_type": "markdown",
      "metadata": {
        "id": "GZqJXzOWiWxy"
      },
      "source": [
        "7-13 Dec 2020 \n",
        "--- \n",
        "\n",
        "In the past week the number of new COVID-19 cases and deaths continued to rise with 70 million cumulative cases and 1.6 million deaths globally since the start  of the pandemic. The Regions of the Americas and Europe continue to shoulder the burden of the pandemic, accounting for 85% of new cases and 86% of new deaths globally. \n",
        "\n",
        "---"
      ]
    },
    {
      "cell_type": "markdown",
      "metadata": {
        "id": "vNC-ZWaUhe48"
      },
      "source": [
        "16-22 Aug 2021\n",
        "---\n",
        "\n",
        "Over 4.5 million new cases reported this week. The Americas and Western Pacific reported an 8% and 20% increase in new cases, respectively. Globally, the number of deaths is over 68000. Europe and the Americas reported 11% and 10% increase in new deaths, respectively. As of the 22 August, the cumulative number of cases reported globally is now over 211 million and the cumulative number of deaths is just over 4.4 million. \n",
        "\n",
        "SARS-CoV-2 Variants of Concern (VOCs) are Alpha, Beta, Gamma and Delta.\n",
        "\n",
        "---"
      ]
    },
    {
      "cell_type": "markdown",
      "metadata": {
        "id": "zwY3IQgMjLtl"
      },
      "source": [
        "25-31 Aug 2021\n",
        "---\n",
        "\n",
        "In the past 24 hours, 25,467 confirmed COVID-19 cases have been reported in India. The highest number of cases in a day were 4,14,188 in India; reported on 7th May 2021. As of 31 August, India has tested more than 508 million samples and cases per million is 22,854. Till date 438,650 confirmed deaths have occured due to COVID-19 in India, and deaths per million is 304. Total number of recovered patients in India are 823,200. In the past 24 hours, 22,07,010 first doses and 9,07,686 final doses were given.\n",
        "Total vaccinated count reached 3,43,81,358. \n",
        "Union Minister of Health and Family Welfare and Chemicals & Fertilizers, released the first commercial batch of COVAXIN in India.\n",
        "\n",
        "About 4.4 million new cases reported this week globally. All regions reported a decline in new cases. The Western Pacific Region reported a 7% increase in new cases. The number of deaths reported globally were over 67000. The Eastern Mediterranean and Western Pacific Regions reported 9% and 16% increase in deaths. The South-East Asia Region reported 20% decrease in deaths. The cumulative number of cases reported globally is nearly 216 million and the cumulative number of deaths is just under 4.5 million.\n",
        "\n",
        "---"
      ]
    },
    {
      "cell_type": "markdown",
      "metadata": {
        "id": "2LX9iV8aNYUX"
      },
      "source": [
        "# PRE-PROCESSING TWEET DATA"
      ]
    },
    {
      "cell_type": "markdown",
      "source": [
        ""
      ],
      "metadata": {
        "id": "Q_gTucjYk7QY"
      }
    },
    {
      "cell_type": "code",
      "execution_count": null,
      "metadata": {
        "id": "u5P5lY2pONio",
        "colab": {
          "base_uri": "https://localhost:8080/"
        },
        "outputId": "f81fad18-7e44-4694-f957-0601f9ab8c56"
      },
      "outputs": [
        {
          "output_type": "stream",
          "name": "stdout",
          "text": [
            "[nltk_data] Downloading package punkt to /root/nltk_data...\n",
            "[nltk_data]   Package punkt is already up-to-date!\n",
            "[nltk_data] Downloading package wordnet to /root/nltk_data...\n",
            "[nltk_data]   Package wordnet is already up-to-date!\n",
            "[nltk_data] Downloading package stopwords to /root/nltk_data...\n",
            "[nltk_data]   Package stopwords is already up-to-date!\n"
          ]
        }
      ],
      "source": [
        "import nltk\n",
        "import re\n",
        "import string\n",
        "\n",
        "# execute only once for first time below three downloaders                \n",
        "nltk.download('punkt')\n",
        "nltk.download('wordnet')\n",
        "nltk.download('stopwords')\n",
        "\n",
        "from nltk.corpus import stopwords\n",
        "stop_words=stopwords.words('english')\n",
        "\n",
        "from nltk.tokenize import word_tokenize\n",
        "from nltk.stem import WordNetLemmatizer\n",
        "\n",
        "# Function to clean tweets: cleantweets(pandas.dataframe)\n",
        "def cleantweets(df):\n",
        "  sentences = list()\n",
        "  df[\"full_text\"] = df[\"full_text\"].astype(str)\n",
        "  lines = df[\"full_text\"].values.tolist()\n",
        "  for text in lines:\n",
        "    #1. Convert into lower case\n",
        "    text = text.lower()\n",
        "    \n",
        "    #2. Removing hashtags, urls and user mentions\n",
        "    text = re.sub(\"@[A-Za-z0-9_]+\",\"\", text) #remove hashtag keyword\n",
        "    text = re.sub(\"#[A-Za-z0-9_]+\",\"\", text) #remove mentioned users\n",
        "    pattern = re.compile('http[s]?://(?:[a-zA-Z]|[0-9]|[$-_@.&+]|[!*\\(\\),]|(?:%[0-9a-fA-F][0-9a-fA-F]))+')\n",
        "    text = pattern.sub('', text)\n",
        "\n",
        "    #3. Removing emojies\n",
        "    emoji = re.compile(\"[\"\n",
        "                        u\"\\U0001F600-\\U0001FFFF\"  # emoticons\n",
        "                        u\"\\U0001F300-\\U0001F5FF\"  # symbols & pictographs\n",
        "                        u\"\\U0001F680-\\U0001F6FF\"  # transport & map symbols\n",
        "                        u\"\\U0001F1E0-\\U0001F1FF\"  # flags (iOS)\n",
        "                        u\"\\U00002702-\\U000027B0\"\n",
        "                        u\"\\U000024C2-\\U0001F251\"\n",
        "                        \"]+\", flags=re.UNICODE)\n",
        "    text = emoji.sub(r'', text)\n",
        "\n",
        "    #4. Remove special characters\n",
        "    text = re.sub(r\"[,.\\\"!@#$%^&*(){}?/;`~:<>+=-]\", \"\", text)\n",
        "\n",
        "    #5. Tokenize\n",
        "    tokens = word_tokenize(text)\n",
        "    table = str.maketrans('', '', string.punctuation)\n",
        "\n",
        "    #6. Removing punctuation\n",
        "    stripped = [w.translate(table) for w in tokens]\n",
        "\n",
        "    #7. Removing non-english characters\n",
        "    res = [idx for idx in stripped if not re.findall(\"[^\\u0000-\\u05C0\\u2100-\\u214F]+\", idx)]\n",
        "\n",
        "    #8. Removing stop-words\n",
        "    words = [w for w in res if not w in stop_words]\n",
        "    words = ' '.join(words)\n",
        "    sentences.append(words)\n",
        "  return sentences\n"
      ]
    },
    {
      "cell_type": "code",
      "execution_count": null,
      "metadata": {
        "cellView": "form",
        "id": "MR4tQTL_tLk6",
        "colab": {
          "base_uri": "https://localhost:8080/"
        },
        "outputId": "60188755-0223-4c9c-bcc2-a118db3c44f3"
      },
      "outputs": [
        {
          "output_type": "stream",
          "name": "stdout",
          "text": [
            "[nltk_data] Downloading package punkt to /root/nltk_data...\n",
            "[nltk_data]   Package punkt is already up-to-date!\n",
            "[nltk_data] Downloading package wordnet to /root/nltk_data...\n",
            "[nltk_data]   Package wordnet is already up-to-date!\n",
            "[nltk_data] Downloading package stopwords to /root/nltk_data...\n",
            "[nltk_data]   Package stopwords is already up-to-date!\n"
          ]
        }
      ],
      "source": [
        "!pip -q install ekphrasis tweet-preprocessor\n",
        "\n",
        "# Libraries for pre-processing\n",
        "import re\n",
        "import nltk\n",
        "import string\n",
        "import preprocessor as p\n",
        "\n",
        "from nltk import word_tokenize, FreqDist\n",
        "from nltk.tokenize import TweetTokenizer\n",
        "from nltk.stem import WordNetLemmatizer\n",
        "from nltk.corpus import stopwords\n",
        "\n",
        "# Execute only once for first time below three downloaders                \n",
        "nltk.download('punkt')\n",
        "nltk.download('wordnet')\n",
        "nltk.download('stopwords')\n",
        "\n",
        "#@title Function to clean tweets using another library: cleantweets2(pandas.dataframe)\n",
        "def cleantweets2(df):\n",
        "  sentences = list()\n",
        "  df[\"full_text\"] = df[\"full_text\"].astype(str)\n",
        "  lines = df[\"full_text\"].values.tolist()\n",
        "  for text in lines:\n",
        "    #1. Remove digits\n",
        "    #text = text.sub('\\d+', '')\n",
        "\n",
        "    #2. Convert into lower case\n",
        "    text = text.lower()\n",
        "    \n",
        "    #3. Removing hashtags, urls and user mentions\n",
        "    text = re.sub(r\"#(\\w+)\", \" \", text)\n",
        "    text = p.clean(text)\n",
        "\n",
        "    #4. Removing emojies\n",
        "    emoji = re.compile(\"[\"\n",
        "                        u\"\\U0001F600-\\U0001FFFF\"  # emoticons\n",
        "                        u\"\\U0001F300-\\U0001F5FF\"  # symbols & pictographs\n",
        "                        u\"\\U0001F680-\\U0001F6FF\"  # transport & map symbols\n",
        "                        u\"\\U0001F1E0-\\U0001F1FF\"  # flags (iOS)\n",
        "                        u\"\\U00002702-\\U000027B0\"\n",
        "                        u\"\\U000024C2-\\U0001F251\"\n",
        "                        \"]+\", flags=re.UNICODE)\n",
        "    text = emoji.sub(r'', text)\n",
        "\n",
        "    #Remove extra whitespaces\n",
        "    text = re.sub(r\"^\\s+|\\s+$\", \"\", text)\n",
        "    text = re.sub(' +', ' ', text)\n",
        "\n",
        "    #5. Replacing some special characters with words\n",
        "    text = re.sub(r'\\$([0-9,]*\\.[0-9]*)', '$1USD', text)\n",
        "    text = re.sub(r'\\₹([0-9,]*\\.[0-9]*)', '$1INR', text)\n",
        "    text = re.sub(r'([0-9,]*\\.[0-9]*)\\%', '$1\\%', text)\n",
        "\n",
        "    #6. Remove special characters\n",
        "    text = re.sub(r\"[\\\"!@#$%^&*(){}?/;`~:<>+=]\", \"\", text)\n",
        "\n",
        "    #7. Tokenize\n",
        "    tokenizer = TweetTokenizer()\n",
        "    tokens = tokenizer.tokenize(text)\n",
        "    \n",
        "    #8. Removing punctuation\n",
        "    table = str.maketrans('', '', string.punctuation)\n",
        "    stripped = [w.translate(table) for w in tokens]\n",
        "    #stripped = []\n",
        "    #for word in tokens:\n",
        "      #new_word = re.sub(r'[^\\w\\s]', '', (word))\n",
        "      #if new_word != '':\n",
        "        #stripped.append(new_word)\n",
        "\n",
        "    #9. Removing non-english characters\n",
        "    res = [idx for idx in stripped if not re.findall(\"[^\\u0000-\\u05C0\\u2100-\\u214F]+\", idx)]\n",
        "\n",
        "    #10. Removing stop words\n",
        "    stop_words = set(stopwords.words('english'))\n",
        "    words = [w for w in res if w not in stop_words]\n",
        "    words = ' '.join(words)\n",
        "    sentences.append(words)\n",
        "    \n",
        "  return sentences\n",
        "\n"
      ]
    },
    {
      "cell_type": "code",
      "execution_count": null,
      "metadata": {
        "id": "cSti2g2XpL2m"
      },
      "outputs": [],
      "source": [
        "import re\n",
        "import string\n",
        "\n",
        "#@title Function to clean tweets minimally: cleantweets3(pandas.dataframe)\n",
        "def cleantweets3(df):\n",
        "  sentences = list()\n",
        "  df[\"full_text\"] = df[\"full_text\"].astype(str)\n",
        "  lines = df[\"full_text\"].values.tolist()\n",
        "  for text in lines:  \n",
        "    #1. Convert into lower case\n",
        "    text = text.lower()\n",
        "\n",
        "    #2. Remove special characters\n",
        "    text = re.sub(r\"(\\n+)\", \".\", text)\n",
        "    text = re.sub(r\"\\.+\", \".\", text)\n",
        "    text = re.sub(r\" +\", \" \", text)\n",
        "    \n",
        "    #3. Removing hashtags, urls and user mentions\n",
        "    text = re.sub(\"\\S*@\\S*\\s?\",\"\", text) #remove emails\n",
        "    text = re.sub(\"@[A-Za-z0-9_]+\",\"\", text) #remove hashtag keyword\n",
        "    text = re.sub(\"#[A-Za-z0-9_]+\",\"\", text) #remove mentioned users\n",
        "    pattern = re.compile('(?:\\\\s)[^\\\\s\\\\.]*\\\\.[^\\\\s]+')\n",
        "    text = pattern.sub('', text)\n",
        "    pattern = re.compile('(https?:\\/\\/)(\\s)*(www\\.)?(\\s)*((\\w|\\s)+\\.)*([\\w\\-\\s]+\\/)*([\\w\\-]+)((\\?)?[\\w\\s]*=\\s*[\\w\\%&]*)*')\n",
        "    text = pattern.sub('', text)\n",
        "    \n",
        "    #4. Removing emojis\n",
        "    emoji = re.compile(\"[\"\n",
        "                        u\"\\U0001F600-\\U0001FFFF\" # emoticons\n",
        "                        u\"\\U0001F300-\\U0001F5FF\" # symbols & pictographs\n",
        "                        u\"\\U0001F680-\\U0001F6FF\" # transport & map symbols\n",
        "                        u\"\\U0001F1E0-\\U0001F1FF\" # flags (iOS)\n",
        "                        u\"\\U00002702-\\U000027B0\"\n",
        "                        u\"\\U000024C2-\\U0001F251\"\n",
        "                        \"]+\", flags=re.UNICODE)\n",
        "    text = emoji.sub(r'', text)\n",
        "\n",
        "    #5. Remove more special characters\n",
        "    text = re.sub(r\"[?!]\", \".\", text)\n",
        "    text = re.sub(r\"[,\\\"'_@#$%^&*(){}`~:;<>+=]\", \"\", text)\n",
        "    text = re.sub(r\"/\", \" or \", text)\n",
        "    text = re.sub(r\"^\\s+|\\s+$\", \"\", text)\n",
        "\n",
        "    #5. Tokenize\n",
        "    #tokens = word_tokenize(text)\n",
        "    #table = str.maketrans('', '', string.punctuation)\n",
        "\n",
        "    #7. Removing non-english characters\n",
        "    #res = [idx for idx in stripped if not re.findall(\"[^\\u0000-\\u05C0\\u2100-\\u214F]+\", idx)]\n",
        "\n",
        "    #6. Removing non-english characters\n",
        "    text = re.sub(\"[^\\u0000-\\u05C0\\u2100-\\u214F]+\", \"\", text)\n",
        "    text = re.split('(?![0-9])\\.(?![0-9])', text)\n",
        "    sentences.append(each)\n",
        "    \n",
        "    #8. Removing stop-words\n",
        "    #words = [w for w in res if not w in stop_words]\n",
        "    #words = ' '.join(words)\n",
        "    #words = re.sub(r\" +\", \" \", words)\n",
        "    #if len(words)>5:\n",
        "      #sentences.append(words)\n",
        "\n",
        "  return sentences\n"
      ]
    },
    {
      "cell_type": "code",
      "execution_count": null,
      "metadata": {
        "colab": {
          "base_uri": "https://localhost:8080/"
        },
        "id": "tyWApklW2IHX",
        "outputId": "1343fca6-38dc-4a5b-efed-eb6885b120f6"
      },
      "outputs": [
        {
          "output_type": "execute_result",
          "data": {
            "text/plain": [
              "(['Hello, my name is   Subham Burnwal. #SubhamBurnwal',\n",
              "  'mail me at subhambbcoll@gmail.com',\n",
              "  'Hi! My name is Subham   Burnwal. Hi. Hello there. ',\n",
              "  'Hello there..\\n What happened? Apples or Balls?',\n",
              "  'www.google.com www.google.com/',\n",
              "  'https://www.google.com',\n",
              "  'google.com google.com/as/ss'],\n",
              " ['hello  my name is subham burnwal.',\n",
              "  'mail me at',\n",
              "  'hi. my name is subham burnwal. hi. hello there.',\n",
              "  'hello there. what happened. apples or balls.',\n",
              "  'www.google.com',\n",
              "  'google.com'],\n",
              " ['hello name subham burnwal',\n",
              "  'mail subhambbcollcom',\n",
              "  'hi name subham burnwal hi hello',\n",
              "  'hello happened apples balls',\n",
              "  'wwwgooglecom wwwgooglecom',\n",
              "  '',\n",
              "  'googlecom googlecomasss'])"
            ]
          },
          "metadata": {},
          "execution_count": 22
        }
      ],
      "source": [
        "#@title comparing preprocessing\n",
        "lines = [\"Hello, my name is   Subham Burnwal. #SubhamBurnwal\",\n",
        "         \"mail me at subhambbcoll@gmail.com\",\n",
        "         \"Hi! My name is Subham   Burnwal. Hi. Hello there. \",\n",
        "         \"Hello there..\\n What happened? Apples or Balls?\",\n",
        "         \"www.google.com www.google.com/\",\n",
        "         \"https://www.google.com\",\n",
        "         \"google.com google.com/as/ss\"]\n",
        "sentences = list()\n",
        "for text in lines:\n",
        "  #1. Convert into lower case\n",
        "  text = text.lower()\n",
        "\n",
        "  #2. Remove special characters\n",
        "  text = re.sub(r\"(\\n+)\", \".\", text)\n",
        "  text = re.sub(r\"\\.+\", \".\", text)\n",
        "  text = re.sub(r\" +\", \" \", text)\n",
        "  \n",
        "  #3. Removing hashtags, urls and user mentions\n",
        "  text = re.sub(\"\\S*@\\S*\\s?\",\"\", text) #remove emails\n",
        "  text = re.sub(\"@[A-Za-z0-9_]+\",\"\", text) #remove hashtag keyword\n",
        "  text = re.sub(\"#[A-Za-z0-9_]+\",\"\", text) #remove mentioned users\n",
        "  pattern = re.compile('(?:\\\\s)[^\\\\s\\\\.]*\\\\.[^\\\\s]+')\n",
        "  text = pattern.sub('', text)\n",
        "  pattern = re.compile('(https?:\\/\\/)(\\s)*(www\\.)?(\\s)*((\\w|\\s)+\\.)*([\\w\\-\\s]+\\/)*([\\w\\-]+)((\\?)?[\\w\\s]*=\\s*[\\w\\%&]*)*')\n",
        "  text = pattern.sub('', text)\n",
        "  \n",
        "  #4. Removing emojis\n",
        "  emoji = re.compile(\"[\"\n",
        "                      u\"\\U0001F600-\\U0001FFFF\" # emoticons\n",
        "                      u\"\\U0001F300-\\U0001F5FF\" # symbols & pictographs\n",
        "                      u\"\\U0001F680-\\U0001F6FF\" # transport & map symbols\n",
        "                      u\"\\U0001F1E0-\\U0001F1FF\" # flags (iOS)\n",
        "                      u\"\\U00002702-\\U000027B0\"\n",
        "                      u\"\\U000024C2-\\U0001F251\"\n",
        "                      \"]+\", flags=re.UNICODE)\n",
        "  text = emoji.sub(r'', text)\n",
        "\n",
        "  #5. Remove more special characters\n",
        "  text = re.sub(r\"[?!]\", \".\", text)\n",
        "  text = re.sub(r\"[,\\\"'_@#$%^&*(){}`~:;<>+=]\", \" \", text)\n",
        "  text = re.sub(r\"/\", \" or \", text)\n",
        "  text = re.sub(r\"^\\s+|\\s+$\", \"\", text)\n",
        "\n",
        "  #6. Removing non-english characters\n",
        "  text = re.sub(\"[^\\u0000-\\u05C0\\u2100-\\u214F]+\", \"\", text)\n",
        "  if len(text)>5:\n",
        "    sentences.append(text)\n",
        "\n",
        "sentences2 = list()\n",
        "for text in lines:\n",
        "  #1. Convert into lower case\n",
        "  text = text.lower()\n",
        "  \n",
        "  #2. Removing hashtags, urls and user mentions\n",
        "  text = re.sub(\"@[A-Za-z0-9_]+\",\"\", text) #remove hashtag keyword\n",
        "  text = re.sub(\"#[A-Za-z0-9_]+\",\"\", text) #remove mentioned users\n",
        "  pattern = re.compile('http[s]?://(?:[a-zA-Z]|[0-9]|[$-_@.&+]|[!*\\(\\),]|(?:%[0-9a-fA-F][0-9a-fA-F]))+')\n",
        "  text = pattern.sub('', text)\n",
        "\n",
        "  #3. Removing emojies\n",
        "  emoji = re.compile(\"[\"\n",
        "                      u\"\\U0001F600-\\U0001FFFF\" # emoticons\n",
        "                      u\"\\U0001F300-\\U0001F5FF\" # symbols & pictographs\n",
        "                      u\"\\U0001F680-\\U0001F6FF\" # transport & map symbols\n",
        "                      u\"\\U0001F1E0-\\U0001F1FF\" # flags (iOS)\n",
        "                      u\"\\U00002702-\\U000027B0\"\n",
        "                      u\"\\U000024C2-\\U0001F251\"\n",
        "                      \"]+\", flags=re.UNICODE)\n",
        "  text = emoji.sub(r'', text)\n",
        "\n",
        "  #4. Remove special characters\n",
        "  text = re.sub(r\"[,.\\\"!@#$%^&*(){}?/;`~:<>+=-]\", \"\", text)\n",
        "\n",
        "  #5. Tokenize\n",
        "  tokens = word_tokenize(text)\n",
        "  table = str.maketrans('', '', string.punctuation)\n",
        "\n",
        "  #6. Removing punctuation\n",
        "  stripped = [w.translate(table) for w in tokens]\n",
        "\n",
        "  #7. Removing non-english characters\n",
        "  res = [idx for idx in stripped if not re.findall(\"[^\\u0000-\\u05C0\\u2100-\\u214F]+\", idx)]\n",
        "\n",
        "  #8. Removing stop-words\n",
        "  words = [w for w in res if not w in stop_words]\n",
        "  words = ' '.join(words)\n",
        "  sentences2.append(words)\n",
        "\n",
        "lines,sentences,sentences2"
      ]
    },
    {
      "cell_type": "code",
      "execution_count": null,
      "metadata": {
        "colab": {
          "base_uri": "https://localhost:8080/"
        },
        "id": "eN4hfzdNsbex",
        "outputId": "fd88f5a0-190b-4334-8e58-c0b1906b0a6a"
      },
      "outputs": [
        {
          "output_type": "stream",
          "name": "stdout",
          "text": [
            "14251 tweets for 4 days:\n",
            "2020-12-06, 2020-12-14, 2020-12-15, 2020-12-16, \n",
            "\n",
            "             date_stamp                                          full_text\n",
            "0  2020-12-06 00:00:00  The government is apparently planning a campai...\n",
            "1  2020-12-06 00:00:00  @prodK0YA Covid robbed us of so so so many mom...\n",
            "2  2020-12-06 00:00:00  This is election time in Assam, Corona agenda ...\n",
            "3  2020-12-06 00:00:00     Dec 6th Covid Report ! https://t.co/JiXdp9vI38\n",
            "4  2020-12-06 00:00:00  @RailwaySeva @ajit_1258 Sir LIft and Escalator... \n",
            "\n",
            "government apparently planning campaign inject trust vaccines good suggestions journalist\n",
            "covid robbed us many moments reaction performances dance step front army interaction fellow artists smilegesture specially spot army\n",
            "election time assam corona agenda sleep mode bjp wo nt apply police brutality assam ensure safety covid19 coz exam time\n",
            "dec 6th covid report\n",
            "sir lift escalators closed due covid 19\n",
            "2020-12-16 00:00:00\n",
            "2020-12-16 00:00:00\n",
            "2020-12-16 00:00:00\n",
            "2020-12-16 00:00:00\n",
            "2020-12-16 00:00:00\n",
            "\n",
            "Saved cleaned_data/14_dec_16_dec_2020.txt successfully\n",
            "\n",
            "Saved cleaned_data/14_dec_16_dec_2020_partial.txt successfully\n",
            "\n",
            "42315 tweets for 7 days:\n",
            "2020-12-07, 2020-12-08, 2020-12-09, 2020-12-10, 2020-12-11, 2020-12-12, 2020-12-13, \n",
            "\n",
            "             date_stamp                                          full_text\n",
            "0  2020-12-07 00:00:00  @ani_digital @ANI @iamsunnydeol u had corona ,...\n",
            "1  2020-12-07 00:00:00  Recent elections at different spheres  had alr...\n",
            "2  2020-12-07 00:00:00  @TheDailyPioneer @capt_amarinder Because capta...\n",
            "3  2020-12-07 00:00:00  @SandeepParekh @Jal_Kukdi @KyaUkhaadLega Even ...\n",
            "4  2020-12-07 00:00:00  Today was Sindh cultural day.Where were Corona... \n",
            "\n",
            "u corona resigned bjp yes q shame sod\n",
            "recent elections different spheres already finished covid 19 crisis without maintaining covid protocol single case infection reported following election participants agrarian movement going corona victim surprising drama\n",
            "captain busy instigating farmers agents time corona management state shd get priority punjab get decide priority\n",
            "even corona\n",
            "today sindh cultural daywhere corona sops mr bilawalmurad ali shahimran ismail\n",
            "2020-12-13 00:00:00\n",
            "2020-12-13 00:00:00\n",
            "2020-12-13 00:00:00\n",
            "2020-12-13 00:00:00\n",
            "2020-12-13 00:00:00\n",
            "\n",
            "Saved cleaned_data/7_dec_13_dec_2020.txt successfully\n",
            "\n",
            "Saved cleaned_data/7_dec_13_dec_2020_partial.txt successfully\n",
            "\n",
            "39035 tweets for 7 days:\n",
            "2020-11-30, 2020-12-01, 2020-12-02, 2020-12-03, 2020-12-04, 2020-12-05, 2020-12-06, \n",
            "\n",
            "             date_stamp                                          full_text\n",
            "0  2020-12-01 00:00:00  On 1st Dec 2019, first case of #COVID__19 was ...\n",
            "1  2020-12-01 00:00:00  @bbcnewstelugu Wuhan is part of Indian Territo...\n",
            "2  2020-12-01 00:00:00  @ANI If WHO can open a laboratory in Wuhan wet...\n",
            "3  2020-12-01 00:00:00  @ndtv Ask this idiot to go &amp; check in Wuha...\n",
            "4  2020-12-01 00:00:00  @TimesNow Agreed if Chinese believe Wuhan is a... \n",
            "\n",
            "1st dec 2019 first case identified wuhan china far lost almost 147 lakh due contagious virus worldwide total 63 crore reported infected india death count 138 lakh yet please take care keep healthy\n",
            "wuhan part indian territory case china accept\n",
            "open laboratory wuhan wet market stop new virus transmition world\n",
            "ask idiot go amp check wuhan china\n",
            "agreed chinese believe wuhan part india\n",
            "2020-12-06 00:00:00\n",
            "2020-12-06 00:00:00\n",
            "2020-12-06 00:00:00\n",
            "2020-12-06 00:00:00\n",
            "2020-12-06 00:00:00\n",
            "\n",
            "Saved cleaned_data/30_nov_6_dec_2020.txt successfully\n",
            "\n",
            "Saved cleaned_data/30_nov_6_dec_2020_partial.txt successfully\n",
            "\n"
          ]
        }
      ],
      "source": [
        "#@title Load tweets for first two weeks of December 2020\n",
        "import pandas as pd\n",
        "from pathlib import Path\n",
        "\n",
        "load_dir = Path('covid_subset')\n",
        "save_dir = 'cleaned_data/'\n",
        "\n",
        "for item in load_dir.glob('**/*'):\n",
        "  if item.suffix in ['.csv','.xlsx']:\n",
        "    #1. Load only text data\n",
        "    week=pd.read_csv('covid_subset/'+item.name, \n",
        "                     usecols=['date_stamp','full_text'], \n",
        "                     lineterminator='\\n')\n",
        "    \n",
        "    #2. Remove duplicate rows\n",
        "    week=week.drop_duplicates(subset=None, keep='first')\n",
        "\n",
        "    #3. Sample data by weeks\n",
        "    day_groups=week.groupby('date_stamp')\n",
        "    print(len(week),'tweets for',len(day_groups.groups.keys()),'days:')\n",
        "    for each in list(day_groups.groups.keys()):\n",
        "      print(each[:-9], end=', ')\n",
        " \n",
        "    print('\\n\\n',week.head(5),'\\n')\n",
        "\n",
        "    #4. Clean the dataset using cleantweets() function\n",
        "    sentences=cleantweets(week)\n",
        "    sentences2=cleantweets3(week)\n",
        "\n",
        "    for each in sentences[:5]:\n",
        "      print(each)\n",
        "    for each in sentences2[:5]:\n",
        "      print(each)\n",
        "    \n",
        "    #5. Save cleaned data(sentences) to .txt format for summarization\n",
        "    with open(save_dir+item.name[:-4]+'.txt', 'w', encoding=\"utf-8\") as fp:\n",
        "      for line in sentences:\n",
        "        fp.write('%s.\\n' %line)\n",
        "    fp.close()\n",
        "    print(\"\\nSaved\", save_dir+item.name[:-4]+'.txt', \"successfully\")\n",
        "    \n",
        "    with open(save_dir+item.name[:-4]+'_partial.txt', 'w', encoding=\"utf-8\") as fp:\n",
        "      for line in sentences2:\n",
        "        fp.write('%s.\\n' %line)\n",
        "    fp.close()\n",
        "    print(\"\\nSaved\", save_dir+item.name[:-4]+'_partial.txt', \"successfully\\n\")\n",
        "    "
      ]
    },
    {
      "cell_type": "markdown",
      "metadata": {
        "id": "USuO7pjYYkXC"
      },
      "source": [
        "# SUMMARIZATION METHODS FUNCTIONS"
      ]
    },
    {
      "cell_type": "markdown",
      "metadata": {
        "id": "y-nf-KvQgIdY"
      },
      "source": [
        "## - USING SUMY LIBRARY\n",
        "---\n",
        "Python's SUMY module offers several algorithms and methods for summarization\n",
        "\n",
        " - Luhn – Heuristic method\n",
        " - Latent Semantic Analysis\n",
        " - LexRank – Unsupervised approach inspired by algorithms PageRank and HITS, multi-document\n",
        " - TextRank – Also based on PageRank, single-document\n",
        "\n",
        "––––––––––––––––\n",
        "\n",
        " (TO DO)\n",
        " - SumBasic – Method that is often used as a baseline in the literature\n",
        " - KL-Sum – Method that greedily adds sentences to a summary so long as it decreases the KL Divergence."
      ]
    },
    {
      "cell_type": "code",
      "execution_count": null,
      "metadata": {
        "colab": {
          "base_uri": "https://localhost:8080/"
        },
        "id": "QEH47ok8bYUC",
        "outputId": "5a733a17-25c2-4966-cda3-c77928a2e028"
      },
      "outputs": [
        {
          "name": "stdout",
          "output_type": "stream",
          "text": [
            "\u001b[K     |████████████████████████████████| 87 kB 3.5 MB/s \n",
            "\u001b[K     |████████████████████████████████| 10.1 MB 28.1 MB/s \n",
            "\u001b[?25h  Building wheel for breadability (setup.py) ... \u001b[?25l\u001b[?25hdone\n",
            "  Building wheel for pycountry (setup.py) ... \u001b[?25l\u001b[?25hdone\n"
          ]
        }
      ],
      "source": [
        "!pip -q install sumy"
      ]
    },
    {
      "cell_type": "code",
      "execution_count": null,
      "metadata": {
        "colab": {
          "base_uri": "https://localhost:8080/"
        },
        "id": "yzGAnB_NbXvR",
        "outputId": "2b46be76-7924-4ed5-e983-f39818a49741"
      },
      "outputs": [
        {
          "name": "stdout",
          "output_type": "stream",
          "text": [
            "[nltk_data] Downloading package punkt to /root/nltk_data...\n",
            "[nltk_data]   Unzipping tokenizers/punkt.zip.\n"
          ]
        },
        {
          "data": {
            "text/plain": [
              "True"
            ]
          },
          "execution_count": 8,
          "metadata": {},
          "output_type": "execute_result"
        }
      ],
      "source": [
        "import sumy\n",
        "from sumy.parsers.plaintext import PlaintextParser\n",
        "from sumy.nlp.tokenizers import Tokenizer\n",
        "\n",
        "import nltk\n",
        "nltk.download('punkt')"
      ]
    },
    {
      "cell_type": "code",
      "execution_count": null,
      "metadata": {
        "id": "C2OTNAjabarj"
      },
      "outputs": [],
      "source": [
        "# For Files\n",
        "# parser = PlaintextParser.from_file('tweettext.txt', Tokenizer(\"english\"))\n",
        "# For variable\n",
        "parser = PlaintextParser.from_string(list(tweets.full_text), Tokenizer(\"english\"))"
      ]
    },
    {
      "cell_type": "markdown",
      "metadata": {
        "id": "YZ8h-vZZjxm9"
      },
      "source": [
        "### LexRank\n",
        "+ Unsupervised approach to text summarization based on graph-based centrality scoring of sentences.\n",
        "+ The main idea is that sentences \"recommend\" other similar sentences to the reader. Thus, if one sentence is very similar to many others, it will likely be a sentence of great importance\n",
        "+ Standalone pkg pip install lexrank"
      ]
    },
    {
      "cell_type": "code",
      "execution_count": null,
      "metadata": {
        "id": "xcaK6Kgwi3bk"
      },
      "outputs": [],
      "source": [
        "from sumy.summarizers.lex_rank import LexRankSummarizer \n",
        "\n",
        "#Summarize the document with 2 sentences\n",
        "summarizer = LexRankSummarizer()\n",
        "summary = summarizer(parser.document, 2) \n",
        "for sentence in summary:\n",
        "  print(sentence)"
      ]
    },
    {
      "cell_type": "markdown",
      "metadata": {
        "id": "Qw-iURv6mmnu"
      },
      "source": [
        "### Luhn\n",
        "+ Based on frequency of most important words"
      ]
    },
    {
      "cell_type": "code",
      "execution_count": null,
      "metadata": {
        "colab": {
          "base_uri": "https://localhost:8080/"
        },
        "id": "wSoJsuWx6C-j",
        "outputId": "8a91e5cb-0727-4bc3-9c20-231527b68d13"
      },
      "outputs": [
        {
          "name": "stdout",
          "output_type": "stream",
          "text": [
            "['1st dec 2019 first case identified wuhan china far lost almost 147 lakh due contagious virus worldwide total 63 crore reported infected india death count 138 lakh yet please take care keep healthy', 'wuhan part indian territory case china accept', 'open laboratory wuhan wet market stop new virus transmition world', 'ask idiot go amp check wuhan china', 'agreed chinese believe wuhan part india', 'china claiming india occupied territory wuhan corona virus originated indians saying china occupied indian territory', 'becoming corporate vaccination war guy made wuhan lab lost contol corporates going run show watch annual reports two companies next 23 years', 'leaked documents provide insight chinas coverup early days wuhan coronavirus outbreak', 'reports state media signal intensifying propaganda effort place birth virus countries', 'pretty good article']\n"
          ]
        }
      ],
      "source": [
        "from sumy.summarizers.luhn import LuhnSummarizer\n",
        "\n",
        "string=[\"1st dec 2019 first case identified wuhan china far lost almost 147 lakh due contagious virus worldwide total 63 crore reported infected india death count 138 lakh yet please take care keep healthy\",\n",
        "\"wuhan part indian territory case china accept\",\n",
        "\"open laboratory wuhan wet market stop new virus transmition world\",\n",
        "\"ask idiot go amp check wuhan china\",\n",
        "\"agreed chinese believe wuhan part india\",\n",
        "\"china claiming india occupied territory wuhan corona virus originated indians saying china occupied indian territory\",\n",
        "\"becoming corporate vaccination war guy made wuhan lab lost contol corporates going run show watch annual reports two companies next 23 years\",\n",
        "\"leaked documents provide insight chinas coverup early days wuhan coronavirus outbreak\",\n",
        "\"reports state media signal intensifying propaganda effort place birth virus countries\",\n",
        "\"pretty good article\"]\n",
        "parser = PlaintextParser.from_string(string, Tokenizer(\"english\"))\n",
        "\n",
        "summarizer_luhn = LuhnSummarizer()\n",
        "summary_1 = summarizer_luhn(parser.document,2)\n",
        "for sentence in summary_1:\n",
        "  print(sentence)"
      ]
    },
    {
      "cell_type": "markdown",
      "metadata": {
        "id": "lzF3Y2ThmxQR"
      },
      "source": [
        "### LSA\n",
        "+ Based on term frequency techniques with singular value decomposition to summarize texts."
      ]
    },
    {
      "cell_type": "code",
      "execution_count": null,
      "metadata": {
        "id": "P2aYHvq6nU7y"
      },
      "outputs": [],
      "source": [
        "from sumy.summarizers.lsa import LsaSummarizer\n",
        "summarizer_lsa = LsaSummarizer()\n",
        "summary_2 = summarizer_lsa(parser.document,2)\n",
        "for sentence in summary_2:\n",
        "  print(sentence)"
      ]
    },
    {
      "cell_type": "markdown",
      "metadata": {
        "id": "ZlC0hFwIncat"
      },
      "source": [
        "### KL-Sum"
      ]
    },
    {
      "cell_type": "code",
      "execution_count": null,
      "metadata": {
        "id": "PkKB6FQJ5-83"
      },
      "outputs": [],
      "source": [
        "from sumy.summarizers.kl import KLSummarizer\n",
        "\n",
        "summarizer_kl = KLSummarizer()\n",
        "summary_kl = summarizer_kl(parser.document,2)\n",
        "for sentence in summary_kl:\n",
        "  print(sentence)"
      ]
    },
    {
      "cell_type": "markdown",
      "metadata": {
        "id": "z_pMPxrXnnNe"
      },
      "source": [
        "### Sum Basic"
      ]
    },
    {
      "cell_type": "code",
      "execution_count": null,
      "metadata": {
        "id": "8yms0JLM58lX"
      },
      "outputs": [],
      "source": [
        "from sumy.summarizers.sum_basic import SumBasicSummarizer\n",
        "\n",
        "summarizer_sb = SumBasicSummarizer()\n",
        "summary_sb = summarizer_sb(parser.document,2)\n",
        "for sentence in summary_sb:\n",
        "  print(sentence)"
      ]
    },
    {
      "cell_type": "markdown",
      "metadata": {
        "id": "8QAbljzlkNKF"
      },
      "source": [
        "### Standalone LexRank"
      ]
    },
    {
      "cell_type": "code",
      "execution_count": null,
      "metadata": {
        "id": "J5k0itK9NFpC"
      },
      "outputs": [],
      "source": [
        "!pip -q install lexrank"
      ]
    },
    {
      "cell_type": "code",
      "execution_count": null,
      "metadata": {
        "id": "QH_BOfJEz3Jv"
      },
      "outputs": [],
      "source": [
        "#@title LexRank\n",
        "\n",
        "from lexrank import LexRank\n",
        "from lexrank.mappings.stopwords import STOPWORDS\n",
        "from path import Path\n",
        "\n",
        "lxr = LexRank(list(tweets.full_text.head())[0], stopwords=STOPWORDS['en'])\n",
        "\n",
        "sentences = list(tweets.full_text.head())\n",
        "\n",
        "# get summary with classical LexRank algorithm\n",
        "summary = lxr.get_summary(sentences, summary_size=2, threshold=.1)\n",
        "print(summary)\n",
        "\n",
        "# get summary with continuous LexRank\n",
        "summary_cont = lxr.get_summary(sentences, threshold=None)\n",
        "print(summary_cont)\n",
        "\n",
        "# get LexRank scores for sentences\n",
        "# 'fast_power_method' speeds up the calculation, but requires more RAM\n",
        "scores_cont = lxr.rank_sentences(\n",
        "    sentences,\n",
        "    threshold=None,\n",
        "    fast_power_method=True,\n",
        ")\n",
        "print(scores_cont)"
      ]
    },
    {
      "cell_type": "code",
      "execution_count": null,
      "metadata": {
        "id": "hhI8M1G83wpv"
      },
      "outputs": [],
      "source": [
        "#@title Luhn\n",
        "def find_summary_luhn():\n",
        "    p = PlaintextParser.from_file(\"testtext.txt\", Tokenizer(\"english\"))\n",
        "    s_luhn = LuhnSummarizer()\n",
        "    su =s_luhn(p.document,2)\n",
        "    for s in su:\n",
        "        print(s)"
      ]
    },
    {
      "cell_type": "code",
      "execution_count": null,
      "metadata": {
        "id": "sAVLflnj4A_j"
      },
      "outputs": [],
      "source": [
        "#@title LSA       \n",
        "def find_summary_lsa():\n",
        "    p = PlaintextParser.from_file(\"testtext.txt\", Tokenizer(\"english\"))\n",
        "    sumlsa = LsaSummarizer()\n",
        "    su =sumlsa(p.document,2)\n",
        "    for s in su:\n",
        "        print(s)"
      ]
    },
    {
      "cell_type": "markdown",
      "metadata": {
        "id": "vPxUf5wNVjHK"
      },
      "source": [
        "## - USING PRE-TRAINED NLP MODELS #FUTURE SCOPE\n",
        "Link: https://www.analyticsvidhya.com/blog/2020/11/summarize-twitter-live-data-using-pretrained-nlp-models/"
      ]
    },
    {
      "cell_type": "code",
      "execution_count": null,
      "metadata": {
        "colab": {
          "base_uri": "https://localhost:8080/"
        },
        "id": "YyAZ1w82Vh4Q",
        "outputId": "8df1cdc5-f916-4684-ac67-24f1644adae7"
      },
      "outputs": [
        {
          "name": "stdout",
          "output_type": "stream",
          "text": [
            "\u001b[K     |████████████████████████████████| 3.4 MB 5.6 MB/s \n",
            "\u001b[K     |████████████████████████████████| 61 kB 451 kB/s \n",
            "\u001b[K     |████████████████████████████████| 3.3 MB 39.1 MB/s \n",
            "\u001b[K     |████████████████████████████████| 895 kB 51.8 MB/s \n",
            "\u001b[K     |████████████████████████████████| 596 kB 49.7 MB/s \n",
            "\u001b[?25hCollecting SentencePiece\n",
            "  Downloading sentencepiece-0.1.96-cp37-cp37m-manylinux_2_17_x86_64.manylinux2014_x86_64.whl (1.2 MB)\n",
            "\u001b[K     |████████████████████████████████| 1.2 MB 5.4 MB/s \n",
            "\u001b[?25hInstalling collected packages: SentencePiece\n",
            "Successfully installed SentencePiece-0.1.96\n"
          ]
        }
      ],
      "source": [
        "!pip -q install transformers\n",
        "!pip -q install bert-extractive-summarizer\n",
        "!pip -q install spacy\n",
        "!pip install SentencePiece\n",
        "\n",
        "body = '''Scientists say they have discovered a new species of orangutans on Indonesia’s island of Sumatra.\n",
        "The population differs in several ways from the two existing orangutan species found in Sumatra and the neighboring island of Borneo.\n",
        "The orangutans were found inside North Sumatra’s Batang Toru forest, the science publication Current Biology reported.\n",
        "Researchers named the new species the Tapanuli orangutan. They say the animals are considered a new species because of genetic, skeletal and tooth differences.\n",
        "Michael Kruetzen is a geneticist with the University of Zurich who has studied the orangutans for several years. He said he was excited to be part of the unusual discovery of a new great ape in the present day. He noted that most great apes are currently considered endangered or severely endangered.\n",
        "Gorillas, chimpanzees and bonobos also belong to the great ape species.\n",
        "Orangutan – which means person of the forest in the Indonesian and Malay languages - is the world’s biggest tree-living mammal. The orange-haired animals can move easily among the trees because their arms are longer than their legs. They live more lonely lives than other great apes, spending a lot of time sleeping and eating fruit in the forest.\n",
        "The new study said fewer than 800 of the newly-described orangutans exist. Their low numbers make the group the most endangered of all the great ape species.\n",
        "They live within an area covering about 1,000 square kilometers. The population is considered highly vulnerable. That is because the environment which they depend on is greatly threatened by development.\n",
        "Researchers say if steps are not taken quickly to reduce the current and future threats, the new species could become extinct “within our lifetime.”\n",
        "Research into the new species began in 2013, when an orangutan protection group in Sumatra found an injured orangutan in an area far away from the other species. The adult male orangutan had been beaten by local villagers and died of his injuries. The complete skull was examined by researchers.\n",
        "Among the physical differences of the new species are a notably smaller head and frizzier hair. The Tapanuli orangutans also have a different diet and are found only in higher forest areas.\n",
        "There is no unified international system for recognizing new species. But to be considered, discovery claims at least require publication in a major scientific publication.\n",
        "Russell Mittermeier is head of the primate specialist group at the International Union for the Conservation of Nature. He called the finding a “remarkable discovery.” He said it puts responsibility on the Indonesian government to help the species survive.\n",
        "Matthew Nowak is one of the writers of the study. He told the Associated Press that there are three groups of the Tapanuli orangutans that are separated by non-protected land.He said forest land needs to connect the separated groups.\n",
        "In addition, the writers of the study are recommending that plans for a hydropower center in the area be stopped by the government.\n",
        "It also recommended that remaining forest in the Sumatran area where the orangutans live be protected.\n",
        "I’m Bryan Lynn.'''\n"
      ]
    },
    {
      "cell_type": "code",
      "execution_count": null,
      "metadata": {
        "id": "6Y8H0biDzRq6"
      },
      "outputs": [],
      "source": [
        "#@title BERT\n",
        "#@markdown BERT or (Bidirectional transformer) is a transformer used to overcome the limitations of RNN and other neural networks as Long term dependencies. It is a pre-trained model that is naturally bidirectional. This pre-trained model can be tuned to easily perform the NLP tasks as specified, in our case summarization.\n",
        "\n",
        "from summarizer import Summarizer\n",
        "\n",
        "bert_model = Summarizer()\n",
        "bert_summary = ''.join(bert_model(body, min_length=60))\n",
        "print(bert_summary)"
      ]
    },
    {
      "cell_type": "code",
      "execution_count": null,
      "metadata": {
        "id": "0c35focGzKw2"
      },
      "outputs": [],
      "source": [
        "#@title Text Summarization with GPT-2\n",
        "#@markdown GPT-2 or Generative Pre-trained Transformer 2 (which has around 1 billion parameters) and can only imagine the power of the most recent GPT3 which has 175 billion parameters. It can write from software codes to fictional stories.\n",
        "\n",
        "from summarizer import TransformerSummarizer\n",
        "\n",
        "GPT2_model = TransformerSummarizer(transformer_type=\"GPT2\",transformer_model_key=\"gpt2-medium\")\n",
        "full = ''.join(GPT2_model(body, min_length=60))\n",
        "print(full)"
      ]
    },
    {
      "cell_type": "code",
      "execution_count": null,
      "metadata": {
        "id": "z3QG68e5zMR-"
      },
      "outputs": [],
      "source": [
        "#@title Text Summarization with XLNet\n",
        "#@markdown XLNet is particularly interesting for language generation because it is pre-trained in a regressive manner similar to the GPT family of models.\n",
        "\n",
        "from summarizer import TransformerSummarizer\n",
        "\n",
        "model = TransformerSummarizer(transformer_type=\"XLNet\",transformer_model_key=\"xlnet-base-cased\")\n",
        "full = ''.join(model(body, min_length=60))\n",
        "print(full)"
      ]
    },
    {
      "cell_type": "markdown",
      "metadata": {
        "id": "YgP-JXIiQKlV"
      },
      "source": [
        "# PERFORMANCE EVALUATION\n",
        "\n",
        "**A. Intrinsic Evaluation** — Focuses on intermediary objectives (i.e. the performance of an NLP component on a defined subtask)\n",
        "\n",
        "**B. Extrinsic Evaluation** — Focuses on the performance of the final objective (i.e. the performance of the component on the complete application)\n",
        "\n",
        "---\n",
        "Stakeholders typically care about extrinsic evaluation since they’d want to know how good the model is at solving the business problem at hand. However, it’s still important to have intrinsic evaluation metrics in order for the AI team to measure how they are doing.\n",
        "\n",
        "Researchers must understand beforehand how comparable the human-generated and generated summaries are."
      ]
    },
    {
      "cell_type": "markdown",
      "metadata": {
        "id": "lGlW6hlFXt_k"
      },
      "source": [
        "### A. INTRINSIC EVALUATION \n",
        "Intrinsic evaluation compares machine-generated and human-generated summaries to judge based on two factors: quality and information. Human experts may be required to evaluate machine-generated summaries utilizing several quality measures.\n",
        "- Readability, \n",
        "- non-redundancy, \n",
        "- structure, \n",
        "- coherence, \n",
        "- referential clarity, \n",
        "- conciseness \n",
        "- focus, and \n",
        "- content coverage, etc.\n",
        "\n",
        "The basic measures for intrinsically evaluating summaries are: \n",
        "- precision, \n",
        "- recall, \n",
        "- F-measure, and \n",
        "- [others.](https://towardsdatascience.com/the-most-common-evaluation-metrics-in-nlp-ced6a763ac8b)"
      ]
    },
    {
      "cell_type": "code",
      "execution_count": null,
      "metadata": {
        "id": "WBCnBn2z9S2I"
      },
      "outputs": [],
      "source": [
        "#@title 1. Recall Metric\n",
        "#@markdown Recall measures the probability of the summary being relevant to the sample, or the ability of the model to recall all information from the reference.\n",
        "\n",
        "#@markdown \\begin{align} recall = \\frac{S _{ref}\\;\\cap\\;S_{model}}{S_{ref}} \\end{align}\n",
        "\n"
      ]
    },
    {
      "cell_type": "code",
      "execution_count": null,
      "metadata": {
        "id": "OSKS2N8EQpm0"
      },
      "outputs": [],
      "source": [
        "#@title 2. Precision Metric\n",
        "#@markdown Precision measures the ability of the model to gather information from the source. A summary containing all words in the reference has perfect recall but it may not contain anything extra.\n",
        "\n",
        "#@markdown \\begin{align}precision = \\frac{S _{ref}\\;\\cap\\;S_{model}}{S_{model}}\\end{align}\n",
        "\n"
      ]
    },
    {
      "cell_type": "code",
      "execution_count": null,
      "metadata": {
        "id": "ehDQYQxV_CvR"
      },
      "outputs": [],
      "source": [
        "#@title 3. F-Score\n",
        "#@markdown Precision and Recall are complementary metrics that have an inverse relationship. A summary with high precision may not be relevant to the reference. F-score measures the arithmetic mean of precision and recall. That gives us a reliable measure of our model performance that relies not only on the model capturing as many words as possible (recall) but doing so without outputting irrelevant words (precision).\n",
        "\n",
        "#@markdown \\begin{align} f{-}measure = \\frac{2(precision)(recall)}{precision + recall} \\end{align}\n",
        "\n"
      ]
    },
    {
      "cell_type": "markdown",
      "metadata": {
        "id": "PRpufOFlXqRJ"
      },
      "source": [
        "### B. EXTRINSIC EVALUATION \n",
        "Extrinsic evaluation is a sentence-based quality evaluation of summaries. It measures how good the summary is for: \n",
        "- text categorization, \n",
        "- information retrieval, and \n",
        "- question responding.\n",
        "\n",
        "However, it only provides results based on individual sentences, not whole summary, but we can **consider an average of all sentences** in the summary. There are numerous approaches to extrinsic evaluation. \n",
        "- Relevance assessment determines whether the text is relevant to the topic.\n",
        "- Reading comprehension determines whether it can answer multiple-choice assessments or not.\n",
        "\n",
        "The most commonly used extrinsix evaluation is the ROUGE metric."
      ]
    },
    {
      "cell_type": "markdown",
      "metadata": {
        "id": "mffkL3T25P-j"
      },
      "source": [
        "#### Recall-Oriented Understudy for Gisting Evaluation (ROUGE) \n",
        "ROUGE is a series of evaluations ATS and machine translation. It compares an automatically generated summary or translation to a set of predetermined summaries such as human-generated summaries. We have **ROUGE-N, ROUGE-L, ROUGE-W, ROUGE-S**, and their variants. ROUGE-N and ROUGE-L are the most widely used, owing to simplicity, but ROUGE-SU4 has been shown to best approximate human-assigned scores of summaries.\n",
        "\n",
        "**Drawbacks**<br>\n",
        "ROUGE is a syntactical measure, not semantic. So, for very two different sequences that have the same meaning will get a low ROUGE score. This can be offset by using several references and taking the average score, or by upgrading the token-matching step with a synonym look-up table.\n",
        "It does not make any provision to cater for the readability\n",
        "or fluency of the generated summaries."
      ]
    },
    {
      "cell_type": "code",
      "source": [
        "#@title model & reference summaries\n",
        "\n",
        "#         lsa\n",
        "model = ['''global cues strong dow fut 150 pts investors weighing updates covid19 \n",
        "          vaccine rollout well coronavirus stimulus stalemate washington japan 176 pts \n",
        "          hangseng 16 pts sgx nifty 48 pts brent crude hovers 50. sir please delay boards \n",
        "          able study situation online classes waste tuition due covid19 hence question \n",
        "          self study sir delay bords asking promotion without exam please sir. reports \n",
        "          27071 new cases 336 deaths last 24 hours india total cases rise 9884100 active \n",
        "          cases country stand 352586 covid death toll goes 143355. sir loan ony head 2 \n",
        "          kids money even eat food bank people behind rent tough life ca nt see kids \n",
        "          stage please help lost job husband due covid one even call home please help \n",
        "          least pay loan.''',\n",
        "\n",
        "          '''needs undertaken designated public health authority district rapid reaction \n",
        "          team rrt treating physician accordingly advice shall made regarding management \n",
        "          cases contacts need 34. clusters gt15 cases appear office essential principles \n",
        "          risk assessment isolation amp quarantine contacts case referral management \n",
        "          remain however scale arrangements higher either case risk assessment 24. \n",
        "          falling sick nt problem became covid mildhigh fever cold amp cough bound happen \n",
        "          thereafter depends immune system fast recover. due ongoing covid19 many tax \n",
        "          professionals across india covid positive requested kindly extend due date \n",
        "          gstr99c gst returns atleast 31032020. every state worked towards increasing \n",
        "          number covid tests tmc govt intentionally kept tests low hide reality deaths \n",
        "          11th dec 2020 west bengal stands 33rd position across states tests per million \n",
        "          count mere 65426. thermo king part irelandbased trane technologies made necessary \n",
        "          alterations added additional insulation adjusting refrigeration system tuna \n",
        "          shipping containers could get even colder.''',\n",
        "\n",
        "          '''covid india samples testing 154566990 total december 13 2020 855157 december \n",
        "          13 2020 positivity today 316 amp till date 639 cases 9884100 today 27071. bb sir \n",
        "          aap jab covid hue tab apne aur apki family ne situation ko kaise tackle kiya abhi \n",
        "          bhi bht log hai jo covid ko srsly nahi le rahe hai aur bina kaam bahar ghum rahe \n",
        "          haiunke liye msg btw videos inspire us.\n",
        "          313 lakh people paid rs 1841 crores fine wearing face masks public places ahmedabad \n",
        "          gujarat since outbreak covid19 1400 police personnel contracted covid19 amp 13 died \n",
        "          harshad patel dcp traffic control ahmedabad 1412. covid19 google eyeing flexible work \n",
        "          week delays office return business standard covid19 google eyeing flexible work week \n",
        "          delays office return business standardgoogle extends work home eyes flexible work \n",
        "          week report mintgoogle.''',\n",
        "#         lexrank\n",
        "          '''india updates  active cases fall 17th straight day fall last 24 hrs highest one \n",
        "          week additions total cases 22065 vs recoveries 34477 total additions lowest since \n",
        "          july 8 positivity rate slips 35 recovery rate rises 95. scrap dealer delhi moderna \n",
        "          covid19 vaccine documents accessed ema cyberattack reuters india moderna covid19 \n",
        "          vaccine documents accessed ema cyberattack reuters india singapore approves pfizer \n",
        "          covid vaccine. justice ashok bhushan led bench shortly deliver judgment appeal kerala \n",
        "          hc order prohibiting doctors advertising prescribing medicines cure covid19 except \n",
        "          centre advisory march 6 2020. already whole year spent stress either due covid due \n",
        "          work stress madam kindly extend due dates scattered manner 1 gstr 99c fy1819 till \n",
        "          31012021 2 tax audit fy201920 till 31032021. covid vaccine live updates india covid19 \n",
        "          caseload crosses 99 lakh economic times.''',\n",
        "\n",
        "          '''by health ministry india corona update india last 24 hour 9906165 total cases \n",
        "          143709 total death 354 total death 24 hour 22065 new case 339820 total active cases \n",
        "          9422636 total patient recover recovery rate 9511 total test 1555 crore 1mpop 112224. \n",
        "          modi govt report card 2020 january modi sleep february modi sleep march trump april \n",
        "          corona may lockdown june ramayan july mahabharat august unlock sep sushantsingh r oct \n",
        "          riya nov drugs dec kisan. back public demand got overwhelming response last time free \n",
        "          rtpcr testing camp conducted mumbai another free testing camp covid19 time additional \n",
        "          facility home visit nominal charge rs 100. yes still doesbut guess better drinking bat \n",
        "          urine wuhan wet food martkets amp making love bat right rest say history world endure \n",
        "          due adventurous chinachina needs learn keep excitement self control.''',\n",
        "\n",
        "          '''anna aduguthunnadi avakasam support try to help me it may help you truly can help \n",
        "          if needed can enquiry aboutme that i'm eligible for help or to corona effect worst \n",
        "          financial need help truly and a beautiful opportunity patty jenkins an actor's director \n",
        "          'wonder woman 1984' star chris pine - coronavirus updates corona live tracker corona \n",
        "          outbreak  coronavirus  coronavirus updates  covid-19  covid-19 tracker  covid19 outbreak \n",
        "          latest news  top india news- news18 '.but willing to talk'  rajnath singh says agri \n",
        "          reforms in farmers' best interest  no question of 'retrograde' steps - coronavirus updates \n",
        "          corona live tracker  corona outbreak  coronavirus  coronavirus updates  covid-19  covid-19 \n",
        "          tracker  covid19 outbr apprise about steps taken so far by commission for air quality \n",
        "          management  sc to centre - coronavirus updates corona live tracker  corona outbreak''',\n",
        "#         texrank\n",
        "          '''coronavirus  coronavirus updates  covid-19  covid-19 tracker  covid19 outbreak  latest \n",
        "          news top india new news18 afternoon digest  kejriwal slams amarinder amid farmers' protest \n",
        "          iit-m becomes covid hotspot and other top stories - coronavirus updates corona live tracker \n",
        "          corona outbreak  coronavirus  coronavirus updates  covid-19  covid-19 tracker  covid19 o \n",
        "          14-year-old mp girl raped after father sells her to rajasthan man for for rs 4 lakh - \n",
        "          coronavirus updates corona live tracker  corona outbreak  coronavirus  coronavirus updates \n",
        "          covid-19  covid-19 tracker  covid19 outbreak  latest news  top india news- n national \n",
        "          energy conservation day 2020  date  history and significance - coronavirus updates corona \n",
        "          live tracker  corona outbreak  coronavirus  coronavirus updates  covid-19  covid-19 tracker \n",
        "          covid19 outbreak  latest news  top india news- dear bangalakshmi teesta results to be \n",
        "          declared at 4pm at''',\n",
        "         \n",
        "          '''coronavirus updates corona live tracker  corona outbreak  coronavirus \n",
        "          coronavirus updates  covid-19  covid-19 tracker  covid19 outbreak  latest news  top india \n",
        "          news- iit-madras becomes covid-19 hotspot with 71 cases  sole food mess turns into 'recipe \n",
        "          for disaster' - coronavirus updates corona live tracker  corona outbreak  coronavirus \n",
        "          coronavirus updates  covid-19  covid-19 tracker  covid19 outbreak  latest news  to rupee \n",
        "          rises 5 paise to against us dollar in early trade - coronavirus updates corona live tracker \n",
        "          corona outbreak  coronavirus  coronavirus updates  covid-19  covid-19 tracker  covid19 \n",
        "          outbreak latest news  top india news- support is  today fight corona together all safety \n",
        "          rules beat  advani yaa bro bus 5 min mil paya bcz of corona pandemic hope jaldi milu after \n",
        "          this msmes have been hit much harder than the corporates due to corona.''',\n",
        "\n",
        "          '''india covid tally reaches 448820 new cases 327071. reports 122065 new cases 92218 deaths \n",
        "          last 24 hours india total cases rise 188371040 active cases country stand 582180 covid death \n",
        "          toll goes 247731. canada follows us  lead administers first vaccine shots health workers.'tukde\n",
        "          tukde gang freedom want azadi again. arogya setu best application technology fight covid word\n",
        "          learn india. modi modi modi''',\n",
        "#         lsa\n",
        "          '''reports 27071 new cases 336 deaths last 24 hours india total cases rise 9884100 active \n",
        "          cases country stand 352586 covid death toll goes 143355. sir loan ony head 2 kids money \n",
        "          even eat food bank people behind rent tough life ca nt see kids stage please help lost \n",
        "          job husband due covid one even call home please help least pay loan. tamil nadu update today \n",
        "          december 14. covid updates dec 14 total corona positives tn crossed eight lakh today 800029 \n",
        "          1203 covid patients discharged till today total 778081 active cases stands 10038 new cases \n",
        "          across tn 1141 new cases chennai343 deaths14 11909. financially immune fight corona corona \n",
        "          kavach insurance.''',\n",
        "         \n",
        "          '''india covid tally reaches 9884100 new cases 27071. reports 22065 new cases 354 deaths last \n",
        "          24 hours india total cases rise 9906165 active cases country stand 339820 covid death toll goes 143709.\n",
        "          canada follows us  lead administers first vaccine shots health workers. three black ordinances covid 19. \n",
        "          india records 22065 new covid19 cases 354 deaths last 24 hours samples tested 993665. covid death toll \n",
        "          mounts 143709 active cases 339820. breaking winter session parliament called due covid19. meanwhile \n",
        "          libbies their babies frustrated. farm bill passed covid mid session someone tell kisaan ki chinta \n",
        "          thi kisaan comes first.''',\n",
        "         \n",
        "          '''first five months india daily covid19 case count fell 23000 according union health ministry data \n",
        "          updated tuesday morning national recovery rate stood 95. election covid rallies covid farm bill \n",
        "          covid question time covid. fortis escort okhla 1512 2020 ews occupid total 1531 covid critical 0001 \n",
        "          non covid critical 0908 covid gb 00 09 non covid gb 0613 10 ews covid beds lying vacant. jampk reports \n",
        "          346 new covid19 cases total 116600. election rallies covid special parliament session covid hyderabad \n",
        "          election covid winter sessions omg covid winter session cancelled waah modi g waah..'''\n",
        "          ]\n",
        "\n",
        "reference = [          \n",
        "          \"About 4.4 million new cases reported this week globally. All regions reported \\\n",
        "          a decline in new cases. The Western Pacific Region reported a 7% increase in \\\n",
        "          new cases. The number of deaths reported globally were over 67000. The Eastern \\\n",
        "          Mediterranean and Western Pacific Regions reported 9% and 16% increase in deaths. \\\n",
        "          The South-East Asia Region reported 20% decrease in deaths. The cumulative number \\\n",
        "          of cases reported globally is nearly 216 million and the cumulative number of \\\n",
        "          deaths is just under 4.5 million.\",\n",
        "          \n",
        "          \"About 5.2 million new cases reported this week globally. All regions reported \\\n",
        "          a decline in new cases. Northern India reported a 12% increase in \\\n",
        "          new cases. The number of deaths reported globally were over 78000. \\\n",
        "          As of 31 December, India has tested more than 522 million samples and cases per \\\n",
        "          million is 22,854. Till date 498,115 confirmed deaths have occured due to \\\n",
        "          COVID-19, and deaths per million is 304. Total number of recovered patients \\\n",
        "          are 823,200. In the past 24 hours, 22,07,010 first doses and 9,07,686 final \\\n",
        "          doses were given. Total vaccinated count reached 25,10,825.\"\n",
        "\n",
        "          \"In the past 24 hours, 25,467 confirmed COVID-19 cases have been reported. \\\n",
        "          The highest number of cases in a day were 4,14,188; reported on 7th May 2021. \\\n",
        "          As of 7th August, India has tested more than 508 million samples and cases per \\\n",
        "          million is 22,854. Till date 438,650 confirmed deaths have occured due to \\\n",
        "          COVID-19, and deaths per million is 304. Total number of recovered patients \\\n",
        "          are 823,200. In the past 24 hours, 22,07,010 first doses and 9,07,686 final \\\n",
        "          doses were given. Total vaccinated count reached 23,81,358. Union Minister \\\n",
        "          of Health and Family Welfare and Chemicals & Fertilizers, released the first \\\n",
        "          commercial batch of COVAXIN in India.\",\n",
        "          ]"
      ],
      "metadata": {
        "cellView": "code",
        "id": "5tcQS63s2e8z"
      },
      "execution_count": null,
      "outputs": []
    },
    {
      "cell_type": "markdown",
      "metadata": {
        "id": "_UD5Lmzo4TSy"
      },
      "source": [
        "##### **Important terms**\n",
        "\n",
        "*Reference:* The reference is a human-made best-case output — so for automated summarization it would be a human-made summary of our input text. For machine translation, it would be a professional translation of our input text.\n",
        "\n",
        "*N-gram:* An n-gram is a group of n tokens/words, that we choose to divide our texts in. For the sentence _\"the quick brown fox jumps over\"_, unigrams would be _['the', 'quick', 'brown', 'fox', 'jumps', 'over']_ and Bigrams would be _['the quick', 'quick brown', 'brown fox', 'fox jumps', 'jumps over']_, and so on.\n"
      ]
    },
    {
      "cell_type": "markdown",
      "metadata": {
        "id": "pGXQeZuK3SRL"
      },
      "source": [
        "##### 1. ROUGE-N"
      ]
    },
    {
      "cell_type": "code",
      "execution_count": null,
      "metadata": {
        "id": "JRUoOAiOZqP3"
      },
      "outputs": [],
      "source": [
        "#@title 1. ROUGE-N\n",
        "\n",
        "#@markdown With ROUGE-N, the N represents the n-gram that we are using. For ROUGE-1 we would be measuring the match-rate of unigrams between our model output and reference. ROUGE-2 and ROUGE-3 would use bigrams and trigrams respectively.\n",
        "\n",
        "#@markdown Once we have decided which N to use — we then calculate the ROUGE recall, precision, or F1 score.\n"
      ]
    },
    {
      "cell_type": "code",
      "execution_count": null,
      "metadata": {
        "id": "-mHR8bi87mVO"
      },
      "outputs": [],
      "source": [
        "#@title Recall\n",
        "#@markdown Rouge recall score is the fraction of n-grams found in both the model output and reference to the total number of n-grams in the reference.\n",
        "\n",
        "#@markdown \\begin{align} \\operatorname{rouge-N}_{recall} = \\frac{\\operatorname{n-grams}_{model} ∩ \\operatorname{n-grams}_{ref}}{\\operatorname{n-grams}_{ref}} \\end{align}\n",
        "\n",
        "#@markdown ![](https://miro.medium.com/max/573/1*ukAN98eFglZIL8S0GEnysQ.png)\n",
        "\n"
      ]
    },
    {
      "cell_type": "code",
      "execution_count": null,
      "metadata": {
        "id": "ohE1mODLtTKx"
      },
      "outputs": [],
      "source": [
        "#@title Precision\n",
        "#@markdown Rouge Precision-score is the fraction of n-grams found in both the model output and reference to the total number of n-grams in the model. \n",
        "\n",
        "#@markdown \\begin{align} \\operatorname{rouge-N}_{precision} = \\frac{\\operatorname{n-grams}_{model} ∩ \\operatorname{n-grams}_{ref}}{\\operatorname{n-grams}_{model}} \\end{align}\n",
        "\n",
        "#@markdown ![](https://miro.medium.com/max/573/1*8Du8ThhWqVFAX7YK6zSFyw.png)\n",
        "\n"
      ]
    },
    {
      "cell_type": "code",
      "execution_count": null,
      "metadata": {
        "id": "0sfON4xjte85"
      },
      "outputs": [],
      "source": [
        "#@title F1-score\n",
        "#@markdown Rouge F1-score is computed the same way as normal F1-score\n",
        "\n",
        "#@markdown  \\begin{align} \\operatorname{rouge-N}_{f_1} = 2*\\frac{precision*recall}{precision+recall} \\end{align}\n",
        "\n",
        "#@markdown ![](https://miro.medium.com/max/573/1*Fd0euidpCjrngTdJa4RZsA.png)\n",
        "\n"
      ]
    },
    {
      "cell_type": "markdown",
      "metadata": {
        "id": "nBS70XAI5YRD"
      },
      "source": [
        "##### 2. ROUGE-L"
      ]
    },
    {
      "cell_type": "code",
      "execution_count": null,
      "metadata": {
        "id": "4gUmYnkhOlpE"
      },
      "outputs": [],
      "source": [
        "#@title 2. ROUGE-L (R-L)\n",
        "#@markdown ROUGE-L measures the longest common subsequence (LCS) between our model output and reference. We count the longest sequence of tokens that is shared between both.\n",
        "#@markdown The idea here is that a longer shared sequence would indicate more similarity between the two sequences.\n",
        "\n",
        "#@markdown ![](https://miro.medium.com/max/573/1*75pRQKLGPE74QYQf342qDg.png)\n",
        "#@markdown ![](https://miro.medium.com/max/573/1*E9NapTGfUSpMr5sWKEijVg.png)\n",
        "#@markdown ![](https://miro.medium.com/max/573/1*7HrXtiyngYMrg-YMek4qUw.png)\n",
        "\n"
      ]
    },
    {
      "cell_type": "markdown",
      "metadata": {
        "id": "2-qG9zdc5xg4"
      },
      "source": [
        "##### 3. ROUGE-W"
      ]
    },
    {
      "cell_type": "code",
      "execution_count": null,
      "metadata": {
        "id": "DLtUjZlKPXTz"
      },
      "outputs": [],
      "source": [
        "#@title 3. ROUGE-W\n",
        "#@markdown ROUGE-W determines the weighted longest standard sub-sequence, which is an enhancement of the LCS.\n",
        "#@markdown "
      ]
    },
    {
      "cell_type": "markdown",
      "metadata": {
        "id": "B3kAr9Rb50Hi"
      },
      "source": [
        "##### 4. ROUGE-S"
      ]
    },
    {
      "cell_type": "code",
      "execution_count": null,
      "metadata": {
        "id": "ORECAo9JPYy8"
      },
      "outputs": [],
      "source": [
        "#@title 4. ROUGE-S\n",
        "#@markdown ROUGE-S (Skip-N-gram co-occurrence statistics) measures the percentage of skip n-grams shared between the system and reference summaries.\n",
        "#@markdown Skip-grams are consecutive words from the reference, that appear in the model output but are separated by one-or-more other words.\n",
        "#@markdown This is logical as a good model would look for the tokens in different contexts and not only as present in the reference.\n",
        "\n",
        "#@markdown ![](https://miro.medium.com/max/573/1*bQucZ_cJXveAcLVXz0j-zA.png)\n",
        "#@markdown ![](https://miro.medium.com/max/573/1*g-Ucb9QosEBkRI0Jv31ZPQ.png)\n",
        "\n",
        "#@markdown In the above example it is evident why Rouge-S is a better metric to see how well the model captures information\n",
        "\n"
      ]
    },
    {
      "cell_type": "markdown",
      "metadata": {
        "id": "jF7HcqMd52vM"
      },
      "source": [
        "##### 5. ROUGE-SU*"
      ]
    },
    {
      "cell_type": "code",
      "execution_count": null,
      "metadata": {
        "id": "_4pZmnrpPSc5"
      },
      "outputs": [],
      "source": [
        "#@title 5. ROUGE-SU*\n",
        "#@markdown ROUGE-SU is extended by employing skip-bi-grams and a uni-gram as a measuring unit, a weighted average of ROUGE-S and ROUGE-N. These metrics allow bi-grams to be made up of non-adjacent words with a maximum of n-words between them [16].\n",
        "\n",
        "#@markdown ROUGE-SU4 has been shown to best approximate human-assigned scores of summaries.\n",
        "#@markdown It employs N=4\n"
      ]
    },
    {
      "cell_type": "markdown",
      "source": [
        "##### ROUGE-SU4"
      ],
      "metadata": {
        "id": "9Aaml8xTU9_l"
      }
    },
    {
      "cell_type": "code",
      "source": [
        "def ROUGE1(s_predict,s_true):\n",
        "  match_gram = 0\n",
        "  all_gram = 0\n",
        "  for j,word in enumerate(s_predict):\n",
        "    if word in s_true:\n",
        "      match_gram+=1\n",
        "  all_gram += len(s_true)\n",
        "\n",
        "  #print \"match_gram is:\",match_gram\n",
        "  #print \"all_gram is:\",all_gram\n",
        "  predict_all_gram+=((len(s_predict)-5)*5+9)\n",
        "  true_all_gram+=((len(s_true)-5)*5+9)\n",
        "\n",
        "  predict_all_gram+=all_gram\n",
        "  true_all_gram+=all_gram\n",
        "  R = match_gram*1.0/true_all_gram\n",
        "  P = match_gram*1.0/predict_all_gram\n",
        "  F = (1+beta*beta)*1.0*P*R/(R+(beta*beta*P))\n",
        "  print(\"R is:\",R)\n",
        "  print(\"P is:\",P)\n",
        "  print(\"F is:\",F)\n",
        "  return R,P,F\n",
        "\n",
        "  return match_gram*1.0/all_gram\n",
        "\n",
        "def ROUGE1_character_based(list_predict,list_true):\n",
        "  match_gram = 0\n",
        "  all_gram = 0\n",
        "  for i,s_predict in enumerate(list_predict):\n",
        "    s_true = list_true[i]\n",
        "    #s_predict = s_predict.decode(\"utf8\")\n",
        "    #s_true = list_true[i].decode(\"utf8\")\n",
        "    for j,word in enumerate(s_predict):\n",
        "      if word in s_true:\n",
        "        match_gram+=1\n",
        "    all_gram += len(s_true)\n",
        "  #print \"match_gram is:\",match_gram\n",
        "  #print \"all_gram is:\",all_gram\n",
        "\n",
        "  return match_gram*1.0/all_gram\n",
        "\n",
        "def ROUGE2_character_based(list_predict,list_true):\n",
        "  match_gram = 0\n",
        "  all_gram = 0\n",
        "  for i,s_predict in enumerate(list_predict):\n",
        "    s_true = list_true[i]\n",
        "    #s_predict = s_predict.decode(\"utf8\")\n",
        "    #s_true = list_true[i].decode(\"utf8\")\n",
        "    for j,word in enumerate(s_predict):\n",
        "      if j > 0:\n",
        "        for k,true_word in enumerate(s_true):\n",
        "          if k > 0:\n",
        "            if word==true_word and s_predict[j-1] == s_true[k-1]:\n",
        "              match_gram+=1\n",
        "              break\n",
        "    all_gram += len(s_true)-1\n",
        "  #print \"match_gram is:\",match_gram\n",
        "  #print \"all_gram is:\",all_gram\n",
        "\n",
        "  return match_gram*1.0/all_gram\n",
        "\n",
        "\n",
        "def ROUGE_SU4(list_predict,list_true,beta):\n",
        "  match_gram = 0\n",
        "  all_gram = 0\n",
        "  for i,s_predict in enumerate(list_predict):\n",
        "    #s_predict = s_predict.decode(\"utf8\")\n",
        "    #s_true = list_true[i].decode(\"utf8\")\n",
        "    s_true = list_true[i]\n",
        "    for j,word in enumerate(s_predict):\n",
        "      if word in s_true:\n",
        "        match_gram+=1\n",
        "    all_gram += len(s_true)\n",
        "\n",
        "  for i,s_predict in enumerate(list_predict):\n",
        "    #s_predict = s_predict.decode(\"utf8\")\n",
        "    #s_true = list_true[i].decode(\"utf8\")\n",
        "    s_true = list_true[i]\n",
        "    for j,word in enumerate(s_predict):\n",
        "      for k in range(1,6):\n",
        "        flag = 0\n",
        "        if j+k<len(s_predict):\n",
        "          for m,true_word in enumerate(s_true):\n",
        "            if flag == 1:\n",
        "              break\n",
        "            for n in range(1,6):\n",
        "              if m+n < len(s_true):\n",
        "                if word==true_word and s_predict[j+k] == s_true[m+n]:\n",
        "                  match_gram += 1\n",
        "                  flag = 1\n",
        "                  break\n",
        "\n",
        "  predict_all_gram = 0\n",
        "  true_all_gram = 0\n",
        "\n",
        "  for i,s_predict in enumerate(list_predict):\n",
        "    #s_predict = s_predict.decode(\"utf8\")\n",
        "    #s_true = list_true[i].decode(\"utf8\")\n",
        "    s_true = list_true[i]\n",
        "    predict_all_gram+=((len(s_predict)-5)*5+9)\n",
        "    true_all_gram+=((len(s_true)-5)*5+9)\n",
        "\n",
        "  predict_all_gram+=all_gram\n",
        "  true_all_gram+=all_gram\n",
        "  R = match_gram*1.0/true_all_gram\n",
        "  P = match_gram*1.0/predict_all_gram\n",
        "  F = (1+beta*beta)*1.0*P*R/(R+(beta*beta*P))\n",
        "  print(\"R is:\",R)\n",
        "  print(\"P is:\",P)\n",
        "  print(\"F is:\",F)\n",
        "  return R,P,F\n",
        "\n",
        "\n",
        "#list_predict = [\"我是正确的摘要其他的都是假的\",\"杨志烨无敌\"]\n",
        "#list_true = [\"我是不对的摘要哈哈哈假的\",\"基本无敌吧\"]\n",
        "#print(ROUGE1_character_based(list_predict,list_true))\n",
        "#print(ROUGE2_character_based(list_predict,list_true))\n",
        "#print(ROUGE_SU4(list_predict,list_true,1))\n",
        "\n",
        "#print(ROUGE1_character_based(model[2],reference[0]))\n",
        "#print(ROUGE2_character_based(model[2],reference[0]))\n",
        "#print(ROUGE_SU4(model[2],reference[0],1))\n",
        "#print(ROUGE1(model[2],reference[0]))"
      ],
      "metadata": {
        "colab": {
          "base_uri": "https://localhost:8080/"
        },
        "id": "jbnyEeC-U7gj",
        "outputId": "343fddbe-07c8-42bf-bed9-87880df54f95"
      },
      "execution_count": null,
      "outputs": [
        {
          "output_type": "execute_result",
          "data": {
            "text/plain": [
              "0.3333333333333333"
            ]
          },
          "metadata": {},
          "execution_count": 29
        }
      ]
    },
    {
      "cell_type": "markdown",
      "source": [
        "#### ROUGE Library"
      ],
      "metadata": {
        "id": "pfjji8bYjRTn"
      }
    },
    {
      "cell_type": "code",
      "execution_count": null,
      "metadata": {
        "id": "n8_DkEV273P_",
        "colab": {
          "base_uri": "https://localhost:8080/"
        },
        "outputId": "8b5f554b-a37c-4cdc-b5c5-3ba76fd46d6b"
      },
      "outputs": [
        {
          "output_type": "stream",
          "name": "stdout",
          "text": [
            "\u001b[K     |████████████████████████████████| 87 kB 3.5 MB/s \n",
            "\u001b[K     |████████████████████████████████| 10.1 MB 26.3 MB/s \n",
            "\u001b[?25h  Building wheel for breadability (setup.py) ... \u001b[?25l\u001b[?25hdone\n",
            "  Building wheel for pycountry (setup.py) ... \u001b[?25l\u001b[?25hdone\n"
          ]
        }
      ],
      "source": [
        "!pip -q install rouge\n",
        "!pip -q install sumy"
      ]
    },
    {
      "cell_type": "markdown",
      "source": [
        "# EVALUATION USING ROUGE.py"
      ],
      "metadata": {
        "id": "-_IN1IgLkyjd"
      }
    },
    {
      "cell_type": "code",
      "execution_count": null,
      "metadata": {
        "id": "UuxZKxwqw6En",
        "colab": {
          "base_uri": "https://localhost:8080/"
        },
        "outputId": "2410ce46-b486-49f5-f791-c1154651626f"
      },
      "outputs": [
        {
          "output_type": "stream",
          "name": "stdout",
          "text": [
            "WEEK  0 ------------------------------------------------\n",
            "global cues strong dow fut 150 pts investors weighing updates covid19 \n",
            "          vaccine rollout well coronavirus stimulus stalemate washington japan 176 pts \n",
            "          hangseng 16 pts sgx nifty 48 pts brent crude hovers 50. sir please delay boards \n",
            "          able study situation online classes waste tuition due covid19 hence question \n",
            "          self study sir delay bords asking promotion without exam please sir. reports \n",
            "          27071 new cases 336 deaths last 24 hours india total cases rise 9884100 active \n",
            "          cases country stand 352586 covid death toll goes 143355. sir loan ony head 2 \n",
            "          kids money even eat food bank people behind rent tough life ca nt see kids \n",
            "          stage please help lost job husband due covid one even call home please help \n",
            "          least pay loan.\n",
            "rouge-1\n",
            "r 0.10010540322120508\n",
            "p 0.09429557764041718\n",
            "f 0.10451795377388426\n",
            "\n",
            "rouge-2\n",
            "r 0.05283596228615173\n",
            "p 0.057574796060696924\n",
            "f 0.045998692024717014\n",
            "\n",
            "rouge-l\n",
            "r 0.10477766848662079\n",
            "p 0.09111038567460863\n",
            "f 0.09233723352769235\n",
            "\n",
            "needs undertaken designated public health authority district rapid reaction \n",
            "          team rrt treating physician accordingly advice shall made regarding management \n",
            "          cases contacts need 34. clusters gt15 cases appear office essential principles \n",
            "          risk assessment isolation amp quarantine contacts case referral management \n",
            "          remain however scale arrangements higher either case risk assessment 24. \n",
            "          falling sick nt problem became covid mildhigh fever cold amp cough bound happen \n",
            "          thereafter depends immune system fast recover. due ongoing covid19 many tax \n",
            "          professionals across india covid positive requested kindly extend due date \n",
            "          gstr99c gst returns atleast 31032020. every state worked towards increasing \n",
            "          number covid tests tmc govt intentionally kept tests low hide reality deaths \n",
            "          11th dec 2020 west bengal stands 33rd position across states tests per million \n",
            "          count mere 65426. thermo king part irelandbased trane technologies made necessary \n",
            "          alterations added additional insulation adjusting refrigeration system tuna \n",
            "          shipping containers could get even colder.\n",
            "rouge-1\n",
            "r 0.1706178259593247\n",
            "p 0.12360567254259151\n",
            "f 0.14040398268740611\n",
            "\n",
            "rouge-2\n",
            "r 0.0692260779938866\n",
            "p 0.059948570296156425\n",
            "f 0.06391732207268033\n",
            "\n",
            "rouge-l\n",
            "r 0.15840134402084893\n",
            "p 0.11492506707139954\n",
            "f 0.12422547360712229\n",
            "\n",
            "covid india samples testing 154566990 total december 13 2020 855157 december \n",
            "          13 2020 positivity today 316 amp till date 639 cases 9884100 today 27071. bb sir \n",
            "          aap jab covid hue tab apne aur apki family ne situation ko kaise tackle kiya abhi \n",
            "          bhi bht log hai jo covid ko srsly nahi le rahe hai aur bina kaam bahar ghum rahe \n",
            "          haiunke liye msg btw videos inspire us.\n",
            "          313 lakh people paid rs 1841 crores fine wearing face masks public places ahmedabad \n",
            "          gujarat since outbreak covid19 1400 police personnel contracted covid19 amp 13 died \n",
            "          harshad patel dcp traffic control ahmedabad 1412. covid19 google eyeing flexible work \n",
            "          week delays office return business standard covid19 google eyeing flexible work week \n",
            "          delays office return business standardgoogle extends work home eyes flexible work \n",
            "          week report mintgoogle.\n",
            "rouge-1\n",
            "r 0.08796644384143787\n",
            "p 0.08544533970871802\n",
            "f 0.09596206224816463\n",
            "\n",
            "rouge-2\n",
            "r 0.06244611566937458\n",
            "p 0.06653478876562306\n",
            "f 0.05421341960979059\n",
            "\n",
            "rouge-l\n",
            "r 0.0902117849886161\n",
            "p 0.07779522651443092\n",
            "f 0.09526138114124516\n",
            "\n",
            "india updates  active cases fall 17th straight day fall last 24 hrs highest one \n",
            "          week additions total cases 22065 vs recoveries 34477 total additions lowest since \n",
            "          july 8 positivity rate slips 35 recovery rate rises 95. scrap dealer delhi moderna \n",
            "          covid19 vaccine documents accessed ema cyberattack reuters india moderna covid19 \n",
            "          vaccine documents accessed ema cyberattack reuters india singapore approves pfizer \n",
            "          covid vaccine. justice ashok bhushan led bench shortly deliver judgment appeal kerala \n",
            "          hc order prohibiting doctors advertising prescribing medicines cure covid19 except \n",
            "          centre advisory march 6 2020. already whole year spent stress either due covid due \n",
            "          work stress madam kindly extend due dates scattered manner 1 gstr 99c fy1819 till \n",
            "          31012021 2 tax audit fy201920 till 31032021. covid vaccine live updates india covid19 \n",
            "          caseload crosses 99 lakh economic times.\n",
            "rouge-1\n",
            "r 0.11513838925776809\n",
            "p 0.09446357597651156\n",
            "f 0.09726407821046118\n",
            "\n",
            "rouge-2\n",
            "r 0.03520456811086505\n",
            "p 0.03208782745096996\n",
            "f 0.033391109940796714\n",
            "\n",
            "rouge-l\n",
            "r 0.09261240916877214\n",
            "p 0.07365917764873564\n",
            "f 0.09436273949410293\n",
            "\n",
            "by health ministry india corona update india last 24 hour 9906165 total cases \n",
            "          143709 total death 354 total death 24 hour 22065 new case 339820 total active cases \n",
            "          9422636 total patient recover recovery rate 9511 total test 1555 crore 1mpop 112224. \n",
            "          modi govt report card 2020 january modi sleep february modi sleep march trump april \n",
            "          corona may lockdown june ramayan july mahabharat august unlock sep sushantsingh r oct \n",
            "          riya nov drugs dec kisan. back public demand got overwhelming response last time free \n",
            "          rtpcr testing camp conducted mumbai another free testing camp covid19 time additional \n",
            "          facility home visit nominal charge rs 100. yes still doesbut guess better drinking bat \n",
            "          urine wuhan wet food martkets amp making love bat right rest say history world endure \n",
            "          due adventurous chinachina needs learn keep excitement self control.\n",
            "rouge-1\n",
            "r 0.09515221192228497\n",
            "p 0.07774038016187809\n",
            "f 0.08668015576071969\n",
            "\n",
            "rouge-2\n",
            "r 0.05314119468723859\n",
            "p 0.03717392104828815\n",
            "f 0.05263734029821092\n",
            "\n",
            "rouge-l\n",
            "r 0.07767583886986763\n",
            "p 0.0633532514449417\n",
            "f 0.0794195835690008\n",
            "\n",
            "WEEK  1 ------------------------------------------------\n",
            "global cues strong dow fut 150 pts investors weighing updates covid19 \n",
            "          vaccine rollout well coronavirus stimulus stalemate washington japan 176 pts \n",
            "          hangseng 16 pts sgx nifty 48 pts brent crude hovers 50. sir please delay boards \n",
            "          able study situation online classes waste tuition due covid19 hence question \n",
            "          self study sir delay bords asking promotion without exam please sir. reports \n",
            "          27071 new cases 336 deaths last 24 hours india total cases rise 9884100 active \n",
            "          cases country stand 352586 covid death toll goes 143355. sir loan ony head 2 \n",
            "          kids money even eat food bank people behind rent tough life ca nt see kids \n",
            "          stage please help lost job husband due covid one even call home please help \n",
            "          least pay loan.\n",
            "rouge-1\n",
            "r 0.1179921776725261\n",
            "p 0.07802612139399091\n",
            "f 0.10565307111722236\n",
            "\n",
            "rouge-2\n",
            "r 0.07018975169606043\n",
            "p 0.05554163545393079\n",
            "f 0.07254087828546567\n",
            "\n",
            "rouge-l\n",
            "r 0.11817485099591576\n",
            "p 0.08473377715569627\n",
            "f 0.0983254195654645\n",
            "\n",
            "needs undertaken designated public health authority district rapid reaction \n",
            "          team rrt treating physician accordingly advice shall made regarding management \n",
            "          cases contacts need 34. clusters gt15 cases appear office essential principles \n",
            "          risk assessment isolation amp quarantine contacts case referral management \n",
            "          remain however scale arrangements higher either case risk assessment 24. \n",
            "          falling sick nt problem became covid mildhigh fever cold amp cough bound happen \n",
            "          thereafter depends immune system fast recover. due ongoing covid19 many tax \n",
            "          professionals across india covid positive requested kindly extend due date \n",
            "          gstr99c gst returns atleast 31032020. every state worked towards increasing \n",
            "          number covid tests tmc govt intentionally kept tests low hide reality deaths \n",
            "          11th dec 2020 west bengal stands 33rd position across states tests per million \n",
            "          count mere 65426. thermo king part irelandbased trane technologies made necessary \n",
            "          alterations added additional insulation adjusting refrigeration system tuna \n",
            "          shipping containers could get even colder.\n",
            "rouge-1\n",
            "r 0.13536659458196146\n",
            "p 0.08716166508506186\n",
            "f 0.10629310075687248\n",
            "\n",
            "rouge-2\n",
            "r 0.04772561193168639\n",
            "p 0.05742950072441117\n",
            "f 0.0501062351939432\n",
            "\n",
            "rouge-l\n",
            "r 0.14003399181719287\n",
            "p 0.08040255090183067\n",
            "f 0.09662497947732189\n",
            "\n",
            "covid india samples testing 154566990 total december 13 2020 855157 december \n",
            "          13 2020 positivity today 316 amp till date 639 cases 9884100 today 27071. bb sir \n",
            "          aap jab covid hue tab apne aur apki family ne situation ko kaise tackle kiya abhi \n",
            "          bhi bht log hai jo covid ko srsly nahi le rahe hai aur bina kaam bahar ghum rahe \n",
            "          haiunke liye msg btw videos inspire us.\n",
            "          313 lakh people paid rs 1841 crores fine wearing face masks public places ahmedabad \n",
            "          gujarat since outbreak covid19 1400 police personnel contracted covid19 amp 13 died \n",
            "          harshad patel dcp traffic control ahmedabad 1412. covid19 google eyeing flexible work \n",
            "          week delays office return business standard covid19 google eyeing flexible work week \n",
            "          delays office return business standardgoogle extends work home eyes flexible work \n",
            "          week report mintgoogle.\n",
            "rouge-1\n",
            "r 0.09162075258338778\n",
            "p 0.0691047222033968\n",
            "f 0.08216050507358184\n",
            "\n",
            "rouge-2\n",
            "r 0.04794840524205365\n",
            "p 0.053353198479533306\n",
            "f 0.04375890741748359\n",
            "\n",
            "rouge-l\n",
            "r 0.0884515888507049\n",
            "p 0.06155495238062735\n",
            "f 0.06733096460555162\n",
            "\n",
            "india updates  active cases fall 17th straight day fall last 24 hrs highest one \n",
            "          week additions total cases 22065 vs recoveries 34477 total additions lowest since \n",
            "          july 8 positivity rate slips 35 recovery rate rises 95. scrap dealer delhi moderna \n",
            "          covid19 vaccine documents accessed ema cyberattack reuters india moderna covid19 \n",
            "          vaccine documents accessed ema cyberattack reuters india singapore approves pfizer \n",
            "          covid vaccine. justice ashok bhushan led bench shortly deliver judgment appeal kerala \n",
            "          hc order prohibiting doctors advertising prescribing medicines cure covid19 except \n",
            "          centre advisory march 6 2020. already whole year spent stress either due covid due \n",
            "          work stress madam kindly extend due dates scattered manner 1 gstr 99c fy1819 till \n",
            "          31012021 2 tax audit fy201920 till 31032021. covid vaccine live updates india covid19 \n",
            "          caseload crosses 99 lakh economic times.\n",
            "rouge-1\n",
            "r 0.10463121032285405\n",
            "p 0.08063203016315108\n",
            "f 0.0794193980067109\n",
            "\n",
            "rouge-2\n",
            "r 0.052863191098752454\n",
            "p 0.059690015522864986\n",
            "f 0.04995067284184078\n",
            "\n",
            "rouge-l\n",
            "r 0.09294262111012745\n",
            "p 0.06930973918681778\n",
            "f 0.08293000270348222\n",
            "\n",
            "by health ministry india corona update india last 24 hour 9906165 total cases \n",
            "          143709 total death 354 total death 24 hour 22065 new case 339820 total active cases \n",
            "          9422636 total patient recover recovery rate 9511 total test 1555 crore 1mpop 112224. \n",
            "          modi govt report card 2020 january modi sleep february modi sleep march trump april \n",
            "          corona may lockdown june ramayan july mahabharat august unlock sep sushantsingh r oct \n",
            "          riya nov drugs dec kisan. back public demand got overwhelming response last time free \n",
            "          rtpcr testing camp conducted mumbai another free testing camp covid19 time additional \n",
            "          facility home visit nominal charge rs 100. yes still doesbut guess better drinking bat \n",
            "          urine wuhan wet food martkets amp making love bat right rest say history world endure \n",
            "          due adventurous chinachina needs learn keep excitement self control.\n",
            "rouge-1\n",
            "r 0.09190779145559579\n",
            "p 0.07163850362763569\n",
            "f 0.06707757980775567\n",
            "\n",
            "rouge-2\n",
            "r 0.049134106804931826\n",
            "p 0.0492042916460276\n",
            "f 0.060505348067556676\n",
            "\n",
            "rouge-l\n",
            "r 0.08827465408102123\n",
            "p 0.06613811235134648\n",
            "f 0.06878499258848646\n",
            "\n",
            "WEEK  2 ------------------------------------------------\n",
            "global cues strong dow fut 150 pts investors weighing updates covid19 \n",
            "          vaccine rollout well coronavirus stimulus stalemate washington japan 176 pts \n",
            "          hangseng 16 pts sgx nifty 48 pts brent crude hovers 50. sir please delay boards \n",
            "          able study situation online classes waste tuition due covid19 hence question \n",
            "          self study sir delay bords asking promotion without exam please sir. reports \n",
            "          27071 new cases 336 deaths last 24 hours india total cases rise 9884100 active \n",
            "          cases country stand 352586 covid death toll goes 143355. sir loan ony head 2 \n",
            "          kids money even eat food bank people behind rent tough life ca nt see kids \n",
            "          stage please help lost job husband due covid one even call home please help \n",
            "          least pay loan.\n",
            "rouge-1\n",
            "r 0.1287935346555148\n",
            "p 0.10451230243697554\n",
            "f 0.10865991203890024\n",
            "\n",
            "rouge-2\n",
            "r 0.07602708016703835\n",
            "p 0.05460658520753624\n",
            "f 0.054891788348447074\n",
            "\n",
            "rouge-l\n",
            "r 0.14212531650970023\n",
            "p 0.10653273768594865\n",
            "f 0.12147654031579866\n",
            "\n",
            "needs undertaken designated public health authority district rapid reaction \n",
            "          team rrt treating physician accordingly advice shall made regarding management \n",
            "          cases contacts need 34. clusters gt15 cases appear office essential principles \n",
            "          risk assessment isolation amp quarantine contacts case referral management \n",
            "          remain however scale arrangements higher either case risk assessment 24. \n",
            "          falling sick nt problem became covid mildhigh fever cold amp cough bound happen \n",
            "          thereafter depends immune system fast recover. due ongoing covid19 many tax \n",
            "          professionals across india covid positive requested kindly extend due date \n",
            "          gstr99c gst returns atleast 31032020. every state worked towards increasing \n",
            "          number covid tests tmc govt intentionally kept tests low hide reality deaths \n",
            "          11th dec 2020 west bengal stands 33rd position across states tests per million \n",
            "          count mere 65426. thermo king part irelandbased trane technologies made necessary \n",
            "          alterations added additional insulation adjusting refrigeration system tuna \n",
            "          shipping containers could get even colder.\n",
            "rouge-1\n",
            "r 0.20645893230181767\n",
            "p 0.11967659628374915\n",
            "f 0.1515050568036867\n",
            "\n",
            "rouge-2\n",
            "r 0.07264282944603125\n",
            "p 0.06329131555966606\n",
            "f 0.04999824669890129\n",
            "\n",
            "rouge-l\n",
            "r 0.17442070375187194\n",
            "p 0.11749552869848885\n",
            "f 0.12767250213942144\n",
            "\n",
            "covid india samples testing 154566990 total december 13 2020 855157 december \n",
            "          13 2020 positivity today 316 amp till date 639 cases 9884100 today 27071. bb sir \n",
            "          aap jab covid hue tab apne aur apki family ne situation ko kaise tackle kiya abhi \n",
            "          bhi bht log hai jo covid ko srsly nahi le rahe hai aur bina kaam bahar ghum rahe \n",
            "          haiunke liye msg btw videos inspire us.\n",
            "          313 lakh people paid rs 1841 crores fine wearing face masks public places ahmedabad \n",
            "          gujarat since outbreak covid19 1400 police personnel contracted covid19 amp 13 died \n",
            "          harshad patel dcp traffic control ahmedabad 1412. covid19 google eyeing flexible work \n",
            "          week delays office return business standard covid19 google eyeing flexible work week \n",
            "          delays office return business standardgoogle extends work home eyes flexible work \n",
            "          week report mintgoogle.\n",
            "rouge-1\n",
            "r 0.09382139825607\n",
            "p 0.06762768911983372\n",
            "f 0.07450441994342659\n",
            "\n",
            "rouge-2\n",
            "r 0.04867621688168033\n",
            "p 0.05230073521030391\n",
            "f 0.049274202258461935\n",
            "\n",
            "rouge-l\n",
            "r 0.0938067110962213\n",
            "p 0.08329439565869327\n",
            "f 0.0723394963180074\n",
            "\n",
            "india updates  active cases fall 17th straight day fall last 24 hrs highest one \n",
            "          week additions total cases 22065 vs recoveries 34477 total additions lowest since \n",
            "          july 8 positivity rate slips 35 recovery rate rises 95. scrap dealer delhi moderna \n",
            "          covid19 vaccine documents accessed ema cyberattack reuters india moderna covid19 \n",
            "          vaccine documents accessed ema cyberattack reuters india singapore approves pfizer \n",
            "          covid vaccine. justice ashok bhushan led bench shortly deliver judgment appeal kerala \n",
            "          hc order prohibiting doctors advertising prescribing medicines cure covid19 except \n",
            "          centre advisory march 6 2020. already whole year spent stress either due covid due \n",
            "          work stress madam kindly extend due dates scattered manner 1 gstr 99c fy1819 till \n",
            "          31012021 2 tax audit fy201920 till 31032021. covid vaccine live updates india covid19 \n",
            "          caseload crosses 99 lakh economic times.\n",
            "rouge-1\n",
            "r 0.11941940371535055\n",
            "p 0.09176356657456683\n",
            "f 0.10534533424785947\n",
            "\n",
            "rouge-2\n",
            "r 0.05891545290626762\n",
            "p 0.044602882878183044\n",
            "f 0.048792285817738215\n",
            "\n",
            "rouge-l\n",
            "r 0.1300056166342335\n",
            "p 0.08730209697170302\n",
            "f 0.1076708016562089\n",
            "\n",
            "by health ministry india corona update india last 24 hour 9906165 total cases \n",
            "          143709 total death 354 total death 24 hour 22065 new case 339820 total active cases \n",
            "          9422636 total patient recover recovery rate 9511 total test 1555 crore 1mpop 112224. \n",
            "          modi govt report card 2020 january modi sleep february modi sleep march trump april \n",
            "          corona may lockdown june ramayan july mahabharat august unlock sep sushantsingh r oct \n",
            "          riya nov drugs dec kisan. back public demand got overwhelming response last time free \n",
            "          rtpcr testing camp conducted mumbai another free testing camp covid19 time additional \n",
            "          facility home visit nominal charge rs 100. yes still doesbut guess better drinking bat \n",
            "          urine wuhan wet food martkets amp making love bat right rest say history world endure \n",
            "          due adventurous chinachina needs learn keep excitement self control.\n",
            "rouge-1\n",
            "r 0.12153820519148424\n",
            "p 0.08097981986628254\n",
            "f 0.10156598669928739\n",
            "\n",
            "rouge-2\n",
            "r 0.058065445524718186\n",
            "p 0.05122941426980334\n",
            "f 0.046727053199473796\n",
            "\n",
            "rouge-l\n",
            "r 0.10931560292729607\n",
            "p 0.07884094301005577\n",
            "f 0.09456490302735807\n",
            "\n"
          ]
        }
      ],
      "source": [
        "from rouge import Rouge\n",
        "\n",
        "def rougeScore(model_out, reference):\n",
        "  rouge = Rouge()\n",
        "  scores = rouge.get_scores(model_out, reference, avg=True)\n",
        "  for variant in scores:\n",
        "    print(variant)\n",
        "    for metric in scores[variant]:\n",
        "      print(metric, scores[variant][metric])\n",
        "    print()\n",
        "  return scores\n",
        "\n",
        "summaries=3\n",
        "methods=[\"luhn\",\"lexrank\",\"textrank\",\"lsa\"]\n",
        "summary_scores={}\n",
        "for j in range(summaries):\n",
        "  i=0\n",
        "  week_scores={}\n",
        "  print(\"WEEK \", j, \"------------------------------------------------\")\n",
        "  for each in model:\n",
        "    print(each)\n",
        "    week_scores[methods[i]]=rougeScore(each,reference[j])\n",
        "    i+=1\n",
        "    if i >= len(methods):\n",
        "      break\n",
        "  summary_scores['week'+str(j)] = week_scores"
      ]
    },
    {
      "cell_type": "markdown",
      "metadata": {
        "id": "w0WdFolu9feA"
      },
      "source": [
        "# Summarizing and Evaluating three sets of tweets"
      ]
    },
    {
      "cell_type": "code",
      "execution_count": null,
      "metadata": {
        "id": "SX4BhsXykF-z"
      },
      "outputs": [],
      "source": [
        "!pip -q install sumy"
      ]
    },
    {
      "cell_type": "code",
      "execution_count": null,
      "metadata": {
        "id": "Dq79v8jVkicm"
      },
      "outputs": [],
      "source": [
        "#file save function\n",
        "def save_summary(data,filepath):\n",
        "  with open(filepath, 'w', encoding=\"utf-8\") as fp:\n",
        "    for line in data:\n",
        "      fp.write('%s.\\n' %line)\n",
        "  fp.close()\n",
        "  print(\"Saved\", filepath, \"successfully\")\n"
      ]
    },
    {
      "cell_type": "code",
      "execution_count": null,
      "metadata": {
        "cellView": "code",
        "colab": {
          "background_save": true,
          "base_uri": "https://localhost:8080/"
        },
        "id": "BRvpMmhh9vrw",
        "outputId": "6400a472-acd0-4094-88d7-b23460356264"
      },
      "outputs": [
        {
          "name": "stdout",
          "output_type": "stream",
          "text": [
            "[nltk_data] Downloading package punkt to /root/nltk_data...\n",
            "[nltk_data]   Unzipping tokenizers/punkt.zip.\n",
            "Loaded cleaned_data/14_dec_16_dec_2020_partial.txt\n",
            "summarize 14_dec_16_dec_2020_partial.txt ? y/n \n"
          ]
        }
      ],
      "source": [
        "#@title Generate all summaries\n",
        "import pandas as pd\n",
        "from pathlib import Path\n",
        "\n",
        "from sumy.parsers.plaintext import PlaintextParser\n",
        "from sumy.nlp.tokenizers import Tokenizer\n",
        "import nltk\n",
        "nltk.download('punkt')\n",
        "\n",
        "from sumy.summarizers.lex_rank import LexRankSummarizer \n",
        "from sumy.summarizers.text_rank import TextRankSummarizer\n",
        "from sumy.summarizers.sum_basic import SumBasicSummarizer\n",
        "from sumy.summarizers.kl import KLSummarizer\n",
        "from sumy.summarizers.luhn import LuhnSummarizer\n",
        "from sumy.summarizers.lsa import LsaSummarizer\n",
        "\n",
        "names = [\"luhn\",\n",
        "         \"lsa\",\n",
        "         \"lexr\",\n",
        "         \"txtr\",\n",
        "         #\"sb\",\n",
        "         #\"kl\"\n",
        "         ]\n",
        "summarizers = [LuhnSummarizer(),\n",
        "               LsaSummarizer(),\n",
        "               LexRankSummarizer(),\n",
        "               TextRankSummarizer(),\n",
        "               #SumBasicSummarizer(),\n",
        "               #KLSummarizer()\n",
        "               ]\n",
        "\n",
        "load_directory = Path('cleaned_data')\n",
        "load_dir = 'cleaned_data/'\n",
        "save_dir = 'summaries/'\n",
        "\n",
        "sentences=7\n",
        "summ_time=[]\n",
        "#summaries=list()\n",
        "\n",
        "for item in load_directory.glob('**/*'):\n",
        "  if item.suffix in ['.txt'] and item.name[0] != '.':\n",
        "    #1. Load single set\n",
        "    print(\"Loaded\",load_dir+item.name)\n",
        "    parser = PlaintextParser.from_file(load_dir+item.name, Tokenizer(\"english\"))\n",
        "    \n",
        "    #2. Generate Extractive summaries\n",
        "    #summary=list()\n",
        "    for i in range(len(names)):\n",
        "      print(\"summarize\",item.name,\"? y/n \")\n",
        "      if input() == 'y':\n",
        "        beg_time = \n",
        "        each_algo = summarizers[i](parser.document, sentences)\n",
        "        summ_time.append(beg_time-)\n",
        "        #3. Save all summaries as .json or .txt\n",
        "        save_summary(each_algo,save_dir+item.name[:-4]+'_'+names[i]+'.txt')\n",
        "        #zsummary.append(each_algo)\n",
        "\n",
        "    #summaries.append(summary)\n"
      ]
    },
    {
      "cell_type": "code",
      "execution_count": null,
      "metadata": {
        "colab": {
          "base_uri": "https://localhost:8080/"
        },
        "id": "etGAc40yEtyi",
        "outputId": "493f082a-2dca-45db-d66d-393a051657e1"
      },
      "outputs": [
        {
          "name": "stdout",
          "output_type": "stream",
          "text": [
            "Saved summaries/14_dec_16_dec_2020_partial_txtr.txt successfully\n"
          ]
        }
      ],
      "source": [
        "save_summary(each_algo,save_dir+item.name[:-4]+'_'+names[i]+'.txt')"
      ]
    },
    {
      "cell_type": "code",
      "execution_count": null,
      "metadata": {
        "id": "cu5o_-0WQvoe"
      },
      "outputs": [],
      "source": [
        "# ALL EVALUATION COMPARISON\n",
        "import pandas as pd\n",
        "import numpy as np\n",
        "\n",
        "summs = [\"LUHN\",\"LSA\",\"LexRank\",\"TextRank\",\"SumBasic\",\"KL\"]\n",
        "evals = [\"precision\",\"recall\",\"f1-score\",\"rouge-su4\"]\n",
        "average_score = np.zeros(len(summs),len(evals))\n",
        "\n",
        "for j in range(len(evals)):\n",
        "  for summary in summaries:\n",
        "    for i in range(len(summary):\n",
        "      score=len(summary(i))/100\n",
        "    average_score.append(f1(summary))\n",
        "  lexrank_score.append(f1(summary))\n",
        "\n",
        "luhn_score = []\n",
        "lexrank_score = []\n",
        "sumbasic_score = []\n",
        "textbasic_score = []\n",
        "lsa_score = []\n",
        "df = {\"eval_methods\":[\"precision\",\"recall\",\"f1\"], \n",
        "      \"Luhn\":pd.Series(luhn_score),\n",
        "      \"LexRank\":pd.Series(lexrank_score),\n",
        "      \"SumBasic\":pd.Series(sumbasic_score),\n",
        "      \"TextRank\":pd.Series(textrank_score),\n",
        "      \"LSA\":pd.Series(lsa_score)}\n",
        "df = pd.DataFrame(df)\n",
        "print(df.to_string(index=False))"
      ]
    },
    {
      "cell_type": "markdown",
      "source": [
        "# RESULTS AND VISUALIZATION"
      ],
      "metadata": {
        "id": "8jTvKNmmjiRB"
      }
    },
    {
      "cell_type": "code",
      "source": [
        "summary_scores"
      ],
      "metadata": {
        "colab": {
          "base_uri": "https://localhost:8080/"
        },
        "id": "Qk9-EdP53Hqc",
        "outputId": "05896716-c9ac-4a18-a292-b4be662ed22b"
      },
      "execution_count": null,
      "outputs": [
        {
          "output_type": "execute_result",
          "data": {
            "text/plain": [
              "{'week0': {'lexrank': {'rouge-1': {'f': 0.11702798964583533,\n",
              "    'p': 0.09910520020331297,\n",
              "    'r': 0.1472137528348919},\n",
              "   'rouge-2': {'f': 0.03130725577341732,\n",
              "    'p': 0.030066125868516456,\n",
              "    'r': 0.033074937387966276},\n",
              "   'rouge-l': {'f': 0.0949073864502824,\n",
              "    'p': 0.07897601857638747,\n",
              "    'r': 0.12173917647112431}},\n",
              "  'lsa': {'rouge-1': {'f': 0.07561123072863114,\n",
              "    'p': 0.06845106818419064,\n",
              "    'r': 0.08522093402526391},\n",
              "   'rouge-2': {'f': 0.011744268735305916,\n",
              "    'p': 0.011744268735305916,\n",
              "    'r': 0.011744268735305916},\n",
              "   'rouge-l': {'f': 0.06338146462910771,\n",
              "    'p': 0.05765333557221943,\n",
              "    'r': 0.07106922824507805}},\n",
              "  'luhn': {'rouge-1': {'f': 0.050069189404899385,\n",
              "    'p': 0.04494001489025079,\n",
              "    'r': 0.057627984815062816},\n",
              "   'rouge-2': {'f': 0.022033256801131024,\n",
              "    'p': 0.022033256801131024,\n",
              "    'r': 0.022033256801131024},\n",
              "   'rouge-l': {'f': 0.05407247617438597,\n",
              "    'p': 0.04894330165973737,\n",
              "    'r': 0.0616312715845494}},\n",
              "  'textrank': {'rouge-1': {'f': 0.060820664100478206,\n",
              "    'p': 0.056524568531142065,\n",
              "    'r': 0.06658648803578603},\n",
              "   'rouge-2': {'f': 0.0152404299615201,\n",
              "    'p': 0.0152404299615201,\n",
              "    'r': 0.0152404299615201},\n",
              "   'rouge-l': {'f': 0.05100742688829267,\n",
              "    'p': 0.04671133131895652,\n",
              "    'r': 0.05677325082360049}}},\n",
              " 'week1': {'lexrank': {'rouge-1': {'f': 0.0643170131569625,\n",
              "    'p': 0.04905538905744894,\n",
              "    'r': 0.10871447996653985},\n",
              "   'rouge-2': {'f': 0.019275105130640215,\n",
              "    'p': 0.019275105130640215,\n",
              "    'r': 0.019275105130640215},\n",
              "   'rouge-l': {'f': 0.0574045262473596,\n",
              "    'p': 0.04214290214784604,\n",
              "    'r': 0.10180199305693695}},\n",
              "  'lsa': {'rouge-1': {'f': 0.04395162541311175,\n",
              "    'p': 0.03616221248731477,\n",
              "    'r': 0.062008914804605325},\n",
              "   'rouge-2': {'f': 0.014313126547485153,\n",
              "    'p': 0.014313126547485153,\n",
              "    'r': 0.014313126547485153},\n",
              "   'rouge-l': {'f': 0.05505960776854005,\n",
              "    'p': 0.047270194842743064,\n",
              "    'r': 0.07311689716003361}},\n",
              "  'luhn': {'rouge-1': {'f': 0.05261619910697552,\n",
              "    'p': 0.044832320373059224,\n",
              "    'r': 0.07242972297046182},\n",
              "   'rouge-2': {'f': 0.01684867375175951,\n",
              "    'p': 0.01684867375175951,\n",
              "    'r': 0.01684867375175951},\n",
              "   'rouge-l': {'f': 0.05342048041682508,\n",
              "    'p': 0.045636601682908784,\n",
              "    'r': 0.07323400428031138}},\n",
              "  'textrank': {'rouge-1': {'f': 0.0423246760973708,\n",
              "    'p': 0.03453526317157382,\n",
              "    'r': 0.060381965488864375},\n",
              "   'rouge-2': {'f': 0.019407268391536742,\n",
              "    'p': 0.019407268391536742,\n",
              "    'r': 0.019407268391536742},\n",
              "   'rouge-l': {'f': 0.04015252646953889,\n",
              "    'p': 0.03236311354374191,\n",
              "    'r': 0.058209815861032466}}},\n",
              " 'week2': {'lexrank': {'rouge-1': {'f': 0.12565534210904367,\n",
              "    'p': 0.10022316560383748,\n",
              "    'r': 0.17991066560383748},\n",
              "   'rouge-2': {'f': 0.02489018048127543,\n",
              "    'p': 0.022723124336753248,\n",
              "    'r': 0.028964259088526297},\n",
              "   'rouge-l': {'f': 0.10090316773999494,\n",
              "    'p': 0.07829678910712917,\n",
              "    'r': 0.1491301224404625}},\n",
              "  'lsa': {'rouge-1': {'f': 0.07395739386083418,\n",
              "    'p': 0.063790368749884,\n",
              "    'r': 0.09124134914204088},\n",
              "   'rouge-2': {'f': 0.025375031403639083,\n",
              "    'p': 0.025375031403639083,\n",
              "    'r': 0.025375031403639083},\n",
              "   'rouge-l': {'f': 0.06572670630122647,\n",
              "    'p': 0.055559681190276294,\n",
              "    'r': 0.08301066158243316}},\n",
              "  'luhn': {'rouge-1': {'f': 0.06538101457765472,\n",
              "    'p': 0.054583676927959464,\n",
              "    'r': 0.08553605788034041},\n",
              "   'rouge-2': {'f': 0.027575223074111282,\n",
              "    'p': 0.027575223074111282,\n",
              "    'r': 0.027575223074111282},\n",
              "   'rouge-l': {'f': 0.061644869595445795,\n",
              "    'p': 0.050847531945750535,\n",
              "    'r': 0.08179991289813149}},\n",
              "  'textrank': {'rouge-1': {'f': 0.052515601256216446,\n",
              "    'p': 0.04489033358898435,\n",
              "    'r': 0.065478568883102},\n",
              "   'rouge-2': {'f': 0.025760987476806343,\n",
              "    'p': 0.025760987476806343,\n",
              "    'r': 0.025760987476806343},\n",
              "   'rouge-l': {'f': 0.05542501947054029,\n",
              "    'p': 0.0477997518033082,\n",
              "    'r': 0.06838798709742584}}}}"
            ]
          },
          "metadata": {},
          "execution_count": 54
        }
      ]
    },
    {
      "cell_type": "code",
      "source": [
        "import pandas as pd\n",
        "print('week1')\n",
        "week1 = pd.DataFrame(summary_scores['week0'])\n",
        "print(week1.to_string())\n",
        "print('\\nweek2')\n",
        "week2 = pd.DataFrame(summary_scores['week1'])\n",
        "print(week2.to_string())\n",
        "print('\\nweek3')\n",
        "week3 = pd.DataFrame(summary_scores['week2'])\n",
        "print(week3.to_string())\n"
      ],
      "metadata": {
        "colab": {
          "base_uri": "https://localhost:8080/"
        },
        "id": "NWupVAoG2vNK",
        "outputId": "7f6a0850-5718-4d66-bb06-7333ad2d6866"
      },
      "execution_count": null,
      "outputs": [
        {
          "output_type": "stream",
          "name": "stdout",
          "text": [
            "week1\n",
            "                                                                                   luhn                                                                         lexrank                                                                        textrank                                                                              lsa\n",
            "rouge-1  {'r': 0.09515221192228497, 'p': 0.07774038016187809, 'f': 0.08668015576071969}   {'r': 0.1706178259593247, 'p': 0.12360567254259151, 'f': 0.14040398268740611}  {'r': 0.08796644384143787, 'p': 0.08544533970871802, 'f': 0.09596206224816463}   {'r': 0.11513838925776809, 'p': 0.09446357597651156, 'f': 0.09726407821046118}\n",
            "rouge-2  {'r': 0.05314119468723859, 'p': 0.03717392104828815, 'f': 0.05263734029821092}  {'r': 0.0692260779938866, 'p': 0.059948570296156425, 'f': 0.06391732207268033}  {'r': 0.06244611566937458, 'p': 0.06653478876562306, 'f': 0.05421341960979059}  {'r': 0.03520456811086505, 'p': 0.03208782745096996, 'f': 0.033391109940796714}\n",
            "rouge-l    {'r': 0.07767583886986763, 'p': 0.0633532514449417, 'f': 0.0794195835690008}  {'r': 0.15840134402084893, 'p': 0.11492506707139954, 'f': 0.12422547360712229}   {'r': 0.0902117849886161, 'p': 0.07779522651443092, 'f': 0.09526138114124516}   {'r': 0.09261240916877214, 'p': 0.07365917764873564, 'f': 0.09436273949410293}\n",
            "\n",
            "week2\n",
            "                                                                                    luhn                                                                         lexrank                                                                         textrank                                                                               lsa\n",
            "rouge-1   {'r': 0.09190779145559579, 'p': 0.07163850362763569, 'f': 0.06707757980775567}  {'r': 0.13536659458196146, 'p': 0.08716166508506186, 'f': 0.10629310075687248}    {'r': 0.09162075258338778, 'p': 0.0691047222033968, 'f': 0.08216050507358184}     {'r': 0.10463121032285405, 'p': 0.08063203016315108, 'f': 0.0794193980067109}\n",
            "rouge-2  {'r': 0.049134106804931826, 'p': 0.0492042916460276, 'f': 0.060505348067556676}   {'r': 0.04772561193168639, 'p': 0.05742950072441117, 'f': 0.0501062351939432}  {'r': 0.04794840524205365, 'p': 0.053353198479533306, 'f': 0.04375890741748359}  {'r': 0.052863191098752454, 'p': 0.059690015522864986, 'f': 0.04995067284184078}\n",
            "rouge-l   {'r': 0.08827465408102123, 'p': 0.06613811235134648, 'f': 0.06878499258848646}  {'r': 0.14003399181719287, 'p': 0.08040255090183067, 'f': 0.09662497947732189}    {'r': 0.0884515888507049, 'p': 0.06155495238062735, 'f': 0.06733096460555162}    {'r': 0.09294262111012745, 'p': 0.06930973918681778, 'f': 0.08293000270348222}\n",
            "\n",
            "week3\n",
            "                                                                                     luhn                                                                         lexrank                                                                         textrank                                                                               lsa\n",
            "rouge-1    {'r': 0.12153820519148424, 'p': 0.08097981986628254, 'f': 0.10156598669928739}   {'r': 0.20645893230181767, 'p': 0.11967659628374915, 'f': 0.1515050568036867}      {'r': 0.09382139825607, 'p': 0.06762768911983372, 'f': 0.07450441994342659}    {'r': 0.11941940371535055, 'p': 0.09176356657456683, 'f': 0.10534533424785947}\n",
            "rouge-2  {'r': 0.058065445524718186, 'p': 0.05122941426980334, 'f': 0.046727053199473796}  {'r': 0.07264282944603125, 'p': 0.06329131555966606, 'f': 0.04999824669890129}  {'r': 0.04867621688168033, 'p': 0.05230073521030391, 'f': 0.049274202258461935}  {'r': 0.05891545290626762, 'p': 0.044602882878183044, 'f': 0.048792285817738215}\n",
            "rouge-l    {'r': 0.10931560292729607, 'p': 0.07884094301005577, 'f': 0.09456490302735807}  {'r': 0.17442070375187194, 'p': 0.11749552869848885, 'f': 0.12767250213942144}     {'r': 0.0938067110962213, 'p': 0.08329439565869327, 'f': 0.0723394963180074}      {'r': 0.1300056166342335, 'p': 0.08730209697170302, 'f': 0.1076708016562089}\n"
          ]
        }
      ]
    },
    {
      "cell_type": "code",
      "source": [
        "week1.to_csv('week1.csv')\n",
        "week2.to_csv('week2.csv')\n",
        "week3.to_csv('week3.csv')"
      ],
      "metadata": {
        "id": "qmrQHm7NBtYk"
      },
      "execution_count": null,
      "outputs": []
    },
    {
      "cell_type": "code",
      "source": [
        "# FIX THIS\n",
        "# https://www.bhu.ac.in/research_pub/jsr/Volumes/JSR_65_01_2021/40.pdf\n",
        "\n",
        "import numpy as np\n",
        "import matplotlib.pyplot as plt\n",
        "\n",
        "evals = ['rouge-1','rouge-2','rouge-l']\n",
        "luhn_score=week1['luhn']\n",
        "lexrank_score=week1['lexrank']\n",
        "textrank_score=week1['textrank']\n",
        "lsa_score=week1['lsa']\n",
        "#plt.figure(figsize=(15,10));\n",
        "\n",
        "fig, axarr = plt.subplots(1, 3, figsize=(20, 7), sharey=True, sharex=True)\n",
        "for metric in ['p','r','f']:\n",
        "  ar = np.arange(len(evals))\n",
        "  plt.xticks(ar,evals)\n",
        "  plt.bar(ar-0.2,[luhn_score[each][metric]*100 for each in evals],width=0.2,label='Luhn')\n",
        "  plt.bar(ar,[lexrank_score[each][metric]*100 for each in evals],width=0.2,label='LexRank')\n",
        "  plt.bar(ar+0.2,[textrank_score[each][metric]*100 for each in evals],width=0.2,label='TextRank')\n",
        "  plt.bar(ar+0.4,[lsa_score[each][metric]*100 for each in evals],width=0.2,label='LSA')\n",
        "  plt.legend(loc='best',shadow=False)\n",
        "  plt.suptitle(each+\"-\"+metric)\n",
        "  plt.show()\n",
        "  print()\n"
      ],
      "metadata": {
        "id": "fLkRnnju4gqP"
      },
      "execution_count": null,
      "outputs": []
    },
    {
      "cell_type": "markdown",
      "source": [
        "Average Time Taken Graph"
      ],
      "metadata": {
        "id": "GZg43qE1RP5P"
      }
    },
    {
      "cell_type": "code",
      "source": [
        "import numpy as np\n",
        "import matplotlib.pyplot as plt\n",
        "\n",
        "sum_algo = [\"Luhn\",\"Lsa\",\"LexRank\",\"TextRank\"]\n",
        "arr = np.arange(len(sum_algo))\n",
        "\n",
        "plt.figure(figsize=(20,5))\n",
        "plt.suptitle(\"Time Complexity Of Different Algorithms\",size=30,color=\"red\")\n",
        "plt.subplot(1,2,1)\n",
        "plt.xticks(arr,sum_algo,size=10)\n",
        "plt.plot(arr,time,linewidth=3)\n",
        "plt.bar(arr,time)\n",
        "plt.xlabel(\"Summarization Algorithms\",size=15,color=\"red\")\n",
        "plt.ylabel(\"Time (Minutes\",size=15,color=\"red\")\n",
        "\n",
        "plt.subplot(1,2,2)\n",
        "plt.pie(time,labels=sum_algo,explode=[0.05,0.05,0.05,0.05],shadow=True,autopct='%d%%') \n",
        "plt.axis('equal')\n",
        "\n",
        "plt.show()"
      ],
      "metadata": {
        "colab": {
          "base_uri": "https://localhost:8080/",
          "height": 375
        },
        "id": "eyKF1kxjRYZU",
        "outputId": "e499d404-5ca7-47aa-cf60-d182e56af7e0"
      },
      "execution_count": null,
      "outputs": [
        {
          "output_type": "display_data",
          "data": {
            "image/png": "[encoded data removed]",
            "text/plain": [
              "<Figure size 1440x360 with 2 Axes>"
            ]
          },
          "metadata": {
            "needs_background": "light"
          }
        }
      ]
    },
    {
      "cell_type": "code",
      "source": [
        ""
      ],
      "metadata": {
        "id": "dPe6g9APRrxL"
      },
      "execution_count": null,
      "outputs": []
    },
    {
      "cell_type": "markdown",
      "source": [
        "# Performance Graph"
      ],
      "metadata": {
        "id": "dSwjag8oLhv3"
      }
    },
    {
      "cell_type": "code",
      "source": [
        "import numpy as np\n",
        "import matplotlib.pyplot as plt"
      ],
      "metadata": {
        "id": "hv7D__bKMUVm"
      },
      "execution_count": null,
      "outputs": []
    },
    {
      "cell_type": "code",
      "source": [
        "                                            # week 1\n",
        "# Rouge 1\n",
        "eval = ['Roouge_R','Rouge_P','Rouge_F']\n",
        "luhn_score_r1 = [0.09515,0.07774,0.08668]\n",
        "lexrank_score_r1 = [0.17061,0.123600,0.14040]\n",
        "textrank_score_r1 = [0.08796,0.08544,0.09596]\n",
        "lsa_score_r1 = [0.11513,0.09446,0.09726]"
      ],
      "metadata": {
        "id": "sMK2V-w_Lp33"
      },
      "execution_count": null,
      "outputs": []
    },
    {
      "cell_type": "code",
      "source": [
        "                                            # week 1\n",
        "# Rouge 2\n",
        "luhn_score_r2 = [0.05314,0.03717,0.05263]\n",
        "lexrank_score_r2 = [0.06922,0.05994,0.06391]\n",
        "textrank_score_r2 = [0.06244, 0.06653, 0.05421]\n",
        "lsa_score_r2 = [0.03520,0.03208,0.03339]"
      ],
      "metadata": {
        "id": "ANiBARQML0XQ"
      },
      "execution_count": null,
      "outputs": []
    },
    {
      "cell_type": "code",
      "source": [
        "                                                #Week 1\n",
        "# Rouge L\n",
        "luhn_score_rl = [0.07767, 0.06335,0.07941]\n",
        "lexrank_score_rl = [0.15840,0.11492, 0.12422]\n",
        "textrank_score_rl = [0.09021,0.07779,0.09526]\n",
        "lsa_score_rl = [0.09261,0.07365,0.09436]"
      ],
      "metadata": {
        "id": "vCcNNLF0MJHr"
      },
      "execution_count": null,
      "outputs": []
    },
    {
      "cell_type": "code",
      "source": [
        "ar=np.arange(len(eval))"
      ],
      "metadata": {
        "id": "tceCAKIXMMlA"
      },
      "execution_count": null,
      "outputs": []
    },
    {
      "cell_type": "code",
      "source": [
        "# for Rouge 1 column\n",
        "plt.figure(figsize=(20,8))\n",
        "plt.suptitle(\"Week-1\",fontsize=40,color=\"blue\")\n",
        "plt.subplot(1,3,1)\n",
        "plt.xticks(ar,eval)\n",
        "plt.bar(ar-0.2,luhn_score_r1,width=0.2,label = 'Luhn')\n",
        "plt.bar(ar,lexrank_score_r1,width=0.2,label = 'LexRank')\n",
        "plt.bar(ar+0.2,textrank_score_r1,width=0.2,label = 'TextRank')\n",
        "plt.bar(ar+0.4,lsa_score_r1,width = 0.2,label = 'LSA')\n",
        "plt.legend(loc = 'best',shadow = False)\n",
        "plt.ylabel(\"Score\",fontsize=20,color=\"red\")\n",
        "plt.xlabel(\"--------------------\",fontsize = 15)\n",
        "plt.title(\"Rouge-1\",fontsize=15,color=\"red\")\n",
        "\n",
        "# For Rouge 2 column\n",
        "plt.subplot(1,3,2)\n",
        "plt.xticks(ar,eval)\n",
        "plt.bar(ar-0.2,luhn_score_r2,width=0.2,label = 'Luhn')\n",
        "plt.bar(ar,lexrank_score_r2,width=0.2,label = 'LexRank')\n",
        "plt.bar(ar+0.2,textrank_score_r2,width=0.2,label = 'TextRank')\n",
        "plt.bar(ar+0.4,lsa_score_r2,width = 0.2,label = 'LSA')\n",
        "# plt.legend(loc = 'best',shadow = False)\n",
        "# plt.ylabel(\"Score\",fontsize=15)\n",
        "plt.xlabel(\"Evaluation Methods\",fontsize = 20,color=\"red\")\n",
        "plt.title(\"Rouge-2\",fontsize=15,color=\"red\")\n",
        "\n",
        "# For Rouge L column\n",
        "plt.subplot(1,3,3)\n",
        "plt.xticks(ar,eval)\n",
        "plt.bar(ar-0.2,luhn_score_rl,width=0.2,label = 'Luhn')\n",
        "plt.bar(ar,lexrank_score_rl,width=0.2,label = 'LexRank')\n",
        "plt.bar(ar+0.2,textrank_score_rl,width=0.2,label = 'TextRank')\n",
        "plt.bar(ar+0.4,lsa_score_rl,width = 0.2,label = 'LSA')\n",
        "plt.legend(loc = 'best',shadow = False)\n",
        "# plt.ylabel(\"Score\",fontsize=15)\n",
        "plt.xlabel(\"--------------------\",fontsize = 15)\n",
        "plt.title(\"Rouge-L\",fontsize=15,color=\"red\")\n",
        "\n",
        "plt.show()\n",
        "\n"
      ],
      "metadata": {
        "colab": {
          "base_uri": "https://localhost:8080/",
          "height": 564
        },
        "id": "q61z7xlzMQcD",
        "outputId": "a5ccf3b5-3b72-41ba-b2c5-c4e62e37d900"
      },
      "execution_count": null,
      "outputs": [
        {
          "output_type": "display_data",
          "data": {
            "image/png": "[encoded data removed]",
            "text/plain": [
              "<Figure size 1440x576 with 3 Axes>"
            ]
          },
          "metadata": {
            "needs_background": "light"
          }
        }
      ]
    },
    {
      "cell_type": "markdown",
      "source": [
        "Week 2"
      ],
      "metadata": {
        "id": "0JQtsJnDWDGx"
      }
    },
    {
      "cell_type": "code",
      "source": [
        "                                            # week 2\n",
        "eval = ['Roouge_R','Rouge_P','Rouge_F']\n",
        "luhn_score_r11 = [0.091907,0.07163,0.06707]\n",
        "lexrank_score_r11 = [0.13536,0.08716,0.10629]\n",
        "textrank_score_r11 = [0.09162,0.06910,0.08216]\n",
        "lsa_score_r11 = [0.10463,0.08063,0.07941]"
      ],
      "metadata": {
        "id": "M-CRAfRuWGwD"
      },
      "execution_count": null,
      "outputs": []
    },
    {
      "cell_type": "code",
      "source": [
        "                                           # week 2\n",
        "luhn_score_r22 = [0.04913,0.04920,0.06050]\n",
        "lexrank_score_r22 = [0.04772,0.05742,0.05010]\n",
        "textrank_score_r22 = [0.047948,0.05335,0.04375]\n",
        "lsa_score_r22 = [0.05286,0.05969,0.04995]"
      ],
      "metadata": {
        "id": "TzZT4ecQWGzs"
      },
      "execution_count": null,
      "outputs": []
    },
    {
      "cell_type": "code",
      "source": [
        "                                           # week 2\n",
        "luhn_score_rll = [0.08827,0.06613,0.06878]\n",
        "lexrank_score_rll = [0.14003,0.08040,0.0966]\n",
        "textrank_score_rll = [0.08845, 0.06155,0.06733]\n",
        "lsa_score_rll = [0.09294,0.06930,0.08293]"
      ],
      "metadata": {
        "id": "zPL5Wdj1WHB5"
      },
      "execution_count": null,
      "outputs": []
    },
    {
      "cell_type": "code",
      "source": [
        "ar=np.arange(len(eval))"
      ],
      "metadata": {
        "id": "WaxE3Tn-WbDI"
      },
      "execution_count": null,
      "outputs": []
    },
    {
      "cell_type": "code",
      "source": [
        "# for Rouge 1 column\n",
        "plt.figure(figsize=(20,8))\n",
        "plt.suptitle(\"Week-2\",fontsize=40,color=\"blue\")\n",
        "plt.subplot(1,3,1)\n",
        "plt.xticks(ar,eval)\n",
        "plt.bar(ar-0.2,luhn_score_r11,width=0.2,label = 'Luhn')\n",
        "plt.bar(ar,lexrank_score_r11,width=0.2,label = 'LexRank')\n",
        "plt.bar(ar+0.2,textrank_score_r11,width=0.2,label = 'TextRank')\n",
        "plt.bar(ar+0.4,lsa_score_r11,width = 0.2,label = 'LSA')\n",
        "plt.legend(loc = 'best',shadow = False)\n",
        "plt.ylabel(\"Score\",fontsize=20,color=\"red\")\n",
        "plt.xlabel(\"--------------------\",fontsize = 15)\n",
        "plt.title(\"Rouge-1\",fontsize=15,color=\"red\")\n",
        "\n",
        "# For Rouge 2 column\n",
        "plt.subplot(1,3,2)\n",
        "plt.xticks(ar,eval)\n",
        "plt.bar(ar-0.2,luhn_score_r22,width=0.2,label = 'Luhn')\n",
        "plt.bar(ar,lexrank_score_r22,width=0.2,label = 'LexRank')\n",
        "plt.bar(ar+0.2,textrank_score_r22,width=0.2,label = 'TextRank')\n",
        "plt.bar(ar+0.4,lsa_score_r22,width = 0.2,label = 'LSA')\n",
        "# plt.legend(loc = 'best',shadow = False)\n",
        "# plt.ylabel(\"Score\",fontsize=15)\n",
        "plt.xlabel(\"Evaluation Methods\",fontsize = 20,color=\"red\")\n",
        "plt.title(\"Rouge-2\",fontsize=15,color=\"red\")\n",
        "\n",
        "# For Rouge L column\n",
        "plt.subplot(1,3,3)\n",
        "plt.xticks(ar,eval)\n",
        "plt.bar(ar-0.2,luhn_score_rll,width=0.2,label = 'Luhn')\n",
        "plt.bar(ar,lexrank_score_rll,width=0.2,label = 'LexRank')\n",
        "plt.bar(ar+0.2,textrank_score_rll,width=0.2,label = 'TextRank')\n",
        "plt.bar(ar+0.4,lsa_score_rll,width = 0.2,label = 'LSA')\n",
        "plt.legend(loc = 'best',shadow = False)\n",
        "# plt.ylabel(\"Score\",fontsize=15)\n",
        "plt.xlabel(\"--------------------\",fontsize = 15)\n",
        "plt.title(\"Rouge-L\",fontsize=15,color=\"red\")\n",
        "\n",
        "plt.show()\n",
        "\n"
      ],
      "metadata": {
        "colab": {
          "base_uri": "https://localhost:8080/",
          "height": 564
        },
        "id": "HqP9csoyWbGG",
        "outputId": "b01f5c6b-dbd0-40d0-f1e2-eec22e613b84"
      },
      "execution_count": null,
      "outputs": [
        {
          "output_type": "display_data",
          "data": {
            "image/png": "[encoded data removed]",
            "text/plain": [
              "<Figure size 1440x576 with 3 Axes>"
            ]
          },
          "metadata": {
            "needs_background": "light"
          }
        }
      ]
    },
    {
      "cell_type": "code",
      "source": [
        "# for Rouge 1 column\n",
        "\n",
        "f, (ax1, ax2, ax3) = plt.subplots(nrows=1, ncols=3, sharey=True, squeeze=True)\n",
        "# plt.figure(figsize=(20,8))\n",
        "f.set_size_inches(20,8)\n",
        "f.add_axes(label=[\"Rouge R\",\"Rouge p\",\"Rouge F\"])\n",
        "plt.suptitle(\"Average Scores\",fontsize=40,color=\"blue\")\n",
        "plt.xticks(ar,['rouge-1','rouge-2','rouge-l'])\n",
        "\n",
        "# ax1.xticks(ar,eval)\n",
        "ax1.bar(ar-0.2,luhn_score_r11,width=0.2,label = 'Luhn')\n",
        "ax1.bar(ar,lexrank_score_r11,width=0.2,label = 'LexRank')\n",
        "ax1.bar(ar+0.2,textrank_score_r11,width=0.2,label = 'TextRank')\n",
        "ax1.bar(ar+0.4,lsa_score_r11,width = 0.2,label = 'LSA')\n",
        "plt.xlabel(\"Evaluation Methods\",fontsize=15)\n",
        "plt.ylabel(\"Score\",fontsize=15)\n",
        "\n",
        "# For Rouge 2 column\n",
        "ax2.bar(ar-0.2,luhn_score_r22,width=0.2,label = 'Luhn')\n",
        "ax2.bar(ar,lexrank_score_r22,width=0.2,label = 'LexRank')\n",
        "ax2.bar(ar+0.2,textrank_score_r22,width=0.2,label = 'TextRank')\n",
        "ax2.bar(ar+0.4,lsa_score_r22,width = 0.2,label = 'LSA')\n",
        "# ax2.xticks(ar,eval)\n",
        "\n",
        "# For Rouge L column\n",
        "ax3.bar(ar-0.2,luhn_score_rll,width=0.2,label = 'Luhn')\n",
        "ax3.bar(ar,lexrank_score_rll,width=0.2,label = 'LexRank')\n",
        "ax3.bar(ar+0.2,textrank_score_rll,width=0.2,label = 'TextRank')\n",
        "ax3.bar(ar+0.4,lsa_score_rll,width = 0.2,label = 'LSA')\n",
        "# ax3.xticks(ar,eval)\n",
        "\n",
        "plt.show()\n",
        "\n"
      ],
      "metadata": {
        "colab": {
          "base_uri": "https://localhost:8080/",
          "height": 559
        },
        "id": "XkIdvwsgT5JB",
        "outputId": "92fdf5f0-f6ef-4926-9024-f3224c3e4c2a"
      },
      "execution_count": null,
      "outputs": [
        {
          "output_type": "display_data",
          "data": {
            "image/png": "[encoded data removed]",
            "text/plain": [
              "<Figure size 1440x576 with 3 Axes>"
            ]
          },
          "metadata": {
            "needs_background": "light"
          }
        }
      ]
    },
    {
      "cell_type": "code",
      "source": [
        ""
      ],
      "metadata": {
        "id": "QnuzvedPMv8H"
      },
      "execution_count": null,
      "outputs": []
    },
    {
      "cell_type": "markdown",
      "metadata": {
        "id": "8QHnnmJtX5EE"
      },
      "source": [
        "# Latex References"
      ]
    },
    {
      "cell_type": "markdown",
      "metadata": {
        "id": "pkqbcH6W4uuf"
      },
      "source": [
        "Using $\\LaTeX$ in Colab\n",
        "\n",
        "Visit the following colab notebook: [link](https://colab.research.google.com/github/bebi103a/bebi103a.github.io/blob/master/lessons/00/intro_to_latex.ipynb#scrollTo=t8COirGE4gl2)\n",
        "<br><br>\n",
        "Nenkova, A., Passonneau, R., and McKeown, K. 2007. The pyramid method: Incorporating human content selection variation in summarization evaluation. ACM Trans. Speech Lang. Process. 4, 1, Article 4 (May 2007), 23 pages. DOI = 10.1145/1233912.1233913 http://doi.acm.org/10.1145/1233912.123391 [https://www.cis.upenn.edu/~nenkova/papers/p1-nenkova.pdf]\n",
        "<br><br>\n",
        "Yanjun Gao, Chen Sun, and R. J. Passonneau. 2019. Automated Pyramid Summarization Evaluation. Proceedings of the 23rd Conference on Computational Natural Language Learning, pages 404–418, November 3-4, 2019. [https://aclanthology.org/K19-1038.pdf]\n",
        "<br><br>\n",
        "D. Deutsch, and Dan Roth. 2020. SacreROUGE: An Open-Source Library for Using and Developing Summarization Evaluation Metrics, Proceedings of Second Workshop for NLP Open Source Software (NLP-OSS), pages 120–125. Virtual Conference, November 19, 2020 [https://aclanthology.org/2020.nlposs-1.17.pdf]\n",
        "<br><br>"
      ]
    }
  ],
  "metadata": {
    "colab": {
      "collapsed_sections": [
        "Li8UbFjqCAvk",
        "NwSZf57qhyqn",
        "GZqJXzOWiWxy",
        "vNC-ZWaUhe48",
        "zwY3IQgMjLtl",
        "y-nf-KvQgIdY",
        "YZ8h-vZZjxm9",
        "Qw-iURv6mmnu",
        "lzF3Y2ThmxQR",
        "ZlC0hFwIncat",
        "z_pMPxrXnnNe",
        "8QAbljzlkNKF",
        "vPxUf5wNVjHK",
        "lGlW6hlFXt_k",
        "pGXQeZuK3SRL",
        "nBS70XAI5YRD",
        "2-qG9zdc5xg4",
        "B3kAr9Rb50Hi",
        "jF7HcqMd52vM",
        "9Aaml8xTU9_l",
        "-_IN1IgLkyjd",
        "w0WdFolu9feA",
        "8jTvKNmmjiRB"
      ],
      "name": "nltk_covid19_algorithm_test.ipynb",
      "provenance": []
    },
    "kernelspec": {
      "display_name": "Python 3",
      "name": "python3"
    },
    "language_info": {
      "name": "python"
    }
  },
  "nbformat": 4,
  "nbformat_minor": 0
}