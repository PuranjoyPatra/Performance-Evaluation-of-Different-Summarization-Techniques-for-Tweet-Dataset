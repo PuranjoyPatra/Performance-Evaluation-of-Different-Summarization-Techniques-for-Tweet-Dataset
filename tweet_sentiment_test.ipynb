{
  "cells": [
    {
      "cell_type": "markdown",
      "metadata": {
        "id": "Y0F2fy0Pqcd-"
      },
      "source": [
        "# MOUNTING DRIVE"
      ]
    },
    {
      "cell_type": "code",
      "execution_count": null,
      "metadata": {
        "id": "xfIlbP1anV2H",
        "colab": {
          "base_uri": "https://localhost:8080/"
        },
        "outputId": "bad513f6-8a8a-4931-a736-89b500eb4593"
      },
      "outputs": [
        {
          "output_type": "stream",
          "name": "stdout",
          "text": [
            "Mounted at /content/drive\n"
          ]
        }
      ],
      "source": [
        "from google.colab import drive\n",
        "drive.mount(\"/content/drive\")"
      ]
    },
    {
      "cell_type": "code",
      "execution_count": null,
      "metadata": {
        "colab": {
          "base_uri": "https://localhost:8080/"
        },
        "id": "YAx88lxdg4sS",
        "outputId": "1e52799b-9ef0-45b0-e663-bfb0fd7c577a"
      },
      "outputs": [
        {
          "output_type": "stream",
          "name": "stdout",
          "text": [
            "/content/drive/MyDrive/Soft-computing-eXtended\n"
          ]
        }
      ],
      "source": [
        "#@title Set up Directory\n",
        "\n",
        "# project directory\n",
        "%cd '/content/drive/MyDrive/Soft-computing-eXtended'"
      ]
    },
    {
      "cell_type": "code",
      "execution_count": null,
      "metadata": {
        "id": "la4MLGZTwYEg"
      },
      "outputs": [],
      "source": [
        "import pandas as pd\n",
        "covid_tweet_dataset = \"tweetid_sentiments_emotions.csv\"\n",
        "api_keys = \"config.json\" #@param {type: \"string\"}\n",
        "plib_dir = \"/content/drive/MyDrive/plib\""
      ]
    },
    {
      "cell_type": "markdown",
      "metadata": {
        "id": "lFvnfehugIj5"
      },
      "source": [
        "# Dataset"
      ]
    },
    {
      "cell_type": "code",
      "execution_count": null,
      "metadata": {
        "colab": {
          "background_save": true
        },
        "id": "Kd410B3vgOQu"
      },
      "outputs": [],
      "source": [
        "#@title Covid-19 subset preview\n",
        "covid_subset = pd.read_csv(covid_tweet_dataset, \n",
        "                           #skiprows=range(1,5932184), \n",
        "                           #nrows=6158058-5932184, \n",
        "                           usecols=[0,17,19,21])\n"
      ]
    },
    {
      "cell_type": "code",
      "execution_count": null,
      "metadata": {
        "id": "nyDdq9ql7P3a"
      },
      "outputs": [],
      "source": [
        "covid_subset.sample(10)"
      ]
    },
    {
      "cell_type": "code",
      "execution_count": null,
      "metadata": {
        "colab": {
          "base_uri": "https://localhost:8080/"
        },
        "id": "y8Nvo44_xoUi",
        "outputId": "97bd65d0-4c39-460a-8f23-4f17b4a675eb"
      },
      "outputs": [
        {
          "name": "stdout",
          "output_type": "stream",
          "text": [
            "Columns: Index(['tweet_ID', 'sentiment_category', 'keyword_used', 'date_stamp'], dtype='object')\n",
            "Length: 6166151\n",
            "Null entries:\n",
            " 0\n"
          ]
        }
      ],
      "source": [
        "print(\"Columns:\", covid_subset.columns)\n",
        "print(\"Length:\", len(covid_subset))\n",
        "print(\"Null entries:\\n\", covid_subset.isnull().sum().sum())"
      ]
    },
    {
      "cell_type": "markdown",
      "metadata": {
        "id": "9WLI2U_QpIJN"
      },
      "source": [
        "# Functions to Fetch Bulk Tweets"
      ]
    },
    {
      "cell_type": "markdown",
      "metadata": {
        "id": "7E4x5foxqvNn"
      },
      "source": [
        "### Loading all API keys in a list\n",
        "\n",
        "To connect to twitter via multiple accounts"
      ]
    },
    {
      "cell_type": "code",
      "execution_count": null,
      "metadata": {
        "id": "bnGUFGBcBy-z",
        "colab": {
          "base_uri": "https://localhost:8080/"
        },
        "outputId": "08f0aed3-24f4-4c5c-f3a1-916896d408a3"
      },
      "outputs": [
        {
          "output_type": "stream",
          "name": "stdout",
          "text": [
            "\u001b[?25l\r\u001b[K     |█████▍                          | 10 kB 25.9 MB/s eta 0:00:01\r\u001b[K     |██████████▉                     | 20 kB 30.4 MB/s eta 0:00:01\r\u001b[K     |████████████████▎               | 30 kB 36.8 MB/s eta 0:00:01\r\u001b[K     |█████████████████████▊          | 40 kB 15.0 MB/s eta 0:00:01\r\u001b[K     |███████████████████████████▏    | 51 kB 16.5 MB/s eta 0:00:01\r\u001b[K     |████████████████████████████████| 60 kB 4.8 MB/s \n",
            "\u001b[?25h"
          ]
        }
      ],
      "source": [
        "!pip -q install tweepy==4.0.0"
      ]
    },
    {
      "cell_type": "code",
      "execution_count": null,
      "metadata": {
        "id": "S0OgUBN8ilPy",
        "colab": {
          "base_uri": "https://localhost:8080/"
        },
        "outputId": "c5c9ae36-ffbc-44d9-fa95-1acdfb9fcf71"
      },
      "outputs": [
        {
          "output_type": "stream",
          "name": "stdout",
          "text": [
            "\u001b[K     |████████████████████████████████| 77 kB 4.4 MB/s \n",
            "\u001b[K     |████████████████████████████████| 63 kB 1.7 MB/s \n",
            "\u001b[31mERROR: pip's dependency resolver does not currently take into account all the packages that are installed. This behaviour is the source of the following dependency conflicts.\n",
            "google-colab 1.0.0 requires requests~=2.23.0, but you have requests 2.27.1 which is incompatible.\n",
            "datascience 0.10.6 requires folium==0.2.1, but you have folium 0.8.3 which is incompatible.\u001b[0m\n",
            "\u001b[?25h"
          ]
        }
      ],
      "source": [
        "!pip -q install tweepy --upgrade"
      ]
    },
    {
      "cell_type": "code",
      "execution_count": null,
      "metadata": {
        "id": "QDY4Bl-SsHZa"
      },
      "outputs": [],
      "source": [
        "from __future__ import print_function\n",
        "import getopt\n",
        "import logging\n",
        "import os\n",
        "import sys\n",
        "from time import sleep\n",
        "import tweepy\n",
        "\n",
        "import json\n",
        "with open(api_keys, 'r') as infile:\n",
        "  keys = json.load(infile)\n",
        "\n",
        "api = []\n",
        "for each in keys:\n",
        "  auth = tweepy.OAuthHandler(each['CONSUMER_KEY'], each['CONSUMER_SECRET'])\n",
        "  auth.set_access_token(each['OAUTH_TOKEN'], each['OAUTH_TOKEN_SECRET'])\n",
        "  api.append(tweepy.API(auth,wait_on_rate_limit=True))#, wait_on_rate_limit_notify=True))"
      ]
    },
    {
      "cell_type": "markdown",
      "metadata": {
        "id": "-DvvkKcnEMiO"
      },
      "source": [
        "### status_full_text(status):\n",
        "Function to get specific columns from tweet ResponseSet.Status object\n"
      ]
    },
    {
      "cell_type": "code",
      "execution_count": null,
      "metadata": {
        "id": "PWef8-SqDoC_"
      },
      "outputs": [],
      "source": [
        "def status_full_text(status):\n",
        "  if hasattr(status, \"retweeted_status\"):  # Check if Retweet\n",
        "    try:\n",
        "      return(status.retweeted_status.extended_tweet[\"full_text\"])\n",
        "    except AttributeError:\n",
        "      try:\n",
        "        return status.retweeted_status.full_text\n",
        "      except:\n",
        "        return None\n",
        "  else:\n",
        "    try:\n",
        "      return status.extended_tweet[\"full_text\"]\n",
        "    except AttributeError:\n",
        "      try:\n",
        "        return status.full_text\n",
        "      except:\n",
        "        return None"
      ]
    },
    {
      "cell_type": "markdown",
      "metadata": {
        "id": "8lYTT4Q0rDzQ"
      },
      "source": [
        "### get_tweets(tweet_list_dataframe, output_file):\n",
        "\n",
        "Function to bulk fetch tweet_IDs from tweet_list DataFrame and APPEND full_text to output_file CSV"
      ]
    },
    {
      "cell_type": "code",
      "execution_count": null,
      "metadata": {
        "id": "ClCJqHIAsZMc"
      },
      "outputs": [],
      "source": [
        "def get_tweets(tweet_list,output_csv):\n",
        "  backoff_counter = 1\n",
        " \n",
        "  HTTP_retry = 0\n",
        "  current_api = 0\n",
        "  _api = api[current_api]\n",
        "\n",
        "  tweet_count = len(tweet_list) #total tweets to be downloaded\n",
        "  count = 0 #downloaded tweets count\n",
        "  batch_size = 50 #batch size to download\n",
        "\n",
        "  # getting full text from tweet ids\n",
        "  for i in range(0,tweet_count,batch_size):\n",
        "    try:\n",
        "      batch = list(tweet_list.tweet_ID[i:i+batch_size])\n",
        "      statuses = _api.lookup_statuses(batch, include_entities=False, trim_user=True, tweet_mode='extended', \n",
        "                                      map=True, include_ext_alt_text=False, include_card_uri=False) #tweepy v4.7.*\n",
        "\n",
        "      # assign full_text to tweet_list \n",
        "      full_texts = [status_full_text(status) for status in statuses]\n",
        "      df = tweet_list[i:i+batch_size].copy()\n",
        "      if(len(full_texts) != len(df)):\n",
        "        print('len(received):',len(full_texts))\n",
        "        print('len(queried):',len(df))\n",
        "        return full_texts,df\n",
        "        print(pd.merge(full_texts, df, on='tweet_ID'))\n",
        "        #for t in range(len(full_texts)):\n",
        "          #if full_texts[t].tweet_ID != df.iloc[t].tweet_ID:\n",
        "        input()\n",
        "        continue\n",
        "      df = pd.DataFrame(df, index = df.index, columns = df.columns)\n",
        "      df['full_text'] = full_texts\n",
        "      #tweet_list['full_text'][i:i+batch_size] = full_texts\n",
        "\n",
        "      # append to file\n",
        "      #tweet_list.iloc[i:i+batch_size].to_csv(output_csv,mode='a',header=False)\n",
        "      df.to_csv(output_csv,mode='a',header=False)\n",
        "      count += batch_size\n",
        "      \n",
        "      # switch api credentials on approaching limit\n",
        "      HTTP_retry = 0\n",
        "      if (i+1)%2500==0:\n",
        "        if current_api==0: current_api = 1\n",
        "        else: current_api = 0\n",
        "        _api = api[current_api]\n",
        "        print(\"Changed api to\", current_api, \"Done\", 100*i/tweet_count,\"%.\")\n",
        "    # error handling\n",
        "    except KeyboardInterrupt:\n",
        "      print(\"Keyboard Interrupt. Done\", 100*i/tweet_count,\"%.\")\n",
        "      break\n",
        "    except tweepy.errors.TweepyException as e:\n",
        "      #print(\"Done\", 100*count/len(tweet_list),\"%. Error\", e.api_code, \"-\", e.args[0][0]['message'], end=\" \")\n",
        "      if e.api_code in [34,63,144,179,401,403,404]:\n",
        "        # skipping bad tweets\n",
        "        count+=batch_size\n",
        "        continue\n",
        "\n",
        "      elif e.api_code == 429:\n",
        "        print(\"Done\", 100*i/tweet_count,\"%. Error\", e.api_code, \"-\", e.args[0][0]['message'], end=\" \")\n",
        "        print(\"Waiting for\", 60*backoff_counter, \"seconds.\")\n",
        "        sleep(60*backoff_counter)\n",
        "        backoff_counter += 1\n",
        "\n",
        "      elif e.api_code == 4104:\n",
        "        if(HTTP_retry < 2):\n",
        "          print(\"Connection reset by peer. Retrying \", HTTP_retry, \"time.\")\n",
        "          HTTP_retry += 1\n",
        "        else:\n",
        "          print(\"Aborting due to connection error.\")\n",
        "          break\n",
        "\n",
        "      else:\n",
        "        # logging unknown error\n",
        "        print(\"Done\", 100*i/tweet_count,\"%.\", end = \" \")\n",
        "        try:\n",
        "          print(\"Error\", e.api_code, \"-\", e.args[0][0]['message'], \"Skipping.\")\n",
        "        except:\n",
        "          # skipping unknown next level error\n",
        "          continue\n",
        "        count += batch_size\n",
        "\n",
        "      continue\n",
        "  \n",
        "  print(\"Done\", 100*i/tweet_count,\"%.\")\n",
        "  \n",
        "  print(\"Processed tweet ids:\", i, \" Remaining tweets:\", tweet_count-len(output_csv))\n",
        "  return i"
      ]
    },
    {
      "cell_type": "markdown",
      "metadata": {
        "id": "L9M_pkJ5Fm3P"
      },
      "source": [
        "### resetProgress(progress_file_name, tweet_count)\n",
        "Function to reset the progress file to restart streaming"
      ]
    },
    {
      "cell_type": "code",
      "execution_count": null,
      "metadata": {
        "id": "Eh-_jemU_F98"
      },
      "outputs": [],
      "source": [
        "#@title Making a file to save progress for continuous dataset loading, preprocessing\n",
        "def resetProgress(progress_file, size):\n",
        "  import json\n",
        "  info = {'covid_last_index':0,\n",
        "          'covid_last_prep':0,\n",
        "          'covid_size':size}\n",
        "\n",
        "  with open(progress_file, 'w') as outfile:\n",
        "      outfile.write(json.dumps(info, indent=4, sort_keys=True))\n",
        "  \n",
        "  %mkdir -p covid_subset"
      ]
    },
    {
      "cell_type": "markdown",
      "metadata": {
        "id": "l8p0XMz_I-93"
      },
      "source": [
        "### getTweetsAsync(tweet_id_csv_file, progress_json_file, save_csv_file):\n",
        "\n",
        "This function loads last session progress, and uses the get_tweets() function to download remaining tweets.\n",
        "\n",
        "In case of any error or manual interruptions, it saves the progress before quitting."
      ]
    },
    {
      "cell_type": "code",
      "execution_count": null,
      "metadata": {
        "id": "R3-dLVOj6JWF"
      },
      "outputs": [],
      "source": [
        "def getTweetsAsync(csv_file, progress_file, save_file):\n",
        "  import pandas as pd\n",
        "\n",
        "  # load progress\n",
        "  with open(progress_file, 'r') as infile:\n",
        "    info = json.load(infile)\n",
        "\n",
        "  import pandas as pd\n",
        "\n",
        "  # load progress\n",
        "  with open(progress_file, 'r') as infile:\n",
        "    info = json.load(infile)\n",
        "\n",
        "  print(\"Last tweet downloaded till:\", info['covid_last_index'])\n",
        "\n",
        "  # load remaining dataset\n",
        "  subset = pd.read_csv(csv_file, skiprows=range(1,info['covid_last_index']+1))\n",
        "  subset = subset.reset_index(drop=True)\n",
        "\n",
        "  if(info['covid_last_index'] == 0):\n",
        "    subset['full_text'] = pd.Series([None], index=[0])\n",
        "  \n",
        "  # update progress\n",
        "  count = get_tweets(subset, save_file)\n",
        "  return count\n",
        "  info['covid_last_index'] += count\n",
        "  with open(progress_file, 'w') as outfile:\n",
        "    outfile.write(json.dumps(info, indent=4, sort_keys=True))\n",
        "\n",
        "  print(\"Dataset done\", 100*info['covid_last_index']/info['covid_size'],\"%.\")"
      ]
    },
    {
      "cell_type": "markdown",
      "metadata": {
        "id": "PwE4MZ_cvsWx"
      },
      "source": [
        "# DOWNLOADING DECEMBER 2020 TWEETS"
      ]
    },
    {
      "cell_type": "markdown",
      "metadata": {
        "id": "ysdjdNjztdX1"
      },
      "source": [
        "### Grouping by dates\n",
        "\n",
        "First we group the main dataset by dates, to see output open tweet_counts_by_dates.csv\n",
        "\n",
        "Next we can download tweets between this range"
      ]
    },
    {
      "cell_type": "code",
      "execution_count": null,
      "metadata": {
        "id": "ltjr6XFO8QZX",
        "colab": {
          "base_uri": "https://localhost:8080/"
        },
        "outputId": "f1636c44-ed5c-4525-d1f5-f54f797ae3e8"
      },
      "outputs": [
        {
          "output_type": "stream",
          "name": "stdout",
          "text": [
            "Between 2020-01-28 and 2021-01-01\n",
            "number of days: 340\n"
          ]
        }
      ],
      "source": [
        "import pandas as pd\n",
        "import numpy as np\n",
        "\n",
        "date_groups = pd.read_csv(covid_tweet_dataset, usecols=[0,17,18,21]).groupby('date_stamp')\n",
        "first = date_groups.get_group(list(date_groups.groups.keys())[0]).iloc[0].date_stamp[:-9]\n",
        "last = date_groups.get_group(list(date_groups.groups.keys())[len(date_groups)-1]).iloc[-1].date_stamp[:-9]\n",
        "print(\"Between\", first, \"and\", last)\n",
        "print('number of days:', len(date_groups))"
      ]
    },
    {
      "cell_type": "code",
      "source": [
        "print('tweets\\t date\\t\\tcumulative_count\\tfrom_tweet_ID')\n",
        "print(list(date_groups.groups.keys())[308])"
      ],
      "metadata": {
        "colab": {
          "base_uri": "https://localhost:8080/"
        },
        "id": "dLTiUcTGalWR",
        "outputId": "e4930824-f0bf-4a27-bc58-3a1254e0c341"
      },
      "execution_count": null,
      "outputs": [
        {
          "output_type": "stream",
          "name": "stdout",
          "text": [
            "tweets\t date\t\tcumulative_count\tfrom_tweet_ID\n",
            "2020-12-03 00:00:00\n"
          ]
        }
      ]
    },
    {
      "cell_type": "code",
      "source": [
        "count=0\n",
        "group_data = []\n",
        "\n",
        "for each in list(date_groups.groups.keys())[308:]:\n",
        "  count+=len(date_groups.get_group(each))\n",
        "  group=date_groups.get_group(each)\n",
        "  date=group.iloc[0].date_stamp[:-9]\n",
        "  print(len(group),'\\t',\n",
        "        date,'\\t',\n",
        "        count,'\\t\\t\\t',\n",
        "        group.iloc[0].tweet_ID)\n",
        "  group_data.append(dict(zip(np.array(['tweets','date','tweets_till_date']),\n",
        "                             np.array([len(date_groups.get_group(each)),date,count]))))\n",
        "  name=\"dated_subset/\"+date\n",
        "  group.to_csv(name+\".csv\")\n",
        "  resetProgress(name+\".json\",len(group))\n",
        "  u=getTweetsAsync(name+\".csv\",name+\".json\",\"dated_tweets/\"+date+\".csv\")\n",
        "\n",
        "group_df = pd.DataFrame(group_data)\n",
        "group_df.to_csv('tweet_count_by_dates.csv',index=False)"
      ],
      "metadata": {
        "id": "nx4vlIhpapzR"
      },
      "execution_count": null,
      "outputs": []
    },
    {
      "cell_type": "code",
      "execution_count": null,
      "metadata": {
        "id": "CHXBl53A7-F0"
      },
      "outputs": [],
      "source": [
        " #@title Example: creating November and December 2020 subset\n",
        "\n",
        "import pandas as pd\n",
        "\n",
        "covid_subset.loc[5675514:5924812].to_csv(\"november.csv\")\n",
        "covid_subset.loc[5924813:6158088].to_csv(\"december.csv\")"
      ]
    },
    {
      "cell_type": "code",
      "execution_count": null,
      "metadata": {
        "id": "4Ii7IF0XyNJf"
      },
      "outputs": [],
      "source": [
        "load_file = 'december.csv'\n",
        "progress_file = 'download_progress.json'\n",
        "save_file = 'covid_subset/dec_2020.csv'\n",
        "size = 225874"
      ]
    },
    {
      "cell_type": "code",
      "execution_count": null,
      "metadata": {
        "id": "cUMbtzLpGkHO"
      },
      "outputs": [],
      "source": [
        "#@title RUN this cell ONLY if csv file corrupt and cannot recover :(\n",
        "\n",
        "!touch download_progress.json\n",
        "resetProgress(progress_file, size)"
      ]
    },
    {
      "cell_type": "code",
      "execution_count": null,
      "metadata": {
        "id": "ZEyl9rM7Giwi"
      },
      "outputs": [],
      "source": [
        "getTweetsAsync(load_file, progress_file, save_file)"
      ]
    },
    {
      "cell_type": "markdown",
      "metadata": {
        "id": "51REZKB9itvZ"
      },
      "source": [
        "# Checking downloaded Tweets"
      ]
    },
    {
      "cell_type": "code",
      "execution_count": null,
      "metadata": {
        "id": "obCzAAsiz4nz"
      },
      "outputs": [],
      "source": [
        "df=pd.read_csv(\"covid_subset/dec_2020.csv\", nrows=20500, delimiter=',', header=None, names=['1','0','tweet_ID', 'sentiment_category', 'keyword_used', 'date_stamp', 'full_text'], index_col='1');\n",
        "df=df.drop(columns=['0'])"
      ]
    },
    {
      "cell_type": "code",
      "execution_count": null,
      "metadata": {
        "id": "2_69fhrXBhkR"
      },
      "outputs": [],
      "source": [
        "df.tail()"
      ]
    },
    {
      "cell_type": "markdown",
      "source": [
        "# Preprocessing"
      ],
      "metadata": {
        "id": "b1OSohu6Tz_-"
      }
    },
    {
      "cell_type": "markdown",
      "source": [
        "### removeLinks(string):\n",
        "Removes hashtags, emails, urls and user mentions"
      ],
      "metadata": {
        "id": "62giLzoae_YE"
      }
    },
    {
      "cell_type": "code",
      "source": [
        "def removeLinks(text):\n",
        "  text = re.sub(\"\\S*@\\S*\\s?\",\"\", text) #remove emails\n",
        "  text = re.sub(\"@[A-Za-z0-9_]+\",\"\", text) #remove hashtag keyword\n",
        "  text = re.sub(\"#[A-Za-z0-9_]+\",\"\", text) #remove mentioned users\n",
        "  pattern = re.compile('(?:\\\\s)[^\\\\s\\\\.]*\\\\.[^\\\\s]+')\n",
        "  text = pattern.sub('', text)\n",
        "  pattern = re.compile('(https?:\\/\\/)(\\s)*(www\\.)?(\\s)*((\\w|\\s)+\\.)*([\\w\\-\\s]+\\/)*([\\w\\-]+)((\\?)?[\\w\\s]*=\\s*[\\w\\%&]*)*')\n",
        "  text = pattern.sub('', text)\n",
        "  return text"
      ],
      "metadata": {
        "id": "r6wIAbZEV8ur"
      },
      "execution_count": null,
      "outputs": []
    },
    {
      "cell_type": "markdown",
      "source": [
        "### cleanTweets(DataFrame):\n",
        "Returns cleaned, tokenized, concatenated sentences"
      ],
      "metadata": {
        "id": "4AZlb6MffLmA"
      }
    },
    {
      "cell_type": "code",
      "source": [
        "import nltk\n",
        "import re\n",
        "import string\n",
        "\n",
        "# execute only once for first time below three downloaders                \n",
        "nltk.download('punkt')\n",
        "nltk.download('wordnet')\n",
        "nltk.download('stopwords')\n",
        "\n",
        "from nltk.corpus import stopwords\n",
        "stop_words=stopwords.words('english')\n",
        "\n",
        "from nltk.tokenize import word_tokenize\n",
        "from nltk.stem import WordNetLemmatizer\n",
        "\n",
        "# Function to clean tweets: cleantweets(pandas.dataframe)\n",
        "def cleantweets(df):\n",
        "  sentences = list()\n",
        "  df[\"full_text\"] = df[\"full_text\"].astype(str)\n",
        "  lines = df[\"full_text\"].values.tolist()\n",
        "  for text in lines:\n",
        "    #1. Convert into lower case\n",
        "    text = text.lower()\n",
        "    \n",
        "    #2. Removing hashtags, emails, urls and user mentions\n",
        "    text = removeLinks(text)\n",
        "    #text = re.sub(\"@[A-Za-z0-9_]+\",\"\", text) #remove hashtag keyword\n",
        "    #text = re.sub(\"#[A-Za-z0-9_]+\",\"\", text) #remove mentioned users\n",
        "    #pattern = re.compile('http[s]?://(?:[a-zA-Z]|[0-9]|[$-_@.&+]|[!*\\(\\),]|(?:%[0-9a-fA-F][0-9a-fA-F]))+')\n",
        "    #text = pattern.sub('', text)\n",
        "\n",
        "    #3. Removing emojies\n",
        "    emoji = re.compile(\"[\"\n",
        "                        u\"\\U0001F600-\\U0001FFFF\"  # emoticons\n",
        "                        u\"\\U0001F300-\\U0001F5FF\"  # symbols & pictographs\n",
        "                        u\"\\U0001F680-\\U0001F6FF\"  # transport & map symbols\n",
        "                        u\"\\U0001F1E0-\\U0001F1FF\"  # flags (iOS)\n",
        "                        u\"\\U00002702-\\U000027B0\"\n",
        "                        u\"\\U000024C2-\\U0001F251\"\n",
        "                        \"]+\", flags=re.UNICODE)\n",
        "    text = emoji.sub(r'', text)\n",
        "\n",
        "    #4. Remove special characters\n",
        "    text = re.sub(r\"[,.\\\"!@#$%^&*(){}?/;`~:<>+=-]\", \"\", text)\n",
        "\n",
        "    #5. Tokenize\n",
        "    tokens = word_tokenize(text)\n",
        "    table = str.maketrans('', '', string.punctuation)\n",
        "\n",
        "    #6. Removing punctuation\n",
        "    stripped = [w.translate(table) for w in tokens]\n",
        "\n",
        "    #7. Removing non-english characters\n",
        "    res = [idx for idx in stripped if not re.findall(\"[^\\u0000-\\u05C0\\u2100-\\u214F]+\", idx)]\n",
        "\n",
        "    #8. Removing stop-words\n",
        "    words = [w for w in res if not w in stop_words]\n",
        "    words = ' '.join(words)\n",
        "    sentences.append(words)\n",
        "  return sentences\n"
      ],
      "metadata": {
        "id": "shx8EzAjT2ha"
      },
      "execution_count": null,
      "outputs": []
    },
    {
      "cell_type": "markdown",
      "source": [
        "### Cleaning all"
      ],
      "metadata": {
        "id": "6lNv5H9fwfL4"
      }
    },
    {
      "cell_type": "code",
      "source": [
        "import pandas as pd\n",
        "from pathlib import Path\n",
        "\n",
        "load_dir = Path('dated_subset')\n",
        "save_dir = 'cleaned_tweets/'\n",
        "\n",
        "for item in load_dir.glob('**/2020-12-*'):\n",
        "  if item.suffix in ['.csv','.xlsx']:\n",
        "    #1. Load only text data\n",
        "    date=pd.read_csv('dated_subset/'+item.name, \n",
        "                     usecols=['sentiment_category','emotion_category','full_text'], \n",
        "                     #header=None,\n",
        "                     #usecols=[1,2,3,4],\n",
        "                     index_col=[1],\n",
        "                     lineterminator='\\n')\n",
        "    print(date.head())\n",
        "    raise '1'\n",
        "    #2. Remove duplicate rows\n",
        "    date=date.drop_duplicates(subset=None, keep='first')\n",
        " \n",
        "    #print('\\n\\n',week.head(5),'\\n')\n",
        "    print(len(date),'tweets for',item.name,':')\n",
        "    print('\\n\\n',date.head(5),'\\n\\n')\n",
        "\n",
        "    #4. Clean the dataset using cleantweets() function\n",
        "    sentences=cleantweets(date)\n",
        "    \n",
        "    #5. Save cleaned data(sentences) to .txt format for summarization\n",
        "    with open(save_dir+item.name[:-4]+'.txt', 'w', encoding=\"utf-8\") as fp:\n",
        "      for line in sentences:\n",
        "        fp.write('%s.\\n' %line)\n",
        "    fp.close()\n",
        "    print(\"\\nSaved\", save_dir+item.name[:-4]+'.txt', \"successfully\")\n",
        "    "
      ],
      "metadata": {
        "colab": {
          "base_uri": "https://localhost:8080/",
          "height": 400
        },
        "id": "8hPoHLQowdSI",
        "outputId": "5231f2a0-e8e1-46fd-e29c-e6da860d5d49"
      },
      "execution_count": null,
      "outputs": [
        {
          "output_type": "error",
          "ename": "ValueError",
          "evalue": "ignored",
          "traceback": [
            "\u001b[0;31m---------------------------------------------------------------------------\u001b[0m",
            "\u001b[0;31mValueError\u001b[0m                                Traceback (most recent call last)",
            "\u001b[0;32m<ipython-input-22-472a33b40b59>\u001b[0m in \u001b[0;36m<module>\u001b[0;34m()\u001b[0m\n\u001b[1;32m     13\u001b[0m                      \u001b[0;31m#usecols=[1,2,3,4],\u001b[0m\u001b[0;34m\u001b[0m\u001b[0;34m\u001b[0m\u001b[0;34m\u001b[0m\u001b[0m\n\u001b[1;32m     14\u001b[0m                      \u001b[0mindex_col\u001b[0m\u001b[0;34m=\u001b[0m\u001b[0;34m[\u001b[0m\u001b[0;36m1\u001b[0m\u001b[0;34m]\u001b[0m\u001b[0;34m,\u001b[0m\u001b[0;34m\u001b[0m\u001b[0;34m\u001b[0m\u001b[0m\n\u001b[0;32m---> 15\u001b[0;31m                      lineterminator='\\n')\n\u001b[0m\u001b[1;32m     16\u001b[0m     \u001b[0mprint\u001b[0m\u001b[0;34m(\u001b[0m\u001b[0mdate\u001b[0m\u001b[0;34m.\u001b[0m\u001b[0mhead\u001b[0m\u001b[0;34m(\u001b[0m\u001b[0;34m)\u001b[0m\u001b[0;34m)\u001b[0m\u001b[0;34m\u001b[0m\u001b[0;34m\u001b[0m\u001b[0m\n\u001b[1;32m     17\u001b[0m     \u001b[0;32mraise\u001b[0m \u001b[0;34m'1'\u001b[0m\u001b[0;34m\u001b[0m\u001b[0;34m\u001b[0m\u001b[0m\n",
            "\u001b[0;32m/usr/local/lib/python3.7/dist-packages/pandas/util/_decorators.py\u001b[0m in \u001b[0;36mwrapper\u001b[0;34m(*args, **kwargs)\u001b[0m\n\u001b[1;32m    309\u001b[0m                     \u001b[0mstacklevel\u001b[0m\u001b[0;34m=\u001b[0m\u001b[0mstacklevel\u001b[0m\u001b[0;34m,\u001b[0m\u001b[0;34m\u001b[0m\u001b[0;34m\u001b[0m\u001b[0m\n\u001b[1;32m    310\u001b[0m                 )\n\u001b[0;32m--> 311\u001b[0;31m             \u001b[0;32mreturn\u001b[0m \u001b[0mfunc\u001b[0m\u001b[0;34m(\u001b[0m\u001b[0;34m*\u001b[0m\u001b[0margs\u001b[0m\u001b[0;34m,\u001b[0m \u001b[0;34m**\u001b[0m\u001b[0mkwargs\u001b[0m\u001b[0;34m)\u001b[0m\u001b[0;34m\u001b[0m\u001b[0;34m\u001b[0m\u001b[0m\n\u001b[0m\u001b[1;32m    312\u001b[0m \u001b[0;34m\u001b[0m\u001b[0m\n\u001b[1;32m    313\u001b[0m         \u001b[0;32mreturn\u001b[0m \u001b[0mwrapper\u001b[0m\u001b[0;34m\u001b[0m\u001b[0;34m\u001b[0m\u001b[0m\n",
            "\u001b[0;32m/usr/local/lib/python3.7/dist-packages/pandas/io/parsers/readers.py\u001b[0m in \u001b[0;36mread_csv\u001b[0;34m(filepath_or_buffer, sep, delimiter, header, names, index_col, usecols, squeeze, prefix, mangle_dupe_cols, dtype, engine, converters, true_values, false_values, skipinitialspace, skiprows, skipfooter, nrows, na_values, keep_default_na, na_filter, verbose, skip_blank_lines, parse_dates, infer_datetime_format, keep_date_col, date_parser, dayfirst, cache_dates, iterator, chunksize, compression, thousands, decimal, lineterminator, quotechar, quoting, doublequote, escapechar, comment, encoding, encoding_errors, dialect, error_bad_lines, warn_bad_lines, on_bad_lines, delim_whitespace, low_memory, memory_map, float_precision, storage_options)\u001b[0m\n\u001b[1;32m    584\u001b[0m     \u001b[0mkwds\u001b[0m\u001b[0;34m.\u001b[0m\u001b[0mupdate\u001b[0m\u001b[0;34m(\u001b[0m\u001b[0mkwds_defaults\u001b[0m\u001b[0;34m)\u001b[0m\u001b[0;34m\u001b[0m\u001b[0;34m\u001b[0m\u001b[0m\n\u001b[1;32m    585\u001b[0m \u001b[0;34m\u001b[0m\u001b[0m\n\u001b[0;32m--> 586\u001b[0;31m     \u001b[0;32mreturn\u001b[0m \u001b[0m_read\u001b[0m\u001b[0;34m(\u001b[0m\u001b[0mfilepath_or_buffer\u001b[0m\u001b[0;34m,\u001b[0m \u001b[0mkwds\u001b[0m\u001b[0;34m)\u001b[0m\u001b[0;34m\u001b[0m\u001b[0;34m\u001b[0m\u001b[0m\n\u001b[0m\u001b[1;32m    587\u001b[0m \u001b[0;34m\u001b[0m\u001b[0m\n\u001b[1;32m    588\u001b[0m \u001b[0;34m\u001b[0m\u001b[0m\n",
            "\u001b[0;32m/usr/local/lib/python3.7/dist-packages/pandas/io/parsers/readers.py\u001b[0m in \u001b[0;36m_read\u001b[0;34m(filepath_or_buffer, kwds)\u001b[0m\n\u001b[1;32m    480\u001b[0m \u001b[0;34m\u001b[0m\u001b[0m\n\u001b[1;32m    481\u001b[0m     \u001b[0;31m# Create the parser.\u001b[0m\u001b[0;34m\u001b[0m\u001b[0;34m\u001b[0m\u001b[0;34m\u001b[0m\u001b[0m\n\u001b[0;32m--> 482\u001b[0;31m     \u001b[0mparser\u001b[0m \u001b[0;34m=\u001b[0m \u001b[0mTextFileReader\u001b[0m\u001b[0;34m(\u001b[0m\u001b[0mfilepath_or_buffer\u001b[0m\u001b[0;34m,\u001b[0m \u001b[0;34m**\u001b[0m\u001b[0mkwds\u001b[0m\u001b[0;34m)\u001b[0m\u001b[0;34m\u001b[0m\u001b[0;34m\u001b[0m\u001b[0m\n\u001b[0m\u001b[1;32m    483\u001b[0m \u001b[0;34m\u001b[0m\u001b[0m\n\u001b[1;32m    484\u001b[0m     \u001b[0;32mif\u001b[0m \u001b[0mchunksize\u001b[0m \u001b[0;32mor\u001b[0m \u001b[0miterator\u001b[0m\u001b[0;34m:\u001b[0m\u001b[0;34m\u001b[0m\u001b[0;34m\u001b[0m\u001b[0m\n",
            "\u001b[0;32m/usr/local/lib/python3.7/dist-packages/pandas/io/parsers/readers.py\u001b[0m in \u001b[0;36m__init__\u001b[0;34m(self, f, engine, **kwds)\u001b[0m\n\u001b[1;32m    809\u001b[0m             \u001b[0mself\u001b[0m\u001b[0;34m.\u001b[0m\u001b[0moptions\u001b[0m\u001b[0;34m[\u001b[0m\u001b[0;34m\"has_index_names\"\u001b[0m\u001b[0;34m]\u001b[0m \u001b[0;34m=\u001b[0m \u001b[0mkwds\u001b[0m\u001b[0;34m[\u001b[0m\u001b[0;34m\"has_index_names\"\u001b[0m\u001b[0;34m]\u001b[0m\u001b[0;34m\u001b[0m\u001b[0;34m\u001b[0m\u001b[0m\n\u001b[1;32m    810\u001b[0m \u001b[0;34m\u001b[0m\u001b[0m\n\u001b[0;32m--> 811\u001b[0;31m         \u001b[0mself\u001b[0m\u001b[0;34m.\u001b[0m\u001b[0m_engine\u001b[0m \u001b[0;34m=\u001b[0m \u001b[0mself\u001b[0m\u001b[0;34m.\u001b[0m\u001b[0m_make_engine\u001b[0m\u001b[0;34m(\u001b[0m\u001b[0mself\u001b[0m\u001b[0;34m.\u001b[0m\u001b[0mengine\u001b[0m\u001b[0;34m)\u001b[0m\u001b[0;34m\u001b[0m\u001b[0;34m\u001b[0m\u001b[0m\n\u001b[0m\u001b[1;32m    812\u001b[0m \u001b[0;34m\u001b[0m\u001b[0m\n\u001b[1;32m    813\u001b[0m     \u001b[0;32mdef\u001b[0m \u001b[0mclose\u001b[0m\u001b[0;34m(\u001b[0m\u001b[0mself\u001b[0m\u001b[0;34m)\u001b[0m\u001b[0;34m:\u001b[0m\u001b[0;34m\u001b[0m\u001b[0;34m\u001b[0m\u001b[0m\n",
            "\u001b[0;32m/usr/local/lib/python3.7/dist-packages/pandas/io/parsers/readers.py\u001b[0m in \u001b[0;36m_make_engine\u001b[0;34m(self, engine)\u001b[0m\n\u001b[1;32m   1038\u001b[0m             )\n\u001b[1;32m   1039\u001b[0m         \u001b[0;31m# error: Too many arguments for \"ParserBase\"\u001b[0m\u001b[0;34m\u001b[0m\u001b[0;34m\u001b[0m\u001b[0;34m\u001b[0m\u001b[0m\n\u001b[0;32m-> 1040\u001b[0;31m         \u001b[0;32mreturn\u001b[0m \u001b[0mmapping\u001b[0m\u001b[0;34m[\u001b[0m\u001b[0mengine\u001b[0m\u001b[0;34m]\u001b[0m\u001b[0;34m(\u001b[0m\u001b[0mself\u001b[0m\u001b[0;34m.\u001b[0m\u001b[0mf\u001b[0m\u001b[0;34m,\u001b[0m \u001b[0;34m**\u001b[0m\u001b[0mself\u001b[0m\u001b[0;34m.\u001b[0m\u001b[0moptions\u001b[0m\u001b[0;34m)\u001b[0m  \u001b[0;31m# type: ignore[call-arg]\u001b[0m\u001b[0;34m\u001b[0m\u001b[0;34m\u001b[0m\u001b[0m\n\u001b[0m\u001b[1;32m   1041\u001b[0m \u001b[0;34m\u001b[0m\u001b[0m\n\u001b[1;32m   1042\u001b[0m     \u001b[0;32mdef\u001b[0m \u001b[0m_failover_to_python\u001b[0m\u001b[0;34m(\u001b[0m\u001b[0mself\u001b[0m\u001b[0;34m)\u001b[0m\u001b[0;34m:\u001b[0m\u001b[0;34m\u001b[0m\u001b[0;34m\u001b[0m\u001b[0m\n",
            "\u001b[0;32m/usr/local/lib/python3.7/dist-packages/pandas/io/parsers/c_parser_wrapper.py\u001b[0m in \u001b[0;36m__init__\u001b[0;34m(self, src, **kwds)\u001b[0m\n\u001b[1;32m    133\u001b[0m                 \u001b[0mself\u001b[0m\u001b[0;34m.\u001b[0m\u001b[0morig_names\u001b[0m\u001b[0;34m\u001b[0m\u001b[0;34m\u001b[0m\u001b[0m\n\u001b[1;32m    134\u001b[0m             ):\n\u001b[0;32m--> 135\u001b[0;31m                 \u001b[0mself\u001b[0m\u001b[0;34m.\u001b[0m\u001b[0m_validate_usecols_names\u001b[0m\u001b[0;34m(\u001b[0m\u001b[0musecols\u001b[0m\u001b[0;34m,\u001b[0m \u001b[0mself\u001b[0m\u001b[0;34m.\u001b[0m\u001b[0morig_names\u001b[0m\u001b[0;34m)\u001b[0m\u001b[0;34m\u001b[0m\u001b[0;34m\u001b[0m\u001b[0m\n\u001b[0m\u001b[1;32m    136\u001b[0m \u001b[0;34m\u001b[0m\u001b[0m\n\u001b[1;32m    137\u001b[0m             \u001b[0;31m# error: Cannot determine type of 'names'\u001b[0m\u001b[0;34m\u001b[0m\u001b[0;34m\u001b[0m\u001b[0;34m\u001b[0m\u001b[0m\n",
            "\u001b[0;32m/usr/local/lib/python3.7/dist-packages/pandas/io/parsers/base_parser.py\u001b[0m in \u001b[0;36m_validate_usecols_names\u001b[0;34m(self, usecols, names)\u001b[0m\n\u001b[1;32m    865\u001b[0m         \u001b[0;32mif\u001b[0m \u001b[0mlen\u001b[0m\u001b[0;34m(\u001b[0m\u001b[0mmissing\u001b[0m\u001b[0;34m)\u001b[0m \u001b[0;34m>\u001b[0m \u001b[0;36m0\u001b[0m\u001b[0;34m:\u001b[0m\u001b[0;34m\u001b[0m\u001b[0;34m\u001b[0m\u001b[0m\n\u001b[1;32m    866\u001b[0m             raise ValueError(\n\u001b[0;32m--> 867\u001b[0;31m                 \u001b[0;34mf\"Usecols do not match columns, columns expected but not found: \"\u001b[0m\u001b[0;34m\u001b[0m\u001b[0;34m\u001b[0m\u001b[0m\n\u001b[0m\u001b[1;32m    868\u001b[0m                 \u001b[0;34mf\"{missing}\"\u001b[0m\u001b[0;34m\u001b[0m\u001b[0;34m\u001b[0m\u001b[0m\n\u001b[1;32m    869\u001b[0m             )\n",
            "\u001b[0;31mValueError\u001b[0m: Usecols do not match columns, columns expected but not found: ['full_text']"
          ]
        }
      ]
    },
    {
      "cell_type": "markdown",
      "source": [
        "# Summarization Functions"
      ],
      "metadata": {
        "id": "Lc0NREXCzk94"
      }
    },
    {
      "cell_type": "code",
      "source": [
        "!pip -q install sumy"
      ],
      "metadata": {
        "id": "jcU1pZLTzq42"
      },
      "execution_count": null,
      "outputs": []
    },
    {
      "cell_type": "code",
      "source": [
        "!pip -q install sumy --upgrade"
      ],
      "metadata": {
        "id": "Hnqj4soIzxpj"
      },
      "execution_count": null,
      "outputs": []
    },
    {
      "cell_type": "code",
      "source": [
        "#file save function\n",
        "def save_summary(data,filepath):\n",
        "  with open(filepath, 'w', encoding=\"utf-8\") as fp:\n",
        "    for line in data:\n",
        "      fp.write('%s.\\n' %line)\n",
        "  fp.close()\n",
        "  print(\"Saved\", filepath, \"successfully\")\n"
      ],
      "metadata": {
        "id": "DWeTyTfGzwm2"
      },
      "execution_count": null,
      "outputs": []
    },
    {
      "cell_type": "code",
      "source": [
        "import pandas as pd\n",
        "import time\n",
        "from pathlib import Path\n",
        "\n",
        "from sumy.parsers.plaintext import PlaintextParser\n",
        "from sumy.nlp.tokenizers import Tokenizer\n",
        "import nltk\n",
        "nltk.download('punkt')\n",
        "\n",
        "from sumy.summarizers.lex_rank import LexRankSummarizer \n",
        "from sumy.summarizers.text_rank import TextRankSummarizer\n",
        "from sumy.summarizers.sum_basic import SumBasicSummarizer\n",
        "from sumy.summarizers.kl import KLSummarizer\n",
        "from sumy.summarizers.luhn import LuhnSummarizer\n",
        "from sumy.summarizers.lsa import LsaSummarizer"
      ],
      "metadata": {
        "colab": {
          "base_uri": "https://localhost:8080/"
        },
        "id": "ZKH71uHDz_Af",
        "outputId": "4730823f-3624-4f15-ca67-8e86f9854384"
      },
      "execution_count": null,
      "outputs": [
        {
          "output_type": "stream",
          "name": "stdout",
          "text": [
            "[nltk_data] Downloading package punkt to /root/nltk_data...\n",
            "[nltk_data]   Unzipping tokenizers/punkt.zip.\n"
          ]
        }
      ]
    },
    {
      "cell_type": "code",
      "source": [
        "names = [\"luhn\",\n",
        "         #\"lsa\",\n",
        "         #\"lexr\",\n",
        "         #\"txtr\",\n",
        "         #\"sb\",\n",
        "         #\"kl\"\n",
        "         ]\n",
        "summarizers = [LuhnSummarizer(),\n",
        "               #LsaSummarizer(),\n",
        "               #LexRankSummarizer(),\n",
        "               #TextRankSummarizer(),\n",
        "               #SumBasicSummarizer(),\n",
        "               #KLSummarizer()\n",
        "               ]\n",
        "\n",
        "load_directory = Path('cleaned_tweets')\n",
        "load_dir = 'cleaned_tweets/'\n",
        "save_dir = 'summaries/'\n",
        "\n",
        "sentences=10\n",
        "summ_time=[]\n",
        "summaries=[]\n",
        "\n",
        "for item in load_directory.glob('**/2020-12-*'):\n",
        "  if item.suffix in ['.txt'] and item.name[0] != '.':\n",
        "    #1. Load single set\n",
        "    print(\"Loaded\",load_dir+item.name)\n",
        "    parser = PlaintextParser.from_file(load_dir+item.name, Tokenizer(\"english\"))\n",
        "    \n",
        "    #2. Generate Extractive summaries\n",
        "    summary=[]\n",
        "    for i in range(len(names)):\n",
        "      print(\"summarize\",item.name,\"? y/n \")\n",
        "      if input() == 'y':\n",
        "        beg_time = time.time()\n",
        "        each_algo = summarizers[i](parser.document, sentences)\n",
        "        summ_time.append(time.time()-beg_time)\n",
        "        \n",
        "        #3. Save all summaries as .json or .txt\n",
        "        save_summary(each_algo,save_dir+item.name[:-4]+'_'+names[i]+'.txt')\n",
        "        summary.append(each_algo)\n",
        "\n",
        "    summaries.append(summary)\n",
        "\n",
        "print(\"Time Taken For Summarization:\")\n",
        "print(summ_time)"
      ],
      "metadata": {
        "colab": {
          "base_uri": "https://localhost:8080/"
        },
        "id": "T-tCJD8_2_Zo",
        "outputId": "1fbac632-2fef-4115-8263-e173db1643b9"
      },
      "execution_count": null,
      "outputs": [
        {
          "output_type": "stream",
          "name": "stdout",
          "text": [
            "Time Taken For Summarization:\n",
            "[]\n"
          ]
        }
      ]
    },
    {
      "cell_type": "markdown",
      "source": [
        "# Summarization report of neutral tweets"
      ],
      "metadata": {
        "id": "Le0c8pCXTUVP"
      }
    },
    {
      "cell_type": "code",
      "source": [
        ""
      ],
      "metadata": {
        "id": "Aux5ggsETTDY"
      },
      "execution_count": null,
      "outputs": []
    },
    {
      "cell_type": "markdown",
      "source": [
        "# Summarization report of all tweets"
      ],
      "metadata": {
        "id": "jg7BNwofTddh"
      }
    }
  ],
  "metadata": {
    "colab": {
      "collapsed_sections": [
        "Y0F2fy0Pqcd-",
        "lFvnfehugIj5",
        "7E4x5foxqvNn",
        "-DvvkKcnEMiO",
        "8lYTT4Q0rDzQ",
        "L9M_pkJ5Fm3P",
        "l8p0XMz_I-93",
        "ysdjdNjztdX1",
        "51REZKB9itvZ",
        "b1OSohu6Tz_-",
        "62giLzoae_YE",
        "4AZlb6MffLmA",
        "6lNv5H9fwfL4",
        "Lc0NREXCzk94",
        "Le0c8pCXTUVP"
      ],
      "name": "tweet_sentiment_test.ipynb",
      "provenance": []
    },
    "kernelspec": {
      "display_name": "Python 3",
      "name": "python3"
    },
    "language_info": {
      "name": "python"
    }
  },
  "nbformat": 4,
  "nbformat_minor": 0
}